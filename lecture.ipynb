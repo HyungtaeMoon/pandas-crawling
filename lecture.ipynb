{
 "cells": [
  {
   "cell_type": "code",
   "execution_count": 1,
   "metadata": {},
   "outputs": [],
   "source": [
    "from bs4 import BeautifulSoup\n",
    "import lxml\n",
    "import requests\n",
    "import os"
   ]
  },
  {
   "cell_type": "markdown",
   "metadata": {},
   "source": [
    "\n"
   ]
  },
  {
   "cell_type": "markdown",
   "metadata": {},
   "source": [
    "## 파이썬으로 크롤링하기"
   ]
  },
  {
   "cell_type": "markdown",
   "metadata": {},
   "source": [
    "pip > pypi > pipenv > library"
   ]
  },
  {
   "cell_type": "markdown",
   "metadata": {},
   "source": [
    "### pyenv 가상환경 설정\n",
    "\n",
    "pyenv virtualenv 3.6.5 <가상환경명>\n",
    "\n",
    "pyenv local <가상환경명>"
   ]
  },
  {
   "cell_type": "markdown",
   "metadata": {},
   "source": [
    "### requests 모듈\n",
    "\n",
    "파이썬으로 HTTP get 요청을 하기 위한 모듈"
   ]
  },
  {
   "cell_type": "code",
   "execution_count": 2,
   "metadata": {},
   "outputs": [],
   "source": [
    "url = 'https://comic.naver.com/webtoon/weekday.nhn'\n",
    "\n",
    "headers = {\n",
    "    'User-Agent': 'Mozilla/5.0 (Macintosh; Intel Mac OS X x.y; rv:10.0) Gecko/20100101 Firefox/10.0'\n",
    "}\n",
    "res = requests.get(url, headers=headers)\n"
   ]
  },
  {
   "cell_type": "code",
   "execution_count": 3,
   "metadata": {},
   "outputs": [
    {
     "data": {
      "text/plain": [
       "'text/html;charset=UTF-8'"
      ]
     },
     "execution_count": 3,
     "metadata": {},
     "output_type": "execute_result"
    }
   ],
   "source": [
    "res.headers['content-type']"
   ]
  },
  {
   "cell_type": "code",
   "execution_count": 4,
   "metadata": {},
   "outputs": [
    {
     "data": {
      "text/plain": [
       "'UTF-8'"
      ]
     },
     "execution_count": 4,
     "metadata": {},
     "output_type": "execute_result"
    }
   ],
   "source": [
    "res.encoding"
   ]
  },
  {
   "cell_type": "code",
   "execution_count": 5,
   "metadata": {},
   "outputs": [
    {
     "data": {
      "text/plain": [
       "<bound method Response.json of <Response [200]>>"
      ]
     },
     "execution_count": 5,
     "metadata": {},
     "output_type": "execute_result"
    }
   ],
   "source": [
    "res.json"
   ]
  },
  {
   "cell_type": "code",
   "execution_count": 6,
   "metadata": {},
   "outputs": [],
   "source": [
    "# f = open('weekday.html', 'wt')\n",
    "# f.write(res.text)\n",
    "# f.close()\n",
    "\n",
    "# with open('weekday.html', 'wt') as f:\n",
    "#     f.write(res.text)"
   ]
  },
  {
   "cell_type": "code",
   "execution_count": 7,
   "metadata": {},
   "outputs": [],
   "source": [
    "html_doc = \"\"\"\n",
    "<html><head><title>The Dormouse's story</title></head>\n",
    "<body>\n",
    "<p class=\"title\"><b>The Dormouse's story</b></p>\n",
    "\n",
    "<p class=\"story\">Once upon a time there were three little sisters; and their names were\n",
    "<a href=\"http://example.com/elsie\" class=\"sister\" id=\"link1\">Elsie</a>,\n",
    "<a href=\"http://example.com/lacie\" class=\"sister\" id=\"link2\">Lacie</a> and\n",
    "<a href=\"http://example.com/tillie\" class=\"sister\" id=\"link3\">Tillie</a>;\n",
    "and they lived at the bottom of a well.</p>\n",
    "\n",
    "<p class=\"story\">...</p>\n",
    "\"\"\""
   ]
  },
  {
   "cell_type": "code",
   "execution_count": 8,
   "metadata": {},
   "outputs": [],
   "source": [
    "# html = open('weekday.html', 'rt').read()\n",
    "# soup = BeautifulSoup(html, 'lxml')\n",
    "\n",
    "# div_content = soup.find('div', id='content')\n",
    "# div_list_area = div_content.find('div', class_='list_area')\n",
    "# div_col_list = div_list_area.find_all('div', class_='col')\n",
    "\n",
    "# for col in div_col_list:\n",
    "#     print(col.get_text())\n"
   ]
  },
  {
   "cell_type": "code",
   "execution_count": 9,
   "metadata": {},
   "outputs": [
    {
     "name": "stdout",
     "output_type": "stream",
     "text": [
      "삶과 죽음의 경계선, 그 곳엔 누가 있을까.\n",
      "죽음에 관하여 (재)\n",
      "시니 / 혀노\n"
     ]
    }
   ],
   "source": [
    "file_path = 'weekday.html'\n",
    "url_episode_list = 'https://comic.naver.com/webtoon/list.nhn'\n",
    "params = {\n",
    "    'titleId': 703845,\n",
    "}\n",
    "if os.path.exists(file_path):\n",
    "    html = open(file_path, 'rt').read()\n",
    "else:\n",
    "    response = requests.get(url_episode_list, params)\n",
    "    html = response.text\n",
    "    open(file_path, 'wt').write(html)\n",
    "\n",
    "soup = BeautifulSoup(html, 'lxml')\n",
    "\n",
    "h2_title = soup.select_one('div.detail > h2')\n",
    "title = h2_title.contents[0].strip()\n",
    "author = h2_title.contents[1].get_text(strip=True)\n",
    "# desc = soup.select_one('div.detail > h2').next_sibling.next_element\n",
    "desc = soup.select_one('div.detail > p').get_text()\n",
    "\n",
    "print(desc)\n",
    "print(title)\n",
    "print(author)"
   ]
  },
  {
   "cell_type": "code",
   "execution_count": 10,
   "metadata": {},
   "outputs": [
    {
     "name": "stdout",
     "output_type": "stream",
     "text": [
      "======1 ====\n",
      "<tr>\n",
      "<td>\n",
      "<a href=\"/webtoon/detail.nhn?titleId=703845&amp;no=34&amp;weekday=wed\" onclick=\"clickcr(this,'lst.img','703845','34',event)\">\n",
      "<img alt=\"외전 -이면- 후기\" height=\"41\" onerror=\"this.src='https://static-comic.pstatic.net/staticImages/COMICWEB/NAVER/img/common/non71_41.gif'\" src=\"https://shared-comic.pstatic.net/thumb/webtoon/703845/34/thumbnail_202x120_e85d90e3-d50b-4db1-9679-d68b1325023b.jpg\" title=\"외전 -이면- 후기\" width=\"71\"/>\n",
      "<span class=\"mask\"></span>\n",
      "</a>\n",
      "</td>\n",
      "<td class=\"title\">\n",
      "<a href=\"/webtoon/detail.nhn?titleId=703845&amp;no=34&amp;weekday=wed\" onclick=\"clickcr(this,'lst.title','703845','34',event)\">외전 -이면- 후기</a>\n",
      "<span class=\"ico_bgm\"><img alt=\"배경음악 있음\" border=\"0\" height=\"15\" src=\"https://ssl.pstatic.net/static/comic/images/2012/ico_bgm.png\" title=\"배경음악 있음\" width=\"23\"/></span>\n",
      "</td>\n",
      "<td>\n",
      "<div class=\"rating_type\">\n",
      "<span class=\"star\"><em style=\"width:99.84%\">평점</em></span>\n",
      "<strong>9.98</strong>\n",
      "</div>\n",
      "</td>\n",
      "<td class=\"num\">2018.09.04</td>\n",
      "</tr>\n",
      "\n",
      "======2 ====\n",
      "<tr>\n",
      "<td>\n",
      "<a href=\"/webtoon/detail.nhn?titleId=703845&amp;no=33&amp;weekday=wed\" onclick=\"clickcr(this,'lst.img','703845','33',event)\">\n",
      "<img alt=\"외전 -이면- 4화\" height=\"41\" onerror=\"this.src='https://static-comic.pstatic.net/staticImages/COMICWEB/NAVER/img/common/non71_41.gif'\" src=\"https://shared-comic.pstatic.net/thumb/webtoon/703845/33/thumbnail_202x120_d51f2504-9fa2-4086-b909-4fbf1f5b0387.jpg\" title=\"외전 -이면- 4화\" width=\"71\"/>\n",
      "<span class=\"mask\"></span>\n",
      "</a>\n",
      "</td>\n",
      "<td class=\"title\">\n",
      "<a href=\"/webtoon/detail.nhn?titleId=703845&amp;no=33&amp;weekday=wed\" onclick=\"clickcr(this,'lst.title','703845','33',event)\">외전 -이면- 4화</a>\n",
      "<span class=\"ico_bgm\"><img alt=\"배경음악 있음\" border=\"0\" height=\"15\" src=\"https://ssl.pstatic.net/static/comic/images/2012/ico_bgm.png\" title=\"배경음악 있음\" width=\"23\"/></span>\n",
      "</td>\n",
      "<td>\n",
      "<div class=\"rating_type\">\n",
      "<span class=\"star\"><em style=\"width:99.78%\">평점</em></span>\n",
      "<strong>9.98</strong>\n",
      "</div>\n",
      "</td>\n",
      "<td class=\"num\">2018.08.28</td>\n",
      "</tr>\n",
      "\n",
      "======3 ====\n",
      "<tr>\n",
      "<td>\n",
      "<a href=\"/webtoon/detail.nhn?titleId=703845&amp;no=32&amp;weekday=wed\" onclick=\"clickcr(this,'lst.img','703845','32',event)\">\n",
      "<img alt=\"외전 -이면- 3화\" height=\"41\" onerror=\"this.src='https://static-comic.pstatic.net/staticImages/COMICWEB/NAVER/img/common/non71_41.gif'\" src=\"https://shared-comic.pstatic.net/thumb/webtoon/703845/32/thumbnail_202x120_f8b6d7ee-fec4-4726-8fc4-0c3d5cd80a58.jpg\" title=\"외전 -이면- 3화\" width=\"71\"/>\n",
      "<span class=\"mask\"></span>\n",
      "</a>\n",
      "</td>\n",
      "<td class=\"title\">\n",
      "<a href=\"/webtoon/detail.nhn?titleId=703845&amp;no=32&amp;weekday=wed\" onclick=\"clickcr(this,'lst.title','703845','32',event)\">외전 -이면- 3화</a>\n",
      "<span class=\"ico_bgm\"><img alt=\"배경음악 있음\" border=\"0\" height=\"15\" src=\"https://ssl.pstatic.net/static/comic/images/2012/ico_bgm.png\" title=\"배경음악 있음\" width=\"23\"/></span>\n",
      "</td>\n",
      "<td>\n",
      "<div class=\"rating_type\">\n",
      "<span class=\"star\"><em style=\"width:99.78%\">평점</em></span>\n",
      "<strong>9.98</strong>\n",
      "</div>\n",
      "</td>\n",
      "<td class=\"num\">2018.08.21</td>\n",
      "</tr>\n",
      "\n",
      "======4 ====\n",
      "<tr>\n",
      "<td>\n",
      "<a href=\"/webtoon/detail.nhn?titleId=703845&amp;no=31&amp;weekday=wed\" onclick=\"clickcr(this,'lst.img','703845','31',event)\">\n",
      "<img alt=\"외전 -이면- 2화\" height=\"41\" onerror=\"this.src='https://static-comic.pstatic.net/staticImages/COMICWEB/NAVER/img/common/non71_41.gif'\" src=\"https://shared-comic.pstatic.net/thumb/webtoon/703845/31/thumbnail_202x120_4623cd3f-f7f3-4ddd-90d5-35f6e41c45a5.jpg\" title=\"외전 -이면- 2화\" width=\"71\"/>\n",
      "<span class=\"mask\"></span>\n",
      "</a>\n",
      "</td>\n",
      "<td class=\"title\">\n",
      "<a href=\"/webtoon/detail.nhn?titleId=703845&amp;no=31&amp;weekday=wed\" onclick=\"clickcr(this,'lst.title','703845','31',event)\">외전 -이면- 2화</a>\n",
      "<span class=\"ico_bgm\"><img alt=\"배경음악 있음\" border=\"0\" height=\"15\" src=\"https://ssl.pstatic.net/static/comic/images/2012/ico_bgm.png\" title=\"배경음악 있음\" width=\"23\"/></span>\n",
      "</td>\n",
      "<td>\n",
      "<div class=\"rating_type\">\n",
      "<span class=\"star\"><em style=\"width:99.86%\">평점</em></span>\n",
      "<strong>9.99</strong>\n",
      "</div>\n",
      "</td>\n",
      "<td class=\"num\">2018.08.14</td>\n",
      "</tr>\n",
      "\n",
      "======5 ====\n",
      "<tr>\n",
      "<td>\n",
      "<a href=\"/webtoon/detail.nhn?titleId=703845&amp;no=30&amp;weekday=wed\" onclick=\"clickcr(this,'lst.img','703845','30',event)\">\n",
      "<img alt=\"외전 -이면- 1화\" height=\"41\" onerror=\"this.src='https://static-comic.pstatic.net/staticImages/COMICWEB/NAVER/img/common/non71_41.gif'\" src=\"https://shared-comic.pstatic.net/thumb/webtoon/703845/30/thumbnail_202x120_82243230-2f11-4ee7-9fb2-8450efb90db1.jpg\" title=\"외전 -이면- 1화\" width=\"71\"/>\n",
      "<span class=\"mask\"></span>\n",
      "</a>\n",
      "</td>\n",
      "<td class=\"title\">\n",
      "<a href=\"/webtoon/detail.nhn?titleId=703845&amp;no=30&amp;weekday=wed\" onclick=\"clickcr(this,'lst.title','703845','30',event)\">외전 -이면- 1화</a>\n",
      "<span class=\"ico_bgm\"><img alt=\"배경음악 있음\" border=\"0\" height=\"15\" src=\"https://ssl.pstatic.net/static/comic/images/2012/ico_bgm.png\" title=\"배경음악 있음\" width=\"23\"/></span>\n",
      "</td>\n",
      "<td>\n",
      "<div class=\"rating_type\">\n",
      "<span class=\"star\"><em style=\"width:99.86%\">평점</em></span>\n",
      "<strong>9.99</strong>\n",
      "</div>\n",
      "</td>\n",
      "<td class=\"num\">2018.08.07</td>\n",
      "</tr>\n",
      "\n",
      "======6 ====\n",
      "<tr>\n",
      "<td>\n",
      "<a href=\"/webtoon/detail.nhn?titleId=703845&amp;no=29&amp;weekday=wed\" onclick=\"clickcr(this,'lst.img','703845','29',event)\">\n",
      "<img alt=\"special ending\" height=\"41\" onerror=\"this.src='https://static-comic.pstatic.net/staticImages/COMICWEB/NAVER/img/common/non71_41.gif'\" src=\"https://shared-comic.pstatic.net/thumb/webtoon/703845/29/thumbnail_202x120_163fb226-d94f-4aca-83a8-abd96f418605.jpg\" title=\"special ending\" width=\"71\"/>\n",
      "<span class=\"mask\"></span>\n",
      "</a>\n",
      "</td>\n",
      "<td class=\"title\">\n",
      "<a href=\"/webtoon/detail.nhn?titleId=703845&amp;no=29&amp;weekday=wed\" onclick=\"clickcr(this,'lst.title','703845','29',event)\">special ending</a>\n",
      "<span class=\"ico_bgm\"><img alt=\"배경음악 있음\" border=\"0\" height=\"15\" src=\"https://ssl.pstatic.net/static/comic/images/2012/ico_bgm.png\" title=\"배경음악 있음\" width=\"23\"/></span>\n",
      "</td>\n",
      "<td>\n",
      "<div class=\"rating_type\">\n",
      "<span class=\"star\"><em style=\"width:99.85%\">평점</em></span>\n",
      "<strong>9.99</strong>\n",
      "</div>\n",
      "</td>\n",
      "<td class=\"num\">2018.07.31</td>\n",
      "</tr>\n",
      "\n",
      "======7 ====\n",
      "<tr>\n",
      "<td>\n",
      "<a href=\"/webtoon/detail.nhn?titleId=703845&amp;no=28&amp;weekday=wed\" onclick=\"clickcr(this,'lst.img','703845','28',event)\">\n",
      "<img alt=\"마지막화\" height=\"41\" onerror=\"this.src='https://static-comic.pstatic.net/staticImages/COMICWEB/NAVER/img/common/non71_41.gif'\" src=\"https://shared-comic.pstatic.net/thumb/webtoon/703845/28/thumbnail_202x120_a686e46f-cfa6-41f4-b58a-52a4acea5286.jpg\" title=\"마지막화\" width=\"71\"/>\n",
      "<span class=\"mask\"></span>\n",
      "</a>\n",
      "</td>\n",
      "<td class=\"title\">\n",
      "<a href=\"/webtoon/detail.nhn?titleId=703845&amp;no=28&amp;weekday=wed\" onclick=\"clickcr(this,'lst.title','703845','28',event)\">마지막화</a>\n",
      "<span class=\"ico_bgm\"><img alt=\"배경음악 있음\" border=\"0\" height=\"15\" src=\"https://ssl.pstatic.net/static/comic/images/2012/ico_bgm.png\" title=\"배경음악 있음\" width=\"23\"/></span>\n",
      "</td>\n",
      "<td>\n",
      "<div class=\"rating_type\">\n",
      "<span class=\"star\"><em style=\"width:99.69%\">평점</em></span>\n",
      "<strong>9.97</strong>\n",
      "</div>\n",
      "</td>\n",
      "<td class=\"num\">2018.07.24</td>\n",
      "</tr>\n",
      "\n",
      "======8 ====\n",
      "<tr>\n",
      "<td>\n",
      "<a href=\"/webtoon/detail.nhn?titleId=703845&amp;no=27&amp;weekday=wed\" onclick=\"clickcr(this,'lst.img','703845','27',event)\">\n",
      "<img alt=\"21화\" height=\"41\" onerror=\"this.src='https://static-comic.pstatic.net/staticImages/COMICWEB/NAVER/img/common/non71_41.gif'\" src=\"https://shared-comic.pstatic.net/thumb/webtoon/703845/27/thumbnail_202x120_5bf51a9f-3364-4d2a-8d22-e6f15a5b0943.jpg\" title=\"21화\" width=\"71\"/>\n",
      "<span class=\"mask\"></span>\n",
      "</a>\n",
      "</td>\n",
      "<td class=\"title\">\n",
      "<a href=\"/webtoon/detail.nhn?titleId=703845&amp;no=27&amp;weekday=wed\" onclick=\"clickcr(this,'lst.title','703845','27',event)\">21화</a>\n",
      "<span class=\"ico_bgm\"><img alt=\"배경음악 있음\" border=\"0\" height=\"15\" src=\"https://ssl.pstatic.net/static/comic/images/2012/ico_bgm.png\" title=\"배경음악 있음\" width=\"23\"/></span>\n",
      "</td>\n",
      "<td>\n",
      "<div class=\"rating_type\">\n",
      "<span class=\"star\"><em style=\"width:99.89%\">평점</em></span>\n",
      "<strong>9.99</strong>\n",
      "</div>\n",
      "</td>\n",
      "<td class=\"num\">2018.07.17</td>\n",
      "</tr>\n",
      "\n",
      "======9 ====\n",
      "<tr>\n",
      "<td>\n",
      "<a href=\"/webtoon/detail.nhn?titleId=703845&amp;no=26&amp;weekday=wed\" onclick=\"clickcr(this,'lst.img','703845','26',event)\">\n",
      "<img alt=\"20.5화\" height=\"41\" onerror=\"this.src='https://static-comic.pstatic.net/staticImages/COMICWEB/NAVER/img/common/non71_41.gif'\" src=\"https://shared-comic.pstatic.net/thumb/webtoon/703845/26/thumbnail_202x120_b2401aca-e62d-4a6b-8c69-b1fcb855550b.jpg\" title=\"20.5화\" width=\"71\"/>\n",
      "<span class=\"mask\"></span>\n",
      "</a>\n",
      "</td>\n",
      "<td class=\"title\">\n",
      "<a href=\"/webtoon/detail.nhn?titleId=703845&amp;no=26&amp;weekday=wed\" onclick=\"clickcr(this,'lst.title','703845','26',event)\">20.5화</a>\n",
      "<span class=\"ico_bgm\"><img alt=\"배경음악 있음\" border=\"0\" height=\"15\" src=\"https://ssl.pstatic.net/static/comic/images/2012/ico_bgm.png\" title=\"배경음악 있음\" width=\"23\"/></span>\n",
      "</td>\n",
      "<td>\n",
      "<div class=\"rating_type\">\n",
      "<span class=\"star\"><em style=\"width:99.87%\">평점</em></span>\n",
      "<strong>9.99</strong>\n",
      "</div>\n",
      "</td>\n",
      "<td class=\"num\">2018.07.10</td>\n",
      "</tr>\n",
      "\n",
      "======10 ====\n",
      "<tr>\n",
      "<td>\n",
      "<a href=\"/webtoon/detail.nhn?titleId=703845&amp;no=25&amp;weekday=wed\" onclick=\"clickcr(this,'lst.img','703845','25',event)\">\n",
      "<img alt=\"20화\" height=\"41\" onerror=\"this.src='https://static-comic.pstatic.net/staticImages/COMICWEB/NAVER/img/common/non71_41.gif'\" src=\"https://shared-comic.pstatic.net/thumb/webtoon/703845/25/thumbnail_202x120_9d1cf3e1-2bff-4c0a-81e4-87c79ba696f2.jpg\" title=\"20화\" width=\"71\"/>\n",
      "<span class=\"mask\"></span>\n",
      "</a>\n",
      "</td>\n",
      "<td class=\"title\">\n",
      "<a href=\"/webtoon/detail.nhn?titleId=703845&amp;no=25&amp;weekday=wed\" onclick=\"clickcr(this,'lst.title','703845','25',event)\">20화</a>\n",
      "<span class=\"ico_bgm\"><img alt=\"배경음악 있음\" border=\"0\" height=\"15\" src=\"https://ssl.pstatic.net/static/comic/images/2012/ico_bgm.png\" title=\"배경음악 있음\" width=\"23\"/></span>\n",
      "</td>\n",
      "<td>\n",
      "<div class=\"rating_type\">\n",
      "<span class=\"star\"><em style=\"width:99.83%\">평점</em></span>\n",
      "<strong>9.98</strong>\n",
      "</div>\n",
      "</td>\n",
      "<td class=\"num\">2018.07.03</td>\n",
      "</tr>\n",
      "\n"
     ]
    }
   ],
   "source": [
    "table = soup.select_one('table.viewList')\n",
    "tr_list = table.select('tr')\n",
    "for index, tr in enumerate(tr_list[1:]):\n",
    "    if tr.get('class'):\n",
    "        continue\n",
    "    print('======{} ====\\n{}\\n'.format(index + 1, tr))"
   ]
  },
  {
   "cell_type": "code",
   "execution_count": 11,
   "metadata": {},
   "outputs": [
    {
     "name": "stdout",
     "output_type": "stream",
     "text": [
      "10minutes_to_pandas.ipynb  bugs_top_100.xlsx\r\n",
      "Pipfile                    crawling_theroy.ipynb\r\n",
      "Pipfile.lock               kaggle_titanic_train.csv\r\n",
      "Titanic kaggle.ipynb       lecture.ipynb\r\n",
      "bugs.ipynb                 weekday.html\r\n",
      "bugs_top_100.csv\r\n"
     ]
    }
   ],
   "source": [
    "%ls"
   ]
  },
  {
   "cell_type": "markdown",
   "metadata": {},
   "source": [
    "\n"
   ]
  },
  {
   "cell_type": "markdown",
   "metadata": {},
   "source": [
    "### select_one 과 select 의 차이\n",
    "\n",
    "- select_one: 요소 하나를 가져옴\n",
    "\n",
    "- select: 요소의 배열을 모두 가져옴"
   ]
  },
  {
   "cell_type": "code",
   "execution_count": 12,
   "metadata": {},
   "outputs": [
    {
     "data": {
      "text/plain": [
       "bs4.element.Tag"
      ]
     },
     "execution_count": 12,
     "metadata": {},
     "output_type": "execute_result"
    }
   ],
   "source": [
    "soup.select_one('a') # select_one 을 하게되면 첫번째 태그만 가져온다\n",
    "type(soup.select_one('a'))"
   ]
  },
  {
   "cell_type": "code",
   "execution_count": 13,
   "metadata": {},
   "outputs": [
    {
     "data": {
      "text/plain": [
       "list"
      ]
     },
     "execution_count": 13,
     "metadata": {},
     "output_type": "execute_result"
    }
   ],
   "source": [
    "# soup.select('a')\n",
    "type(soup.select('a'))"
   ]
  },
  {
   "cell_type": "markdown",
   "metadata": {},
   "source": [
    "\n"
   ]
  },
  {
   "cell_type": "markdown",
   "metadata": {},
   "source": [
    "## 단순하게 생각해서 list 는 get_text( ) 를 사용할 수 없다고 생각하자"
   ]
  },
  {
   "cell_type": "markdown",
   "metadata": {},
   "source": [
    "### 아래에 members 라는 변수에 list 를 만들었다"
   ]
  },
  {
   "cell_type": "markdown",
   "metadata": {},
   "source": [
    "#### list 안에 값들을 꺼내오는 가장 일반적인 방법이 무엇일까?"
   ]
  },
  {
   "cell_type": "markdown",
   "metadata": {},
   "source": [
    "\n"
   ]
  },
  {
   "cell_type": "code",
   "execution_count": 14,
   "metadata": {},
   "outputs": [],
   "source": [
    "members = ['민수', '영희', '준희']"
   ]
  },
  {
   "cell_type": "markdown",
   "metadata": {},
   "source": [
    "\n"
   ]
  },
  {
   "cell_type": "markdown",
   "metadata": {},
   "source": [
    "## for 문을 돌려서 값들을 하나씩 출력하는 방법이다"
   ]
  },
  {
   "cell_type": "code",
   "execution_count": 15,
   "metadata": {},
   "outputs": [
    {
     "name": "stdout",
     "output_type": "stream",
     "text": [
      "민수\n",
      "<class 'str'>\n",
      "영희\n",
      "<class 'str'>\n",
      "준희\n",
      "<class 'str'>\n"
     ]
    }
   ],
   "source": [
    "for member in members:\n",
    "    print(member)\n",
    "    print(type(member))"
   ]
  },
  {
   "cell_type": "markdown",
   "metadata": {},
   "source": [
    "\n"
   ]
  },
  {
   "cell_type": "markdown",
   "metadata": {},
   "source": [
    "### 그렇기 때문에 데이터타입 `list` 속성은 get_text()를 사용할 수 없다"
   ]
  },
  {
   "cell_type": "code",
   "execution_count": 16,
   "metadata": {},
   "outputs": [
    {
     "data": {
      "text/plain": [
       "'메인 메뉴로 바로가기'"
      ]
     },
     "execution_count": 16,
     "metadata": {},
     "output_type": "execute_result"
    }
   ],
   "source": [
    "soup.select_one('a').get_text() # a 태그 하나에 대해서만 text 값을 추출하기 때문에 가능"
   ]
  },
  {
   "cell_type": "markdown",
   "metadata": {},
   "source": [
    "\n"
   ]
  },
  {
   "cell_type": "code",
   "execution_count": 17,
   "metadata": {},
   "outputs": [
    {
     "name": "stdout",
     "output_type": "stream",
     "text": [
      "메인 메뉴로 바로가기\n",
      "본문으로 바로가기\n",
      "NAVER\n",
      "만화\n",
      "웹소설\n",
      "\n",
      "\n",
      "\t\t\t\t\t\t\t\t\t\t손제호 X 제나 액션 판타지<일렉시드>\n",
      "\t\t\t\t\t\t\t\t\t\n",
      "웹툰 홈\n",
      "웹툰\n",
      "베스트 도전\n",
      "도전만화\n",
      "마이페이지\n",
      "단행본 만화\n",
      "장르소설\n",
      "요일별\n",
      "장르별\n",
      "작품별\n",
      "작가별\n",
      "연도별\n",
      "테마웹툰\n",
      "완결웹툰\n",
      "\n",
      "\n",
      "\n",
      "\n",
      "관심웹툰\n",
      "첫회보기\n",
      "작가의 다른 작품\n",
      "\n",
      "\n",
      "\n",
      "\n",
      "외전 -이면- 후기\n",
      "\n",
      "\n",
      "\n",
      "\n",
      "외전 -이면- 4화\n",
      "\n",
      "\n",
      "\n",
      "\n",
      "외전 -이면- 3화\n",
      "\n",
      "\n",
      "\n",
      "\n",
      "외전 -이면- 2화\n",
      "\n",
      "\n",
      "\n",
      "\n",
      "외전 -이면- 1화\n",
      "\n",
      "\n",
      "\n",
      "\n",
      "special ending\n",
      "\n",
      "\n",
      "\n",
      "\n",
      "마지막화\n",
      "\n",
      "\n",
      "\n",
      "\n",
      "21화\n",
      "\n",
      "\n",
      "\n",
      "\n",
      "20.5화\n",
      "\n",
      "\n",
      "\n",
      "\n",
      "20화\n",
      "2\n",
      "3\n",
      "4\n",
      "다음 페이지 목록으로 이동\n",
      "웹툰 올리기\n",
      "\n",
      "\n",
      "\n",
      "\n",
      "\n",
      "타인은 지옥이다-66화\n",
      "연애혁명-239. 우당탕탕 자림이네 (1)\n",
      "좀비딸-10화\n",
      "대학일기-251화 중간고사 공부를 해보자\n",
      "기기괴괴-235화 뇌오염 #2\n",
      "간 떨어지는 동거-64. 계약파기 3\n",
      "35cm-28화\n",
      "신과함께 (재)-신화편 할락궁이전 9화\n",
      "하드캐리-024. 무서워\n",
      "좋아하는 부분-59화\n",
      "\n",
      "\t\t\t\t\t\n",
      "\t\t\t\t\t킬더킹-가위바위보 (7)\n",
      "\t\t\t\t\n",
      "\n",
      "\t\t\t\t\t\n",
      "\t\t\t\t\t쿠베라-3부 81화 죄와 벌 (8)\n",
      "\t\t\t\t\n",
      "\n",
      "\t\t\t\t\t\n",
      "\t\t\t\t\t특수 영능력 수사반-292화 원수 (8)\n",
      "\t\t\t\t\n",
      "\n",
      "\t\t\t\t\t\n",
      "\t\t\t\t\t최강전설 강해효-267화\n",
      "\t\t\t\t\n",
      "\n",
      "\t\t\t\t\t\n",
      "\t\t\t\t\t연애혁명-239. 우당탕탕 자림이네 (1)\n",
      "\t\t\t\t\n",
      "\n",
      "\t\t\t\t\t\n",
      "\t\t\t\t\t대학일기-251화 중간고사 공부를 해보자\n",
      "\t\t\t\t\n",
      "\n",
      "\t\t\t\t\t\n",
      "\t\t\t\t\t알고있지만-2화\n",
      "\t\t\t\t\n",
      "\n",
      "\t\t\t\t\t\n",
      "\t\t\t\t\t가우스전자 시즌3~4-시즌4 169화 몽상가\n",
      "\t\t\t\t\n",
      "\n",
      "\t\t\t\t\t\n",
      "\t\t\t\t\t오늘의 순정망화-21화\n",
      "\t\t\t\t\n",
      "\n",
      "\t\t\t\t\t\n",
      "\t\t\t\t\t하드캐리-024. 무서워\n",
      "\t\t\t\t\n",
      "이전\n",
      "다음\n",
      " \n",
      " \n",
      "\n",
      "\n",
      "\n",
      "\n",
      "타인은 지옥이다\n",
      "김용키\n",
      "\n",
      "\n",
      "\n",
      "\n",
      "좀비딸\n",
      "이윤창\n",
      "\n",
      "\n",
      "\n",
      "\n",
      "대학일기\n",
      "자까\n",
      "\n",
      "\n",
      "\n",
      "\n",
      "기기괴괴\n",
      "오성대\n",
      "\n",
      "\n",
      "\n",
      "\n",
      "신과함께 (재)\n",
      "주호민\n",
      "\n",
      "\n",
      "\t\t\t\t\t[결승투표결과] 2018 네이버웹툰 최강자전 최종결과 안내\n",
      "\t\t\t\t\n",
      "\n",
      "\n",
      "\t\t\t\t\n",
      "\t\t\t\t\tiOS웹툰앱 미리보기 결제가 개선됩니다\n",
      "\t\t\t\t\n",
      "\t\t\t\n",
      "\n",
      "\t\t\t\t\n",
      "\t\t\t\t\t네이버웹툰 작품 투고사이트를 오픈합니다. (경력작가)\n",
      "\t\t\t\t\n",
      "\t\t\t\n",
      "\n",
      "\t\t\t\t\n",
      "\t\t\t\t\t'스포츠' 장르 포텐업 선정작 발표!\n",
      "\t\t\t\t\n",
      "\t\t\t\n",
      "\n",
      "\t\t\t\t\n",
      "\t\t\t\t\t9월 베스트 도전만화 승격작 발표\n",
      "\t\t\t\t\n",
      "\t\t\t\n",
      "\n",
      "공지사항 더보기\n",
      "\t\n",
      "\n",
      "\n",
      "\n",
      "\n",
      "\n",
      "\n",
      "\n",
      "\n",
      "\n",
      "만화FAQ\n",
      "이용약관\n",
      "개인정보처리방침\n",
      "책임의 한계와 법적고지\n",
      "고객센터\n",
      "웹툰 광고 문의\n",
      "ⓒ NAVER CORP.\n",
      "이용약관\n",
      "개인정보처리방침\n",
      "웹툰 고객센터\n",
      "웹툰 사업 문의\n",
      "ⓒ NAVER WEBTOON CORP.\n"
     ]
    }
   ],
   "source": [
    "a_list = soup.select('a')\n",
    "\n",
    "for menu in a_list:\n",
    "    print(menu.get_text())"
   ]
  },
  {
   "cell_type": "markdown",
   "metadata": {},
   "source": [
    "\n"
   ]
  },
  {
   "cell_type": "markdown",
   "metadata": {},
   "source": [
    "### 태그 선택자"
   ]
  },
  {
   "cell_type": "code",
   "execution_count": 18,
   "metadata": {},
   "outputs": [
    {
     "data": {
      "text/plain": [
       "<span>메인 메뉴로 바로가기</span>"
      ]
     },
     "execution_count": 18,
     "metadata": {},
     "output_type": "execute_result"
    }
   ],
   "source": [
    "soup.select_one('span')"
   ]
  },
  {
   "cell_type": "markdown",
   "metadata": {},
   "source": [
    "### 아이디 선택자"
   ]
  },
  {
   "cell_type": "code",
   "execution_count": 19,
   "metadata": {},
   "outputs": [],
   "source": [
    "soup.select_one('#where')"
   ]
  },
  {
   "cell_type": "markdown",
   "metadata": {},
   "source": [
    "\n"
   ]
  },
  {
   "cell_type": "markdown",
   "metadata": {},
   "source": [
    "### 클래스 선택자"
   ]
  },
  {
   "cell_type": "code",
   "execution_count": 20,
   "metadata": {},
   "outputs": [
    {
     "data": {
      "text/plain": [
       "[<span class=\"blind\">공지사항</span>,\n",
       " <h2 class=\"blind\">웹툰</h2>,\n",
       " <span class=\"blind\">회차별 목록</span>,\n",
       " <strong class=\"blind\">페이지 이동하기</strong>,\n",
       " <span class=\"blind\"> 현재 페이지</span>,\n",
       " <span class=\"blind\"> 페이지 목록으로 이동</span>,\n",
       " <h3 class=\"blind\" id=\"realTimeRankBlindName\">인기순</h3>,\n",
       " <h3 class=\"blind\" id=\"ageGenderRankBlindName\">남자</h3>,\n",
       " <span class=\"blind\">공지사항</span>,\n",
       " <span class=\"blind\">만화FAQ</span>,\n",
       " <span class=\"blind\">ⓒ NAVER CORP.</span>,\n",
       " <span class=\"blind\">ⓒ NAVER WEBTOON CORP.</span>]"
      ]
     },
     "execution_count": 20,
     "metadata": {},
     "output_type": "execute_result"
    }
   ],
   "source": [
    "soup.select('.blind')"
   ]
  },
  {
   "cell_type": "markdown",
   "metadata": {},
   "source": [
    "\n"
   ]
  },
  {
   "cell_type": "markdown",
   "metadata": {},
   "source": [
    "### 후손 선택자"
   ]
  },
  {
   "cell_type": "code",
   "execution_count": 21,
   "metadata": {},
   "outputs": [
    {
     "data": {
      "text/plain": [
       "[]"
      ]
     },
     "execution_count": 21,
     "metadata": {},
     "output_type": "execute_result"
    }
   ],
   "source": [
    "soup.select('option') # 태그 안에서 바로 아래의 태그까지만 추출"
   ]
  },
  {
   "cell_type": "markdown",
   "metadata": {},
   "source": [
    "### 자식 선택자"
   ]
  },
  {
   "cell_type": "code",
   "execution_count": 22,
   "metadata": {},
   "outputs": [
    {
     "ename": "IndexError",
     "evalue": "list index out of range",
     "output_type": "error",
     "traceback": [
      "\u001b[0;31m---------------------------------------------------------------------------\u001b[0m",
      "\u001b[0;31mIndexError\u001b[0m                                Traceback (most recent call last)",
      "\u001b[0;32m<ipython-input-22-4a7e306c246f>\u001b[0m in \u001b[0;36m<module>\u001b[0;34m\u001b[0m\n\u001b[0;32m----> 1\u001b[0;31m \u001b[0msoup\u001b[0m\u001b[0;34m.\u001b[0m\u001b[0mselect\u001b[0m\u001b[0;34m(\u001b[0m\u001b[0;34m''\u001b[0m\u001b[0;34m)\u001b[0m\u001b[0;34m\u001b[0m\u001b[0m\n\u001b[0m",
      "\u001b[0;32m~/.local/share/virtualenvs/pandas-crawling-2yotQAyj/lib/python3.6/site-packages/bs4/element.py\u001b[0m in \u001b[0;36mselect\u001b[0;34m(self, selector, _candidate_generator, limit)\u001b[0m\n\u001b[1;32m   1441\u001b[0m         \u001b[0mcurrent_context\u001b[0m \u001b[0;34m=\u001b[0m \u001b[0;34m[\u001b[0m\u001b[0mself\u001b[0m\u001b[0;34m]\u001b[0m\u001b[0;34m\u001b[0m\u001b[0m\n\u001b[1;32m   1442\u001b[0m \u001b[0;34m\u001b[0m\u001b[0m\n\u001b[0;32m-> 1443\u001b[0;31m         \u001b[0;32mif\u001b[0m \u001b[0mtokens\u001b[0m\u001b[0;34m[\u001b[0m\u001b[0;34m-\u001b[0m\u001b[0;36m1\u001b[0m\u001b[0;34m]\u001b[0m \u001b[0;32min\u001b[0m \u001b[0mself\u001b[0m\u001b[0;34m.\u001b[0m\u001b[0m_selector_combinators\u001b[0m\u001b[0;34m:\u001b[0m\u001b[0;34m\u001b[0m\u001b[0m\n\u001b[0m\u001b[1;32m   1444\u001b[0m             raise ValueError(\n\u001b[1;32m   1445\u001b[0m                 'Final combinator \"%s\" is missing an argument.' % tokens[-1])\n",
      "\u001b[0;31mIndexError\u001b[0m: list index out of range"
     ]
    }
   ],
   "source": [
    "soup.select('')"
   ]
  },
  {
   "cell_type": "code",
   "execution_count": null,
   "metadata": {},
   "outputs": [],
   "source": []
  },
  {
   "cell_type": "markdown",
   "metadata": {},
   "source": [
    "\n"
   ]
  }
 ],
 "metadata": {
  "kernelspec": {
   "display_name": "Python 3",
   "language": "python",
   "name": "python3"
  },
  "language_info": {
   "codemirror_mode": {
    "name": "ipython",
    "version": 3
   },
   "file_extension": ".py",
   "mimetype": "text/x-python",
   "name": "python",
   "nbconvert_exporter": "python",
   "pygments_lexer": "ipython3",
   "version": "3.6.5"
  }
 },
 "nbformat": 4,
 "nbformat_minor": 2
}
