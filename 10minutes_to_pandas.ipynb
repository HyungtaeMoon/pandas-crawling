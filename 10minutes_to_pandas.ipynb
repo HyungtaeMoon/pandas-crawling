{
 "cells": [
  {
   "cell_type": "code",
   "execution_count": 1,
   "metadata": {},
   "outputs": [],
   "source": [
    "import pandas as pd\n",
    "import numpy as np"
   ]
  },
  {
   "cell_type": "markdown",
   "metadata": {},
   "source": [
    "### pandas 의 버전 확인"
   ]
  },
  {
   "cell_type": "markdown",
   "metadata": {},
   "source": [
    "참고자료:\n",
    "\n",
    "`10 minutes to pandas`, `askdjango`, `구글링`"
   ]
  },
  {
   "cell_type": "code",
   "execution_count": 2,
   "metadata": {},
   "outputs": [
    {
     "data": {
      "text/plain": [
       "'0.23.4'"
      ]
     },
     "execution_count": 2,
     "metadata": {},
     "output_type": "execute_result"
    }
   ],
   "source": [
    "pd.__version__"
   ]
  },
  {
   "cell_type": "markdown",
   "metadata": {},
   "source": [
    "\n"
   ]
  },
  {
   "cell_type": "markdown",
   "metadata": {},
   "source": [
    "# 10 Minutes to pandas 튜토리얼"
   ]
  },
  {
   "cell_type": "markdown",
   "metadata": {},
   "source": [
    "\n"
   ]
  },
  {
   "cell_type": "markdown",
   "metadata": {},
   "source": [
    "### EP1: Object creation(객체 생성)"
   ]
  },
  {
   "cell_type": "code",
   "execution_count": 3,
   "metadata": {},
   "outputs": [
    {
     "data": {
      "text/plain": [
       "0    1.0\n",
       "1    3.0\n",
       "2    5.0\n",
       "3    NaN\n",
       "4    6.0\n",
       "5    8.0\n",
       "dtype: float64"
      ]
     },
     "execution_count": 3,
     "metadata": {},
     "output_type": "execute_result"
    }
   ],
   "source": [
    "s = pd.Series([1,3,5,np.nan,6,8]) #NaN = Not a Number\n",
    "s"
   ]
  },
  {
   "cell_type": "markdown",
   "metadata": {},
   "source": [
    "\n"
   ]
  },
  {
   "cell_type": "markdown",
   "metadata": {},
   "source": [
    "### date_range 를 사용하여 날짜 생성"
   ]
  },
  {
   "cell_type": "code",
   "execution_count": 4,
   "metadata": {},
   "outputs": [
    {
     "data": {
      "text/plain": [
       "DatetimeIndex(['2018-03-04', '2018-03-05', '2018-03-06', '2018-03-07',\n",
       "               '2018-03-08', '2018-03-09', '2018-03-10', '2018-03-11',\n",
       "               '2018-03-12', '2018-03-13', '2018-03-14', '2018-03-15',\n",
       "               '2018-03-16', '2018-03-17', '2018-03-18', '2018-03-19',\n",
       "               '2018-03-20', '2018-03-21', '2018-03-22', '2018-03-23'],\n",
       "              dtype='datetime64[ns]', freq='D')"
      ]
     },
     "execution_count": 4,
     "metadata": {},
     "output_type": "execute_result"
    }
   ],
   "source": [
    "dates = pd.date_range('20180304', periods=20)\n",
    "dates"
   ]
  },
  {
   "cell_type": "markdown",
   "metadata": {},
   "source": [
    "\n"
   ]
  },
  {
   "cell_type": "markdown",
   "metadata": {},
   "source": [
    "### 임의의 배열(array) 를 생성"
   ]
  },
  {
   "cell_type": "code",
   "execution_count": 5,
   "metadata": {},
   "outputs": [
    {
     "data": {
      "text/plain": [
       "array([[ 0.76835082, -0.94027806,  1.03812382, -1.51161557],\n",
       "       [-0.53448072,  0.40780034, -0.22879399, -0.68522619],\n",
       "       [ 0.20679524, -1.0499555 ,  2.19835926, -0.63592652],\n",
       "       [-0.43799402, -1.68816798,  0.41004628, -0.99703253],\n",
       "       [-1.20667477,  0.82709562,  0.27293776,  0.03174209],\n",
       "       [ 0.82537751, -1.02862859, -0.37994225, -0.0060564 ]])"
      ]
     },
     "execution_count": 5,
     "metadata": {},
     "output_type": "execute_result"
    }
   ],
   "source": [
    "np.random.randn(6,4) # 6행 4열의 2차원 랜덤한 array 를 생성"
   ]
  },
  {
   "cell_type": "markdown",
   "metadata": {},
   "source": [
    "### 임의로 생성한 배열을 데이터 프레임으로 생성"
   ]
  },
  {
   "cell_type": "code",
   "execution_count": 6,
   "metadata": {},
   "outputs": [
    {
     "data": {
      "text/html": [
       "<div>\n",
       "<style scoped>\n",
       "    .dataframe tbody tr th:only-of-type {\n",
       "        vertical-align: middle;\n",
       "    }\n",
       "\n",
       "    .dataframe tbody tr th {\n",
       "        vertical-align: top;\n",
       "    }\n",
       "\n",
       "    .dataframe thead th {\n",
       "        text-align: right;\n",
       "    }\n",
       "</style>\n",
       "<table border=\"1\" class=\"dataframe\">\n",
       "  <thead>\n",
       "    <tr style=\"text-align: right;\">\n",
       "      <th></th>\n",
       "      <th>0</th>\n",
       "      <th>1</th>\n",
       "      <th>2</th>\n",
       "      <th>3</th>\n",
       "    </tr>\n",
       "  </thead>\n",
       "  <tbody>\n",
       "    <tr>\n",
       "      <th>인덱스0</th>\n",
       "      <td>-0.660495</td>\n",
       "      <td>-0.139967</td>\n",
       "      <td>-1.273437</td>\n",
       "      <td>0.769692</td>\n",
       "    </tr>\n",
       "    <tr>\n",
       "      <th>인덱스1</th>\n",
       "      <td>-1.059665</td>\n",
       "      <td>-1.114148</td>\n",
       "      <td>-1.804457</td>\n",
       "      <td>-1.635893</td>\n",
       "    </tr>\n",
       "    <tr>\n",
       "      <th>인덱스2</th>\n",
       "      <td>0.453444</td>\n",
       "      <td>-1.348903</td>\n",
       "      <td>-1.145283</td>\n",
       "      <td>0.646543</td>\n",
       "    </tr>\n",
       "    <tr>\n",
       "      <th>인덱스3</th>\n",
       "      <td>-0.064510</td>\n",
       "      <td>0.846399</td>\n",
       "      <td>1.313728</td>\n",
       "      <td>-0.344480</td>\n",
       "    </tr>\n",
       "    <tr>\n",
       "      <th>인덱스4</th>\n",
       "      <td>0.516938</td>\n",
       "      <td>-0.604556</td>\n",
       "      <td>0.003495</td>\n",
       "      <td>0.358959</td>\n",
       "    </tr>\n",
       "    <tr>\n",
       "      <th>인덱스5</th>\n",
       "      <td>-0.711918</td>\n",
       "      <td>2.397363</td>\n",
       "      <td>-0.075824</td>\n",
       "      <td>-0.436567</td>\n",
       "    </tr>\n",
       "  </tbody>\n",
       "</table>\n",
       "</div>"
      ],
      "text/plain": [
       "             0         1         2         3\n",
       "인덱스0 -0.660495 -0.139967 -1.273437  0.769692\n",
       "인덱스1 -1.059665 -1.114148 -1.804457 -1.635893\n",
       "인덱스2  0.453444 -1.348903 -1.145283  0.646543\n",
       "인덱스3 -0.064510  0.846399  1.313728 -0.344480\n",
       "인덱스4  0.516938 -0.604556  0.003495  0.358959\n",
       "인덱스5 -0.711918  2.397363 -0.075824 -0.436567"
      ]
     },
     "execution_count": 6,
     "metadata": {},
     "output_type": "execute_result"
    }
   ],
   "source": [
    "# 2차원 데이터 구조인 DataFrame 으로 생성\n",
    "\n",
    "pd.DataFrame(np.random.randn(6, 4), index=['인덱스0', '인덱스1', '인덱스2', '인덱스3', '인덱스4', '인덱스5'])"
   ]
  },
  {
   "cell_type": "markdown",
   "metadata": {},
   "source": [
    "\n"
   ]
  },
  {
   "cell_type": "markdown",
   "metadata": {},
   "source": [
    "# 만약 위에서 생성한 dates를 index 로 넣게 된다면?"
   ]
  },
  {
   "cell_type": "markdown",
   "metadata": {},
   "source": [
    "\n"
   ]
  },
  {
   "cell_type": "markdown",
   "metadata": {},
   "source": [
    "행이 맞지 않기 때문에 `ValueError: Shape of passed values is (4, 6), indices imply (4, 20)` 오류가 발생\n"
   ]
  },
  {
   "cell_type": "markdown",
   "metadata": {},
   "source": [
    "\n"
   ]
  },
  {
   "cell_type": "markdown",
   "metadata": {},
   "source": [
    "### 꼭 values 의 길이를 일치해야 에러없이 데이터 테이블이 생성된다\n",
    "\n",
    "#### + 다른 사람들도 보기 편하도록 데이터 테이블을 만들면 아래와 같이 shape, head 를 넣어주자"
   ]
  },
  {
   "cell_type": "code",
   "execution_count": 7,
   "metadata": {},
   "outputs": [
    {
     "name": "stdout",
     "output_type": "stream",
     "text": [
      "(20, 4)\n"
     ]
    },
    {
     "data": {
      "text/html": [
       "<div>\n",
       "<style scoped>\n",
       "    .dataframe tbody tr th:only-of-type {\n",
       "        vertical-align: middle;\n",
       "    }\n",
       "\n",
       "    .dataframe tbody tr th {\n",
       "        vertical-align: top;\n",
       "    }\n",
       "\n",
       "    .dataframe thead th {\n",
       "        text-align: right;\n",
       "    }\n",
       "</style>\n",
       "<table border=\"1\" class=\"dataframe\">\n",
       "  <thead>\n",
       "    <tr style=\"text-align: right;\">\n",
       "      <th></th>\n",
       "      <th>A</th>\n",
       "      <th>B</th>\n",
       "      <th>C</th>\n",
       "      <th>D</th>\n",
       "    </tr>\n",
       "  </thead>\n",
       "  <tbody>\n",
       "    <tr>\n",
       "      <th>2018-03-04</th>\n",
       "      <td>-0.252957</td>\n",
       "      <td>0.439122</td>\n",
       "      <td>0.385989</td>\n",
       "      <td>-0.871614</td>\n",
       "    </tr>\n",
       "    <tr>\n",
       "      <th>2018-03-05</th>\n",
       "      <td>0.326848</td>\n",
       "      <td>-0.025573</td>\n",
       "      <td>0.119267</td>\n",
       "      <td>0.801228</td>\n",
       "    </tr>\n",
       "    <tr>\n",
       "      <th>2018-03-06</th>\n",
       "      <td>0.111545</td>\n",
       "      <td>-1.212578</td>\n",
       "      <td>0.709760</td>\n",
       "      <td>-0.406191</td>\n",
       "    </tr>\n",
       "    <tr>\n",
       "      <th>2018-03-07</th>\n",
       "      <td>0.587586</td>\n",
       "      <td>0.611694</td>\n",
       "      <td>-0.949295</td>\n",
       "      <td>0.047066</td>\n",
       "    </tr>\n",
       "    <tr>\n",
       "      <th>2018-03-08</th>\n",
       "      <td>-1.770163</td>\n",
       "      <td>0.558087</td>\n",
       "      <td>-0.979803</td>\n",
       "      <td>-0.577235</td>\n",
       "    </tr>\n",
       "  </tbody>\n",
       "</table>\n",
       "</div>"
      ],
      "text/plain": [
       "                   A         B         C         D\n",
       "2018-03-04 -0.252957  0.439122  0.385989 -0.871614\n",
       "2018-03-05  0.326848 -0.025573  0.119267  0.801228\n",
       "2018-03-06  0.111545 -1.212578  0.709760 -0.406191\n",
       "2018-03-07  0.587586  0.611694 -0.949295  0.047066\n",
       "2018-03-08 -1.770163  0.558087 -0.979803 -0.577235"
      ]
     },
     "execution_count": 7,
     "metadata": {},
     "output_type": "execute_result"
    }
   ],
   "source": [
    "df = pd.DataFrame(np.random.randn(20, 4), index=dates, columns=['A','B','C','D'])\n",
    "\n",
    "print(df.shape)\n",
    "df.head()"
   ]
  },
  {
   "cell_type": "markdown",
   "metadata": {},
   "source": [
    "\n"
   ]
  },
  {
   "cell_type": "markdown",
   "metadata": {},
   "source": [
    "\n"
   ]
  },
  {
   "cell_type": "markdown",
   "metadata": {},
   "source": [
    "### 직렬로 변환할 수 있는 object 를 전달하여 DataFrame 생성하기"
   ]
  },
  {
   "cell_type": "code",
   "execution_count": 8,
   "metadata": {},
   "outputs": [
    {
     "name": "stdout",
     "output_type": "stream",
     "text": [
      "(4, 6)\n"
     ]
    },
    {
     "data": {
      "text/html": [
       "<div>\n",
       "<style scoped>\n",
       "    .dataframe tbody tr th:only-of-type {\n",
       "        vertical-align: middle;\n",
       "    }\n",
       "\n",
       "    .dataframe tbody tr th {\n",
       "        vertical-align: top;\n",
       "    }\n",
       "\n",
       "    .dataframe thead th {\n",
       "        text-align: right;\n",
       "    }\n",
       "</style>\n",
       "<table border=\"1\" class=\"dataframe\">\n",
       "  <thead>\n",
       "    <tr style=\"text-align: right;\">\n",
       "      <th></th>\n",
       "      <th>A</th>\n",
       "      <th>B</th>\n",
       "      <th>C</th>\n",
       "      <th>D</th>\n",
       "      <th>E</th>\n",
       "      <th>F</th>\n",
       "    </tr>\n",
       "  </thead>\n",
       "  <tbody>\n",
       "    <tr>\n",
       "      <th>0</th>\n",
       "      <td>1.0</td>\n",
       "      <td>2013-01-02</td>\n",
       "      <td>1.0</td>\n",
       "      <td>3</td>\n",
       "      <td>test</td>\n",
       "      <td>foo</td>\n",
       "    </tr>\n",
       "    <tr>\n",
       "      <th>1</th>\n",
       "      <td>1.0</td>\n",
       "      <td>2013-01-02</td>\n",
       "      <td>1.0</td>\n",
       "      <td>3</td>\n",
       "      <td>train</td>\n",
       "      <td>foo</td>\n",
       "    </tr>\n",
       "    <tr>\n",
       "      <th>2</th>\n",
       "      <td>1.0</td>\n",
       "      <td>2013-01-02</td>\n",
       "      <td>1.0</td>\n",
       "      <td>3</td>\n",
       "      <td>test</td>\n",
       "      <td>foo</td>\n",
       "    </tr>\n",
       "    <tr>\n",
       "      <th>3</th>\n",
       "      <td>1.0</td>\n",
       "      <td>2013-01-02</td>\n",
       "      <td>1.0</td>\n",
       "      <td>3</td>\n",
       "      <td>train</td>\n",
       "      <td>foo</td>\n",
       "    </tr>\n",
       "  </tbody>\n",
       "</table>\n",
       "</div>"
      ],
      "text/plain": [
       "     A          B    C  D      E    F\n",
       "0  1.0 2013-01-02  1.0  3   test  foo\n",
       "1  1.0 2013-01-02  1.0  3  train  foo\n",
       "2  1.0 2013-01-02  1.0  3   test  foo\n",
       "3  1.0 2013-01-02  1.0  3  train  foo"
      ]
     },
     "execution_count": 8,
     "metadata": {},
     "output_type": "execute_result"
    }
   ],
   "source": [
    "df2 = pd.DataFrame({ 'A' : 1.,\n",
    "                    'B' : pd.Timestamp('20130102'),\n",
    "                    'C' : pd.Series(1,index=list(range(4)),dtype='float32'),\n",
    "                    'D' : np.array([3] * 4,dtype='int32'),\n",
    "                    'E' : pd.Categorical([\"test\",\"train\",\"test\",\"train\"]),\n",
    "                    'F' : 'foo' })\n",
    "print(df2.shape)\n",
    "df2"
   ]
  },
  {
   "cell_type": "code",
   "execution_count": 9,
   "metadata": {},
   "outputs": [
    {
     "data": {
      "text/plain": [
       "A           float64\n",
       "B    datetime64[ns]\n",
       "C           float32\n",
       "D             int32\n",
       "E          category\n",
       "F            object\n",
       "dtype: object"
      ]
     },
     "execution_count": 9,
     "metadata": {},
     "output_type": "execute_result"
    }
   ],
   "source": [
    "df2.dtypes # 스마트하게 각 인덱스의 데이터타입을 출력해준다"
   ]
  },
  {
   "cell_type": "markdown",
   "metadata": {},
   "source": [
    "\n",
    "\n"
   ]
  },
  {
   "cell_type": "markdown",
   "metadata": {},
   "source": [
    "\n"
   ]
  },
  {
   "cell_type": "markdown",
   "metadata": {},
   "source": [
    "## EP2: Viewing Data\n",
    "\n",
    "----------------------\n",
    "\n",
    "Data의 값을 찾고 해당 데이터의 변경을 해본다"
   ]
  },
  {
   "cell_type": "markdown",
   "metadata": {},
   "source": [
    "```\n",
    "|        | columns1 | columns2 | columns3 | columns4 |\n",
    "|--------|----------|----------|----------|----------|\n",
    "| index1 |          |          |          |          |\n",
    "| index2 |          |          |          |          |\n",
    "| index3 |          |          |          |          |\n",
    "```"
   ]
  },
  {
   "cell_type": "markdown",
   "metadata": {},
   "source": [
    "\n"
   ]
  },
  {
   "cell_type": "markdown",
   "metadata": {},
   "source": [
    "### index 값 찾기"
   ]
  },
  {
   "cell_type": "code",
   "execution_count": 10,
   "metadata": {},
   "outputs": [
    {
     "data": {
      "text/plain": [
       "DatetimeIndex(['2018-03-04', '2018-03-05', '2018-03-06', '2018-03-07',\n",
       "               '2018-03-08', '2018-03-09', '2018-03-10', '2018-03-11',\n",
       "               '2018-03-12', '2018-03-13', '2018-03-14', '2018-03-15',\n",
       "               '2018-03-16', '2018-03-17', '2018-03-18', '2018-03-19',\n",
       "               '2018-03-20', '2018-03-21', '2018-03-22', '2018-03-23'],\n",
       "              dtype='datetime64[ns]', freq='D')"
      ]
     },
     "execution_count": 10,
     "metadata": {},
     "output_type": "execute_result"
    }
   ],
   "source": [
    "df.index"
   ]
  },
  {
   "cell_type": "markdown",
   "metadata": {},
   "source": [
    "\n"
   ]
  },
  {
   "cell_type": "markdown",
   "metadata": {},
   "source": [
    "### 데이터의 columns 의 값 찾기/변경하기"
   ]
  },
  {
   "cell_type": "code",
   "execution_count": 11,
   "metadata": {},
   "outputs": [
    {
     "data": {
      "text/plain": [
       "Index(['A', 'B', 'C', 'D'], dtype='object')"
      ]
     },
     "execution_count": 11,
     "metadata": {},
     "output_type": "execute_result"
    }
   ],
   "source": [
    "df.columns"
   ]
  },
  {
   "cell_type": "code",
   "execution_count": 12,
   "metadata": {},
   "outputs": [],
   "source": [
    "df.columns = ['A', 'B', 'C', 'D']"
   ]
  },
  {
   "cell_type": "markdown",
   "metadata": {},
   "source": [
    "\n"
   ]
  },
  {
   "cell_type": "markdown",
   "metadata": {},
   "source": [
    "### DataFrame의 요약 정보를 알아보기"
   ]
  },
  {
   "cell_type": "code",
   "execution_count": 13,
   "metadata": {},
   "outputs": [
    {
     "data": {
      "text/html": [
       "<div>\n",
       "<style scoped>\n",
       "    .dataframe tbody tr th:only-of-type {\n",
       "        vertical-align: middle;\n",
       "    }\n",
       "\n",
       "    .dataframe tbody tr th {\n",
       "        vertical-align: top;\n",
       "    }\n",
       "\n",
       "    .dataframe thead th {\n",
       "        text-align: right;\n",
       "    }\n",
       "</style>\n",
       "<table border=\"1\" class=\"dataframe\">\n",
       "  <thead>\n",
       "    <tr style=\"text-align: right;\">\n",
       "      <th></th>\n",
       "      <th>A</th>\n",
       "      <th>B</th>\n",
       "      <th>C</th>\n",
       "      <th>D</th>\n",
       "    </tr>\n",
       "  </thead>\n",
       "  <tbody>\n",
       "    <tr>\n",
       "      <th>count</th>\n",
       "      <td>20.000000</td>\n",
       "      <td>20.000000</td>\n",
       "      <td>20.000000</td>\n",
       "      <td>20.000000</td>\n",
       "    </tr>\n",
       "    <tr>\n",
       "      <th>mean</th>\n",
       "      <td>-0.100435</td>\n",
       "      <td>0.279111</td>\n",
       "      <td>0.178873</td>\n",
       "      <td>0.160783</td>\n",
       "    </tr>\n",
       "    <tr>\n",
       "      <th>std</th>\n",
       "      <td>0.911732</td>\n",
       "      <td>0.889238</td>\n",
       "      <td>1.094696</td>\n",
       "      <td>0.751327</td>\n",
       "    </tr>\n",
       "    <tr>\n",
       "      <th>min</th>\n",
       "      <td>-2.047036</td>\n",
       "      <td>-1.212578</td>\n",
       "      <td>-2.410551</td>\n",
       "      <td>-1.003263</td>\n",
       "    </tr>\n",
       "    <tr>\n",
       "      <th>25%</th>\n",
       "      <td>-0.466210</td>\n",
       "      <td>-0.353288</td>\n",
       "      <td>-0.445370</td>\n",
       "      <td>-0.448952</td>\n",
       "    </tr>\n",
       "    <tr>\n",
       "      <th>50%</th>\n",
       "      <td>0.112502</td>\n",
       "      <td>0.241839</td>\n",
       "      <td>0.252628</td>\n",
       "      <td>0.164433</td>\n",
       "    </tr>\n",
       "    <tr>\n",
       "      <th>75%</th>\n",
       "      <td>0.348855</td>\n",
       "      <td>0.767826</td>\n",
       "      <td>0.892447</td>\n",
       "      <td>0.642413</td>\n",
       "    </tr>\n",
       "    <tr>\n",
       "      <th>max</th>\n",
       "      <td>1.823522</td>\n",
       "      <td>1.934884</td>\n",
       "      <td>2.535563</td>\n",
       "      <td>1.870247</td>\n",
       "    </tr>\n",
       "  </tbody>\n",
       "</table>\n",
       "</div>"
      ],
      "text/plain": [
       "               A          B          C          D\n",
       "count  20.000000  20.000000  20.000000  20.000000\n",
       "mean   -0.100435   0.279111   0.178873   0.160783\n",
       "std     0.911732   0.889238   1.094696   0.751327\n",
       "min    -2.047036  -1.212578  -2.410551  -1.003263\n",
       "25%    -0.466210  -0.353288  -0.445370  -0.448952\n",
       "50%     0.112502   0.241839   0.252628   0.164433\n",
       "75%     0.348855   0.767826   0.892447   0.642413\n",
       "max     1.823522   1.934884   2.535563   1.870247"
      ]
     },
     "execution_count": 13,
     "metadata": {},
     "output_type": "execute_result"
    }
   ],
   "source": [
    "df.describe()"
   ]
  },
  {
   "cell_type": "markdown",
   "metadata": {},
   "source": [
    "\n"
   ]
  },
  {
   "cell_type": "markdown",
   "metadata": {},
   "source": [
    "### index 와 column 을 바꿔주는 `.T`"
   ]
  },
  {
   "cell_type": "code",
   "execution_count": 14,
   "metadata": {},
   "outputs": [
    {
     "data": {
      "text/html": [
       "<div>\n",
       "<style scoped>\n",
       "    .dataframe tbody tr th:only-of-type {\n",
       "        vertical-align: middle;\n",
       "    }\n",
       "\n",
       "    .dataframe tbody tr th {\n",
       "        vertical-align: top;\n",
       "    }\n",
       "\n",
       "    .dataframe thead th {\n",
       "        text-align: right;\n",
       "    }\n",
       "</style>\n",
       "<table border=\"1\" class=\"dataframe\">\n",
       "  <thead>\n",
       "    <tr style=\"text-align: right;\">\n",
       "      <th></th>\n",
       "      <th>2018-03-04 00:00:00</th>\n",
       "      <th>2018-03-05 00:00:00</th>\n",
       "      <th>2018-03-06 00:00:00</th>\n",
       "      <th>2018-03-07 00:00:00</th>\n",
       "      <th>2018-03-08 00:00:00</th>\n",
       "      <th>2018-03-09 00:00:00</th>\n",
       "      <th>2018-03-10 00:00:00</th>\n",
       "      <th>2018-03-11 00:00:00</th>\n",
       "      <th>2018-03-12 00:00:00</th>\n",
       "      <th>2018-03-13 00:00:00</th>\n",
       "      <th>2018-03-14 00:00:00</th>\n",
       "      <th>2018-03-15 00:00:00</th>\n",
       "      <th>2018-03-16 00:00:00</th>\n",
       "      <th>2018-03-17 00:00:00</th>\n",
       "      <th>2018-03-18 00:00:00</th>\n",
       "      <th>2018-03-19 00:00:00</th>\n",
       "      <th>2018-03-20 00:00:00</th>\n",
       "      <th>2018-03-21 00:00:00</th>\n",
       "      <th>2018-03-22 00:00:00</th>\n",
       "      <th>2018-03-23 00:00:00</th>\n",
       "    </tr>\n",
       "  </thead>\n",
       "  <tbody>\n",
       "    <tr>\n",
       "      <th>A</th>\n",
       "      <td>-0.252957</td>\n",
       "      <td>0.326848</td>\n",
       "      <td>0.111545</td>\n",
       "      <td>0.587586</td>\n",
       "      <td>-1.770163</td>\n",
       "      <td>-0.176269</td>\n",
       "      <td>0.270744</td>\n",
       "      <td>-0.619015</td>\n",
       "      <td>0.113459</td>\n",
       "      <td>0.414876</td>\n",
       "      <td>-0.321636</td>\n",
       "      <td>-0.847386</td>\n",
       "      <td>-1.277966</td>\n",
       "      <td>-0.415275</td>\n",
       "      <td>1.010141</td>\n",
       "      <td>0.188207</td>\n",
       "      <td>0.638815</td>\n",
       "      <td>-2.047036</td>\n",
       "      <td>0.233262</td>\n",
       "      <td>1.823522</td>\n",
       "    </tr>\n",
       "    <tr>\n",
       "      <th>B</th>\n",
       "      <td>0.439122</td>\n",
       "      <td>-0.025573</td>\n",
       "      <td>-1.212578</td>\n",
       "      <td>0.611694</td>\n",
       "      <td>0.558087</td>\n",
       "      <td>0.827106</td>\n",
       "      <td>-0.226251</td>\n",
       "      <td>0.748065</td>\n",
       "      <td>-0.439769</td>\n",
       "      <td>1.934884</td>\n",
       "      <td>1.849691</td>\n",
       "      <td>1.643273</td>\n",
       "      <td>-0.724695</td>\n",
       "      <td>-0.977803</td>\n",
       "      <td>0.246550</td>\n",
       "      <td>-0.329698</td>\n",
       "      <td>0.986284</td>\n",
       "      <td>-0.139238</td>\n",
       "      <td>-0.424058</td>\n",
       "      <td>0.237128</td>\n",
       "    </tr>\n",
       "    <tr>\n",
       "      <th>C</th>\n",
       "      <td>0.385989</td>\n",
       "      <td>0.119267</td>\n",
       "      <td>0.709760</td>\n",
       "      <td>-0.949295</td>\n",
       "      <td>-0.979803</td>\n",
       "      <td>1.047592</td>\n",
       "      <td>-0.270154</td>\n",
       "      <td>-0.183903</td>\n",
       "      <td>2.535563</td>\n",
       "      <td>-0.915241</td>\n",
       "      <td>1.680028</td>\n",
       "      <td>-0.090823</td>\n",
       "      <td>-0.422134</td>\n",
       "      <td>1.039589</td>\n",
       "      <td>-2.410551</td>\n",
       "      <td>0.482883</td>\n",
       "      <td>0.404751</td>\n",
       "      <td>-0.515078</td>\n",
       "      <td>0.843400</td>\n",
       "      <td>1.065618</td>\n",
       "    </tr>\n",
       "    <tr>\n",
       "      <th>D</th>\n",
       "      <td>-0.871614</td>\n",
       "      <td>0.801228</td>\n",
       "      <td>-0.406191</td>\n",
       "      <td>0.047066</td>\n",
       "      <td>-0.577235</td>\n",
       "      <td>-0.245867</td>\n",
       "      <td>0.791146</td>\n",
       "      <td>0.679426</td>\n",
       "      <td>0.009409</td>\n",
       "      <td>0.159570</td>\n",
       "      <td>-0.786624</td>\n",
       "      <td>0.515760</td>\n",
       "      <td>1.303832</td>\n",
       "      <td>0.169296</td>\n",
       "      <td>-1.003263</td>\n",
       "      <td>1.870247</td>\n",
       "      <td>0.469043</td>\n",
       "      <td>0.630075</td>\n",
       "      <td>-0.602422</td>\n",
       "      <td>0.262770</td>\n",
       "    </tr>\n",
       "  </tbody>\n",
       "</table>\n",
       "</div>"
      ],
      "text/plain": [
       "   2018-03-04  2018-03-05  2018-03-06  2018-03-07  2018-03-08  2018-03-09  \\\n",
       "A   -0.252957    0.326848    0.111545    0.587586   -1.770163   -0.176269   \n",
       "B    0.439122   -0.025573   -1.212578    0.611694    0.558087    0.827106   \n",
       "C    0.385989    0.119267    0.709760   -0.949295   -0.979803    1.047592   \n",
       "D   -0.871614    0.801228   -0.406191    0.047066   -0.577235   -0.245867   \n",
       "\n",
       "   2018-03-10  2018-03-11  2018-03-12  2018-03-13  2018-03-14  2018-03-15  \\\n",
       "A    0.270744   -0.619015    0.113459    0.414876   -0.321636   -0.847386   \n",
       "B   -0.226251    0.748065   -0.439769    1.934884    1.849691    1.643273   \n",
       "C   -0.270154   -0.183903    2.535563   -0.915241    1.680028   -0.090823   \n",
       "D    0.791146    0.679426    0.009409    0.159570   -0.786624    0.515760   \n",
       "\n",
       "   2018-03-16  2018-03-17  2018-03-18  2018-03-19  2018-03-20  2018-03-21  \\\n",
       "A   -1.277966   -0.415275    1.010141    0.188207    0.638815   -2.047036   \n",
       "B   -0.724695   -0.977803    0.246550   -0.329698    0.986284   -0.139238   \n",
       "C   -0.422134    1.039589   -2.410551    0.482883    0.404751   -0.515078   \n",
       "D    1.303832    0.169296   -1.003263    1.870247    0.469043    0.630075   \n",
       "\n",
       "   2018-03-22  2018-03-23  \n",
       "A    0.233262    1.823522  \n",
       "B   -0.424058    0.237128  \n",
       "C    0.843400    1.065618  \n",
       "D   -0.602422    0.262770  "
      ]
     },
     "execution_count": 14,
     "metadata": {},
     "output_type": "execute_result"
    }
   ],
   "source": [
    "df.T"
   ]
  },
  {
   "cell_type": "markdown",
   "metadata": {},
   "source": [
    "### 원하는 index 기준으로 다시 정렬하기"
   ]
  },
  {
   "cell_type": "code",
   "execution_count": 15,
   "metadata": {},
   "outputs": [
    {
     "data": {
      "text/html": [
       "<div>\n",
       "<style scoped>\n",
       "    .dataframe tbody tr th:only-of-type {\n",
       "        vertical-align: middle;\n",
       "    }\n",
       "\n",
       "    .dataframe tbody tr th {\n",
       "        vertical-align: top;\n",
       "    }\n",
       "\n",
       "    .dataframe thead th {\n",
       "        text-align: right;\n",
       "    }\n",
       "</style>\n",
       "<table border=\"1\" class=\"dataframe\">\n",
       "  <thead>\n",
       "    <tr style=\"text-align: right;\">\n",
       "      <th></th>\n",
       "      <th>A</th>\n",
       "      <th>B</th>\n",
       "      <th>C</th>\n",
       "      <th>D</th>\n",
       "    </tr>\n",
       "  </thead>\n",
       "  <tbody>\n",
       "    <tr>\n",
       "      <th>2018-03-23</th>\n",
       "      <td>1.823522</td>\n",
       "      <td>0.237128</td>\n",
       "      <td>1.065618</td>\n",
       "      <td>0.262770</td>\n",
       "    </tr>\n",
       "    <tr>\n",
       "      <th>2018-03-22</th>\n",
       "      <td>0.233262</td>\n",
       "      <td>-0.424058</td>\n",
       "      <td>0.843400</td>\n",
       "      <td>-0.602422</td>\n",
       "    </tr>\n",
       "    <tr>\n",
       "      <th>2018-03-21</th>\n",
       "      <td>-2.047036</td>\n",
       "      <td>-0.139238</td>\n",
       "      <td>-0.515078</td>\n",
       "      <td>0.630075</td>\n",
       "    </tr>\n",
       "    <tr>\n",
       "      <th>2018-03-20</th>\n",
       "      <td>0.638815</td>\n",
       "      <td>0.986284</td>\n",
       "      <td>0.404751</td>\n",
       "      <td>0.469043</td>\n",
       "    </tr>\n",
       "    <tr>\n",
       "      <th>2018-03-19</th>\n",
       "      <td>0.188207</td>\n",
       "      <td>-0.329698</td>\n",
       "      <td>0.482883</td>\n",
       "      <td>1.870247</td>\n",
       "    </tr>\n",
       "  </tbody>\n",
       "</table>\n",
       "</div>"
      ],
      "text/plain": [
       "                   A         B         C         D\n",
       "2018-03-23  1.823522  0.237128  1.065618  0.262770\n",
       "2018-03-22  0.233262 -0.424058  0.843400 -0.602422\n",
       "2018-03-21 -2.047036 -0.139238 -0.515078  0.630075\n",
       "2018-03-20  0.638815  0.986284  0.404751  0.469043\n",
       "2018-03-19  0.188207 -0.329698  0.482883  1.870247"
      ]
     },
     "execution_count": 15,
     "metadata": {},
     "output_type": "execute_result"
    }
   ],
   "source": [
    "df.sort_index(ascending=False).head()"
   ]
  },
  {
   "cell_type": "markdown",
   "metadata": {},
   "source": [
    "\n"
   ]
  },
  {
   "cell_type": "markdown",
   "metadata": {},
   "source": [
    "### 특정 column을 기준으로 정렬하기\n",
    "\n",
    "df.sort_values('<기준이 되는 column>')"
   ]
  },
  {
   "cell_type": "code",
   "execution_count": 16,
   "metadata": {},
   "outputs": [
    {
     "data": {
      "text/html": [
       "<div>\n",
       "<style scoped>\n",
       "    .dataframe tbody tr th:only-of-type {\n",
       "        vertical-align: middle;\n",
       "    }\n",
       "\n",
       "    .dataframe tbody tr th {\n",
       "        vertical-align: top;\n",
       "    }\n",
       "\n",
       "    .dataframe thead th {\n",
       "        text-align: right;\n",
       "    }\n",
       "</style>\n",
       "<table border=\"1\" class=\"dataframe\">\n",
       "  <thead>\n",
       "    <tr style=\"text-align: right;\">\n",
       "      <th></th>\n",
       "      <th>A</th>\n",
       "      <th>B</th>\n",
       "      <th>C</th>\n",
       "      <th>D</th>\n",
       "    </tr>\n",
       "  </thead>\n",
       "  <tbody>\n",
       "    <tr>\n",
       "      <th>2018-03-18</th>\n",
       "      <td>1.010141</td>\n",
       "      <td>0.246550</td>\n",
       "      <td>-2.410551</td>\n",
       "      <td>-1.003263</td>\n",
       "    </tr>\n",
       "    <tr>\n",
       "      <th>2018-03-08</th>\n",
       "      <td>-1.770163</td>\n",
       "      <td>0.558087</td>\n",
       "      <td>-0.979803</td>\n",
       "      <td>-0.577235</td>\n",
       "    </tr>\n",
       "    <tr>\n",
       "      <th>2018-03-07</th>\n",
       "      <td>0.587586</td>\n",
       "      <td>0.611694</td>\n",
       "      <td>-0.949295</td>\n",
       "      <td>0.047066</td>\n",
       "    </tr>\n",
       "    <tr>\n",
       "      <th>2018-03-13</th>\n",
       "      <td>0.414876</td>\n",
       "      <td>1.934884</td>\n",
       "      <td>-0.915241</td>\n",
       "      <td>0.159570</td>\n",
       "    </tr>\n",
       "    <tr>\n",
       "      <th>2018-03-21</th>\n",
       "      <td>-2.047036</td>\n",
       "      <td>-0.139238</td>\n",
       "      <td>-0.515078</td>\n",
       "      <td>0.630075</td>\n",
       "    </tr>\n",
       "  </tbody>\n",
       "</table>\n",
       "</div>"
      ],
      "text/plain": [
       "                   A         B         C         D\n",
       "2018-03-18  1.010141  0.246550 -2.410551 -1.003263\n",
       "2018-03-08 -1.770163  0.558087 -0.979803 -0.577235\n",
       "2018-03-07  0.587586  0.611694 -0.949295  0.047066\n",
       "2018-03-13  0.414876  1.934884 -0.915241  0.159570\n",
       "2018-03-21 -2.047036 -0.139238 -0.515078  0.630075"
      ]
     },
     "execution_count": 16,
     "metadata": {},
     "output_type": "execute_result"
    }
   ],
   "source": [
    "df.sort_values('C').head()"
   ]
  },
  {
   "cell_type": "markdown",
   "metadata": {},
   "source": [
    "\n"
   ]
  },
  {
   "cell_type": "markdown",
   "metadata": {},
   "source": [
    "\n",
    "\n"
   ]
  },
  {
   "cell_type": "markdown",
   "metadata": {},
   "source": [
    "## EP3: Selection"
   ]
  },
  {
   "cell_type": "markdown",
   "metadata": {},
   "source": [
    "특정 Column 을 선택해서 데이터를 확인\n",
    "\n",
    "2가지 방법은 모두 동일한 결과값을 가지지만 `Column명이 \"D-D\" ` 와 같은 경우에는 마이너스(-) _연산자로 인식하여 (데이터 - 데이터)로 계산을 한다_"
   ]
  },
  {
   "cell_type": "code",
   "execution_count": 17,
   "metadata": {},
   "outputs": [
    {
     "data": {
      "text/plain": [
       "2018-03-04   -0.871614\n",
       "2018-03-05    0.801228\n",
       "2018-03-06   -0.406191\n",
       "Freq: D, Name: D, dtype: float64"
      ]
     },
     "execution_count": 17,
     "metadata": {},
     "output_type": "execute_result"
    }
   ],
   "source": [
    "df['D'].head(3) # DataFrame 'D'의 데이터 가져오기(1)"
   ]
  },
  {
   "cell_type": "code",
   "execution_count": 18,
   "metadata": {},
   "outputs": [
    {
     "data": {
      "text/plain": [
       "2018-03-04   -0.871614\n",
       "2018-03-05    0.801228\n",
       "2018-03-06   -0.406191\n",
       "Freq: D, Name: D, dtype: float64"
      ]
     },
     "execution_count": 18,
     "metadata": {},
     "output_type": "execute_result"
    }
   ],
   "source": [
    "df.D.head(3) # DataFrame 'D'의 데이터 가져오기(1)"
   ]
  },
  {
   "cell_type": "markdown",
   "metadata": {},
   "source": [
    "\n"
   ]
  },
  {
   "cell_type": "markdown",
   "metadata": {},
   "source": [
    "### 슬라이싱하기"
   ]
  },
  {
   "cell_type": "markdown",
   "metadata": {},
   "source": [
    "#### DataFrame 에서 `0이상~3미만` 값을 출력하기"
   ]
  },
  {
   "cell_type": "code",
   "execution_count": 19,
   "metadata": {},
   "outputs": [
    {
     "data": {
      "text/html": [
       "<div>\n",
       "<style scoped>\n",
       "    .dataframe tbody tr th:only-of-type {\n",
       "        vertical-align: middle;\n",
       "    }\n",
       "\n",
       "    .dataframe tbody tr th {\n",
       "        vertical-align: top;\n",
       "    }\n",
       "\n",
       "    .dataframe thead th {\n",
       "        text-align: right;\n",
       "    }\n",
       "</style>\n",
       "<table border=\"1\" class=\"dataframe\">\n",
       "  <thead>\n",
       "    <tr style=\"text-align: right;\">\n",
       "      <th></th>\n",
       "      <th>A</th>\n",
       "      <th>B</th>\n",
       "      <th>C</th>\n",
       "      <th>D</th>\n",
       "    </tr>\n",
       "  </thead>\n",
       "  <tbody>\n",
       "    <tr>\n",
       "      <th>2018-03-04</th>\n",
       "      <td>-0.252957</td>\n",
       "      <td>0.439122</td>\n",
       "      <td>0.385989</td>\n",
       "      <td>-0.871614</td>\n",
       "    </tr>\n",
       "    <tr>\n",
       "      <th>2018-03-05</th>\n",
       "      <td>0.326848</td>\n",
       "      <td>-0.025573</td>\n",
       "      <td>0.119267</td>\n",
       "      <td>0.801228</td>\n",
       "    </tr>\n",
       "    <tr>\n",
       "      <th>2018-03-06</th>\n",
       "      <td>0.111545</td>\n",
       "      <td>-1.212578</td>\n",
       "      <td>0.709760</td>\n",
       "      <td>-0.406191</td>\n",
       "    </tr>\n",
       "  </tbody>\n",
       "</table>\n",
       "</div>"
      ],
      "text/plain": [
       "                   A         B         C         D\n",
       "2018-03-04 -0.252957  0.439122  0.385989 -0.871614\n",
       "2018-03-05  0.326848 -0.025573  0.119267  0.801228\n",
       "2018-03-06  0.111545 -1.212578  0.709760 -0.406191"
      ]
     },
     "execution_count": 19,
     "metadata": {},
     "output_type": "execute_result"
    }
   ],
   "source": [
    "df[0:3]"
   ]
  },
  {
   "cell_type": "markdown",
   "metadata": {},
   "source": [
    "\n"
   ]
  },
  {
   "cell_type": "markdown",
   "metadata": {},
   "source": [
    "#### DataFrame 에서 `A이상 F이하`의 값을 출력하기"
   ]
  },
  {
   "cell_type": "code",
   "execution_count": 20,
   "metadata": {},
   "outputs": [
    {
     "data": {
      "text/html": [
       "<div>\n",
       "<style scoped>\n",
       "    .dataframe tbody tr th:only-of-type {\n",
       "        vertical-align: middle;\n",
       "    }\n",
       "\n",
       "    .dataframe tbody tr th {\n",
       "        vertical-align: top;\n",
       "    }\n",
       "\n",
       "    .dataframe thead th {\n",
       "        text-align: right;\n",
       "    }\n",
       "</style>\n",
       "<table border=\"1\" class=\"dataframe\">\n",
       "  <thead>\n",
       "    <tr style=\"text-align: right;\">\n",
       "      <th></th>\n",
       "      <th>A</th>\n",
       "      <th>B</th>\n",
       "      <th>C</th>\n",
       "      <th>D</th>\n",
       "    </tr>\n",
       "  </thead>\n",
       "  <tbody>\n",
       "    <tr>\n",
       "      <th>2018-03-04</th>\n",
       "      <td>-0.252957</td>\n",
       "      <td>0.439122</td>\n",
       "      <td>0.385989</td>\n",
       "      <td>-0.871614</td>\n",
       "    </tr>\n",
       "    <tr>\n",
       "      <th>2018-03-05</th>\n",
       "      <td>0.326848</td>\n",
       "      <td>-0.025573</td>\n",
       "      <td>0.119267</td>\n",
       "      <td>0.801228</td>\n",
       "    </tr>\n",
       "    <tr>\n",
       "      <th>2018-03-06</th>\n",
       "      <td>0.111545</td>\n",
       "      <td>-1.212578</td>\n",
       "      <td>0.709760</td>\n",
       "      <td>-0.406191</td>\n",
       "    </tr>\n",
       "  </tbody>\n",
       "</table>\n",
       "</div>"
      ],
      "text/plain": [
       "                   A         B         C         D\n",
       "2018-03-04 -0.252957  0.439122  0.385989 -0.871614\n",
       "2018-03-05  0.326848 -0.025573  0.119267  0.801228\n",
       "2018-03-06  0.111545 -1.212578  0.709760 -0.406191"
      ]
     },
     "execution_count": 20,
     "metadata": {},
     "output_type": "execute_result"
    }
   ],
   "source": [
    "df['2018-03-04': '2018-03-06']"
   ]
  },
  {
   "cell_type": "markdown",
   "metadata": {},
   "source": [
    "\n"
   ]
  },
  {
   "cell_type": "markdown",
   "metadata": {},
   "source": [
    "#### 위에서 선언한 변수에 0번째 index 들의 값 출력하기\n",
    "\n",
    "`dates = pd.date_range('20180304', periods=20)`\n"
   ]
  },
  {
   "cell_type": "code",
   "execution_count": 21,
   "metadata": {},
   "outputs": [
    {
     "data": {
      "text/plain": [
       "A   -0.252957\n",
       "B    0.439122\n",
       "C    0.385989\n",
       "D   -0.871614\n",
       "Name: 2018-03-04 00:00:00, dtype: float64"
      ]
     },
     "execution_count": 21,
     "metadata": {},
     "output_type": "execute_result"
    }
   ],
   "source": [
    "df.loc[dates[0]]"
   ]
  },
  {
   "cell_type": "code",
   "execution_count": 22,
   "metadata": {},
   "outputs": [
    {
     "data": {
      "text/html": [
       "<div>\n",
       "<style scoped>\n",
       "    .dataframe tbody tr th:only-of-type {\n",
       "        vertical-align: middle;\n",
       "    }\n",
       "\n",
       "    .dataframe tbody tr th {\n",
       "        vertical-align: top;\n",
       "    }\n",
       "\n",
       "    .dataframe thead th {\n",
       "        text-align: right;\n",
       "    }\n",
       "</style>\n",
       "<table border=\"1\" class=\"dataframe\">\n",
       "  <thead>\n",
       "    <tr style=\"text-align: right;\">\n",
       "      <th></th>\n",
       "      <th>A</th>\n",
       "      <th>D</th>\n",
       "    </tr>\n",
       "  </thead>\n",
       "  <tbody>\n",
       "    <tr>\n",
       "      <th>2018-03-04</th>\n",
       "      <td>-0.252957</td>\n",
       "      <td>-0.871614</td>\n",
       "    </tr>\n",
       "    <tr>\n",
       "      <th>2018-03-05</th>\n",
       "      <td>0.326848</td>\n",
       "      <td>0.801228</td>\n",
       "    </tr>\n",
       "    <tr>\n",
       "      <th>2018-03-06</th>\n",
       "      <td>0.111545</td>\n",
       "      <td>-0.406191</td>\n",
       "    </tr>\n",
       "    <tr>\n",
       "      <th>2018-03-07</th>\n",
       "      <td>0.587586</td>\n",
       "      <td>0.047066</td>\n",
       "    </tr>\n",
       "    <tr>\n",
       "      <th>2018-03-08</th>\n",
       "      <td>-1.770163</td>\n",
       "      <td>-0.577235</td>\n",
       "    </tr>\n",
       "  </tbody>\n",
       "</table>\n",
       "</div>"
      ],
      "text/plain": [
       "                   A         D\n",
       "2018-03-04 -0.252957 -0.871614\n",
       "2018-03-05  0.326848  0.801228\n",
       "2018-03-06  0.111545 -0.406191\n",
       "2018-03-07  0.587586  0.047066\n",
       "2018-03-08 -1.770163 -0.577235"
      ]
     },
     "execution_count": 22,
     "metadata": {},
     "output_type": "execute_result"
    }
   ],
   "source": [
    "df.loc[:, ['A', 'D']].head() # 특정 index 의 값을 찾기"
   ]
  },
  {
   "cell_type": "code",
   "execution_count": 23,
   "metadata": {},
   "outputs": [
    {
     "data": {
      "text/html": [
       "<div>\n",
       "<style scoped>\n",
       "    .dataframe tbody tr th:only-of-type {\n",
       "        vertical-align: middle;\n",
       "    }\n",
       "\n",
       "    .dataframe tbody tr th {\n",
       "        vertical-align: top;\n",
       "    }\n",
       "\n",
       "    .dataframe thead th {\n",
       "        text-align: right;\n",
       "    }\n",
       "</style>\n",
       "<table border=\"1\" class=\"dataframe\">\n",
       "  <thead>\n",
       "    <tr style=\"text-align: right;\">\n",
       "      <th></th>\n",
       "      <th>A</th>\n",
       "      <th>C</th>\n",
       "    </tr>\n",
       "  </thead>\n",
       "  <tbody>\n",
       "    <tr>\n",
       "      <th>2018-03-11</th>\n",
       "      <td>-0.619015</td>\n",
       "      <td>-0.183903</td>\n",
       "    </tr>\n",
       "    <tr>\n",
       "      <th>2018-03-12</th>\n",
       "      <td>0.113459</td>\n",
       "      <td>2.535563</td>\n",
       "    </tr>\n",
       "    <tr>\n",
       "      <th>2018-03-13</th>\n",
       "      <td>0.414876</td>\n",
       "      <td>-0.915241</td>\n",
       "    </tr>\n",
       "    <tr>\n",
       "      <th>2018-03-14</th>\n",
       "      <td>-0.321636</td>\n",
       "      <td>1.680028</td>\n",
       "    </tr>\n",
       "    <tr>\n",
       "      <th>2018-03-15</th>\n",
       "      <td>-0.847386</td>\n",
       "      <td>-0.090823</td>\n",
       "    </tr>\n",
       "    <tr>\n",
       "      <th>2018-03-16</th>\n",
       "      <td>-1.277966</td>\n",
       "      <td>-0.422134</td>\n",
       "    </tr>\n",
       "  </tbody>\n",
       "</table>\n",
       "</div>"
      ],
      "text/plain": [
       "                   A         C\n",
       "2018-03-11 -0.619015 -0.183903\n",
       "2018-03-12  0.113459  2.535563\n",
       "2018-03-13  0.414876 -0.915241\n",
       "2018-03-14 -0.321636  1.680028\n",
       "2018-03-15 -0.847386 -0.090823\n",
       "2018-03-16 -1.277966 -0.422134"
      ]
     },
     "execution_count": 23,
     "metadata": {},
     "output_type": "execute_result"
    }
   ],
   "source": [
    "df.loc['20180311': '20180316', ['A', 'C']]"
   ]
  },
  {
   "cell_type": "code",
   "execution_count": 24,
   "metadata": {},
   "outputs": [
    {
     "data": {
      "text/plain": [
       "A   -0.619015\n",
       "C   -0.183903\n",
       "Name: 2018-03-11 00:00:00, dtype: float64"
      ]
     },
     "execution_count": 24,
     "metadata": {},
     "output_type": "execute_result"
    }
   ],
   "source": [
    "# 1개의 행만 지정했기 때문에 Series 로 출력\n",
    "df.loc['20180311', ['A', 'C']]"
   ]
  },
  {
   "cell_type": "code",
   "execution_count": 25,
   "metadata": {},
   "outputs": [
    {
     "data": {
      "text/plain": [
       "2018-03-11   -0.619015\n",
       "2018-03-12    0.113459\n",
       "2018-03-13    0.414876\n",
       "2018-03-14   -0.321636\n",
       "2018-03-15   -0.847386\n",
       "2018-03-16   -1.277966\n",
       "2018-03-17   -0.415275\n",
       "2018-03-18    1.010141\n",
       "2018-03-19    0.188207\n",
       "Freq: D, Name: A, dtype: float64"
      ]
     },
     "execution_count": 25,
     "metadata": {},
     "output_type": "execute_result"
    }
   ],
   "source": [
    "# 행이던 열이던 한줄의 데이터 범위를 선택하면 Series 이다.\n",
    "df.loc['20180311':'20180319', 'A']"
   ]
  },
  {
   "cell_type": "markdown",
   "metadata": {},
   "source": [
    "### 세번째 행을 Selection 하기"
   ]
  },
  {
   "cell_type": "code",
   "execution_count": 26,
   "metadata": {},
   "outputs": [
    {
     "data": {
      "text/html": [
       "<div>\n",
       "<style scoped>\n",
       "    .dataframe tbody tr th:only-of-type {\n",
       "        vertical-align: middle;\n",
       "    }\n",
       "\n",
       "    .dataframe tbody tr th {\n",
       "        vertical-align: top;\n",
       "    }\n",
       "\n",
       "    .dataframe thead th {\n",
       "        text-align: right;\n",
       "    }\n",
       "</style>\n",
       "<table border=\"1\" class=\"dataframe\">\n",
       "  <thead>\n",
       "    <tr style=\"text-align: right;\">\n",
       "      <th></th>\n",
       "      <th>A</th>\n",
       "      <th>B</th>\n",
       "      <th>C</th>\n",
       "      <th>D</th>\n",
       "    </tr>\n",
       "  </thead>\n",
       "  <tbody>\n",
       "    <tr>\n",
       "      <th>2018-03-04</th>\n",
       "      <td>-0.252957</td>\n",
       "      <td>0.439122</td>\n",
       "      <td>0.385989</td>\n",
       "      <td>-0.871614</td>\n",
       "    </tr>\n",
       "    <tr>\n",
       "      <th>2018-03-05</th>\n",
       "      <td>0.326848</td>\n",
       "      <td>-0.025573</td>\n",
       "      <td>0.119267</td>\n",
       "      <td>0.801228</td>\n",
       "    </tr>\n",
       "    <tr>\n",
       "      <th>2018-03-06</th>\n",
       "      <td>0.111545</td>\n",
       "      <td>-1.212578</td>\n",
       "      <td>0.709760</td>\n",
       "      <td>-0.406191</td>\n",
       "    </tr>\n",
       "    <tr>\n",
       "      <th>2018-03-07</th>\n",
       "      <td>0.587586</td>\n",
       "      <td>0.611694</td>\n",
       "      <td>-0.949295</td>\n",
       "      <td>0.047066</td>\n",
       "    </tr>\n",
       "    <tr>\n",
       "      <th>2018-03-08</th>\n",
       "      <td>-1.770163</td>\n",
       "      <td>0.558087</td>\n",
       "      <td>-0.979803</td>\n",
       "      <td>-0.577235</td>\n",
       "    </tr>\n",
       "  </tbody>\n",
       "</table>\n",
       "</div>"
      ],
      "text/plain": [
       "                   A         B         C         D\n",
       "2018-03-04 -0.252957  0.439122  0.385989 -0.871614\n",
       "2018-03-05  0.326848 -0.025573  0.119267  0.801228\n",
       "2018-03-06  0.111545 -1.212578  0.709760 -0.406191\n",
       "2018-03-07  0.587586  0.611694 -0.949295  0.047066\n",
       "2018-03-08 -1.770163  0.558087 -0.979803 -0.577235"
      ]
     },
     "execution_count": 26,
     "metadata": {},
     "output_type": "execute_result"
    }
   ],
   "source": [
    "df.head()"
   ]
  },
  {
   "cell_type": "code",
   "execution_count": 27,
   "metadata": {},
   "outputs": [
    {
     "data": {
      "text/plain": [
       "A    0.587586\n",
       "B    0.611694\n",
       "C   -0.949295\n",
       "D    0.047066\n",
       "Name: 2018-03-07 00:00:00, dtype: float64"
      ]
     },
     "execution_count": 27,
     "metadata": {},
     "output_type": "execute_result"
    }
   ],
   "source": [
    "df.iloc[3] # index 3번째의 행 값을 출력"
   ]
  },
  {
   "cell_type": "code",
   "execution_count": 28,
   "metadata": {},
   "outputs": [
    {
     "data": {
      "text/html": [
       "<div>\n",
       "<style scoped>\n",
       "    .dataframe tbody tr th:only-of-type {\n",
       "        vertical-align: middle;\n",
       "    }\n",
       "\n",
       "    .dataframe tbody tr th {\n",
       "        vertical-align: top;\n",
       "    }\n",
       "\n",
       "    .dataframe thead th {\n",
       "        text-align: right;\n",
       "    }\n",
       "</style>\n",
       "<table border=\"1\" class=\"dataframe\">\n",
       "  <thead>\n",
       "    <tr style=\"text-align: right;\">\n",
       "      <th></th>\n",
       "      <th>A</th>\n",
       "      <th>B</th>\n",
       "    </tr>\n",
       "  </thead>\n",
       "  <tbody>\n",
       "    <tr>\n",
       "      <th>2018-03-07</th>\n",
       "      <td>0.587586</td>\n",
       "      <td>0.611694</td>\n",
       "    </tr>\n",
       "    <tr>\n",
       "      <th>2018-03-08</th>\n",
       "      <td>-1.770163</td>\n",
       "      <td>0.558087</td>\n",
       "    </tr>\n",
       "  </tbody>\n",
       "</table>\n",
       "</div>"
      ],
      "text/plain": [
       "                   A         B\n",
       "2018-03-07  0.587586  0.611694\n",
       "2018-03-08 -1.770163  0.558087"
      ]
     },
     "execution_count": 28,
     "metadata": {},
     "output_type": "execute_result"
    }
   ],
   "source": [
    "df.iloc[3:5, 0:2] # 3월 7일부터 3월 8일 // AA, BB 인덱스의 값 출력"
   ]
  },
  {
   "cell_type": "code",
   "execution_count": 29,
   "metadata": {},
   "outputs": [
    {
     "data": {
      "text/html": [
       "<div>\n",
       "<style scoped>\n",
       "    .dataframe tbody tr th:only-of-type {\n",
       "        vertical-align: middle;\n",
       "    }\n",
       "\n",
       "    .dataframe tbody tr th {\n",
       "        vertical-align: top;\n",
       "    }\n",
       "\n",
       "    .dataframe thead th {\n",
       "        text-align: right;\n",
       "    }\n",
       "</style>\n",
       "<table border=\"1\" class=\"dataframe\">\n",
       "  <thead>\n",
       "    <tr style=\"text-align: right;\">\n",
       "      <th></th>\n",
       "      <th>A</th>\n",
       "      <th>C</th>\n",
       "    </tr>\n",
       "  </thead>\n",
       "  <tbody>\n",
       "    <tr>\n",
       "      <th>2018-03-05</th>\n",
       "      <td>0.326848</td>\n",
       "      <td>0.119267</td>\n",
       "    </tr>\n",
       "    <tr>\n",
       "      <th>2018-03-06</th>\n",
       "      <td>0.111545</td>\n",
       "      <td>0.709760</td>\n",
       "    </tr>\n",
       "    <tr>\n",
       "      <th>2018-03-08</th>\n",
       "      <td>-1.770163</td>\n",
       "      <td>-0.979803</td>\n",
       "    </tr>\n",
       "  </tbody>\n",
       "</table>\n",
       "</div>"
      ],
      "text/plain": [
       "                   A         C\n",
       "2018-03-05  0.326848  0.119267\n",
       "2018-03-06  0.111545  0.709760\n",
       "2018-03-08 -1.770163 -0.979803"
      ]
     },
     "execution_count": 29,
     "metadata": {},
     "output_type": "execute_result"
    }
   ],
   "source": [
    "df.iloc[[1, 2, 4], [0,2]]"
   ]
  },
  {
   "cell_type": "markdown",
   "metadata": {},
   "source": [
    "\n"
   ]
  },
  {
   "cell_type": "markdown",
   "metadata": {},
   "source": [
    "### *명시적으로 모든 행을 출력한다고 해줄 때는 범위가 없더라도 : 를 넣어준다"
   ]
  },
  {
   "cell_type": "code",
   "execution_count": 30,
   "metadata": {},
   "outputs": [
    {
     "data": {
      "text/html": [
       "<div>\n",
       "<style scoped>\n",
       "    .dataframe tbody tr th:only-of-type {\n",
       "        vertical-align: middle;\n",
       "    }\n",
       "\n",
       "    .dataframe tbody tr th {\n",
       "        vertical-align: top;\n",
       "    }\n",
       "\n",
       "    .dataframe thead th {\n",
       "        text-align: right;\n",
       "    }\n",
       "</style>\n",
       "<table border=\"1\" class=\"dataframe\">\n",
       "  <thead>\n",
       "    <tr style=\"text-align: right;\">\n",
       "      <th></th>\n",
       "      <th>A</th>\n",
       "      <th>B</th>\n",
       "      <th>C</th>\n",
       "      <th>D</th>\n",
       "    </tr>\n",
       "  </thead>\n",
       "  <tbody>\n",
       "    <tr>\n",
       "      <th>2018-03-05</th>\n",
       "      <td>0.326848</td>\n",
       "      <td>-0.025573</td>\n",
       "      <td>0.119267</td>\n",
       "      <td>0.801228</td>\n",
       "    </tr>\n",
       "    <tr>\n",
       "      <th>2018-03-07</th>\n",
       "      <td>0.587586</td>\n",
       "      <td>0.611694</td>\n",
       "      <td>-0.949295</td>\n",
       "      <td>0.047066</td>\n",
       "    </tr>\n",
       "  </tbody>\n",
       "</table>\n",
       "</div>"
      ],
      "text/plain": [
       "                   A         B         C         D\n",
       "2018-03-05  0.326848 -0.025573  0.119267  0.801228\n",
       "2018-03-07  0.587586  0.611694 -0.949295  0.047066"
      ]
     },
     "execution_count": 30,
     "metadata": {},
     "output_type": "execute_result"
    }
   ],
   "source": [
    "df.iloc[[1, 3], :]"
   ]
  },
  {
   "cell_type": "markdown",
   "metadata": {},
   "source": [
    "\n"
   ]
  },
  {
   "cell_type": "markdown",
   "metadata": {},
   "source": [
    "\n"
   ]
  },
  {
   "cell_type": "markdown",
   "metadata": {},
   "source": [
    "### Boolean Indexing"
   ]
  },
  {
   "cell_type": "markdown",
   "metadata": {},
   "source": [
    "DataFrame 에서 0 이상의 값을 찾아보기"
   ]
  },
  {
   "cell_type": "code",
   "execution_count": 31,
   "metadata": {},
   "outputs": [
    {
     "data": {
      "text/plain": [
       "2018-03-04    False\n",
       "2018-03-05     True\n",
       "2018-03-06     True\n",
       "2018-03-07     True\n",
       "2018-03-08    False\n",
       "2018-03-09    False\n",
       "2018-03-10     True\n",
       "2018-03-11    False\n",
       "2018-03-12     True\n",
       "2018-03-13     True\n",
       "2018-03-14    False\n",
       "2018-03-15    False\n",
       "2018-03-16    False\n",
       "2018-03-17    False\n",
       "2018-03-18     True\n",
       "2018-03-19     True\n",
       "2018-03-20     True\n",
       "2018-03-21    False\n",
       "2018-03-22     True\n",
       "2018-03-23     True\n",
       "Freq: D, Name: A, dtype: bool"
      ]
     },
     "execution_count": 31,
     "metadata": {},
     "output_type": "execute_result"
    }
   ],
   "source": [
    "df['A'] > 0"
   ]
  },
  {
   "cell_type": "markdown",
   "metadata": {},
   "source": [
    "\n"
   ]
  },
  {
   "cell_type": "markdown",
   "metadata": {},
   "source": [
    "### AA 인덱스에서 True 값만 가져오기"
   ]
  },
  {
   "cell_type": "code",
   "execution_count": 32,
   "metadata": {},
   "outputs": [
    {
     "data": {
      "text/html": [
       "<div>\n",
       "<style scoped>\n",
       "    .dataframe tbody tr th:only-of-type {\n",
       "        vertical-align: middle;\n",
       "    }\n",
       "\n",
       "    .dataframe tbody tr th {\n",
       "        vertical-align: top;\n",
       "    }\n",
       "\n",
       "    .dataframe thead th {\n",
       "        text-align: right;\n",
       "    }\n",
       "</style>\n",
       "<table border=\"1\" class=\"dataframe\">\n",
       "  <thead>\n",
       "    <tr style=\"text-align: right;\">\n",
       "      <th></th>\n",
       "      <th>A</th>\n",
       "      <th>B</th>\n",
       "      <th>C</th>\n",
       "      <th>D</th>\n",
       "    </tr>\n",
       "  </thead>\n",
       "  <tbody>\n",
       "    <tr>\n",
       "      <th>2018-03-05</th>\n",
       "      <td>0.326848</td>\n",
       "      <td>-0.025573</td>\n",
       "      <td>0.119267</td>\n",
       "      <td>0.801228</td>\n",
       "    </tr>\n",
       "    <tr>\n",
       "      <th>2018-03-06</th>\n",
       "      <td>0.111545</td>\n",
       "      <td>-1.212578</td>\n",
       "      <td>0.709760</td>\n",
       "      <td>-0.406191</td>\n",
       "    </tr>\n",
       "    <tr>\n",
       "      <th>2018-03-07</th>\n",
       "      <td>0.587586</td>\n",
       "      <td>0.611694</td>\n",
       "      <td>-0.949295</td>\n",
       "      <td>0.047066</td>\n",
       "    </tr>\n",
       "    <tr>\n",
       "      <th>2018-03-10</th>\n",
       "      <td>0.270744</td>\n",
       "      <td>-0.226251</td>\n",
       "      <td>-0.270154</td>\n",
       "      <td>0.791146</td>\n",
       "    </tr>\n",
       "    <tr>\n",
       "      <th>2018-03-12</th>\n",
       "      <td>0.113459</td>\n",
       "      <td>-0.439769</td>\n",
       "      <td>2.535563</td>\n",
       "      <td>0.009409</td>\n",
       "    </tr>\n",
       "    <tr>\n",
       "      <th>2018-03-13</th>\n",
       "      <td>0.414876</td>\n",
       "      <td>1.934884</td>\n",
       "      <td>-0.915241</td>\n",
       "      <td>0.159570</td>\n",
       "    </tr>\n",
       "    <tr>\n",
       "      <th>2018-03-18</th>\n",
       "      <td>1.010141</td>\n",
       "      <td>0.246550</td>\n",
       "      <td>-2.410551</td>\n",
       "      <td>-1.003263</td>\n",
       "    </tr>\n",
       "    <tr>\n",
       "      <th>2018-03-19</th>\n",
       "      <td>0.188207</td>\n",
       "      <td>-0.329698</td>\n",
       "      <td>0.482883</td>\n",
       "      <td>1.870247</td>\n",
       "    </tr>\n",
       "    <tr>\n",
       "      <th>2018-03-20</th>\n",
       "      <td>0.638815</td>\n",
       "      <td>0.986284</td>\n",
       "      <td>0.404751</td>\n",
       "      <td>0.469043</td>\n",
       "    </tr>\n",
       "    <tr>\n",
       "      <th>2018-03-22</th>\n",
       "      <td>0.233262</td>\n",
       "      <td>-0.424058</td>\n",
       "      <td>0.843400</td>\n",
       "      <td>-0.602422</td>\n",
       "    </tr>\n",
       "    <tr>\n",
       "      <th>2018-03-23</th>\n",
       "      <td>1.823522</td>\n",
       "      <td>0.237128</td>\n",
       "      <td>1.065618</td>\n",
       "      <td>0.262770</td>\n",
       "    </tr>\n",
       "  </tbody>\n",
       "</table>\n",
       "</div>"
      ],
      "text/plain": [
       "                   A         B         C         D\n",
       "2018-03-05  0.326848 -0.025573  0.119267  0.801228\n",
       "2018-03-06  0.111545 -1.212578  0.709760 -0.406191\n",
       "2018-03-07  0.587586  0.611694 -0.949295  0.047066\n",
       "2018-03-10  0.270744 -0.226251 -0.270154  0.791146\n",
       "2018-03-12  0.113459 -0.439769  2.535563  0.009409\n",
       "2018-03-13  0.414876  1.934884 -0.915241  0.159570\n",
       "2018-03-18  1.010141  0.246550 -2.410551 -1.003263\n",
       "2018-03-19  0.188207 -0.329698  0.482883  1.870247\n",
       "2018-03-20  0.638815  0.986284  0.404751  0.469043\n",
       "2018-03-22  0.233262 -0.424058  0.843400 -0.602422\n",
       "2018-03-23  1.823522  0.237128  1.065618  0.262770"
      ]
     },
     "execution_count": 32,
     "metadata": {},
     "output_type": "execute_result"
    }
   ],
   "source": [
    "mask = df['A'] > 0\n",
    "df[mask]"
   ]
  },
  {
   "cell_type": "markdown",
   "metadata": {},
   "source": [
    "\n"
   ]
  },
  {
   "cell_type": "markdown",
   "metadata": {},
   "source": [
    "### df2 로 복사하여 새로운 튜토리얼을 진행"
   ]
  },
  {
   "cell_type": "code",
   "execution_count": 33,
   "metadata": {},
   "outputs": [],
   "source": [
    "df2 = df.copy()"
   ]
  },
  {
   "cell_type": "code",
   "execution_count": 34,
   "metadata": {},
   "outputs": [
    {
     "data": {
      "text/html": [
       "<div>\n",
       "<style scoped>\n",
       "    .dataframe tbody tr th:only-of-type {\n",
       "        vertical-align: middle;\n",
       "    }\n",
       "\n",
       "    .dataframe tbody tr th {\n",
       "        vertical-align: top;\n",
       "    }\n",
       "\n",
       "    .dataframe thead th {\n",
       "        text-align: right;\n",
       "    }\n",
       "</style>\n",
       "<table border=\"1\" class=\"dataframe\">\n",
       "  <thead>\n",
       "    <tr style=\"text-align: right;\">\n",
       "      <th></th>\n",
       "      <th>A</th>\n",
       "      <th>B</th>\n",
       "      <th>C</th>\n",
       "      <th>D</th>\n",
       "      <th>E</th>\n",
       "    </tr>\n",
       "  </thead>\n",
       "  <tbody>\n",
       "    <tr>\n",
       "      <th>2018-03-04</th>\n",
       "      <td>-0.252957</td>\n",
       "      <td>0.439122</td>\n",
       "      <td>0.385989</td>\n",
       "      <td>-0.871614</td>\n",
       "      <td>one</td>\n",
       "    </tr>\n",
       "    <tr>\n",
       "      <th>2018-03-05</th>\n",
       "      <td>0.326848</td>\n",
       "      <td>-0.025573</td>\n",
       "      <td>0.119267</td>\n",
       "      <td>0.801228</td>\n",
       "      <td>two</td>\n",
       "    </tr>\n",
       "    <tr>\n",
       "      <th>2018-03-06</th>\n",
       "      <td>0.111545</td>\n",
       "      <td>-1.212578</td>\n",
       "      <td>0.709760</td>\n",
       "      <td>-0.406191</td>\n",
       "      <td>three</td>\n",
       "    </tr>\n",
       "    <tr>\n",
       "      <th>2018-03-07</th>\n",
       "      <td>0.587586</td>\n",
       "      <td>0.611694</td>\n",
       "      <td>-0.949295</td>\n",
       "      <td>0.047066</td>\n",
       "      <td>four</td>\n",
       "    </tr>\n",
       "    <tr>\n",
       "      <th>2018-03-08</th>\n",
       "      <td>-1.770163</td>\n",
       "      <td>0.558087</td>\n",
       "      <td>-0.979803</td>\n",
       "      <td>-0.577235</td>\n",
       "      <td>five</td>\n",
       "    </tr>\n",
       "  </tbody>\n",
       "</table>\n",
       "</div>"
      ],
      "text/plain": [
       "                   A         B         C         D      E\n",
       "2018-03-04 -0.252957  0.439122  0.385989 -0.871614    one\n",
       "2018-03-05  0.326848 -0.025573  0.119267  0.801228    two\n",
       "2018-03-06  0.111545 -1.212578  0.709760 -0.406191  three\n",
       "2018-03-07  0.587586  0.611694 -0.949295  0.047066   four\n",
       "2018-03-08 -1.770163  0.558087 -0.979803 -0.577235   five"
      ]
     },
     "execution_count": 34,
     "metadata": {},
     "output_type": "execute_result"
    }
   ],
   "source": [
    "df2['E'] = [\n",
    "    'one', 'two', 'three', 'four', 'five',\n",
    "    'one', 'two', 'three', 'four', 'five',\n",
    "    'one', 'two', 'three', 'four', 'five',\n",
    "    'one', 'two', 'three', 'four', 'five',\n",
    "]\n",
    "df2.head()"
   ]
  },
  {
   "cell_type": "markdown",
   "metadata": {},
   "source": [
    "\n"
   ]
  },
  {
   "cell_type": "markdown",
   "metadata": {},
   "source": [
    "### 'one', 'two' 에 해당하는 값만 가져오기"
   ]
  },
  {
   "cell_type": "code",
   "execution_count": 35,
   "metadata": {},
   "outputs": [
    {
     "data": {
      "text/html": [
       "<div>\n",
       "<style scoped>\n",
       "    .dataframe tbody tr th:only-of-type {\n",
       "        vertical-align: middle;\n",
       "    }\n",
       "\n",
       "    .dataframe tbody tr th {\n",
       "        vertical-align: top;\n",
       "    }\n",
       "\n",
       "    .dataframe thead th {\n",
       "        text-align: right;\n",
       "    }\n",
       "</style>\n",
       "<table border=\"1\" class=\"dataframe\">\n",
       "  <thead>\n",
       "    <tr style=\"text-align: right;\">\n",
       "      <th></th>\n",
       "      <th>A</th>\n",
       "      <th>B</th>\n",
       "      <th>C</th>\n",
       "      <th>D</th>\n",
       "    </tr>\n",
       "  </thead>\n",
       "  <tbody>\n",
       "    <tr>\n",
       "      <th>2018-03-04</th>\n",
       "      <td>-0.252957</td>\n",
       "      <td>0.439122</td>\n",
       "      <td>0.385989</td>\n",
       "      <td>-0.871614</td>\n",
       "    </tr>\n",
       "    <tr>\n",
       "      <th>2018-03-05</th>\n",
       "      <td>0.326848</td>\n",
       "      <td>-0.025573</td>\n",
       "      <td>0.119267</td>\n",
       "      <td>0.801228</td>\n",
       "    </tr>\n",
       "    <tr>\n",
       "      <th>2018-03-09</th>\n",
       "      <td>-0.176269</td>\n",
       "      <td>0.827106</td>\n",
       "      <td>1.047592</td>\n",
       "      <td>-0.245867</td>\n",
       "    </tr>\n",
       "    <tr>\n",
       "      <th>2018-03-10</th>\n",
       "      <td>0.270744</td>\n",
       "      <td>-0.226251</td>\n",
       "      <td>-0.270154</td>\n",
       "      <td>0.791146</td>\n",
       "    </tr>\n",
       "    <tr>\n",
       "      <th>2018-03-14</th>\n",
       "      <td>-0.321636</td>\n",
       "      <td>1.849691</td>\n",
       "      <td>1.680028</td>\n",
       "      <td>-0.786624</td>\n",
       "    </tr>\n",
       "    <tr>\n",
       "      <th>2018-03-15</th>\n",
       "      <td>-0.847386</td>\n",
       "      <td>1.643273</td>\n",
       "      <td>-0.090823</td>\n",
       "      <td>0.515760</td>\n",
       "    </tr>\n",
       "    <tr>\n",
       "      <th>2018-03-19</th>\n",
       "      <td>0.188207</td>\n",
       "      <td>-0.329698</td>\n",
       "      <td>0.482883</td>\n",
       "      <td>1.870247</td>\n",
       "    </tr>\n",
       "    <tr>\n",
       "      <th>2018-03-20</th>\n",
       "      <td>0.638815</td>\n",
       "      <td>0.986284</td>\n",
       "      <td>0.404751</td>\n",
       "      <td>0.469043</td>\n",
       "    </tr>\n",
       "  </tbody>\n",
       "</table>\n",
       "</div>"
      ],
      "text/plain": [
       "                   A         B         C         D\n",
       "2018-03-04 -0.252957  0.439122  0.385989 -0.871614\n",
       "2018-03-05  0.326848 -0.025573  0.119267  0.801228\n",
       "2018-03-09 -0.176269  0.827106  1.047592 -0.245867\n",
       "2018-03-10  0.270744 -0.226251 -0.270154  0.791146\n",
       "2018-03-14 -0.321636  1.849691  1.680028 -0.786624\n",
       "2018-03-15 -0.847386  1.643273 -0.090823  0.515760\n",
       "2018-03-19  0.188207 -0.329698  0.482883  1.870247\n",
       "2018-03-20  0.638815  0.986284  0.404751  0.469043"
      ]
     },
     "execution_count": 35,
     "metadata": {},
     "output_type": "execute_result"
    }
   ],
   "source": [
    "mask = df2.E.isin(['one', 'two'])\n",
    "df[mask]"
   ]
  },
  {
   "cell_type": "markdown",
   "metadata": {},
   "source": [
    "\n"
   ]
  },
  {
   "cell_type": "markdown",
   "metadata": {},
   "source": [
    "### 새로운 Series 를 정의하기"
   ]
  },
  {
   "cell_type": "code",
   "execution_count": 36,
   "metadata": {},
   "outputs": [],
   "source": [
    "s1 = pd.Series(range(1, 21),\n",
    "               index=pd.date_range(\n",
    "                   '20180305', periods=20)\n",
    "              ) # 의도적으로 3월 5일부터 작성\n",
    "df['F'] = s1"
   ]
  },
  {
   "cell_type": "code",
   "execution_count": 37,
   "metadata": {},
   "outputs": [
    {
     "data": {
      "text/html": [
       "<div>\n",
       "<style scoped>\n",
       "    .dataframe tbody tr th:only-of-type {\n",
       "        vertical-align: middle;\n",
       "    }\n",
       "\n",
       "    .dataframe tbody tr th {\n",
       "        vertical-align: top;\n",
       "    }\n",
       "\n",
       "    .dataframe thead th {\n",
       "        text-align: right;\n",
       "    }\n",
       "</style>\n",
       "<table border=\"1\" class=\"dataframe\">\n",
       "  <thead>\n",
       "    <tr style=\"text-align: right;\">\n",
       "      <th></th>\n",
       "      <th>A</th>\n",
       "      <th>B</th>\n",
       "      <th>C</th>\n",
       "      <th>D</th>\n",
       "      <th>F</th>\n",
       "    </tr>\n",
       "  </thead>\n",
       "  <tbody>\n",
       "    <tr>\n",
       "      <th>2018-03-04</th>\n",
       "      <td>-0.252957</td>\n",
       "      <td>0.439122</td>\n",
       "      <td>0.385989</td>\n",
       "      <td>-0.871614</td>\n",
       "      <td>NaN</td>\n",
       "    </tr>\n",
       "    <tr>\n",
       "      <th>2018-03-05</th>\n",
       "      <td>0.326848</td>\n",
       "      <td>-0.025573</td>\n",
       "      <td>0.119267</td>\n",
       "      <td>0.801228</td>\n",
       "      <td>1.0</td>\n",
       "    </tr>\n",
       "    <tr>\n",
       "      <th>2018-03-06</th>\n",
       "      <td>0.111545</td>\n",
       "      <td>-1.212578</td>\n",
       "      <td>0.709760</td>\n",
       "      <td>-0.406191</td>\n",
       "      <td>2.0</td>\n",
       "    </tr>\n",
       "    <tr>\n",
       "      <th>2018-03-07</th>\n",
       "      <td>0.587586</td>\n",
       "      <td>0.611694</td>\n",
       "      <td>-0.949295</td>\n",
       "      <td>0.047066</td>\n",
       "      <td>3.0</td>\n",
       "    </tr>\n",
       "    <tr>\n",
       "      <th>2018-03-08</th>\n",
       "      <td>-1.770163</td>\n",
       "      <td>0.558087</td>\n",
       "      <td>-0.979803</td>\n",
       "      <td>-0.577235</td>\n",
       "      <td>4.0</td>\n",
       "    </tr>\n",
       "    <tr>\n",
       "      <th>2018-03-09</th>\n",
       "      <td>-0.176269</td>\n",
       "      <td>0.827106</td>\n",
       "      <td>1.047592</td>\n",
       "      <td>-0.245867</td>\n",
       "      <td>5.0</td>\n",
       "    </tr>\n",
       "    <tr>\n",
       "      <th>2018-03-10</th>\n",
       "      <td>0.270744</td>\n",
       "      <td>-0.226251</td>\n",
       "      <td>-0.270154</td>\n",
       "      <td>0.791146</td>\n",
       "      <td>6.0</td>\n",
       "    </tr>\n",
       "    <tr>\n",
       "      <th>2018-03-11</th>\n",
       "      <td>-0.619015</td>\n",
       "      <td>0.748065</td>\n",
       "      <td>-0.183903</td>\n",
       "      <td>0.679426</td>\n",
       "      <td>7.0</td>\n",
       "    </tr>\n",
       "    <tr>\n",
       "      <th>2018-03-12</th>\n",
       "      <td>0.113459</td>\n",
       "      <td>-0.439769</td>\n",
       "      <td>2.535563</td>\n",
       "      <td>0.009409</td>\n",
       "      <td>8.0</td>\n",
       "    </tr>\n",
       "    <tr>\n",
       "      <th>2018-03-13</th>\n",
       "      <td>0.414876</td>\n",
       "      <td>1.934884</td>\n",
       "      <td>-0.915241</td>\n",
       "      <td>0.159570</td>\n",
       "      <td>9.0</td>\n",
       "    </tr>\n",
       "    <tr>\n",
       "      <th>2018-03-14</th>\n",
       "      <td>-0.321636</td>\n",
       "      <td>1.849691</td>\n",
       "      <td>1.680028</td>\n",
       "      <td>-0.786624</td>\n",
       "      <td>10.0</td>\n",
       "    </tr>\n",
       "    <tr>\n",
       "      <th>2018-03-15</th>\n",
       "      <td>-0.847386</td>\n",
       "      <td>1.643273</td>\n",
       "      <td>-0.090823</td>\n",
       "      <td>0.515760</td>\n",
       "      <td>11.0</td>\n",
       "    </tr>\n",
       "    <tr>\n",
       "      <th>2018-03-16</th>\n",
       "      <td>-1.277966</td>\n",
       "      <td>-0.724695</td>\n",
       "      <td>-0.422134</td>\n",
       "      <td>1.303832</td>\n",
       "      <td>12.0</td>\n",
       "    </tr>\n",
       "    <tr>\n",
       "      <th>2018-03-17</th>\n",
       "      <td>-0.415275</td>\n",
       "      <td>-0.977803</td>\n",
       "      <td>1.039589</td>\n",
       "      <td>0.169296</td>\n",
       "      <td>13.0</td>\n",
       "    </tr>\n",
       "    <tr>\n",
       "      <th>2018-03-18</th>\n",
       "      <td>1.010141</td>\n",
       "      <td>0.246550</td>\n",
       "      <td>-2.410551</td>\n",
       "      <td>-1.003263</td>\n",
       "      <td>14.0</td>\n",
       "    </tr>\n",
       "    <tr>\n",
       "      <th>2018-03-19</th>\n",
       "      <td>0.188207</td>\n",
       "      <td>-0.329698</td>\n",
       "      <td>0.482883</td>\n",
       "      <td>1.870247</td>\n",
       "      <td>15.0</td>\n",
       "    </tr>\n",
       "    <tr>\n",
       "      <th>2018-03-20</th>\n",
       "      <td>0.638815</td>\n",
       "      <td>0.986284</td>\n",
       "      <td>0.404751</td>\n",
       "      <td>0.469043</td>\n",
       "      <td>16.0</td>\n",
       "    </tr>\n",
       "    <tr>\n",
       "      <th>2018-03-21</th>\n",
       "      <td>-2.047036</td>\n",
       "      <td>-0.139238</td>\n",
       "      <td>-0.515078</td>\n",
       "      <td>0.630075</td>\n",
       "      <td>17.0</td>\n",
       "    </tr>\n",
       "    <tr>\n",
       "      <th>2018-03-22</th>\n",
       "      <td>0.233262</td>\n",
       "      <td>-0.424058</td>\n",
       "      <td>0.843400</td>\n",
       "      <td>-0.602422</td>\n",
       "      <td>18.0</td>\n",
       "    </tr>\n",
       "    <tr>\n",
       "      <th>2018-03-23</th>\n",
       "      <td>1.823522</td>\n",
       "      <td>0.237128</td>\n",
       "      <td>1.065618</td>\n",
       "      <td>0.262770</td>\n",
       "      <td>19.0</td>\n",
       "    </tr>\n",
       "  </tbody>\n",
       "</table>\n",
       "</div>"
      ],
      "text/plain": [
       "                   A         B         C         D     F\n",
       "2018-03-04 -0.252957  0.439122  0.385989 -0.871614   NaN\n",
       "2018-03-05  0.326848 -0.025573  0.119267  0.801228   1.0\n",
       "2018-03-06  0.111545 -1.212578  0.709760 -0.406191   2.0\n",
       "2018-03-07  0.587586  0.611694 -0.949295  0.047066   3.0\n",
       "2018-03-08 -1.770163  0.558087 -0.979803 -0.577235   4.0\n",
       "2018-03-09 -0.176269  0.827106  1.047592 -0.245867   5.0\n",
       "2018-03-10  0.270744 -0.226251 -0.270154  0.791146   6.0\n",
       "2018-03-11 -0.619015  0.748065 -0.183903  0.679426   7.0\n",
       "2018-03-12  0.113459 -0.439769  2.535563  0.009409   8.0\n",
       "2018-03-13  0.414876  1.934884 -0.915241  0.159570   9.0\n",
       "2018-03-14 -0.321636  1.849691  1.680028 -0.786624  10.0\n",
       "2018-03-15 -0.847386  1.643273 -0.090823  0.515760  11.0\n",
       "2018-03-16 -1.277966 -0.724695 -0.422134  1.303832  12.0\n",
       "2018-03-17 -0.415275 -0.977803  1.039589  0.169296  13.0\n",
       "2018-03-18  1.010141  0.246550 -2.410551 -1.003263  14.0\n",
       "2018-03-19  0.188207 -0.329698  0.482883  1.870247  15.0\n",
       "2018-03-20  0.638815  0.986284  0.404751  0.469043  16.0\n",
       "2018-03-21 -2.047036 -0.139238 -0.515078  0.630075  17.0\n",
       "2018-03-22  0.233262 -0.424058  0.843400 -0.602422  18.0\n",
       "2018-03-23  1.823522  0.237128  1.065618  0.262770  19.0"
      ]
     },
     "execution_count": 37,
     "metadata": {},
     "output_type": "execute_result"
    }
   ],
   "source": [
    "df # 데이터프레임 F 를 생성했고, 값이 없으면 NaN 으로 출력됨을 확인"
   ]
  },
  {
   "cell_type": "markdown",
   "metadata": {},
   "source": [
    "\n"
   ]
  },
  {
   "cell_type": "markdown",
   "metadata": {},
   "source": [
    "### 데이터프레임의 길이만큼 EE 인덱스의 값을 13으로 생성하시오"
   ]
  },
  {
   "cell_type": "code",
   "execution_count": 38,
   "metadata": {},
   "outputs": [
    {
     "data": {
      "text/html": [
       "<div>\n",
       "<style scoped>\n",
       "    .dataframe tbody tr th:only-of-type {\n",
       "        vertical-align: middle;\n",
       "    }\n",
       "\n",
       "    .dataframe tbody tr th {\n",
       "        vertical-align: top;\n",
       "    }\n",
       "\n",
       "    .dataframe thead th {\n",
       "        text-align: right;\n",
       "    }\n",
       "</style>\n",
       "<table border=\"1\" class=\"dataframe\">\n",
       "  <thead>\n",
       "    <tr style=\"text-align: right;\">\n",
       "      <th></th>\n",
       "      <th>A</th>\n",
       "      <th>B</th>\n",
       "      <th>C</th>\n",
       "      <th>D</th>\n",
       "      <th>F</th>\n",
       "      <th>E</th>\n",
       "    </tr>\n",
       "  </thead>\n",
       "  <tbody>\n",
       "    <tr>\n",
       "      <th>2018-03-04</th>\n",
       "      <td>-0.252957</td>\n",
       "      <td>0.439122</td>\n",
       "      <td>0.385989</td>\n",
       "      <td>-0.871614</td>\n",
       "      <td>NaN</td>\n",
       "      <td>13</td>\n",
       "    </tr>\n",
       "    <tr>\n",
       "      <th>2018-03-05</th>\n",
       "      <td>0.326848</td>\n",
       "      <td>-0.025573</td>\n",
       "      <td>0.119267</td>\n",
       "      <td>0.801228</td>\n",
       "      <td>1.0</td>\n",
       "      <td>13</td>\n",
       "    </tr>\n",
       "    <tr>\n",
       "      <th>2018-03-06</th>\n",
       "      <td>0.111545</td>\n",
       "      <td>-1.212578</td>\n",
       "      <td>0.709760</td>\n",
       "      <td>-0.406191</td>\n",
       "      <td>2.0</td>\n",
       "      <td>13</td>\n",
       "    </tr>\n",
       "    <tr>\n",
       "      <th>2018-03-07</th>\n",
       "      <td>0.587586</td>\n",
       "      <td>0.611694</td>\n",
       "      <td>-0.949295</td>\n",
       "      <td>0.047066</td>\n",
       "      <td>3.0</td>\n",
       "      <td>13</td>\n",
       "    </tr>\n",
       "    <tr>\n",
       "      <th>2018-03-08</th>\n",
       "      <td>-1.770163</td>\n",
       "      <td>0.558087</td>\n",
       "      <td>-0.979803</td>\n",
       "      <td>-0.577235</td>\n",
       "      <td>4.0</td>\n",
       "      <td>13</td>\n",
       "    </tr>\n",
       "    <tr>\n",
       "      <th>2018-03-09</th>\n",
       "      <td>-0.176269</td>\n",
       "      <td>0.827106</td>\n",
       "      <td>1.047592</td>\n",
       "      <td>-0.245867</td>\n",
       "      <td>5.0</td>\n",
       "      <td>13</td>\n",
       "    </tr>\n",
       "    <tr>\n",
       "      <th>2018-03-10</th>\n",
       "      <td>0.270744</td>\n",
       "      <td>-0.226251</td>\n",
       "      <td>-0.270154</td>\n",
       "      <td>0.791146</td>\n",
       "      <td>6.0</td>\n",
       "      <td>13</td>\n",
       "    </tr>\n",
       "    <tr>\n",
       "      <th>2018-03-11</th>\n",
       "      <td>-0.619015</td>\n",
       "      <td>0.748065</td>\n",
       "      <td>-0.183903</td>\n",
       "      <td>0.679426</td>\n",
       "      <td>7.0</td>\n",
       "      <td>13</td>\n",
       "    </tr>\n",
       "    <tr>\n",
       "      <th>2018-03-12</th>\n",
       "      <td>0.113459</td>\n",
       "      <td>-0.439769</td>\n",
       "      <td>2.535563</td>\n",
       "      <td>0.009409</td>\n",
       "      <td>8.0</td>\n",
       "      <td>13</td>\n",
       "    </tr>\n",
       "    <tr>\n",
       "      <th>2018-03-13</th>\n",
       "      <td>0.414876</td>\n",
       "      <td>1.934884</td>\n",
       "      <td>-0.915241</td>\n",
       "      <td>0.159570</td>\n",
       "      <td>9.0</td>\n",
       "      <td>13</td>\n",
       "    </tr>\n",
       "    <tr>\n",
       "      <th>2018-03-14</th>\n",
       "      <td>-0.321636</td>\n",
       "      <td>1.849691</td>\n",
       "      <td>1.680028</td>\n",
       "      <td>-0.786624</td>\n",
       "      <td>10.0</td>\n",
       "      <td>13</td>\n",
       "    </tr>\n",
       "    <tr>\n",
       "      <th>2018-03-15</th>\n",
       "      <td>-0.847386</td>\n",
       "      <td>1.643273</td>\n",
       "      <td>-0.090823</td>\n",
       "      <td>0.515760</td>\n",
       "      <td>11.0</td>\n",
       "      <td>13</td>\n",
       "    </tr>\n",
       "    <tr>\n",
       "      <th>2018-03-16</th>\n",
       "      <td>-1.277966</td>\n",
       "      <td>-0.724695</td>\n",
       "      <td>-0.422134</td>\n",
       "      <td>1.303832</td>\n",
       "      <td>12.0</td>\n",
       "      <td>13</td>\n",
       "    </tr>\n",
       "    <tr>\n",
       "      <th>2018-03-17</th>\n",
       "      <td>-0.415275</td>\n",
       "      <td>-0.977803</td>\n",
       "      <td>1.039589</td>\n",
       "      <td>0.169296</td>\n",
       "      <td>13.0</td>\n",
       "      <td>13</td>\n",
       "    </tr>\n",
       "    <tr>\n",
       "      <th>2018-03-18</th>\n",
       "      <td>1.010141</td>\n",
       "      <td>0.246550</td>\n",
       "      <td>-2.410551</td>\n",
       "      <td>-1.003263</td>\n",
       "      <td>14.0</td>\n",
       "      <td>13</td>\n",
       "    </tr>\n",
       "    <tr>\n",
       "      <th>2018-03-19</th>\n",
       "      <td>0.188207</td>\n",
       "      <td>-0.329698</td>\n",
       "      <td>0.482883</td>\n",
       "      <td>1.870247</td>\n",
       "      <td>15.0</td>\n",
       "      <td>13</td>\n",
       "    </tr>\n",
       "    <tr>\n",
       "      <th>2018-03-20</th>\n",
       "      <td>0.638815</td>\n",
       "      <td>0.986284</td>\n",
       "      <td>0.404751</td>\n",
       "      <td>0.469043</td>\n",
       "      <td>16.0</td>\n",
       "      <td>13</td>\n",
       "    </tr>\n",
       "    <tr>\n",
       "      <th>2018-03-21</th>\n",
       "      <td>-2.047036</td>\n",
       "      <td>-0.139238</td>\n",
       "      <td>-0.515078</td>\n",
       "      <td>0.630075</td>\n",
       "      <td>17.0</td>\n",
       "      <td>13</td>\n",
       "    </tr>\n",
       "    <tr>\n",
       "      <th>2018-03-22</th>\n",
       "      <td>0.233262</td>\n",
       "      <td>-0.424058</td>\n",
       "      <td>0.843400</td>\n",
       "      <td>-0.602422</td>\n",
       "      <td>18.0</td>\n",
       "      <td>13</td>\n",
       "    </tr>\n",
       "    <tr>\n",
       "      <th>2018-03-23</th>\n",
       "      <td>1.823522</td>\n",
       "      <td>0.237128</td>\n",
       "      <td>1.065618</td>\n",
       "      <td>0.262770</td>\n",
       "      <td>19.0</td>\n",
       "      <td>13</td>\n",
       "    </tr>\n",
       "  </tbody>\n",
       "</table>\n",
       "</div>"
      ],
      "text/plain": [
       "                   A         B         C         D     F   E\n",
       "2018-03-04 -0.252957  0.439122  0.385989 -0.871614   NaN  13\n",
       "2018-03-05  0.326848 -0.025573  0.119267  0.801228   1.0  13\n",
       "2018-03-06  0.111545 -1.212578  0.709760 -0.406191   2.0  13\n",
       "2018-03-07  0.587586  0.611694 -0.949295  0.047066   3.0  13\n",
       "2018-03-08 -1.770163  0.558087 -0.979803 -0.577235   4.0  13\n",
       "2018-03-09 -0.176269  0.827106  1.047592 -0.245867   5.0  13\n",
       "2018-03-10  0.270744 -0.226251 -0.270154  0.791146   6.0  13\n",
       "2018-03-11 -0.619015  0.748065 -0.183903  0.679426   7.0  13\n",
       "2018-03-12  0.113459 -0.439769  2.535563  0.009409   8.0  13\n",
       "2018-03-13  0.414876  1.934884 -0.915241  0.159570   9.0  13\n",
       "2018-03-14 -0.321636  1.849691  1.680028 -0.786624  10.0  13\n",
       "2018-03-15 -0.847386  1.643273 -0.090823  0.515760  11.0  13\n",
       "2018-03-16 -1.277966 -0.724695 -0.422134  1.303832  12.0  13\n",
       "2018-03-17 -0.415275 -0.977803  1.039589  0.169296  13.0  13\n",
       "2018-03-18  1.010141  0.246550 -2.410551 -1.003263  14.0  13\n",
       "2018-03-19  0.188207 -0.329698  0.482883  1.870247  15.0  13\n",
       "2018-03-20  0.638815  0.986284  0.404751  0.469043  16.0  13\n",
       "2018-03-21 -2.047036 -0.139238 -0.515078  0.630075  17.0  13\n",
       "2018-03-22  0.233262 -0.424058  0.843400 -0.602422  18.0  13\n",
       "2018-03-23  1.823522  0.237128  1.065618  0.262770  19.0  13"
      ]
     },
     "execution_count": 38,
     "metadata": {},
     "output_type": "execute_result"
    }
   ],
   "source": [
    "df.loc[:, 'E'] = [13] * len(df)\n",
    "df"
   ]
  },
  {
   "cell_type": "markdown",
   "metadata": {},
   "source": [
    "\n"
   ]
  },
  {
   "cell_type": "markdown",
   "metadata": {},
   "source": [
    "### 데이터 프레임의 모든 수를 음수로 전환하기"
   ]
  },
  {
   "cell_type": "code",
   "execution_count": 39,
   "metadata": {},
   "outputs": [],
   "source": [
    "df2 = df.copy()"
   ]
  },
  {
   "cell_type": "code",
   "execution_count": 40,
   "metadata": {
    "scrolled": true
   },
   "outputs": [],
   "source": [
    "df2[df2 > 0] = -df2 # 모든 수를 음수로 전환"
   ]
  },
  {
   "cell_type": "code",
   "execution_count": 41,
   "metadata": {},
   "outputs": [
    {
     "data": {
      "text/html": [
       "<div>\n",
       "<style scoped>\n",
       "    .dataframe tbody tr th:only-of-type {\n",
       "        vertical-align: middle;\n",
       "    }\n",
       "\n",
       "    .dataframe tbody tr th {\n",
       "        vertical-align: top;\n",
       "    }\n",
       "\n",
       "    .dataframe thead th {\n",
       "        text-align: right;\n",
       "    }\n",
       "</style>\n",
       "<table border=\"1\" class=\"dataframe\">\n",
       "  <thead>\n",
       "    <tr style=\"text-align: right;\">\n",
       "      <th></th>\n",
       "      <th>A</th>\n",
       "      <th>B</th>\n",
       "      <th>C</th>\n",
       "      <th>D</th>\n",
       "      <th>F</th>\n",
       "      <th>E</th>\n",
       "    </tr>\n",
       "  </thead>\n",
       "  <tbody>\n",
       "    <tr>\n",
       "      <th>2018-03-04</th>\n",
       "      <td>-0.252957</td>\n",
       "      <td>-0.439122</td>\n",
       "      <td>-0.385989</td>\n",
       "      <td>-0.871614</td>\n",
       "      <td>NaN</td>\n",
       "      <td>-13</td>\n",
       "    </tr>\n",
       "    <tr>\n",
       "      <th>2018-03-05</th>\n",
       "      <td>-0.326848</td>\n",
       "      <td>-0.025573</td>\n",
       "      <td>-0.119267</td>\n",
       "      <td>-0.801228</td>\n",
       "      <td>-1.0</td>\n",
       "      <td>-13</td>\n",
       "    </tr>\n",
       "    <tr>\n",
       "      <th>2018-03-06</th>\n",
       "      <td>-0.111545</td>\n",
       "      <td>-1.212578</td>\n",
       "      <td>-0.709760</td>\n",
       "      <td>-0.406191</td>\n",
       "      <td>-2.0</td>\n",
       "      <td>-13</td>\n",
       "    </tr>\n",
       "    <tr>\n",
       "      <th>2018-03-07</th>\n",
       "      <td>-0.587586</td>\n",
       "      <td>-0.611694</td>\n",
       "      <td>-0.949295</td>\n",
       "      <td>-0.047066</td>\n",
       "      <td>-3.0</td>\n",
       "      <td>-13</td>\n",
       "    </tr>\n",
       "    <tr>\n",
       "      <th>2018-03-08</th>\n",
       "      <td>-1.770163</td>\n",
       "      <td>-0.558087</td>\n",
       "      <td>-0.979803</td>\n",
       "      <td>-0.577235</td>\n",
       "      <td>-4.0</td>\n",
       "      <td>-13</td>\n",
       "    </tr>\n",
       "  </tbody>\n",
       "</table>\n",
       "</div>"
      ],
      "text/plain": [
       "                   A         B         C         D    F   E\n",
       "2018-03-04 -0.252957 -0.439122 -0.385989 -0.871614  NaN -13\n",
       "2018-03-05 -0.326848 -0.025573 -0.119267 -0.801228 -1.0 -13\n",
       "2018-03-06 -0.111545 -1.212578 -0.709760 -0.406191 -2.0 -13\n",
       "2018-03-07 -0.587586 -0.611694 -0.949295 -0.047066 -3.0 -13\n",
       "2018-03-08 -1.770163 -0.558087 -0.979803 -0.577235 -4.0 -13"
      ]
     },
     "execution_count": 41,
     "metadata": {},
     "output_type": "execute_result"
    }
   ],
   "source": [
    "df2.head()"
   ]
  },
  {
   "cell_type": "markdown",
   "metadata": {},
   "source": [
    "\n"
   ]
  },
  {
   "cell_type": "markdown",
   "metadata": {},
   "source": [
    "\n"
   ]
  },
  {
   "cell_type": "markdown",
   "metadata": {},
   "source": [
    "## Missing Data"
   ]
  },
  {
   "cell_type": "markdown",
   "metadata": {},
   "source": [
    "### reindex 를 사용하여 지정된 축의 index 를 변경/추가/삭제"
   ]
  },
  {
   "cell_type": "code",
   "execution_count": 42,
   "metadata": {},
   "outputs": [],
   "source": [
    "df1 = df.reindex(index=dates[0:4], columns=list(df.columns) + ['E'])"
   ]
  },
  {
   "cell_type": "code",
   "execution_count": 43,
   "metadata": {},
   "outputs": [
    {
     "data": {
      "text/html": [
       "<div>\n",
       "<style scoped>\n",
       "    .dataframe tbody tr th:only-of-type {\n",
       "        vertical-align: middle;\n",
       "    }\n",
       "\n",
       "    .dataframe tbody tr th {\n",
       "        vertical-align: top;\n",
       "    }\n",
       "\n",
       "    .dataframe thead th {\n",
       "        text-align: right;\n",
       "    }\n",
       "</style>\n",
       "<table border=\"1\" class=\"dataframe\">\n",
       "  <thead>\n",
       "    <tr style=\"text-align: right;\">\n",
       "      <th></th>\n",
       "      <th>A</th>\n",
       "      <th>B</th>\n",
       "      <th>C</th>\n",
       "      <th>D</th>\n",
       "      <th>F</th>\n",
       "      <th>E</th>\n",
       "      <th>E</th>\n",
       "    </tr>\n",
       "  </thead>\n",
       "  <tbody>\n",
       "    <tr>\n",
       "      <th>2018-03-04</th>\n",
       "      <td>-0.252957</td>\n",
       "      <td>0.439122</td>\n",
       "      <td>0.385989</td>\n",
       "      <td>-0.871614</td>\n",
       "      <td>NaN</td>\n",
       "      <td>13</td>\n",
       "      <td>13</td>\n",
       "    </tr>\n",
       "    <tr>\n",
       "      <th>2018-03-05</th>\n",
       "      <td>0.326848</td>\n",
       "      <td>-0.025573</td>\n",
       "      <td>0.119267</td>\n",
       "      <td>0.801228</td>\n",
       "      <td>1.0</td>\n",
       "      <td>13</td>\n",
       "      <td>13</td>\n",
       "    </tr>\n",
       "    <tr>\n",
       "      <th>2018-03-06</th>\n",
       "      <td>0.111545</td>\n",
       "      <td>-1.212578</td>\n",
       "      <td>0.709760</td>\n",
       "      <td>-0.406191</td>\n",
       "      <td>2.0</td>\n",
       "      <td>13</td>\n",
       "      <td>13</td>\n",
       "    </tr>\n",
       "    <tr>\n",
       "      <th>2018-03-07</th>\n",
       "      <td>0.587586</td>\n",
       "      <td>0.611694</td>\n",
       "      <td>-0.949295</td>\n",
       "      <td>0.047066</td>\n",
       "      <td>3.0</td>\n",
       "      <td>13</td>\n",
       "      <td>13</td>\n",
       "    </tr>\n",
       "  </tbody>\n",
       "</table>\n",
       "</div>"
      ],
      "text/plain": [
       "                   A         B         C         D    F   E   E\n",
       "2018-03-04 -0.252957  0.439122  0.385989 -0.871614  NaN  13  13\n",
       "2018-03-05  0.326848 -0.025573  0.119267  0.801228  1.0  13  13\n",
       "2018-03-06  0.111545 -1.212578  0.709760 -0.406191  2.0  13  13\n",
       "2018-03-07  0.587586  0.611694 -0.949295  0.047066  3.0  13  13"
      ]
     },
     "execution_count": 43,
     "metadata": {},
     "output_type": "execute_result"
    }
   ],
   "source": [
    "df1"
   ]
  },
  {
   "cell_type": "markdown",
   "metadata": {},
   "source": [
    "\n"
   ]
  },
  {
   "cell_type": "markdown",
   "metadata": {},
   "source": [
    "### index[0], [1] 에 해당하는 E Column 의 값을 1로 변경하기"
   ]
  },
  {
   "cell_type": "code",
   "execution_count": 44,
   "metadata": {},
   "outputs": [
    {
     "data": {
      "text/html": [
       "<div>\n",
       "<style scoped>\n",
       "    .dataframe tbody tr th:only-of-type {\n",
       "        vertical-align: middle;\n",
       "    }\n",
       "\n",
       "    .dataframe tbody tr th {\n",
       "        vertical-align: top;\n",
       "    }\n",
       "\n",
       "    .dataframe thead th {\n",
       "        text-align: right;\n",
       "    }\n",
       "</style>\n",
       "<table border=\"1\" class=\"dataframe\">\n",
       "  <thead>\n",
       "    <tr style=\"text-align: right;\">\n",
       "      <th></th>\n",
       "      <th>A</th>\n",
       "      <th>B</th>\n",
       "      <th>C</th>\n",
       "      <th>D</th>\n",
       "      <th>F</th>\n",
       "      <th>E</th>\n",
       "      <th>E</th>\n",
       "    </tr>\n",
       "  </thead>\n",
       "  <tbody>\n",
       "    <tr>\n",
       "      <th>2018-03-04</th>\n",
       "      <td>-0.252957</td>\n",
       "      <td>0.439122</td>\n",
       "      <td>0.385989</td>\n",
       "      <td>-0.871614</td>\n",
       "      <td>NaN</td>\n",
       "      <td>1</td>\n",
       "      <td>1</td>\n",
       "    </tr>\n",
       "    <tr>\n",
       "      <th>2018-03-05</th>\n",
       "      <td>0.326848</td>\n",
       "      <td>-0.025573</td>\n",
       "      <td>0.119267</td>\n",
       "      <td>0.801228</td>\n",
       "      <td>1.0</td>\n",
       "      <td>1</td>\n",
       "      <td>1</td>\n",
       "    </tr>\n",
       "    <tr>\n",
       "      <th>2018-03-06</th>\n",
       "      <td>0.111545</td>\n",
       "      <td>-1.212578</td>\n",
       "      <td>0.709760</td>\n",
       "      <td>-0.406191</td>\n",
       "      <td>2.0</td>\n",
       "      <td>13</td>\n",
       "      <td>13</td>\n",
       "    </tr>\n",
       "    <tr>\n",
       "      <th>2018-03-07</th>\n",
       "      <td>0.587586</td>\n",
       "      <td>0.611694</td>\n",
       "      <td>-0.949295</td>\n",
       "      <td>0.047066</td>\n",
       "      <td>3.0</td>\n",
       "      <td>13</td>\n",
       "      <td>13</td>\n",
       "    </tr>\n",
       "  </tbody>\n",
       "</table>\n",
       "</div>"
      ],
      "text/plain": [
       "                   A         B         C         D    F   E   E\n",
       "2018-03-04 -0.252957  0.439122  0.385989 -0.871614  NaN   1   1\n",
       "2018-03-05  0.326848 -0.025573  0.119267  0.801228  1.0   1   1\n",
       "2018-03-06  0.111545 -1.212578  0.709760 -0.406191  2.0  13  13\n",
       "2018-03-07  0.587586  0.611694 -0.949295  0.047066  3.0  13  13"
      ]
     },
     "execution_count": 44,
     "metadata": {},
     "output_type": "execute_result"
    }
   ],
   "source": [
    "df1.loc[dates[0]:dates[1], 'E'] = 1\n",
    "df1"
   ]
  },
  {
   "cell_type": "markdown",
   "metadata": {},
   "source": [
    "\n"
   ]
  },
  {
   "cell_type": "markdown",
   "metadata": {},
   "source": [
    "### NaN 에 해당하는 행을 모두 지우기"
   ]
  },
  {
   "cell_type": "code",
   "execution_count": 45,
   "metadata": {},
   "outputs": [
    {
     "data": {
      "text/html": [
       "<div>\n",
       "<style scoped>\n",
       "    .dataframe tbody tr th:only-of-type {\n",
       "        vertical-align: middle;\n",
       "    }\n",
       "\n",
       "    .dataframe tbody tr th {\n",
       "        vertical-align: top;\n",
       "    }\n",
       "\n",
       "    .dataframe thead th {\n",
       "        text-align: right;\n",
       "    }\n",
       "</style>\n",
       "<table border=\"1\" class=\"dataframe\">\n",
       "  <thead>\n",
       "    <tr style=\"text-align: right;\">\n",
       "      <th></th>\n",
       "      <th>A</th>\n",
       "      <th>B</th>\n",
       "      <th>C</th>\n",
       "      <th>D</th>\n",
       "      <th>F</th>\n",
       "      <th>E</th>\n",
       "      <th>E</th>\n",
       "    </tr>\n",
       "  </thead>\n",
       "  <tbody>\n",
       "    <tr>\n",
       "      <th>2018-03-05</th>\n",
       "      <td>0.326848</td>\n",
       "      <td>-0.025573</td>\n",
       "      <td>0.119267</td>\n",
       "      <td>0.801228</td>\n",
       "      <td>1.0</td>\n",
       "      <td>1</td>\n",
       "      <td>1</td>\n",
       "    </tr>\n",
       "    <tr>\n",
       "      <th>2018-03-06</th>\n",
       "      <td>0.111545</td>\n",
       "      <td>-1.212578</td>\n",
       "      <td>0.709760</td>\n",
       "      <td>-0.406191</td>\n",
       "      <td>2.0</td>\n",
       "      <td>13</td>\n",
       "      <td>13</td>\n",
       "    </tr>\n",
       "    <tr>\n",
       "      <th>2018-03-07</th>\n",
       "      <td>0.587586</td>\n",
       "      <td>0.611694</td>\n",
       "      <td>-0.949295</td>\n",
       "      <td>0.047066</td>\n",
       "      <td>3.0</td>\n",
       "      <td>13</td>\n",
       "      <td>13</td>\n",
       "    </tr>\n",
       "  </tbody>\n",
       "</table>\n",
       "</div>"
      ],
      "text/plain": [
       "                   A         B         C         D    F   E   E\n",
       "2018-03-05  0.326848 -0.025573  0.119267  0.801228  1.0   1   1\n",
       "2018-03-06  0.111545 -1.212578  0.709760 -0.406191  2.0  13  13\n",
       "2018-03-07  0.587586  0.611694 -0.949295  0.047066  3.0  13  13"
      ]
     },
     "execution_count": 45,
     "metadata": {},
     "output_type": "execute_result"
    }
   ],
   "source": [
    "df1.dropna()"
   ]
  },
  {
   "cell_type": "markdown",
   "metadata": {},
   "source": [
    "\n"
   ]
  },
  {
   "cell_type": "markdown",
   "metadata": {},
   "source": [
    "### NaN 에 해당하는 값을 5로 대체하기"
   ]
  },
  {
   "cell_type": "code",
   "execution_count": 46,
   "metadata": {},
   "outputs": [
    {
     "data": {
      "text/html": [
       "<div>\n",
       "<style scoped>\n",
       "    .dataframe tbody tr th:only-of-type {\n",
       "        vertical-align: middle;\n",
       "    }\n",
       "\n",
       "    .dataframe tbody tr th {\n",
       "        vertical-align: top;\n",
       "    }\n",
       "\n",
       "    .dataframe thead th {\n",
       "        text-align: right;\n",
       "    }\n",
       "</style>\n",
       "<table border=\"1\" class=\"dataframe\">\n",
       "  <thead>\n",
       "    <tr style=\"text-align: right;\">\n",
       "      <th></th>\n",
       "      <th>A</th>\n",
       "      <th>B</th>\n",
       "      <th>C</th>\n",
       "      <th>D</th>\n",
       "      <th>F</th>\n",
       "      <th>E</th>\n",
       "      <th>E</th>\n",
       "    </tr>\n",
       "  </thead>\n",
       "  <tbody>\n",
       "    <tr>\n",
       "      <th>2018-03-04</th>\n",
       "      <td>-0.252957</td>\n",
       "      <td>0.439122</td>\n",
       "      <td>0.385989</td>\n",
       "      <td>-0.871614</td>\n",
       "      <td>5.0</td>\n",
       "      <td>1</td>\n",
       "      <td>1</td>\n",
       "    </tr>\n",
       "    <tr>\n",
       "      <th>2018-03-05</th>\n",
       "      <td>0.326848</td>\n",
       "      <td>-0.025573</td>\n",
       "      <td>0.119267</td>\n",
       "      <td>0.801228</td>\n",
       "      <td>1.0</td>\n",
       "      <td>1</td>\n",
       "      <td>1</td>\n",
       "    </tr>\n",
       "    <tr>\n",
       "      <th>2018-03-06</th>\n",
       "      <td>0.111545</td>\n",
       "      <td>-1.212578</td>\n",
       "      <td>0.709760</td>\n",
       "      <td>-0.406191</td>\n",
       "      <td>2.0</td>\n",
       "      <td>13</td>\n",
       "      <td>13</td>\n",
       "    </tr>\n",
       "    <tr>\n",
       "      <th>2018-03-07</th>\n",
       "      <td>0.587586</td>\n",
       "      <td>0.611694</td>\n",
       "      <td>-0.949295</td>\n",
       "      <td>0.047066</td>\n",
       "      <td>3.0</td>\n",
       "      <td>13</td>\n",
       "      <td>13</td>\n",
       "    </tr>\n",
       "  </tbody>\n",
       "</table>\n",
       "</div>"
      ],
      "text/plain": [
       "                   A         B         C         D    F   E   E\n",
       "2018-03-04 -0.252957  0.439122  0.385989 -0.871614  5.0   1   1\n",
       "2018-03-05  0.326848 -0.025573  0.119267  0.801228  1.0   1   1\n",
       "2018-03-06  0.111545 -1.212578  0.709760 -0.406191  2.0  13  13\n",
       "2018-03-07  0.587586  0.611694 -0.949295  0.047066  3.0  13  13"
      ]
     },
     "execution_count": 46,
     "metadata": {},
     "output_type": "execute_result"
    }
   ],
   "source": [
    "df1.fillna(5)"
   ]
  },
  {
   "cell_type": "markdown",
   "metadata": {},
   "source": [
    "\n"
   ]
  },
  {
   "cell_type": "markdown",
   "metadata": {},
   "source": [
    "### NaN 에 해당하는 값을 Boolean 값으로 표시하기"
   ]
  },
  {
   "cell_type": "code",
   "execution_count": 47,
   "metadata": {},
   "outputs": [
    {
     "data": {
      "text/html": [
       "<div>\n",
       "<style scoped>\n",
       "    .dataframe tbody tr th:only-of-type {\n",
       "        vertical-align: middle;\n",
       "    }\n",
       "\n",
       "    .dataframe tbody tr th {\n",
       "        vertical-align: top;\n",
       "    }\n",
       "\n",
       "    .dataframe thead th {\n",
       "        text-align: right;\n",
       "    }\n",
       "</style>\n",
       "<table border=\"1\" class=\"dataframe\">\n",
       "  <thead>\n",
       "    <tr style=\"text-align: right;\">\n",
       "      <th></th>\n",
       "      <th>A</th>\n",
       "      <th>B</th>\n",
       "      <th>C</th>\n",
       "      <th>D</th>\n",
       "      <th>F</th>\n",
       "      <th>E</th>\n",
       "    </tr>\n",
       "  </thead>\n",
       "  <tbody>\n",
       "    <tr>\n",
       "      <th>2018-03-04</th>\n",
       "      <td>False</td>\n",
       "      <td>False</td>\n",
       "      <td>False</td>\n",
       "      <td>False</td>\n",
       "      <td>True</td>\n",
       "      <td>False</td>\n",
       "    </tr>\n",
       "    <tr>\n",
       "      <th>2018-03-05</th>\n",
       "      <td>False</td>\n",
       "      <td>False</td>\n",
       "      <td>False</td>\n",
       "      <td>False</td>\n",
       "      <td>False</td>\n",
       "      <td>False</td>\n",
       "    </tr>\n",
       "    <tr>\n",
       "      <th>2018-03-06</th>\n",
       "      <td>False</td>\n",
       "      <td>False</td>\n",
       "      <td>False</td>\n",
       "      <td>False</td>\n",
       "      <td>False</td>\n",
       "      <td>False</td>\n",
       "    </tr>\n",
       "    <tr>\n",
       "      <th>2018-03-07</th>\n",
       "      <td>False</td>\n",
       "      <td>False</td>\n",
       "      <td>False</td>\n",
       "      <td>False</td>\n",
       "      <td>False</td>\n",
       "      <td>False</td>\n",
       "    </tr>\n",
       "    <tr>\n",
       "      <th>2018-03-08</th>\n",
       "      <td>False</td>\n",
       "      <td>False</td>\n",
       "      <td>False</td>\n",
       "      <td>False</td>\n",
       "      <td>False</td>\n",
       "      <td>False</td>\n",
       "    </tr>\n",
       "    <tr>\n",
       "      <th>2018-03-09</th>\n",
       "      <td>False</td>\n",
       "      <td>False</td>\n",
       "      <td>False</td>\n",
       "      <td>False</td>\n",
       "      <td>False</td>\n",
       "      <td>False</td>\n",
       "    </tr>\n",
       "    <tr>\n",
       "      <th>2018-03-10</th>\n",
       "      <td>False</td>\n",
       "      <td>False</td>\n",
       "      <td>False</td>\n",
       "      <td>False</td>\n",
       "      <td>False</td>\n",
       "      <td>False</td>\n",
       "    </tr>\n",
       "    <tr>\n",
       "      <th>2018-03-11</th>\n",
       "      <td>False</td>\n",
       "      <td>False</td>\n",
       "      <td>False</td>\n",
       "      <td>False</td>\n",
       "      <td>False</td>\n",
       "      <td>False</td>\n",
       "    </tr>\n",
       "    <tr>\n",
       "      <th>2018-03-12</th>\n",
       "      <td>False</td>\n",
       "      <td>False</td>\n",
       "      <td>False</td>\n",
       "      <td>False</td>\n",
       "      <td>False</td>\n",
       "      <td>False</td>\n",
       "    </tr>\n",
       "    <tr>\n",
       "      <th>2018-03-13</th>\n",
       "      <td>False</td>\n",
       "      <td>False</td>\n",
       "      <td>False</td>\n",
       "      <td>False</td>\n",
       "      <td>False</td>\n",
       "      <td>False</td>\n",
       "    </tr>\n",
       "    <tr>\n",
       "      <th>2018-03-14</th>\n",
       "      <td>False</td>\n",
       "      <td>False</td>\n",
       "      <td>False</td>\n",
       "      <td>False</td>\n",
       "      <td>False</td>\n",
       "      <td>False</td>\n",
       "    </tr>\n",
       "    <tr>\n",
       "      <th>2018-03-15</th>\n",
       "      <td>False</td>\n",
       "      <td>False</td>\n",
       "      <td>False</td>\n",
       "      <td>False</td>\n",
       "      <td>False</td>\n",
       "      <td>False</td>\n",
       "    </tr>\n",
       "    <tr>\n",
       "      <th>2018-03-16</th>\n",
       "      <td>False</td>\n",
       "      <td>False</td>\n",
       "      <td>False</td>\n",
       "      <td>False</td>\n",
       "      <td>False</td>\n",
       "      <td>False</td>\n",
       "    </tr>\n",
       "    <tr>\n",
       "      <th>2018-03-17</th>\n",
       "      <td>False</td>\n",
       "      <td>False</td>\n",
       "      <td>False</td>\n",
       "      <td>False</td>\n",
       "      <td>False</td>\n",
       "      <td>False</td>\n",
       "    </tr>\n",
       "    <tr>\n",
       "      <th>2018-03-18</th>\n",
       "      <td>False</td>\n",
       "      <td>False</td>\n",
       "      <td>False</td>\n",
       "      <td>False</td>\n",
       "      <td>False</td>\n",
       "      <td>False</td>\n",
       "    </tr>\n",
       "    <tr>\n",
       "      <th>2018-03-19</th>\n",
       "      <td>False</td>\n",
       "      <td>False</td>\n",
       "      <td>False</td>\n",
       "      <td>False</td>\n",
       "      <td>False</td>\n",
       "      <td>False</td>\n",
       "    </tr>\n",
       "    <tr>\n",
       "      <th>2018-03-20</th>\n",
       "      <td>False</td>\n",
       "      <td>False</td>\n",
       "      <td>False</td>\n",
       "      <td>False</td>\n",
       "      <td>False</td>\n",
       "      <td>False</td>\n",
       "    </tr>\n",
       "    <tr>\n",
       "      <th>2018-03-21</th>\n",
       "      <td>False</td>\n",
       "      <td>False</td>\n",
       "      <td>False</td>\n",
       "      <td>False</td>\n",
       "      <td>False</td>\n",
       "      <td>False</td>\n",
       "    </tr>\n",
       "    <tr>\n",
       "      <th>2018-03-22</th>\n",
       "      <td>False</td>\n",
       "      <td>False</td>\n",
       "      <td>False</td>\n",
       "      <td>False</td>\n",
       "      <td>False</td>\n",
       "      <td>False</td>\n",
       "    </tr>\n",
       "    <tr>\n",
       "      <th>2018-03-23</th>\n",
       "      <td>False</td>\n",
       "      <td>False</td>\n",
       "      <td>False</td>\n",
       "      <td>False</td>\n",
       "      <td>False</td>\n",
       "      <td>False</td>\n",
       "    </tr>\n",
       "  </tbody>\n",
       "</table>\n",
       "</div>"
      ],
      "text/plain": [
       "                A      B      C      D      F      E\n",
       "2018-03-04  False  False  False  False   True  False\n",
       "2018-03-05  False  False  False  False  False  False\n",
       "2018-03-06  False  False  False  False  False  False\n",
       "2018-03-07  False  False  False  False  False  False\n",
       "2018-03-08  False  False  False  False  False  False\n",
       "2018-03-09  False  False  False  False  False  False\n",
       "2018-03-10  False  False  False  False  False  False\n",
       "2018-03-11  False  False  False  False  False  False\n",
       "2018-03-12  False  False  False  False  False  False\n",
       "2018-03-13  False  False  False  False  False  False\n",
       "2018-03-14  False  False  False  False  False  False\n",
       "2018-03-15  False  False  False  False  False  False\n",
       "2018-03-16  False  False  False  False  False  False\n",
       "2018-03-17  False  False  False  False  False  False\n",
       "2018-03-18  False  False  False  False  False  False\n",
       "2018-03-19  False  False  False  False  False  False\n",
       "2018-03-20  False  False  False  False  False  False\n",
       "2018-03-21  False  False  False  False  False  False\n",
       "2018-03-22  False  False  False  False  False  False\n",
       "2018-03-23  False  False  False  False  False  False"
      ]
     },
     "execution_count": 47,
     "metadata": {},
     "output_type": "execute_result"
    }
   ],
   "source": [
    "pd.isna(df)"
   ]
  },
  {
   "cell_type": "markdown",
   "metadata": {},
   "source": [
    "\n"
   ]
  },
  {
   "cell_type": "markdown",
   "metadata": {},
   "source": [
    "## Operations"
   ]
  },
  {
   "cell_type": "code",
   "execution_count": 49,
   "metadata": {},
   "outputs": [
    {
     "data": {
      "text/plain": [
       "A    -0.100435\n",
       "B     0.279111\n",
       "C     0.178873\n",
       "D     0.160783\n",
       "F    10.000000\n",
       "E    13.000000\n",
       "dtype: float64"
      ]
     },
     "execution_count": 49,
     "metadata": {},
     "output_type": "execute_result"
    }
   ],
   "source": [
    "df.mean()"
   ]
  },
  {
   "cell_type": "code",
   "execution_count": 52,
   "metadata": {},
   "outputs": [
    {
     "data": {
      "text/plain": [
       "2018-03-04    2.540108\n",
       "2018-03-05    2.536962\n",
       "2018-03-06    2.367089\n",
       "2018-03-07    2.716175\n",
       "2018-03-08    2.371814\n",
       "2018-03-09    3.242094\n",
       "2018-03-10    3.260914\n",
       "2018-03-11    3.437429\n",
       "2018-03-12    3.869777\n",
       "2018-03-13    3.932348\n",
       "2018-03-14    4.236910\n",
       "2018-03-15    4.203471\n",
       "2018-03-16    3.979840\n",
       "2018-03-17    4.302635\n",
       "2018-03-18    4.140479\n",
       "2018-03-19    5.035273\n",
       "2018-03-20    5.249815\n",
       "2018-03-21    4.654787\n",
       "2018-03-22    5.175030\n",
       "2018-03-23    5.898173\n",
       "Freq: D, dtype: float64"
      ]
     },
     "execution_count": 52,
     "metadata": {},
     "output_type": "execute_result"
    }
   ],
   "source": [
    "df.mean(1)"
   ]
  },
  {
   "cell_type": "code",
   "execution_count": 55,
   "metadata": {},
   "outputs": [
    {
     "data": {
      "text/plain": [
       "2018-03-04    1.0\n",
       "2018-03-05    3.0\n",
       "2018-03-06    5.0\n",
       "2018-03-07    NaN\n",
       "2018-03-08    6.0\n",
       "2018-03-09    8.0\n",
       "Freq: D, dtype: float64"
      ]
     },
     "execution_count": 55,
     "metadata": {},
     "output_type": "execute_result"
    }
   ],
   "source": [
    "pd.Series([1, 3, 5, np.nan, 6, 8], index=dates[:6])"
   ]
  },
  {
   "cell_type": "code",
   "execution_count": 57,
   "metadata": {},
   "outputs": [
    {
     "data": {
      "text/plain": [
       "2018-03-06    1.0\n",
       "2018-03-07    3.0\n",
       "2018-03-08    5.0\n",
       "2018-03-09    NaN\n",
       "2018-03-10    6.0\n",
       "2018-03-11    8.0\n",
       "Freq: D, dtype: float64"
      ]
     },
     "execution_count": 57,
     "metadata": {},
     "output_type": "execute_result"
    }
   ],
   "source": [
    "s = pd.Series([1, 3, 5, np.nan, 6, 8], index=dates[:6].shift(2))\n",
    "s"
   ]
  },
  {
   "cell_type": "code",
   "execution_count": 60,
   "metadata": {},
   "outputs": [
    {
     "data": {
      "text/html": [
       "<div>\n",
       "<style scoped>\n",
       "    .dataframe tbody tr th:only-of-type {\n",
       "        vertical-align: middle;\n",
       "    }\n",
       "\n",
       "    .dataframe tbody tr th {\n",
       "        vertical-align: top;\n",
       "    }\n",
       "\n",
       "    .dataframe thead th {\n",
       "        text-align: right;\n",
       "    }\n",
       "</style>\n",
       "<table border=\"1\" class=\"dataframe\">\n",
       "  <thead>\n",
       "    <tr style=\"text-align: right;\">\n",
       "      <th></th>\n",
       "      <th>A</th>\n",
       "      <th>B</th>\n",
       "      <th>C</th>\n",
       "      <th>D</th>\n",
       "      <th>F</th>\n",
       "      <th>E</th>\n",
       "    </tr>\n",
       "  </thead>\n",
       "  <tbody>\n",
       "    <tr>\n",
       "      <th>2018-03-04</th>\n",
       "      <td>NaN</td>\n",
       "      <td>NaN</td>\n",
       "      <td>NaN</td>\n",
       "      <td>NaN</td>\n",
       "      <td>NaN</td>\n",
       "      <td>NaN</td>\n",
       "    </tr>\n",
       "    <tr>\n",
       "      <th>2018-03-05</th>\n",
       "      <td>NaN</td>\n",
       "      <td>NaN</td>\n",
       "      <td>NaN</td>\n",
       "      <td>NaN</td>\n",
       "      <td>NaN</td>\n",
       "      <td>NaN</td>\n",
       "    </tr>\n",
       "    <tr>\n",
       "      <th>2018-03-06</th>\n",
       "      <td>-0.888455</td>\n",
       "      <td>-2.212578</td>\n",
       "      <td>-0.290240</td>\n",
       "      <td>-1.406191</td>\n",
       "      <td>1.0</td>\n",
       "      <td>12.0</td>\n",
       "    </tr>\n",
       "    <tr>\n",
       "      <th>2018-03-07</th>\n",
       "      <td>-2.412414</td>\n",
       "      <td>-2.388306</td>\n",
       "      <td>-3.949295</td>\n",
       "      <td>-2.952934</td>\n",
       "      <td>0.0</td>\n",
       "      <td>10.0</td>\n",
       "    </tr>\n",
       "    <tr>\n",
       "      <th>2018-03-08</th>\n",
       "      <td>-6.770163</td>\n",
       "      <td>-4.441913</td>\n",
       "      <td>-5.979803</td>\n",
       "      <td>-5.577235</td>\n",
       "      <td>-1.0</td>\n",
       "      <td>8.0</td>\n",
       "    </tr>\n",
       "    <tr>\n",
       "      <th>2018-03-09</th>\n",
       "      <td>NaN</td>\n",
       "      <td>NaN</td>\n",
       "      <td>NaN</td>\n",
       "      <td>NaN</td>\n",
       "      <td>NaN</td>\n",
       "      <td>NaN</td>\n",
       "    </tr>\n",
       "    <tr>\n",
       "      <th>2018-03-10</th>\n",
       "      <td>-5.729256</td>\n",
       "      <td>-6.226251</td>\n",
       "      <td>-6.270154</td>\n",
       "      <td>-5.208854</td>\n",
       "      <td>0.0</td>\n",
       "      <td>7.0</td>\n",
       "    </tr>\n",
       "    <tr>\n",
       "      <th>2018-03-11</th>\n",
       "      <td>-8.619015</td>\n",
       "      <td>-7.251935</td>\n",
       "      <td>-8.183903</td>\n",
       "      <td>-7.320574</td>\n",
       "      <td>-1.0</td>\n",
       "      <td>5.0</td>\n",
       "    </tr>\n",
       "    <tr>\n",
       "      <th>2018-03-12</th>\n",
       "      <td>NaN</td>\n",
       "      <td>NaN</td>\n",
       "      <td>NaN</td>\n",
       "      <td>NaN</td>\n",
       "      <td>NaN</td>\n",
       "      <td>NaN</td>\n",
       "    </tr>\n",
       "    <tr>\n",
       "      <th>2018-03-13</th>\n",
       "      <td>NaN</td>\n",
       "      <td>NaN</td>\n",
       "      <td>NaN</td>\n",
       "      <td>NaN</td>\n",
       "      <td>NaN</td>\n",
       "      <td>NaN</td>\n",
       "    </tr>\n",
       "    <tr>\n",
       "      <th>2018-03-14</th>\n",
       "      <td>NaN</td>\n",
       "      <td>NaN</td>\n",
       "      <td>NaN</td>\n",
       "      <td>NaN</td>\n",
       "      <td>NaN</td>\n",
       "      <td>NaN</td>\n",
       "    </tr>\n",
       "    <tr>\n",
       "      <th>2018-03-15</th>\n",
       "      <td>NaN</td>\n",
       "      <td>NaN</td>\n",
       "      <td>NaN</td>\n",
       "      <td>NaN</td>\n",
       "      <td>NaN</td>\n",
       "      <td>NaN</td>\n",
       "    </tr>\n",
       "    <tr>\n",
       "      <th>2018-03-16</th>\n",
       "      <td>NaN</td>\n",
       "      <td>NaN</td>\n",
       "      <td>NaN</td>\n",
       "      <td>NaN</td>\n",
       "      <td>NaN</td>\n",
       "      <td>NaN</td>\n",
       "    </tr>\n",
       "    <tr>\n",
       "      <th>2018-03-17</th>\n",
       "      <td>NaN</td>\n",
       "      <td>NaN</td>\n",
       "      <td>NaN</td>\n",
       "      <td>NaN</td>\n",
       "      <td>NaN</td>\n",
       "      <td>NaN</td>\n",
       "    </tr>\n",
       "    <tr>\n",
       "      <th>2018-03-18</th>\n",
       "      <td>NaN</td>\n",
       "      <td>NaN</td>\n",
       "      <td>NaN</td>\n",
       "      <td>NaN</td>\n",
       "      <td>NaN</td>\n",
       "      <td>NaN</td>\n",
       "    </tr>\n",
       "    <tr>\n",
       "      <th>2018-03-19</th>\n",
       "      <td>NaN</td>\n",
       "      <td>NaN</td>\n",
       "      <td>NaN</td>\n",
       "      <td>NaN</td>\n",
       "      <td>NaN</td>\n",
       "      <td>NaN</td>\n",
       "    </tr>\n",
       "    <tr>\n",
       "      <th>2018-03-20</th>\n",
       "      <td>NaN</td>\n",
       "      <td>NaN</td>\n",
       "      <td>NaN</td>\n",
       "      <td>NaN</td>\n",
       "      <td>NaN</td>\n",
       "      <td>NaN</td>\n",
       "    </tr>\n",
       "    <tr>\n",
       "      <th>2018-03-21</th>\n",
       "      <td>NaN</td>\n",
       "      <td>NaN</td>\n",
       "      <td>NaN</td>\n",
       "      <td>NaN</td>\n",
       "      <td>NaN</td>\n",
       "      <td>NaN</td>\n",
       "    </tr>\n",
       "    <tr>\n",
       "      <th>2018-03-22</th>\n",
       "      <td>NaN</td>\n",
       "      <td>NaN</td>\n",
       "      <td>NaN</td>\n",
       "      <td>NaN</td>\n",
       "      <td>NaN</td>\n",
       "      <td>NaN</td>\n",
       "    </tr>\n",
       "    <tr>\n",
       "      <th>2018-03-23</th>\n",
       "      <td>NaN</td>\n",
       "      <td>NaN</td>\n",
       "      <td>NaN</td>\n",
       "      <td>NaN</td>\n",
       "      <td>NaN</td>\n",
       "      <td>NaN</td>\n",
       "    </tr>\n",
       "  </tbody>\n",
       "</table>\n",
       "</div>"
      ],
      "text/plain": [
       "                   A         B         C         D    F     E\n",
       "2018-03-04       NaN       NaN       NaN       NaN  NaN   NaN\n",
       "2018-03-05       NaN       NaN       NaN       NaN  NaN   NaN\n",
       "2018-03-06 -0.888455 -2.212578 -0.290240 -1.406191  1.0  12.0\n",
       "2018-03-07 -2.412414 -2.388306 -3.949295 -2.952934  0.0  10.0\n",
       "2018-03-08 -6.770163 -4.441913 -5.979803 -5.577235 -1.0   8.0\n",
       "2018-03-09       NaN       NaN       NaN       NaN  NaN   NaN\n",
       "2018-03-10 -5.729256 -6.226251 -6.270154 -5.208854  0.0   7.0\n",
       "2018-03-11 -8.619015 -7.251935 -8.183903 -7.320574 -1.0   5.0\n",
       "2018-03-12       NaN       NaN       NaN       NaN  NaN   NaN\n",
       "2018-03-13       NaN       NaN       NaN       NaN  NaN   NaN\n",
       "2018-03-14       NaN       NaN       NaN       NaN  NaN   NaN\n",
       "2018-03-15       NaN       NaN       NaN       NaN  NaN   NaN\n",
       "2018-03-16       NaN       NaN       NaN       NaN  NaN   NaN\n",
       "2018-03-17       NaN       NaN       NaN       NaN  NaN   NaN\n",
       "2018-03-18       NaN       NaN       NaN       NaN  NaN   NaN\n",
       "2018-03-19       NaN       NaN       NaN       NaN  NaN   NaN\n",
       "2018-03-20       NaN       NaN       NaN       NaN  NaN   NaN\n",
       "2018-03-21       NaN       NaN       NaN       NaN  NaN   NaN\n",
       "2018-03-22       NaN       NaN       NaN       NaN  NaN   NaN\n",
       "2018-03-23       NaN       NaN       NaN       NaN  NaN   NaN"
      ]
     },
     "execution_count": 60,
     "metadata": {},
     "output_type": "execute_result"
    }
   ],
   "source": [
    "df.sub(s, axis='index')"
   ]
  },
  {
   "cell_type": "code",
   "execution_count": null,
   "metadata": {},
   "outputs": [],
   "source": []
  }
 ],
 "metadata": {
  "kernelspec": {
   "display_name": "Python 3",
   "language": "python",
   "name": "python3"
  },
  "language_info": {
   "codemirror_mode": {
    "name": "ipython",
    "version": 3
   },
   "file_extension": ".py",
   "mimetype": "text/x-python",
   "name": "python",
   "nbconvert_exporter": "python",
   "pygments_lexer": "ipython3",
   "version": "3.6.5"
  }
 },
 "nbformat": 4,
 "nbformat_minor": 2
}
