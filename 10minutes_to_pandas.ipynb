{
 "cells": [
  {
   "cell_type": "code",
   "execution_count": 1,
   "metadata": {},
   "outputs": [],
   "source": [
    "import pandas as pd\n",
    "import numpy as np"
   ]
  },
  {
   "cell_type": "markdown",
   "metadata": {},
   "source": [
    "### pandas 의 버전 확인"
   ]
  },
  {
   "cell_type": "markdown",
   "metadata": {},
   "source": [
    "참고자료:\n",
    "\n",
    "`10 minutes to pandas`, `askdjango`, `구글링`"
   ]
  },
  {
   "cell_type": "code",
   "execution_count": 2,
   "metadata": {},
   "outputs": [
    {
     "data": {
      "text/plain": [
       "'0.23.4'"
      ]
     },
     "execution_count": 2,
     "metadata": {},
     "output_type": "execute_result"
    }
   ],
   "source": [
    "pd.__version__"
   ]
  },
  {
   "cell_type": "markdown",
   "metadata": {},
   "source": [
    "\n"
   ]
  },
  {
   "cell_type": "markdown",
   "metadata": {},
   "source": [
    "# 10 Minutes to pandas 튜토리얼"
   ]
  },
  {
   "cell_type": "markdown",
   "metadata": {},
   "source": [
    "\n"
   ]
  },
  {
   "cell_type": "markdown",
   "metadata": {},
   "source": [
    "### EP1: Object creation(객체 생성)"
   ]
  },
  {
   "cell_type": "code",
   "execution_count": 3,
   "metadata": {},
   "outputs": [
    {
     "data": {
      "text/plain": [
       "0    1.0\n",
       "1    3.0\n",
       "2    5.0\n",
       "3    NaN\n",
       "4    6.0\n",
       "5    8.0\n",
       "dtype: float64"
      ]
     },
     "execution_count": 3,
     "metadata": {},
     "output_type": "execute_result"
    }
   ],
   "source": [
    "s = pd.Series([1,3,5,np.nan,6,8]) #NaN = Not a Number\n",
    "s"
   ]
  },
  {
   "cell_type": "markdown",
   "metadata": {},
   "source": [
    "\n"
   ]
  },
  {
   "cell_type": "markdown",
   "metadata": {},
   "source": [
    "### date_range 를 사용하여 날짜 생성"
   ]
  },
  {
   "cell_type": "code",
   "execution_count": 4,
   "metadata": {},
   "outputs": [
    {
     "data": {
      "text/plain": [
       "DatetimeIndex(['2018-03-04', '2018-03-05', '2018-03-06', '2018-03-07',\n",
       "               '2018-03-08', '2018-03-09', '2018-03-10', '2018-03-11',\n",
       "               '2018-03-12', '2018-03-13', '2018-03-14', '2018-03-15',\n",
       "               '2018-03-16', '2018-03-17', '2018-03-18', '2018-03-19',\n",
       "               '2018-03-20', '2018-03-21', '2018-03-22', '2018-03-23'],\n",
       "              dtype='datetime64[ns]', freq='D')"
      ]
     },
     "execution_count": 4,
     "metadata": {},
     "output_type": "execute_result"
    }
   ],
   "source": [
    "dates = pd.date_range('20180304', periods=20)\n",
    "dates"
   ]
  },
  {
   "cell_type": "markdown",
   "metadata": {},
   "source": [
    "\n"
   ]
  },
  {
   "cell_type": "markdown",
   "metadata": {},
   "source": [
    "### 임의의 배열(array) 를 생성"
   ]
  },
  {
   "cell_type": "code",
   "execution_count": 5,
   "metadata": {},
   "outputs": [
    {
     "data": {
      "text/plain": [
       "array([[ 0.58603911, -1.0664075 ,  0.60811036, -1.51008851],\n",
       "       [-1.45098795,  0.82155706, -1.44056967,  0.83297935],\n",
       "       [-0.37004964, -0.09227712,  0.72155021,  1.43281879],\n",
       "       [-1.33639877, -2.12862898, -0.69613017,  0.59836684],\n",
       "       [ 0.37491866,  1.88971009,  1.64639005, -0.05608989],\n",
       "       [-0.01657686,  0.57668342,  0.01452489,  0.69918845]])"
      ]
     },
     "execution_count": 5,
     "metadata": {},
     "output_type": "execute_result"
    }
   ],
   "source": [
    "np.random.randn(6,4) # 6행 4열의 2차원 랜덤한 array 를 생성"
   ]
  },
  {
   "cell_type": "markdown",
   "metadata": {},
   "source": [
    "### 임의로 생성한 배열을 데이터 프레임으로 생성"
   ]
  },
  {
   "cell_type": "code",
   "execution_count": 6,
   "metadata": {},
   "outputs": [
    {
     "data": {
      "text/html": [
       "<div>\n",
       "<style scoped>\n",
       "    .dataframe tbody tr th:only-of-type {\n",
       "        vertical-align: middle;\n",
       "    }\n",
       "\n",
       "    .dataframe tbody tr th {\n",
       "        vertical-align: top;\n",
       "    }\n",
       "\n",
       "    .dataframe thead th {\n",
       "        text-align: right;\n",
       "    }\n",
       "</style>\n",
       "<table border=\"1\" class=\"dataframe\">\n",
       "  <thead>\n",
       "    <tr style=\"text-align: right;\">\n",
       "      <th></th>\n",
       "      <th>0</th>\n",
       "      <th>1</th>\n",
       "      <th>2</th>\n",
       "      <th>3</th>\n",
       "    </tr>\n",
       "  </thead>\n",
       "  <tbody>\n",
       "    <tr>\n",
       "      <th>인덱스0</th>\n",
       "      <td>-0.720660</td>\n",
       "      <td>-0.548797</td>\n",
       "      <td>-0.459733</td>\n",
       "      <td>-1.163588</td>\n",
       "    </tr>\n",
       "    <tr>\n",
       "      <th>인덱스1</th>\n",
       "      <td>1.390917</td>\n",
       "      <td>-0.617609</td>\n",
       "      <td>-0.351201</td>\n",
       "      <td>-0.518628</td>\n",
       "    </tr>\n",
       "    <tr>\n",
       "      <th>인덱스2</th>\n",
       "      <td>1.712652</td>\n",
       "      <td>0.700141</td>\n",
       "      <td>-1.220917</td>\n",
       "      <td>1.712700</td>\n",
       "    </tr>\n",
       "    <tr>\n",
       "      <th>인덱스3</th>\n",
       "      <td>-0.852881</td>\n",
       "      <td>-1.458387</td>\n",
       "      <td>0.851099</td>\n",
       "      <td>1.067275</td>\n",
       "    </tr>\n",
       "    <tr>\n",
       "      <th>인덱스4</th>\n",
       "      <td>-1.002256</td>\n",
       "      <td>0.886445</td>\n",
       "      <td>-1.334388</td>\n",
       "      <td>-0.030283</td>\n",
       "    </tr>\n",
       "    <tr>\n",
       "      <th>인덱스5</th>\n",
       "      <td>-0.497746</td>\n",
       "      <td>-0.620100</td>\n",
       "      <td>-0.603874</td>\n",
       "      <td>2.668769</td>\n",
       "    </tr>\n",
       "  </tbody>\n",
       "</table>\n",
       "</div>"
      ],
      "text/plain": [
       "             0         1         2         3\n",
       "인덱스0 -0.720660 -0.548797 -0.459733 -1.163588\n",
       "인덱스1  1.390917 -0.617609 -0.351201 -0.518628\n",
       "인덱스2  1.712652  0.700141 -1.220917  1.712700\n",
       "인덱스3 -0.852881 -1.458387  0.851099  1.067275\n",
       "인덱스4 -1.002256  0.886445 -1.334388 -0.030283\n",
       "인덱스5 -0.497746 -0.620100 -0.603874  2.668769"
      ]
     },
     "execution_count": 6,
     "metadata": {},
     "output_type": "execute_result"
    }
   ],
   "source": [
    "# 2차원 데이터 구조인 DataFrame 으로 생성\n",
    "\n",
    "pd.DataFrame(np.random.randn(6, 4), index=['인덱스0', '인덱스1', '인덱스2', '인덱스3', '인덱스4', '인덱스5'])"
   ]
  },
  {
   "cell_type": "markdown",
   "metadata": {},
   "source": [
    "\n"
   ]
  },
  {
   "cell_type": "markdown",
   "metadata": {},
   "source": [
    "# 만약 위에서 생성한 dates를 index 로 넣게 된다면?"
   ]
  },
  {
   "cell_type": "markdown",
   "metadata": {},
   "source": [
    "\n"
   ]
  },
  {
   "cell_type": "markdown",
   "metadata": {},
   "source": [
    "행이 맞지 않기 때문에 `ValueError: Shape of passed values is (4, 6), indices imply (4, 20)` 오류가 발생\n"
   ]
  },
  {
   "cell_type": "markdown",
   "metadata": {},
   "source": [
    "\n"
   ]
  },
  {
   "cell_type": "markdown",
   "metadata": {},
   "source": [
    "### 꼭 values 의 길이를 일치해야 에러없이 데이터 테이블이 생성된다\n",
    "\n",
    "#### + 다른 사람들도 보기 편하도록 데이터 테이블을 만들면 아래와 같이 shape, head 를 넣어주자"
   ]
  },
  {
   "cell_type": "code",
   "execution_count": 7,
   "metadata": {},
   "outputs": [
    {
     "name": "stdout",
     "output_type": "stream",
     "text": [
      "(20, 4)\n"
     ]
    },
    {
     "data": {
      "text/html": [
       "<div>\n",
       "<style scoped>\n",
       "    .dataframe tbody tr th:only-of-type {\n",
       "        vertical-align: middle;\n",
       "    }\n",
       "\n",
       "    .dataframe tbody tr th {\n",
       "        vertical-align: top;\n",
       "    }\n",
       "\n",
       "    .dataframe thead th {\n",
       "        text-align: right;\n",
       "    }\n",
       "</style>\n",
       "<table border=\"1\" class=\"dataframe\">\n",
       "  <thead>\n",
       "    <tr style=\"text-align: right;\">\n",
       "      <th></th>\n",
       "      <th>A</th>\n",
       "      <th>B</th>\n",
       "      <th>C</th>\n",
       "      <th>D</th>\n",
       "    </tr>\n",
       "  </thead>\n",
       "  <tbody>\n",
       "    <tr>\n",
       "      <th>2018-03-04</th>\n",
       "      <td>0.868550</td>\n",
       "      <td>0.361971</td>\n",
       "      <td>-1.215191</td>\n",
       "      <td>-0.605199</td>\n",
       "    </tr>\n",
       "    <tr>\n",
       "      <th>2018-03-05</th>\n",
       "      <td>1.553660</td>\n",
       "      <td>0.180912</td>\n",
       "      <td>0.374747</td>\n",
       "      <td>-1.168331</td>\n",
       "    </tr>\n",
       "    <tr>\n",
       "      <th>2018-03-06</th>\n",
       "      <td>-0.457921</td>\n",
       "      <td>-0.263354</td>\n",
       "      <td>1.425379</td>\n",
       "      <td>0.912822</td>\n",
       "    </tr>\n",
       "    <tr>\n",
       "      <th>2018-03-07</th>\n",
       "      <td>-1.516530</td>\n",
       "      <td>-0.303393</td>\n",
       "      <td>-1.190135</td>\n",
       "      <td>3.482426</td>\n",
       "    </tr>\n",
       "    <tr>\n",
       "      <th>2018-03-08</th>\n",
       "      <td>-0.771939</td>\n",
       "      <td>0.925489</td>\n",
       "      <td>-0.148202</td>\n",
       "      <td>-0.220742</td>\n",
       "    </tr>\n",
       "  </tbody>\n",
       "</table>\n",
       "</div>"
      ],
      "text/plain": [
       "                   A         B         C         D\n",
       "2018-03-04  0.868550  0.361971 -1.215191 -0.605199\n",
       "2018-03-05  1.553660  0.180912  0.374747 -1.168331\n",
       "2018-03-06 -0.457921 -0.263354  1.425379  0.912822\n",
       "2018-03-07 -1.516530 -0.303393 -1.190135  3.482426\n",
       "2018-03-08 -0.771939  0.925489 -0.148202 -0.220742"
      ]
     },
     "execution_count": 7,
     "metadata": {},
     "output_type": "execute_result"
    }
   ],
   "source": [
    "df = pd.DataFrame(np.random.randn(20, 4), index=dates, columns=['A','B','C','D'])\n",
    "\n",
    "print(df.shape)\n",
    "df.head()"
   ]
  },
  {
   "cell_type": "markdown",
   "metadata": {},
   "source": [
    "\n"
   ]
  },
  {
   "cell_type": "markdown",
   "metadata": {},
   "source": [
    "\n"
   ]
  },
  {
   "cell_type": "markdown",
   "metadata": {},
   "source": [
    "### 직렬로 변환할 수 있는 object 를 전달하여 DataFrame 생성하기"
   ]
  },
  {
   "cell_type": "code",
   "execution_count": 8,
   "metadata": {},
   "outputs": [
    {
     "name": "stdout",
     "output_type": "stream",
     "text": [
      "(4, 6)\n"
     ]
    },
    {
     "data": {
      "text/html": [
       "<div>\n",
       "<style scoped>\n",
       "    .dataframe tbody tr th:only-of-type {\n",
       "        vertical-align: middle;\n",
       "    }\n",
       "\n",
       "    .dataframe tbody tr th {\n",
       "        vertical-align: top;\n",
       "    }\n",
       "\n",
       "    .dataframe thead th {\n",
       "        text-align: right;\n",
       "    }\n",
       "</style>\n",
       "<table border=\"1\" class=\"dataframe\">\n",
       "  <thead>\n",
       "    <tr style=\"text-align: right;\">\n",
       "      <th></th>\n",
       "      <th>A</th>\n",
       "      <th>B</th>\n",
       "      <th>C</th>\n",
       "      <th>D</th>\n",
       "      <th>E</th>\n",
       "      <th>F</th>\n",
       "    </tr>\n",
       "  </thead>\n",
       "  <tbody>\n",
       "    <tr>\n",
       "      <th>0</th>\n",
       "      <td>1.0</td>\n",
       "      <td>2013-01-02</td>\n",
       "      <td>1.0</td>\n",
       "      <td>3</td>\n",
       "      <td>test</td>\n",
       "      <td>foo</td>\n",
       "    </tr>\n",
       "    <tr>\n",
       "      <th>1</th>\n",
       "      <td>1.0</td>\n",
       "      <td>2013-01-02</td>\n",
       "      <td>1.0</td>\n",
       "      <td>3</td>\n",
       "      <td>train</td>\n",
       "      <td>foo</td>\n",
       "    </tr>\n",
       "    <tr>\n",
       "      <th>2</th>\n",
       "      <td>1.0</td>\n",
       "      <td>2013-01-02</td>\n",
       "      <td>1.0</td>\n",
       "      <td>3</td>\n",
       "      <td>test</td>\n",
       "      <td>foo</td>\n",
       "    </tr>\n",
       "    <tr>\n",
       "      <th>3</th>\n",
       "      <td>1.0</td>\n",
       "      <td>2013-01-02</td>\n",
       "      <td>1.0</td>\n",
       "      <td>3</td>\n",
       "      <td>train</td>\n",
       "      <td>foo</td>\n",
       "    </tr>\n",
       "  </tbody>\n",
       "</table>\n",
       "</div>"
      ],
      "text/plain": [
       "     A          B    C  D      E    F\n",
       "0  1.0 2013-01-02  1.0  3   test  foo\n",
       "1  1.0 2013-01-02  1.0  3  train  foo\n",
       "2  1.0 2013-01-02  1.0  3   test  foo\n",
       "3  1.0 2013-01-02  1.0  3  train  foo"
      ]
     },
     "execution_count": 8,
     "metadata": {},
     "output_type": "execute_result"
    }
   ],
   "source": [
    "df2 = pd.DataFrame({ 'A' : 1.,\n",
    "                    'B' : pd.Timestamp('20130102'),\n",
    "                    'C' : pd.Series(1,index=list(range(4)),dtype='float32'),\n",
    "                    'D' : np.array([3] * 4,dtype='int32'),\n",
    "                    'E' : pd.Categorical([\"test\",\"train\",\"test\",\"train\"]),\n",
    "                    'F' : 'foo' })\n",
    "print(df2.shape)\n",
    "df2"
   ]
  },
  {
   "cell_type": "code",
   "execution_count": 9,
   "metadata": {},
   "outputs": [
    {
     "data": {
      "text/plain": [
       "A           float64\n",
       "B    datetime64[ns]\n",
       "C           float32\n",
       "D             int32\n",
       "E          category\n",
       "F            object\n",
       "dtype: object"
      ]
     },
     "execution_count": 9,
     "metadata": {},
     "output_type": "execute_result"
    }
   ],
   "source": [
    "df2.dtypes # 스마트하게 각 인덱스의 데이터타입을 출력해준다"
   ]
  },
  {
   "cell_type": "markdown",
   "metadata": {},
   "source": [
    "\n",
    "\n"
   ]
  },
  {
   "cell_type": "markdown",
   "metadata": {},
   "source": [
    "\n"
   ]
  },
  {
   "cell_type": "markdown",
   "metadata": {},
   "source": [
    "## EP2: Viewing Data\n",
    "\n",
    "----------------------\n",
    "\n",
    "Data의 값을 찾고 해당 데이터의 변경을 해본다"
   ]
  },
  {
   "cell_type": "markdown",
   "metadata": {},
   "source": [
    "```\n",
    "|        | columns1 | columns2 | columns3 | columns4 |\n",
    "|--------|----------|----------|----------|----------|\n",
    "| index1 |          |          |          |          |\n",
    "| index2 |          |          |          |          |\n",
    "| index3 |          |          |          |          |\n",
    "```"
   ]
  },
  {
   "cell_type": "markdown",
   "metadata": {},
   "source": [
    "\n"
   ]
  },
  {
   "cell_type": "markdown",
   "metadata": {},
   "source": [
    "### index 값 찾기"
   ]
  },
  {
   "cell_type": "code",
   "execution_count": 10,
   "metadata": {},
   "outputs": [
    {
     "data": {
      "text/plain": [
       "DatetimeIndex(['2018-03-04', '2018-03-05', '2018-03-06', '2018-03-07',\n",
       "               '2018-03-08', '2018-03-09', '2018-03-10', '2018-03-11',\n",
       "               '2018-03-12', '2018-03-13', '2018-03-14', '2018-03-15',\n",
       "               '2018-03-16', '2018-03-17', '2018-03-18', '2018-03-19',\n",
       "               '2018-03-20', '2018-03-21', '2018-03-22', '2018-03-23'],\n",
       "              dtype='datetime64[ns]', freq='D')"
      ]
     },
     "execution_count": 10,
     "metadata": {},
     "output_type": "execute_result"
    }
   ],
   "source": [
    "df.index"
   ]
  },
  {
   "cell_type": "markdown",
   "metadata": {},
   "source": [
    "\n"
   ]
  },
  {
   "cell_type": "markdown",
   "metadata": {},
   "source": [
    "### 데이터의 columns 의 값 찾기/변경하기"
   ]
  },
  {
   "cell_type": "code",
   "execution_count": 11,
   "metadata": {},
   "outputs": [
    {
     "data": {
      "text/plain": [
       "Index(['A', 'B', 'C', 'D'], dtype='object')"
      ]
     },
     "execution_count": 11,
     "metadata": {},
     "output_type": "execute_result"
    }
   ],
   "source": [
    "df.columns"
   ]
  },
  {
   "cell_type": "code",
   "execution_count": 12,
   "metadata": {},
   "outputs": [],
   "source": [
    "df.columns = ['A', 'B', 'C', 'D']"
   ]
  },
  {
   "cell_type": "markdown",
   "metadata": {},
   "source": [
    "\n"
   ]
  },
  {
   "cell_type": "markdown",
   "metadata": {},
   "source": [
    "### DataFrame의 요약 정보를 알아보기"
   ]
  },
  {
   "cell_type": "code",
   "execution_count": 13,
   "metadata": {},
   "outputs": [
    {
     "data": {
      "text/html": [
       "<div>\n",
       "<style scoped>\n",
       "    .dataframe tbody tr th:only-of-type {\n",
       "        vertical-align: middle;\n",
       "    }\n",
       "\n",
       "    .dataframe tbody tr th {\n",
       "        vertical-align: top;\n",
       "    }\n",
       "\n",
       "    .dataframe thead th {\n",
       "        text-align: right;\n",
       "    }\n",
       "</style>\n",
       "<table border=\"1\" class=\"dataframe\">\n",
       "  <thead>\n",
       "    <tr style=\"text-align: right;\">\n",
       "      <th></th>\n",
       "      <th>A</th>\n",
       "      <th>B</th>\n",
       "      <th>C</th>\n",
       "      <th>D</th>\n",
       "    </tr>\n",
       "  </thead>\n",
       "  <tbody>\n",
       "    <tr>\n",
       "      <th>count</th>\n",
       "      <td>20.000000</td>\n",
       "      <td>20.000000</td>\n",
       "      <td>20.000000</td>\n",
       "      <td>20.000000</td>\n",
       "    </tr>\n",
       "    <tr>\n",
       "      <th>mean</th>\n",
       "      <td>-0.073625</td>\n",
       "      <td>0.272341</td>\n",
       "      <td>0.041342</td>\n",
       "      <td>0.429540</td>\n",
       "    </tr>\n",
       "    <tr>\n",
       "      <th>std</th>\n",
       "      <td>1.134760</td>\n",
       "      <td>0.767637</td>\n",
       "      <td>0.963458</td>\n",
       "      <td>1.156159</td>\n",
       "    </tr>\n",
       "    <tr>\n",
       "      <th>min</th>\n",
       "      <td>-2.581484</td>\n",
       "      <td>-1.191682</td>\n",
       "      <td>-1.868817</td>\n",
       "      <td>-1.168331</td>\n",
       "    </tr>\n",
       "    <tr>\n",
       "      <th>25%</th>\n",
       "      <td>-0.833993</td>\n",
       "      <td>-0.002007</td>\n",
       "      <td>-0.498394</td>\n",
       "      <td>-0.229155</td>\n",
       "    </tr>\n",
       "    <tr>\n",
       "      <th>50%</th>\n",
       "      <td>0.122175</td>\n",
       "      <td>0.378763</td>\n",
       "      <td>0.058453</td>\n",
       "      <td>0.236062</td>\n",
       "    </tr>\n",
       "    <tr>\n",
       "      <th>75%</th>\n",
       "      <td>0.662636</td>\n",
       "      <td>0.694265</td>\n",
       "      <td>0.946170</td>\n",
       "      <td>0.717660</td>\n",
       "    </tr>\n",
       "    <tr>\n",
       "      <th>max</th>\n",
       "      <td>1.735567</td>\n",
       "      <td>1.704500</td>\n",
       "      <td>1.425379</td>\n",
       "      <td>3.482426</td>\n",
       "    </tr>\n",
       "  </tbody>\n",
       "</table>\n",
       "</div>"
      ],
      "text/plain": [
       "               A          B          C          D\n",
       "count  20.000000  20.000000  20.000000  20.000000\n",
       "mean   -0.073625   0.272341   0.041342   0.429540\n",
       "std     1.134760   0.767637   0.963458   1.156159\n",
       "min    -2.581484  -1.191682  -1.868817  -1.168331\n",
       "25%    -0.833993  -0.002007  -0.498394  -0.229155\n",
       "50%     0.122175   0.378763   0.058453   0.236062\n",
       "75%     0.662636   0.694265   0.946170   0.717660\n",
       "max     1.735567   1.704500   1.425379   3.482426"
      ]
     },
     "execution_count": 13,
     "metadata": {},
     "output_type": "execute_result"
    }
   ],
   "source": [
    "df.describe()"
   ]
  },
  {
   "cell_type": "markdown",
   "metadata": {},
   "source": [
    "\n"
   ]
  },
  {
   "cell_type": "markdown",
   "metadata": {},
   "source": [
    "### index 와 column 을 바꿔주는 `.T`"
   ]
  },
  {
   "cell_type": "code",
   "execution_count": 14,
   "metadata": {},
   "outputs": [
    {
     "data": {
      "text/html": [
       "<div>\n",
       "<style scoped>\n",
       "    .dataframe tbody tr th:only-of-type {\n",
       "        vertical-align: middle;\n",
       "    }\n",
       "\n",
       "    .dataframe tbody tr th {\n",
       "        vertical-align: top;\n",
       "    }\n",
       "\n",
       "    .dataframe thead th {\n",
       "        text-align: right;\n",
       "    }\n",
       "</style>\n",
       "<table border=\"1\" class=\"dataframe\">\n",
       "  <thead>\n",
       "    <tr style=\"text-align: right;\">\n",
       "      <th></th>\n",
       "      <th>2018-03-04 00:00:00</th>\n",
       "      <th>2018-03-05 00:00:00</th>\n",
       "      <th>2018-03-06 00:00:00</th>\n",
       "      <th>2018-03-07 00:00:00</th>\n",
       "      <th>2018-03-08 00:00:00</th>\n",
       "      <th>2018-03-09 00:00:00</th>\n",
       "      <th>2018-03-10 00:00:00</th>\n",
       "      <th>2018-03-11 00:00:00</th>\n",
       "      <th>2018-03-12 00:00:00</th>\n",
       "      <th>2018-03-13 00:00:00</th>\n",
       "      <th>2018-03-14 00:00:00</th>\n",
       "      <th>2018-03-15 00:00:00</th>\n",
       "      <th>2018-03-16 00:00:00</th>\n",
       "      <th>2018-03-17 00:00:00</th>\n",
       "      <th>2018-03-18 00:00:00</th>\n",
       "      <th>2018-03-19 00:00:00</th>\n",
       "      <th>2018-03-20 00:00:00</th>\n",
       "      <th>2018-03-21 00:00:00</th>\n",
       "      <th>2018-03-22 00:00:00</th>\n",
       "      <th>2018-03-23 00:00:00</th>\n",
       "    </tr>\n",
       "  </thead>\n",
       "  <tbody>\n",
       "    <tr>\n",
       "      <th>A</th>\n",
       "      <td>0.868550</td>\n",
       "      <td>1.553660</td>\n",
       "      <td>-0.457921</td>\n",
       "      <td>-1.516530</td>\n",
       "      <td>-0.771939</td>\n",
       "      <td>-0.990552</td>\n",
       "      <td>0.310928</td>\n",
       "      <td>-1.359726</td>\n",
       "      <td>1.077967</td>\n",
       "      <td>0.593998</td>\n",
       "      <td>-0.066579</td>\n",
       "      <td>-1.169535</td>\n",
       "      <td>-0.781807</td>\n",
       "      <td>1.217606</td>\n",
       "      <td>-2.581484</td>\n",
       "      <td>1.735567</td>\n",
       "      <td>0.571404</td>\n",
       "      <td>0.336343</td>\n",
       "      <td>-0.392885</td>\n",
       "      <td>0.350437</td>\n",
       "    </tr>\n",
       "    <tr>\n",
       "      <th>B</th>\n",
       "      <td>0.361971</td>\n",
       "      <td>0.180912</td>\n",
       "      <td>-0.263354</td>\n",
       "      <td>-0.303393</td>\n",
       "      <td>0.925489</td>\n",
       "      <td>1.704500</td>\n",
       "      <td>0.810005</td>\n",
       "      <td>0.635321</td>\n",
       "      <td>0.519286</td>\n",
       "      <td>0.427791</td>\n",
       "      <td>0.171686</td>\n",
       "      <td>-1.191682</td>\n",
       "      <td>-1.121264</td>\n",
       "      <td>0.395554</td>\n",
       "      <td>0.233059</td>\n",
       "      <td>1.063777</td>\n",
       "      <td>0.655685</td>\n",
       "      <td>1.214288</td>\n",
       "      <td>0.085108</td>\n",
       "      <td>-1.057915</td>\n",
       "    </tr>\n",
       "    <tr>\n",
       "      <th>C</th>\n",
       "      <td>-1.215191</td>\n",
       "      <td>0.374747</td>\n",
       "      <td>1.425379</td>\n",
       "      <td>-1.190135</td>\n",
       "      <td>-0.148202</td>\n",
       "      <td>-1.447922</td>\n",
       "      <td>-0.643031</td>\n",
       "      <td>0.938998</td>\n",
       "      <td>0.099999</td>\n",
       "      <td>0.557566</td>\n",
       "      <td>1.069365</td>\n",
       "      <td>0.169808</td>\n",
       "      <td>-0.084425</td>\n",
       "      <td>1.375085</td>\n",
       "      <td>-0.185880</td>\n",
       "      <td>-0.450182</td>\n",
       "      <td>-1.868817</td>\n",
       "      <td>1.065086</td>\n",
       "      <td>0.016907</td>\n",
       "      <td>0.967686</td>\n",
       "    </tr>\n",
       "    <tr>\n",
       "      <th>D</th>\n",
       "      <td>-0.605199</td>\n",
       "      <td>-1.168331</td>\n",
       "      <td>0.912822</td>\n",
       "      <td>3.482426</td>\n",
       "      <td>-0.220742</td>\n",
       "      <td>0.060468</td>\n",
       "      <td>-0.090067</td>\n",
       "      <td>0.135916</td>\n",
       "      <td>0.638730</td>\n",
       "      <td>0.286848</td>\n",
       "      <td>0.822569</td>\n",
       "      <td>0.534880</td>\n",
       "      <td>0.185277</td>\n",
       "      <td>0.682691</td>\n",
       "      <td>-0.973858</td>\n",
       "      <td>2.312442</td>\n",
       "      <td>-0.973287</td>\n",
       "      <td>2.143880</td>\n",
       "      <td>0.677721</td>\n",
       "      <td>-0.254394</td>\n",
       "    </tr>\n",
       "  </tbody>\n",
       "</table>\n",
       "</div>"
      ],
      "text/plain": [
       "   2018-03-04  2018-03-05  2018-03-06  2018-03-07  2018-03-08  2018-03-09  \\\n",
       "A    0.868550    1.553660   -0.457921   -1.516530   -0.771939   -0.990552   \n",
       "B    0.361971    0.180912   -0.263354   -0.303393    0.925489    1.704500   \n",
       "C   -1.215191    0.374747    1.425379   -1.190135   -0.148202   -1.447922   \n",
       "D   -0.605199   -1.168331    0.912822    3.482426   -0.220742    0.060468   \n",
       "\n",
       "   2018-03-10  2018-03-11  2018-03-12  2018-03-13  2018-03-14  2018-03-15  \\\n",
       "A    0.310928   -1.359726    1.077967    0.593998   -0.066579   -1.169535   \n",
       "B    0.810005    0.635321    0.519286    0.427791    0.171686   -1.191682   \n",
       "C   -0.643031    0.938998    0.099999    0.557566    1.069365    0.169808   \n",
       "D   -0.090067    0.135916    0.638730    0.286848    0.822569    0.534880   \n",
       "\n",
       "   2018-03-16  2018-03-17  2018-03-18  2018-03-19  2018-03-20  2018-03-21  \\\n",
       "A   -0.781807    1.217606   -2.581484    1.735567    0.571404    0.336343   \n",
       "B   -1.121264    0.395554    0.233059    1.063777    0.655685    1.214288   \n",
       "C   -0.084425    1.375085   -0.185880   -0.450182   -1.868817    1.065086   \n",
       "D    0.185277    0.682691   -0.973858    2.312442   -0.973287    2.143880   \n",
       "\n",
       "   2018-03-22  2018-03-23  \n",
       "A   -0.392885    0.350437  \n",
       "B    0.085108   -1.057915  \n",
       "C    0.016907    0.967686  \n",
       "D    0.677721   -0.254394  "
      ]
     },
     "execution_count": 14,
     "metadata": {},
     "output_type": "execute_result"
    }
   ],
   "source": [
    "df.T"
   ]
  },
  {
   "cell_type": "markdown",
   "metadata": {},
   "source": [
    "### 원하는 index 기준으로 다시 정렬하기"
   ]
  },
  {
   "cell_type": "code",
   "execution_count": 15,
   "metadata": {},
   "outputs": [
    {
     "data": {
      "text/html": [
       "<div>\n",
       "<style scoped>\n",
       "    .dataframe tbody tr th:only-of-type {\n",
       "        vertical-align: middle;\n",
       "    }\n",
       "\n",
       "    .dataframe tbody tr th {\n",
       "        vertical-align: top;\n",
       "    }\n",
       "\n",
       "    .dataframe thead th {\n",
       "        text-align: right;\n",
       "    }\n",
       "</style>\n",
       "<table border=\"1\" class=\"dataframe\">\n",
       "  <thead>\n",
       "    <tr style=\"text-align: right;\">\n",
       "      <th></th>\n",
       "      <th>A</th>\n",
       "      <th>B</th>\n",
       "      <th>C</th>\n",
       "      <th>D</th>\n",
       "    </tr>\n",
       "  </thead>\n",
       "  <tbody>\n",
       "    <tr>\n",
       "      <th>2018-03-23</th>\n",
       "      <td>0.350437</td>\n",
       "      <td>-1.057915</td>\n",
       "      <td>0.967686</td>\n",
       "      <td>-0.254394</td>\n",
       "    </tr>\n",
       "    <tr>\n",
       "      <th>2018-03-22</th>\n",
       "      <td>-0.392885</td>\n",
       "      <td>0.085108</td>\n",
       "      <td>0.016907</td>\n",
       "      <td>0.677721</td>\n",
       "    </tr>\n",
       "    <tr>\n",
       "      <th>2018-03-21</th>\n",
       "      <td>0.336343</td>\n",
       "      <td>1.214288</td>\n",
       "      <td>1.065086</td>\n",
       "      <td>2.143880</td>\n",
       "    </tr>\n",
       "    <tr>\n",
       "      <th>2018-03-20</th>\n",
       "      <td>0.571404</td>\n",
       "      <td>0.655685</td>\n",
       "      <td>-1.868817</td>\n",
       "      <td>-0.973287</td>\n",
       "    </tr>\n",
       "    <tr>\n",
       "      <th>2018-03-19</th>\n",
       "      <td>1.735567</td>\n",
       "      <td>1.063777</td>\n",
       "      <td>-0.450182</td>\n",
       "      <td>2.312442</td>\n",
       "    </tr>\n",
       "  </tbody>\n",
       "</table>\n",
       "</div>"
      ],
      "text/plain": [
       "                   A         B         C         D\n",
       "2018-03-23  0.350437 -1.057915  0.967686 -0.254394\n",
       "2018-03-22 -0.392885  0.085108  0.016907  0.677721\n",
       "2018-03-21  0.336343  1.214288  1.065086  2.143880\n",
       "2018-03-20  0.571404  0.655685 -1.868817 -0.973287\n",
       "2018-03-19  1.735567  1.063777 -0.450182  2.312442"
      ]
     },
     "execution_count": 15,
     "metadata": {},
     "output_type": "execute_result"
    }
   ],
   "source": [
    "df.sort_index(ascending=False).head()"
   ]
  },
  {
   "cell_type": "markdown",
   "metadata": {},
   "source": [
    "\n"
   ]
  },
  {
   "cell_type": "markdown",
   "metadata": {},
   "source": [
    "### 특정 column을 기준으로 정렬하기\n",
    "\n",
    "df.sort_values('<기준이 되는 column>')"
   ]
  },
  {
   "cell_type": "code",
   "execution_count": 16,
   "metadata": {},
   "outputs": [
    {
     "data": {
      "text/html": [
       "<div>\n",
       "<style scoped>\n",
       "    .dataframe tbody tr th:only-of-type {\n",
       "        vertical-align: middle;\n",
       "    }\n",
       "\n",
       "    .dataframe tbody tr th {\n",
       "        vertical-align: top;\n",
       "    }\n",
       "\n",
       "    .dataframe thead th {\n",
       "        text-align: right;\n",
       "    }\n",
       "</style>\n",
       "<table border=\"1\" class=\"dataframe\">\n",
       "  <thead>\n",
       "    <tr style=\"text-align: right;\">\n",
       "      <th></th>\n",
       "      <th>A</th>\n",
       "      <th>B</th>\n",
       "      <th>C</th>\n",
       "      <th>D</th>\n",
       "    </tr>\n",
       "  </thead>\n",
       "  <tbody>\n",
       "    <tr>\n",
       "      <th>2018-03-20</th>\n",
       "      <td>0.571404</td>\n",
       "      <td>0.655685</td>\n",
       "      <td>-1.868817</td>\n",
       "      <td>-0.973287</td>\n",
       "    </tr>\n",
       "    <tr>\n",
       "      <th>2018-03-09</th>\n",
       "      <td>-0.990552</td>\n",
       "      <td>1.704500</td>\n",
       "      <td>-1.447922</td>\n",
       "      <td>0.060468</td>\n",
       "    </tr>\n",
       "    <tr>\n",
       "      <th>2018-03-04</th>\n",
       "      <td>0.868550</td>\n",
       "      <td>0.361971</td>\n",
       "      <td>-1.215191</td>\n",
       "      <td>-0.605199</td>\n",
       "    </tr>\n",
       "    <tr>\n",
       "      <th>2018-03-07</th>\n",
       "      <td>-1.516530</td>\n",
       "      <td>-0.303393</td>\n",
       "      <td>-1.190135</td>\n",
       "      <td>3.482426</td>\n",
       "    </tr>\n",
       "    <tr>\n",
       "      <th>2018-03-10</th>\n",
       "      <td>0.310928</td>\n",
       "      <td>0.810005</td>\n",
       "      <td>-0.643031</td>\n",
       "      <td>-0.090067</td>\n",
       "    </tr>\n",
       "  </tbody>\n",
       "</table>\n",
       "</div>"
      ],
      "text/plain": [
       "                   A         B         C         D\n",
       "2018-03-20  0.571404  0.655685 -1.868817 -0.973287\n",
       "2018-03-09 -0.990552  1.704500 -1.447922  0.060468\n",
       "2018-03-04  0.868550  0.361971 -1.215191 -0.605199\n",
       "2018-03-07 -1.516530 -0.303393 -1.190135  3.482426\n",
       "2018-03-10  0.310928  0.810005 -0.643031 -0.090067"
      ]
     },
     "execution_count": 16,
     "metadata": {},
     "output_type": "execute_result"
    }
   ],
   "source": [
    "df.sort_values('C').head()"
   ]
  },
  {
   "cell_type": "markdown",
   "metadata": {},
   "source": [
    "\n"
   ]
  },
  {
   "cell_type": "markdown",
   "metadata": {},
   "source": [
    "\n",
    "\n"
   ]
  },
  {
   "cell_type": "markdown",
   "metadata": {},
   "source": [
    "## EP3: Selection"
   ]
  },
  {
   "cell_type": "markdown",
   "metadata": {},
   "source": [
    "특정 Column 을 선택해서 데이터를 확인\n",
    "\n",
    "2가지 방법은 모두 동일한 결과값을 가지지만 `Column명이 \"D-D\" ` 와 같은 경우에는 마이너스(-) _연산자로 인식하여 (데이터 - 데이터)로 계산을 한다_"
   ]
  },
  {
   "cell_type": "code",
   "execution_count": 17,
   "metadata": {},
   "outputs": [
    {
     "data": {
      "text/plain": [
       "2018-03-04   -0.605199\n",
       "2018-03-05   -1.168331\n",
       "2018-03-06    0.912822\n",
       "Freq: D, Name: D, dtype: float64"
      ]
     },
     "execution_count": 17,
     "metadata": {},
     "output_type": "execute_result"
    }
   ],
   "source": [
    "df['D'].head(3) # DataFrame 'D'의 데이터 가져오기(1)"
   ]
  },
  {
   "cell_type": "code",
   "execution_count": 18,
   "metadata": {},
   "outputs": [
    {
     "data": {
      "text/plain": [
       "2018-03-04   -0.605199\n",
       "2018-03-05   -1.168331\n",
       "2018-03-06    0.912822\n",
       "Freq: D, Name: D, dtype: float64"
      ]
     },
     "execution_count": 18,
     "metadata": {},
     "output_type": "execute_result"
    }
   ],
   "source": [
    "df.D.head(3) # DataFrame 'D'의 데이터 가져오기(1)"
   ]
  },
  {
   "cell_type": "markdown",
   "metadata": {},
   "source": [
    "\n"
   ]
  },
  {
   "cell_type": "markdown",
   "metadata": {},
   "source": [
    "### 슬라이싱하기"
   ]
  },
  {
   "cell_type": "markdown",
   "metadata": {},
   "source": [
    "#### DataFrame 에서 `0이상~3미만` 값을 출력하기"
   ]
  },
  {
   "cell_type": "code",
   "execution_count": 19,
   "metadata": {},
   "outputs": [
    {
     "data": {
      "text/html": [
       "<div>\n",
       "<style scoped>\n",
       "    .dataframe tbody tr th:only-of-type {\n",
       "        vertical-align: middle;\n",
       "    }\n",
       "\n",
       "    .dataframe tbody tr th {\n",
       "        vertical-align: top;\n",
       "    }\n",
       "\n",
       "    .dataframe thead th {\n",
       "        text-align: right;\n",
       "    }\n",
       "</style>\n",
       "<table border=\"1\" class=\"dataframe\">\n",
       "  <thead>\n",
       "    <tr style=\"text-align: right;\">\n",
       "      <th></th>\n",
       "      <th>A</th>\n",
       "      <th>B</th>\n",
       "      <th>C</th>\n",
       "      <th>D</th>\n",
       "    </tr>\n",
       "  </thead>\n",
       "  <tbody>\n",
       "    <tr>\n",
       "      <th>2018-03-04</th>\n",
       "      <td>0.868550</td>\n",
       "      <td>0.361971</td>\n",
       "      <td>-1.215191</td>\n",
       "      <td>-0.605199</td>\n",
       "    </tr>\n",
       "    <tr>\n",
       "      <th>2018-03-05</th>\n",
       "      <td>1.553660</td>\n",
       "      <td>0.180912</td>\n",
       "      <td>0.374747</td>\n",
       "      <td>-1.168331</td>\n",
       "    </tr>\n",
       "    <tr>\n",
       "      <th>2018-03-06</th>\n",
       "      <td>-0.457921</td>\n",
       "      <td>-0.263354</td>\n",
       "      <td>1.425379</td>\n",
       "      <td>0.912822</td>\n",
       "    </tr>\n",
       "  </tbody>\n",
       "</table>\n",
       "</div>"
      ],
      "text/plain": [
       "                   A         B         C         D\n",
       "2018-03-04  0.868550  0.361971 -1.215191 -0.605199\n",
       "2018-03-05  1.553660  0.180912  0.374747 -1.168331\n",
       "2018-03-06 -0.457921 -0.263354  1.425379  0.912822"
      ]
     },
     "execution_count": 19,
     "metadata": {},
     "output_type": "execute_result"
    }
   ],
   "source": [
    "df[0:3]"
   ]
  },
  {
   "cell_type": "markdown",
   "metadata": {},
   "source": [
    "\n"
   ]
  },
  {
   "cell_type": "markdown",
   "metadata": {},
   "source": [
    "#### DataFrame 에서 `A이상 F이하`의 값을 출력하기"
   ]
  },
  {
   "cell_type": "code",
   "execution_count": 20,
   "metadata": {},
   "outputs": [
    {
     "data": {
      "text/html": [
       "<div>\n",
       "<style scoped>\n",
       "    .dataframe tbody tr th:only-of-type {\n",
       "        vertical-align: middle;\n",
       "    }\n",
       "\n",
       "    .dataframe tbody tr th {\n",
       "        vertical-align: top;\n",
       "    }\n",
       "\n",
       "    .dataframe thead th {\n",
       "        text-align: right;\n",
       "    }\n",
       "</style>\n",
       "<table border=\"1\" class=\"dataframe\">\n",
       "  <thead>\n",
       "    <tr style=\"text-align: right;\">\n",
       "      <th></th>\n",
       "      <th>A</th>\n",
       "      <th>B</th>\n",
       "      <th>C</th>\n",
       "      <th>D</th>\n",
       "    </tr>\n",
       "  </thead>\n",
       "  <tbody>\n",
       "    <tr>\n",
       "      <th>2018-03-04</th>\n",
       "      <td>0.868550</td>\n",
       "      <td>0.361971</td>\n",
       "      <td>-1.215191</td>\n",
       "      <td>-0.605199</td>\n",
       "    </tr>\n",
       "    <tr>\n",
       "      <th>2018-03-05</th>\n",
       "      <td>1.553660</td>\n",
       "      <td>0.180912</td>\n",
       "      <td>0.374747</td>\n",
       "      <td>-1.168331</td>\n",
       "    </tr>\n",
       "    <tr>\n",
       "      <th>2018-03-06</th>\n",
       "      <td>-0.457921</td>\n",
       "      <td>-0.263354</td>\n",
       "      <td>1.425379</td>\n",
       "      <td>0.912822</td>\n",
       "    </tr>\n",
       "  </tbody>\n",
       "</table>\n",
       "</div>"
      ],
      "text/plain": [
       "                   A         B         C         D\n",
       "2018-03-04  0.868550  0.361971 -1.215191 -0.605199\n",
       "2018-03-05  1.553660  0.180912  0.374747 -1.168331\n",
       "2018-03-06 -0.457921 -0.263354  1.425379  0.912822"
      ]
     },
     "execution_count": 20,
     "metadata": {},
     "output_type": "execute_result"
    }
   ],
   "source": [
    "df['2018-03-04': '2018-03-06']"
   ]
  },
  {
   "cell_type": "markdown",
   "metadata": {},
   "source": [
    "\n"
   ]
  },
  {
   "cell_type": "markdown",
   "metadata": {},
   "source": [
    "#### 위에서 선언한 변수에 0번째 index 들의 값 출력하기\n",
    "\n",
    "`dates = pd.date_range('20180304', periods=20)`\n"
   ]
  },
  {
   "cell_type": "code",
   "execution_count": 21,
   "metadata": {},
   "outputs": [
    {
     "data": {
      "text/plain": [
       "A    0.868550\n",
       "B    0.361971\n",
       "C   -1.215191\n",
       "D   -0.605199\n",
       "Name: 2018-03-04 00:00:00, dtype: float64"
      ]
     },
     "execution_count": 21,
     "metadata": {},
     "output_type": "execute_result"
    }
   ],
   "source": [
    "df.loc[dates[0]]"
   ]
  },
  {
   "cell_type": "code",
   "execution_count": 22,
   "metadata": {},
   "outputs": [
    {
     "data": {
      "text/html": [
       "<div>\n",
       "<style scoped>\n",
       "    .dataframe tbody tr th:only-of-type {\n",
       "        vertical-align: middle;\n",
       "    }\n",
       "\n",
       "    .dataframe tbody tr th {\n",
       "        vertical-align: top;\n",
       "    }\n",
       "\n",
       "    .dataframe thead th {\n",
       "        text-align: right;\n",
       "    }\n",
       "</style>\n",
       "<table border=\"1\" class=\"dataframe\">\n",
       "  <thead>\n",
       "    <tr style=\"text-align: right;\">\n",
       "      <th></th>\n",
       "      <th>A</th>\n",
       "      <th>D</th>\n",
       "    </tr>\n",
       "  </thead>\n",
       "  <tbody>\n",
       "    <tr>\n",
       "      <th>2018-03-04</th>\n",
       "      <td>0.868550</td>\n",
       "      <td>-0.605199</td>\n",
       "    </tr>\n",
       "    <tr>\n",
       "      <th>2018-03-05</th>\n",
       "      <td>1.553660</td>\n",
       "      <td>-1.168331</td>\n",
       "    </tr>\n",
       "    <tr>\n",
       "      <th>2018-03-06</th>\n",
       "      <td>-0.457921</td>\n",
       "      <td>0.912822</td>\n",
       "    </tr>\n",
       "    <tr>\n",
       "      <th>2018-03-07</th>\n",
       "      <td>-1.516530</td>\n",
       "      <td>3.482426</td>\n",
       "    </tr>\n",
       "    <tr>\n",
       "      <th>2018-03-08</th>\n",
       "      <td>-0.771939</td>\n",
       "      <td>-0.220742</td>\n",
       "    </tr>\n",
       "  </tbody>\n",
       "</table>\n",
       "</div>"
      ],
      "text/plain": [
       "                   A         D\n",
       "2018-03-04  0.868550 -0.605199\n",
       "2018-03-05  1.553660 -1.168331\n",
       "2018-03-06 -0.457921  0.912822\n",
       "2018-03-07 -1.516530  3.482426\n",
       "2018-03-08 -0.771939 -0.220742"
      ]
     },
     "execution_count": 22,
     "metadata": {},
     "output_type": "execute_result"
    }
   ],
   "source": [
    "df.loc[:, ['A', 'D']].head() # 특정 index 의 값을 찾기"
   ]
  },
  {
   "cell_type": "code",
   "execution_count": 23,
   "metadata": {},
   "outputs": [
    {
     "data": {
      "text/html": [
       "<div>\n",
       "<style scoped>\n",
       "    .dataframe tbody tr th:only-of-type {\n",
       "        vertical-align: middle;\n",
       "    }\n",
       "\n",
       "    .dataframe tbody tr th {\n",
       "        vertical-align: top;\n",
       "    }\n",
       "\n",
       "    .dataframe thead th {\n",
       "        text-align: right;\n",
       "    }\n",
       "</style>\n",
       "<table border=\"1\" class=\"dataframe\">\n",
       "  <thead>\n",
       "    <tr style=\"text-align: right;\">\n",
       "      <th></th>\n",
       "      <th>A</th>\n",
       "      <th>C</th>\n",
       "    </tr>\n",
       "  </thead>\n",
       "  <tbody>\n",
       "    <tr>\n",
       "      <th>2018-03-11</th>\n",
       "      <td>-1.359726</td>\n",
       "      <td>0.938998</td>\n",
       "    </tr>\n",
       "    <tr>\n",
       "      <th>2018-03-12</th>\n",
       "      <td>1.077967</td>\n",
       "      <td>0.099999</td>\n",
       "    </tr>\n",
       "    <tr>\n",
       "      <th>2018-03-13</th>\n",
       "      <td>0.593998</td>\n",
       "      <td>0.557566</td>\n",
       "    </tr>\n",
       "    <tr>\n",
       "      <th>2018-03-14</th>\n",
       "      <td>-0.066579</td>\n",
       "      <td>1.069365</td>\n",
       "    </tr>\n",
       "    <tr>\n",
       "      <th>2018-03-15</th>\n",
       "      <td>-1.169535</td>\n",
       "      <td>0.169808</td>\n",
       "    </tr>\n",
       "    <tr>\n",
       "      <th>2018-03-16</th>\n",
       "      <td>-0.781807</td>\n",
       "      <td>-0.084425</td>\n",
       "    </tr>\n",
       "  </tbody>\n",
       "</table>\n",
       "</div>"
      ],
      "text/plain": [
       "                   A         C\n",
       "2018-03-11 -1.359726  0.938998\n",
       "2018-03-12  1.077967  0.099999\n",
       "2018-03-13  0.593998  0.557566\n",
       "2018-03-14 -0.066579  1.069365\n",
       "2018-03-15 -1.169535  0.169808\n",
       "2018-03-16 -0.781807 -0.084425"
      ]
     },
     "execution_count": 23,
     "metadata": {},
     "output_type": "execute_result"
    }
   ],
   "source": [
    "df.loc['20180311': '20180316', ['A', 'C']]"
   ]
  },
  {
   "cell_type": "code",
   "execution_count": 24,
   "metadata": {},
   "outputs": [
    {
     "data": {
      "text/plain": [
       "A   -1.359726\n",
       "C    0.938998\n",
       "Name: 2018-03-11 00:00:00, dtype: float64"
      ]
     },
     "execution_count": 24,
     "metadata": {},
     "output_type": "execute_result"
    }
   ],
   "source": [
    "# 1개의 행만 지정했기 때문에 Series 로 출력\n",
    "df.loc['20180311', ['A', 'C']]"
   ]
  },
  {
   "cell_type": "code",
   "execution_count": 25,
   "metadata": {},
   "outputs": [
    {
     "data": {
      "text/plain": [
       "2018-03-11   -1.359726\n",
       "2018-03-12    1.077967\n",
       "2018-03-13    0.593998\n",
       "2018-03-14   -0.066579\n",
       "2018-03-15   -1.169535\n",
       "2018-03-16   -0.781807\n",
       "2018-03-17    1.217606\n",
       "2018-03-18   -2.581484\n",
       "2018-03-19    1.735567\n",
       "Freq: D, Name: A, dtype: float64"
      ]
     },
     "execution_count": 25,
     "metadata": {},
     "output_type": "execute_result"
    }
   ],
   "source": [
    "# 행이던 열이던 한줄의 데이터 범위를 선택하면 Series 이다.\n",
    "df.loc['20180311':'20180319', 'A']"
   ]
  },
  {
   "cell_type": "markdown",
   "metadata": {},
   "source": [
    "### 세번째 행을 Selection 하기"
   ]
  },
  {
   "cell_type": "code",
   "execution_count": 26,
   "metadata": {},
   "outputs": [
    {
     "data": {
      "text/html": [
       "<div>\n",
       "<style scoped>\n",
       "    .dataframe tbody tr th:only-of-type {\n",
       "        vertical-align: middle;\n",
       "    }\n",
       "\n",
       "    .dataframe tbody tr th {\n",
       "        vertical-align: top;\n",
       "    }\n",
       "\n",
       "    .dataframe thead th {\n",
       "        text-align: right;\n",
       "    }\n",
       "</style>\n",
       "<table border=\"1\" class=\"dataframe\">\n",
       "  <thead>\n",
       "    <tr style=\"text-align: right;\">\n",
       "      <th></th>\n",
       "      <th>A</th>\n",
       "      <th>B</th>\n",
       "      <th>C</th>\n",
       "      <th>D</th>\n",
       "    </tr>\n",
       "  </thead>\n",
       "  <tbody>\n",
       "    <tr>\n",
       "      <th>2018-03-04</th>\n",
       "      <td>0.868550</td>\n",
       "      <td>0.361971</td>\n",
       "      <td>-1.215191</td>\n",
       "      <td>-0.605199</td>\n",
       "    </tr>\n",
       "    <tr>\n",
       "      <th>2018-03-05</th>\n",
       "      <td>1.553660</td>\n",
       "      <td>0.180912</td>\n",
       "      <td>0.374747</td>\n",
       "      <td>-1.168331</td>\n",
       "    </tr>\n",
       "    <tr>\n",
       "      <th>2018-03-06</th>\n",
       "      <td>-0.457921</td>\n",
       "      <td>-0.263354</td>\n",
       "      <td>1.425379</td>\n",
       "      <td>0.912822</td>\n",
       "    </tr>\n",
       "    <tr>\n",
       "      <th>2018-03-07</th>\n",
       "      <td>-1.516530</td>\n",
       "      <td>-0.303393</td>\n",
       "      <td>-1.190135</td>\n",
       "      <td>3.482426</td>\n",
       "    </tr>\n",
       "    <tr>\n",
       "      <th>2018-03-08</th>\n",
       "      <td>-0.771939</td>\n",
       "      <td>0.925489</td>\n",
       "      <td>-0.148202</td>\n",
       "      <td>-0.220742</td>\n",
       "    </tr>\n",
       "  </tbody>\n",
       "</table>\n",
       "</div>"
      ],
      "text/plain": [
       "                   A         B         C         D\n",
       "2018-03-04  0.868550  0.361971 -1.215191 -0.605199\n",
       "2018-03-05  1.553660  0.180912  0.374747 -1.168331\n",
       "2018-03-06 -0.457921 -0.263354  1.425379  0.912822\n",
       "2018-03-07 -1.516530 -0.303393 -1.190135  3.482426\n",
       "2018-03-08 -0.771939  0.925489 -0.148202 -0.220742"
      ]
     },
     "execution_count": 26,
     "metadata": {},
     "output_type": "execute_result"
    }
   ],
   "source": [
    "df.head()"
   ]
  },
  {
   "cell_type": "code",
   "execution_count": 27,
   "metadata": {},
   "outputs": [
    {
     "data": {
      "text/plain": [
       "A   -1.516530\n",
       "B   -0.303393\n",
       "C   -1.190135\n",
       "D    3.482426\n",
       "Name: 2018-03-07 00:00:00, dtype: float64"
      ]
     },
     "execution_count": 27,
     "metadata": {},
     "output_type": "execute_result"
    }
   ],
   "source": [
    "df.iloc[3] # index 3번째의 행 값을 출력"
   ]
  },
  {
   "cell_type": "code",
   "execution_count": 28,
   "metadata": {},
   "outputs": [
    {
     "data": {
      "text/html": [
       "<div>\n",
       "<style scoped>\n",
       "    .dataframe tbody tr th:only-of-type {\n",
       "        vertical-align: middle;\n",
       "    }\n",
       "\n",
       "    .dataframe tbody tr th {\n",
       "        vertical-align: top;\n",
       "    }\n",
       "\n",
       "    .dataframe thead th {\n",
       "        text-align: right;\n",
       "    }\n",
       "</style>\n",
       "<table border=\"1\" class=\"dataframe\">\n",
       "  <thead>\n",
       "    <tr style=\"text-align: right;\">\n",
       "      <th></th>\n",
       "      <th>A</th>\n",
       "      <th>B</th>\n",
       "    </tr>\n",
       "  </thead>\n",
       "  <tbody>\n",
       "    <tr>\n",
       "      <th>2018-03-07</th>\n",
       "      <td>-1.516530</td>\n",
       "      <td>-0.303393</td>\n",
       "    </tr>\n",
       "    <tr>\n",
       "      <th>2018-03-08</th>\n",
       "      <td>-0.771939</td>\n",
       "      <td>0.925489</td>\n",
       "    </tr>\n",
       "  </tbody>\n",
       "</table>\n",
       "</div>"
      ],
      "text/plain": [
       "                   A         B\n",
       "2018-03-07 -1.516530 -0.303393\n",
       "2018-03-08 -0.771939  0.925489"
      ]
     },
     "execution_count": 28,
     "metadata": {},
     "output_type": "execute_result"
    }
   ],
   "source": [
    "df.iloc[3:5, 0:2] # 3월 7일부터 3월 8일 // AA, BB 인덱스의 값 출력"
   ]
  },
  {
   "cell_type": "code",
   "execution_count": 29,
   "metadata": {},
   "outputs": [
    {
     "data": {
      "text/html": [
       "<div>\n",
       "<style scoped>\n",
       "    .dataframe tbody tr th:only-of-type {\n",
       "        vertical-align: middle;\n",
       "    }\n",
       "\n",
       "    .dataframe tbody tr th {\n",
       "        vertical-align: top;\n",
       "    }\n",
       "\n",
       "    .dataframe thead th {\n",
       "        text-align: right;\n",
       "    }\n",
       "</style>\n",
       "<table border=\"1\" class=\"dataframe\">\n",
       "  <thead>\n",
       "    <tr style=\"text-align: right;\">\n",
       "      <th></th>\n",
       "      <th>A</th>\n",
       "      <th>C</th>\n",
       "    </tr>\n",
       "  </thead>\n",
       "  <tbody>\n",
       "    <tr>\n",
       "      <th>2018-03-05</th>\n",
       "      <td>1.553660</td>\n",
       "      <td>0.374747</td>\n",
       "    </tr>\n",
       "    <tr>\n",
       "      <th>2018-03-06</th>\n",
       "      <td>-0.457921</td>\n",
       "      <td>1.425379</td>\n",
       "    </tr>\n",
       "    <tr>\n",
       "      <th>2018-03-08</th>\n",
       "      <td>-0.771939</td>\n",
       "      <td>-0.148202</td>\n",
       "    </tr>\n",
       "  </tbody>\n",
       "</table>\n",
       "</div>"
      ],
      "text/plain": [
       "                   A         C\n",
       "2018-03-05  1.553660  0.374747\n",
       "2018-03-06 -0.457921  1.425379\n",
       "2018-03-08 -0.771939 -0.148202"
      ]
     },
     "execution_count": 29,
     "metadata": {},
     "output_type": "execute_result"
    }
   ],
   "source": [
    "df.iloc[[1, 2, 4], [0,2]]"
   ]
  },
  {
   "cell_type": "markdown",
   "metadata": {},
   "source": [
    "\n"
   ]
  },
  {
   "cell_type": "markdown",
   "metadata": {},
   "source": [
    "### *명시적으로 모든 행을 출력한다고 해줄 때는 범위가 없더라도 : 를 넣어준다"
   ]
  },
  {
   "cell_type": "code",
   "execution_count": 30,
   "metadata": {},
   "outputs": [
    {
     "data": {
      "text/html": [
       "<div>\n",
       "<style scoped>\n",
       "    .dataframe tbody tr th:only-of-type {\n",
       "        vertical-align: middle;\n",
       "    }\n",
       "\n",
       "    .dataframe tbody tr th {\n",
       "        vertical-align: top;\n",
       "    }\n",
       "\n",
       "    .dataframe thead th {\n",
       "        text-align: right;\n",
       "    }\n",
       "</style>\n",
       "<table border=\"1\" class=\"dataframe\">\n",
       "  <thead>\n",
       "    <tr style=\"text-align: right;\">\n",
       "      <th></th>\n",
       "      <th>A</th>\n",
       "      <th>B</th>\n",
       "      <th>C</th>\n",
       "      <th>D</th>\n",
       "    </tr>\n",
       "  </thead>\n",
       "  <tbody>\n",
       "    <tr>\n",
       "      <th>2018-03-05</th>\n",
       "      <td>1.55366</td>\n",
       "      <td>0.180912</td>\n",
       "      <td>0.374747</td>\n",
       "      <td>-1.168331</td>\n",
       "    </tr>\n",
       "    <tr>\n",
       "      <th>2018-03-07</th>\n",
       "      <td>-1.51653</td>\n",
       "      <td>-0.303393</td>\n",
       "      <td>-1.190135</td>\n",
       "      <td>3.482426</td>\n",
       "    </tr>\n",
       "  </tbody>\n",
       "</table>\n",
       "</div>"
      ],
      "text/plain": [
       "                  A         B         C         D\n",
       "2018-03-05  1.55366  0.180912  0.374747 -1.168331\n",
       "2018-03-07 -1.51653 -0.303393 -1.190135  3.482426"
      ]
     },
     "execution_count": 30,
     "metadata": {},
     "output_type": "execute_result"
    }
   ],
   "source": [
    "df.iloc[[1, 3], :]"
   ]
  },
  {
   "cell_type": "markdown",
   "metadata": {},
   "source": [
    "\n"
   ]
  },
  {
   "cell_type": "markdown",
   "metadata": {},
   "source": [
    "\n"
   ]
  },
  {
   "cell_type": "markdown",
   "metadata": {},
   "source": [
    "### Boolean Indexing"
   ]
  },
  {
   "cell_type": "markdown",
   "metadata": {},
   "source": [
    "DataFrame 에서 0 이상의 값을 찾아보기"
   ]
  },
  {
   "cell_type": "code",
   "execution_count": 31,
   "metadata": {},
   "outputs": [
    {
     "data": {
      "text/plain": [
       "2018-03-04     True\n",
       "2018-03-05     True\n",
       "2018-03-06    False\n",
       "2018-03-07    False\n",
       "2018-03-08    False\n",
       "2018-03-09    False\n",
       "2018-03-10     True\n",
       "2018-03-11    False\n",
       "2018-03-12     True\n",
       "2018-03-13     True\n",
       "2018-03-14    False\n",
       "2018-03-15    False\n",
       "2018-03-16    False\n",
       "2018-03-17     True\n",
       "2018-03-18    False\n",
       "2018-03-19     True\n",
       "2018-03-20     True\n",
       "2018-03-21     True\n",
       "2018-03-22    False\n",
       "2018-03-23     True\n",
       "Freq: D, Name: A, dtype: bool"
      ]
     },
     "execution_count": 31,
     "metadata": {},
     "output_type": "execute_result"
    }
   ],
   "source": [
    "df['A'] > 0"
   ]
  },
  {
   "cell_type": "markdown",
   "metadata": {},
   "source": [
    "\n"
   ]
  },
  {
   "cell_type": "markdown",
   "metadata": {},
   "source": [
    "### AA 인덱스에서 True 값만 가져오기"
   ]
  },
  {
   "cell_type": "code",
   "execution_count": 32,
   "metadata": {},
   "outputs": [
    {
     "data": {
      "text/html": [
       "<div>\n",
       "<style scoped>\n",
       "    .dataframe tbody tr th:only-of-type {\n",
       "        vertical-align: middle;\n",
       "    }\n",
       "\n",
       "    .dataframe tbody tr th {\n",
       "        vertical-align: top;\n",
       "    }\n",
       "\n",
       "    .dataframe thead th {\n",
       "        text-align: right;\n",
       "    }\n",
       "</style>\n",
       "<table border=\"1\" class=\"dataframe\">\n",
       "  <thead>\n",
       "    <tr style=\"text-align: right;\">\n",
       "      <th></th>\n",
       "      <th>A</th>\n",
       "      <th>B</th>\n",
       "      <th>C</th>\n",
       "      <th>D</th>\n",
       "    </tr>\n",
       "  </thead>\n",
       "  <tbody>\n",
       "    <tr>\n",
       "      <th>2018-03-04</th>\n",
       "      <td>0.868550</td>\n",
       "      <td>0.361971</td>\n",
       "      <td>-1.215191</td>\n",
       "      <td>-0.605199</td>\n",
       "    </tr>\n",
       "    <tr>\n",
       "      <th>2018-03-05</th>\n",
       "      <td>1.553660</td>\n",
       "      <td>0.180912</td>\n",
       "      <td>0.374747</td>\n",
       "      <td>-1.168331</td>\n",
       "    </tr>\n",
       "    <tr>\n",
       "      <th>2018-03-10</th>\n",
       "      <td>0.310928</td>\n",
       "      <td>0.810005</td>\n",
       "      <td>-0.643031</td>\n",
       "      <td>-0.090067</td>\n",
       "    </tr>\n",
       "    <tr>\n",
       "      <th>2018-03-12</th>\n",
       "      <td>1.077967</td>\n",
       "      <td>0.519286</td>\n",
       "      <td>0.099999</td>\n",
       "      <td>0.638730</td>\n",
       "    </tr>\n",
       "    <tr>\n",
       "      <th>2018-03-13</th>\n",
       "      <td>0.593998</td>\n",
       "      <td>0.427791</td>\n",
       "      <td>0.557566</td>\n",
       "      <td>0.286848</td>\n",
       "    </tr>\n",
       "    <tr>\n",
       "      <th>2018-03-17</th>\n",
       "      <td>1.217606</td>\n",
       "      <td>0.395554</td>\n",
       "      <td>1.375085</td>\n",
       "      <td>0.682691</td>\n",
       "    </tr>\n",
       "    <tr>\n",
       "      <th>2018-03-19</th>\n",
       "      <td>1.735567</td>\n",
       "      <td>1.063777</td>\n",
       "      <td>-0.450182</td>\n",
       "      <td>2.312442</td>\n",
       "    </tr>\n",
       "    <tr>\n",
       "      <th>2018-03-20</th>\n",
       "      <td>0.571404</td>\n",
       "      <td>0.655685</td>\n",
       "      <td>-1.868817</td>\n",
       "      <td>-0.973287</td>\n",
       "    </tr>\n",
       "    <tr>\n",
       "      <th>2018-03-21</th>\n",
       "      <td>0.336343</td>\n",
       "      <td>1.214288</td>\n",
       "      <td>1.065086</td>\n",
       "      <td>2.143880</td>\n",
       "    </tr>\n",
       "    <tr>\n",
       "      <th>2018-03-23</th>\n",
       "      <td>0.350437</td>\n",
       "      <td>-1.057915</td>\n",
       "      <td>0.967686</td>\n",
       "      <td>-0.254394</td>\n",
       "    </tr>\n",
       "  </tbody>\n",
       "</table>\n",
       "</div>"
      ],
      "text/plain": [
       "                   A         B         C         D\n",
       "2018-03-04  0.868550  0.361971 -1.215191 -0.605199\n",
       "2018-03-05  1.553660  0.180912  0.374747 -1.168331\n",
       "2018-03-10  0.310928  0.810005 -0.643031 -0.090067\n",
       "2018-03-12  1.077967  0.519286  0.099999  0.638730\n",
       "2018-03-13  0.593998  0.427791  0.557566  0.286848\n",
       "2018-03-17  1.217606  0.395554  1.375085  0.682691\n",
       "2018-03-19  1.735567  1.063777 -0.450182  2.312442\n",
       "2018-03-20  0.571404  0.655685 -1.868817 -0.973287\n",
       "2018-03-21  0.336343  1.214288  1.065086  2.143880\n",
       "2018-03-23  0.350437 -1.057915  0.967686 -0.254394"
      ]
     },
     "execution_count": 32,
     "metadata": {},
     "output_type": "execute_result"
    }
   ],
   "source": [
    "mask = df['A'] > 0\n",
    "df[mask]"
   ]
  },
  {
   "cell_type": "markdown",
   "metadata": {},
   "source": [
    "\n"
   ]
  },
  {
   "cell_type": "markdown",
   "metadata": {},
   "source": [
    "### df2 로 복사하여 새로운 튜토리얼을 진행"
   ]
  },
  {
   "cell_type": "code",
   "execution_count": 33,
   "metadata": {},
   "outputs": [],
   "source": [
    "df2 = df.copy()"
   ]
  },
  {
   "cell_type": "code",
   "execution_count": 34,
   "metadata": {},
   "outputs": [
    {
     "data": {
      "text/html": [
       "<div>\n",
       "<style scoped>\n",
       "    .dataframe tbody tr th:only-of-type {\n",
       "        vertical-align: middle;\n",
       "    }\n",
       "\n",
       "    .dataframe tbody tr th {\n",
       "        vertical-align: top;\n",
       "    }\n",
       "\n",
       "    .dataframe thead th {\n",
       "        text-align: right;\n",
       "    }\n",
       "</style>\n",
       "<table border=\"1\" class=\"dataframe\">\n",
       "  <thead>\n",
       "    <tr style=\"text-align: right;\">\n",
       "      <th></th>\n",
       "      <th>A</th>\n",
       "      <th>B</th>\n",
       "      <th>C</th>\n",
       "      <th>D</th>\n",
       "      <th>E</th>\n",
       "    </tr>\n",
       "  </thead>\n",
       "  <tbody>\n",
       "    <tr>\n",
       "      <th>2018-03-04</th>\n",
       "      <td>0.868550</td>\n",
       "      <td>0.361971</td>\n",
       "      <td>-1.215191</td>\n",
       "      <td>-0.605199</td>\n",
       "      <td>one</td>\n",
       "    </tr>\n",
       "    <tr>\n",
       "      <th>2018-03-05</th>\n",
       "      <td>1.553660</td>\n",
       "      <td>0.180912</td>\n",
       "      <td>0.374747</td>\n",
       "      <td>-1.168331</td>\n",
       "      <td>two</td>\n",
       "    </tr>\n",
       "    <tr>\n",
       "      <th>2018-03-06</th>\n",
       "      <td>-0.457921</td>\n",
       "      <td>-0.263354</td>\n",
       "      <td>1.425379</td>\n",
       "      <td>0.912822</td>\n",
       "      <td>three</td>\n",
       "    </tr>\n",
       "    <tr>\n",
       "      <th>2018-03-07</th>\n",
       "      <td>-1.516530</td>\n",
       "      <td>-0.303393</td>\n",
       "      <td>-1.190135</td>\n",
       "      <td>3.482426</td>\n",
       "      <td>four</td>\n",
       "    </tr>\n",
       "    <tr>\n",
       "      <th>2018-03-08</th>\n",
       "      <td>-0.771939</td>\n",
       "      <td>0.925489</td>\n",
       "      <td>-0.148202</td>\n",
       "      <td>-0.220742</td>\n",
       "      <td>five</td>\n",
       "    </tr>\n",
       "  </tbody>\n",
       "</table>\n",
       "</div>"
      ],
      "text/plain": [
       "                   A         B         C         D      E\n",
       "2018-03-04  0.868550  0.361971 -1.215191 -0.605199    one\n",
       "2018-03-05  1.553660  0.180912  0.374747 -1.168331    two\n",
       "2018-03-06 -0.457921 -0.263354  1.425379  0.912822  three\n",
       "2018-03-07 -1.516530 -0.303393 -1.190135  3.482426   four\n",
       "2018-03-08 -0.771939  0.925489 -0.148202 -0.220742   five"
      ]
     },
     "execution_count": 34,
     "metadata": {},
     "output_type": "execute_result"
    }
   ],
   "source": [
    "df2['E'] = [\n",
    "    'one', 'two', 'three', 'four', 'five',\n",
    "    'one', 'two', 'three', 'four', 'five',\n",
    "    'one', 'two', 'three', 'four', 'five',\n",
    "    'one', 'two', 'three', 'four', 'five',\n",
    "]\n",
    "df2.head()"
   ]
  },
  {
   "cell_type": "markdown",
   "metadata": {},
   "source": [
    "\n"
   ]
  },
  {
   "cell_type": "markdown",
   "metadata": {},
   "source": [
    "### 'one', 'two' 에 해당하는 값만 가져오기"
   ]
  },
  {
   "cell_type": "code",
   "execution_count": 35,
   "metadata": {},
   "outputs": [
    {
     "data": {
      "text/html": [
       "<div>\n",
       "<style scoped>\n",
       "    .dataframe tbody tr th:only-of-type {\n",
       "        vertical-align: middle;\n",
       "    }\n",
       "\n",
       "    .dataframe tbody tr th {\n",
       "        vertical-align: top;\n",
       "    }\n",
       "\n",
       "    .dataframe thead th {\n",
       "        text-align: right;\n",
       "    }\n",
       "</style>\n",
       "<table border=\"1\" class=\"dataframe\">\n",
       "  <thead>\n",
       "    <tr style=\"text-align: right;\">\n",
       "      <th></th>\n",
       "      <th>A</th>\n",
       "      <th>B</th>\n",
       "      <th>C</th>\n",
       "      <th>D</th>\n",
       "    </tr>\n",
       "  </thead>\n",
       "  <tbody>\n",
       "    <tr>\n",
       "      <th>2018-03-04</th>\n",
       "      <td>0.868550</td>\n",
       "      <td>0.361971</td>\n",
       "      <td>-1.215191</td>\n",
       "      <td>-0.605199</td>\n",
       "    </tr>\n",
       "    <tr>\n",
       "      <th>2018-03-05</th>\n",
       "      <td>1.553660</td>\n",
       "      <td>0.180912</td>\n",
       "      <td>0.374747</td>\n",
       "      <td>-1.168331</td>\n",
       "    </tr>\n",
       "    <tr>\n",
       "      <th>2018-03-09</th>\n",
       "      <td>-0.990552</td>\n",
       "      <td>1.704500</td>\n",
       "      <td>-1.447922</td>\n",
       "      <td>0.060468</td>\n",
       "    </tr>\n",
       "    <tr>\n",
       "      <th>2018-03-10</th>\n",
       "      <td>0.310928</td>\n",
       "      <td>0.810005</td>\n",
       "      <td>-0.643031</td>\n",
       "      <td>-0.090067</td>\n",
       "    </tr>\n",
       "    <tr>\n",
       "      <th>2018-03-14</th>\n",
       "      <td>-0.066579</td>\n",
       "      <td>0.171686</td>\n",
       "      <td>1.069365</td>\n",
       "      <td>0.822569</td>\n",
       "    </tr>\n",
       "    <tr>\n",
       "      <th>2018-03-15</th>\n",
       "      <td>-1.169535</td>\n",
       "      <td>-1.191682</td>\n",
       "      <td>0.169808</td>\n",
       "      <td>0.534880</td>\n",
       "    </tr>\n",
       "    <tr>\n",
       "      <th>2018-03-19</th>\n",
       "      <td>1.735567</td>\n",
       "      <td>1.063777</td>\n",
       "      <td>-0.450182</td>\n",
       "      <td>2.312442</td>\n",
       "    </tr>\n",
       "    <tr>\n",
       "      <th>2018-03-20</th>\n",
       "      <td>0.571404</td>\n",
       "      <td>0.655685</td>\n",
       "      <td>-1.868817</td>\n",
       "      <td>-0.973287</td>\n",
       "    </tr>\n",
       "  </tbody>\n",
       "</table>\n",
       "</div>"
      ],
      "text/plain": [
       "                   A         B         C         D\n",
       "2018-03-04  0.868550  0.361971 -1.215191 -0.605199\n",
       "2018-03-05  1.553660  0.180912  0.374747 -1.168331\n",
       "2018-03-09 -0.990552  1.704500 -1.447922  0.060468\n",
       "2018-03-10  0.310928  0.810005 -0.643031 -0.090067\n",
       "2018-03-14 -0.066579  0.171686  1.069365  0.822569\n",
       "2018-03-15 -1.169535 -1.191682  0.169808  0.534880\n",
       "2018-03-19  1.735567  1.063777 -0.450182  2.312442\n",
       "2018-03-20  0.571404  0.655685 -1.868817 -0.973287"
      ]
     },
     "execution_count": 35,
     "metadata": {},
     "output_type": "execute_result"
    }
   ],
   "source": [
    "mask = df2.E.isin(['one', 'two'])\n",
    "df[mask]"
   ]
  },
  {
   "cell_type": "markdown",
   "metadata": {},
   "source": [
    "\n"
   ]
  },
  {
   "cell_type": "markdown",
   "metadata": {},
   "source": [
    "### 새로운 Series 를 정의하기"
   ]
  },
  {
   "cell_type": "code",
   "execution_count": 36,
   "metadata": {},
   "outputs": [],
   "source": [
    "s1 = pd.Series(range(1, 21),\n",
    "               index=pd.date_range(\n",
    "                   '20180305', periods=20)\n",
    "              ) # 의도적으로 3월 5일부터 작성\n",
    "df['F'] = s1"
   ]
  },
  {
   "cell_type": "code",
   "execution_count": 37,
   "metadata": {},
   "outputs": [
    {
     "data": {
      "text/html": [
       "<div>\n",
       "<style scoped>\n",
       "    .dataframe tbody tr th:only-of-type {\n",
       "        vertical-align: middle;\n",
       "    }\n",
       "\n",
       "    .dataframe tbody tr th {\n",
       "        vertical-align: top;\n",
       "    }\n",
       "\n",
       "    .dataframe thead th {\n",
       "        text-align: right;\n",
       "    }\n",
       "</style>\n",
       "<table border=\"1\" class=\"dataframe\">\n",
       "  <thead>\n",
       "    <tr style=\"text-align: right;\">\n",
       "      <th></th>\n",
       "      <th>A</th>\n",
       "      <th>B</th>\n",
       "      <th>C</th>\n",
       "      <th>D</th>\n",
       "      <th>F</th>\n",
       "    </tr>\n",
       "  </thead>\n",
       "  <tbody>\n",
       "    <tr>\n",
       "      <th>2018-03-04</th>\n",
       "      <td>0.868550</td>\n",
       "      <td>0.361971</td>\n",
       "      <td>-1.215191</td>\n",
       "      <td>-0.605199</td>\n",
       "      <td>NaN</td>\n",
       "    </tr>\n",
       "    <tr>\n",
       "      <th>2018-03-05</th>\n",
       "      <td>1.553660</td>\n",
       "      <td>0.180912</td>\n",
       "      <td>0.374747</td>\n",
       "      <td>-1.168331</td>\n",
       "      <td>1.0</td>\n",
       "    </tr>\n",
       "    <tr>\n",
       "      <th>2018-03-06</th>\n",
       "      <td>-0.457921</td>\n",
       "      <td>-0.263354</td>\n",
       "      <td>1.425379</td>\n",
       "      <td>0.912822</td>\n",
       "      <td>2.0</td>\n",
       "    </tr>\n",
       "    <tr>\n",
       "      <th>2018-03-07</th>\n",
       "      <td>-1.516530</td>\n",
       "      <td>-0.303393</td>\n",
       "      <td>-1.190135</td>\n",
       "      <td>3.482426</td>\n",
       "      <td>3.0</td>\n",
       "    </tr>\n",
       "    <tr>\n",
       "      <th>2018-03-08</th>\n",
       "      <td>-0.771939</td>\n",
       "      <td>0.925489</td>\n",
       "      <td>-0.148202</td>\n",
       "      <td>-0.220742</td>\n",
       "      <td>4.0</td>\n",
       "    </tr>\n",
       "    <tr>\n",
       "      <th>2018-03-09</th>\n",
       "      <td>-0.990552</td>\n",
       "      <td>1.704500</td>\n",
       "      <td>-1.447922</td>\n",
       "      <td>0.060468</td>\n",
       "      <td>5.0</td>\n",
       "    </tr>\n",
       "    <tr>\n",
       "      <th>2018-03-10</th>\n",
       "      <td>0.310928</td>\n",
       "      <td>0.810005</td>\n",
       "      <td>-0.643031</td>\n",
       "      <td>-0.090067</td>\n",
       "      <td>6.0</td>\n",
       "    </tr>\n",
       "    <tr>\n",
       "      <th>2018-03-11</th>\n",
       "      <td>-1.359726</td>\n",
       "      <td>0.635321</td>\n",
       "      <td>0.938998</td>\n",
       "      <td>0.135916</td>\n",
       "      <td>7.0</td>\n",
       "    </tr>\n",
       "    <tr>\n",
       "      <th>2018-03-12</th>\n",
       "      <td>1.077967</td>\n",
       "      <td>0.519286</td>\n",
       "      <td>0.099999</td>\n",
       "      <td>0.638730</td>\n",
       "      <td>8.0</td>\n",
       "    </tr>\n",
       "    <tr>\n",
       "      <th>2018-03-13</th>\n",
       "      <td>0.593998</td>\n",
       "      <td>0.427791</td>\n",
       "      <td>0.557566</td>\n",
       "      <td>0.286848</td>\n",
       "      <td>9.0</td>\n",
       "    </tr>\n",
       "    <tr>\n",
       "      <th>2018-03-14</th>\n",
       "      <td>-0.066579</td>\n",
       "      <td>0.171686</td>\n",
       "      <td>1.069365</td>\n",
       "      <td>0.822569</td>\n",
       "      <td>10.0</td>\n",
       "    </tr>\n",
       "    <tr>\n",
       "      <th>2018-03-15</th>\n",
       "      <td>-1.169535</td>\n",
       "      <td>-1.191682</td>\n",
       "      <td>0.169808</td>\n",
       "      <td>0.534880</td>\n",
       "      <td>11.0</td>\n",
       "    </tr>\n",
       "    <tr>\n",
       "      <th>2018-03-16</th>\n",
       "      <td>-0.781807</td>\n",
       "      <td>-1.121264</td>\n",
       "      <td>-0.084425</td>\n",
       "      <td>0.185277</td>\n",
       "      <td>12.0</td>\n",
       "    </tr>\n",
       "    <tr>\n",
       "      <th>2018-03-17</th>\n",
       "      <td>1.217606</td>\n",
       "      <td>0.395554</td>\n",
       "      <td>1.375085</td>\n",
       "      <td>0.682691</td>\n",
       "      <td>13.0</td>\n",
       "    </tr>\n",
       "    <tr>\n",
       "      <th>2018-03-18</th>\n",
       "      <td>-2.581484</td>\n",
       "      <td>0.233059</td>\n",
       "      <td>-0.185880</td>\n",
       "      <td>-0.973858</td>\n",
       "      <td>14.0</td>\n",
       "    </tr>\n",
       "    <tr>\n",
       "      <th>2018-03-19</th>\n",
       "      <td>1.735567</td>\n",
       "      <td>1.063777</td>\n",
       "      <td>-0.450182</td>\n",
       "      <td>2.312442</td>\n",
       "      <td>15.0</td>\n",
       "    </tr>\n",
       "    <tr>\n",
       "      <th>2018-03-20</th>\n",
       "      <td>0.571404</td>\n",
       "      <td>0.655685</td>\n",
       "      <td>-1.868817</td>\n",
       "      <td>-0.973287</td>\n",
       "      <td>16.0</td>\n",
       "    </tr>\n",
       "    <tr>\n",
       "      <th>2018-03-21</th>\n",
       "      <td>0.336343</td>\n",
       "      <td>1.214288</td>\n",
       "      <td>1.065086</td>\n",
       "      <td>2.143880</td>\n",
       "      <td>17.0</td>\n",
       "    </tr>\n",
       "    <tr>\n",
       "      <th>2018-03-22</th>\n",
       "      <td>-0.392885</td>\n",
       "      <td>0.085108</td>\n",
       "      <td>0.016907</td>\n",
       "      <td>0.677721</td>\n",
       "      <td>18.0</td>\n",
       "    </tr>\n",
       "    <tr>\n",
       "      <th>2018-03-23</th>\n",
       "      <td>0.350437</td>\n",
       "      <td>-1.057915</td>\n",
       "      <td>0.967686</td>\n",
       "      <td>-0.254394</td>\n",
       "      <td>19.0</td>\n",
       "    </tr>\n",
       "  </tbody>\n",
       "</table>\n",
       "</div>"
      ],
      "text/plain": [
       "                   A         B         C         D     F\n",
       "2018-03-04  0.868550  0.361971 -1.215191 -0.605199   NaN\n",
       "2018-03-05  1.553660  0.180912  0.374747 -1.168331   1.0\n",
       "2018-03-06 -0.457921 -0.263354  1.425379  0.912822   2.0\n",
       "2018-03-07 -1.516530 -0.303393 -1.190135  3.482426   3.0\n",
       "2018-03-08 -0.771939  0.925489 -0.148202 -0.220742   4.0\n",
       "2018-03-09 -0.990552  1.704500 -1.447922  0.060468   5.0\n",
       "2018-03-10  0.310928  0.810005 -0.643031 -0.090067   6.0\n",
       "2018-03-11 -1.359726  0.635321  0.938998  0.135916   7.0\n",
       "2018-03-12  1.077967  0.519286  0.099999  0.638730   8.0\n",
       "2018-03-13  0.593998  0.427791  0.557566  0.286848   9.0\n",
       "2018-03-14 -0.066579  0.171686  1.069365  0.822569  10.0\n",
       "2018-03-15 -1.169535 -1.191682  0.169808  0.534880  11.0\n",
       "2018-03-16 -0.781807 -1.121264 -0.084425  0.185277  12.0\n",
       "2018-03-17  1.217606  0.395554  1.375085  0.682691  13.0\n",
       "2018-03-18 -2.581484  0.233059 -0.185880 -0.973858  14.0\n",
       "2018-03-19  1.735567  1.063777 -0.450182  2.312442  15.0\n",
       "2018-03-20  0.571404  0.655685 -1.868817 -0.973287  16.0\n",
       "2018-03-21  0.336343  1.214288  1.065086  2.143880  17.0\n",
       "2018-03-22 -0.392885  0.085108  0.016907  0.677721  18.0\n",
       "2018-03-23  0.350437 -1.057915  0.967686 -0.254394  19.0"
      ]
     },
     "execution_count": 37,
     "metadata": {},
     "output_type": "execute_result"
    }
   ],
   "source": [
    "df # 데이터프레임 F 를 생성했고, 값이 없으면 NaN 으로 출력됨을 확인"
   ]
  },
  {
   "cell_type": "markdown",
   "metadata": {},
   "source": [
    "\n"
   ]
  },
  {
   "cell_type": "markdown",
   "metadata": {},
   "source": [
    "### 데이터프레임의 길이만큼 EE 인덱스의 값을 13으로 생성하시오"
   ]
  },
  {
   "cell_type": "code",
   "execution_count": 38,
   "metadata": {},
   "outputs": [
    {
     "data": {
      "text/html": [
       "<div>\n",
       "<style scoped>\n",
       "    .dataframe tbody tr th:only-of-type {\n",
       "        vertical-align: middle;\n",
       "    }\n",
       "\n",
       "    .dataframe tbody tr th {\n",
       "        vertical-align: top;\n",
       "    }\n",
       "\n",
       "    .dataframe thead th {\n",
       "        text-align: right;\n",
       "    }\n",
       "</style>\n",
       "<table border=\"1\" class=\"dataframe\">\n",
       "  <thead>\n",
       "    <tr style=\"text-align: right;\">\n",
       "      <th></th>\n",
       "      <th>A</th>\n",
       "      <th>B</th>\n",
       "      <th>C</th>\n",
       "      <th>D</th>\n",
       "      <th>F</th>\n",
       "      <th>E</th>\n",
       "    </tr>\n",
       "  </thead>\n",
       "  <tbody>\n",
       "    <tr>\n",
       "      <th>2018-03-04</th>\n",
       "      <td>0.868550</td>\n",
       "      <td>0.361971</td>\n",
       "      <td>-1.215191</td>\n",
       "      <td>-0.605199</td>\n",
       "      <td>NaN</td>\n",
       "      <td>13</td>\n",
       "    </tr>\n",
       "    <tr>\n",
       "      <th>2018-03-05</th>\n",
       "      <td>1.553660</td>\n",
       "      <td>0.180912</td>\n",
       "      <td>0.374747</td>\n",
       "      <td>-1.168331</td>\n",
       "      <td>1.0</td>\n",
       "      <td>13</td>\n",
       "    </tr>\n",
       "    <tr>\n",
       "      <th>2018-03-06</th>\n",
       "      <td>-0.457921</td>\n",
       "      <td>-0.263354</td>\n",
       "      <td>1.425379</td>\n",
       "      <td>0.912822</td>\n",
       "      <td>2.0</td>\n",
       "      <td>13</td>\n",
       "    </tr>\n",
       "    <tr>\n",
       "      <th>2018-03-07</th>\n",
       "      <td>-1.516530</td>\n",
       "      <td>-0.303393</td>\n",
       "      <td>-1.190135</td>\n",
       "      <td>3.482426</td>\n",
       "      <td>3.0</td>\n",
       "      <td>13</td>\n",
       "    </tr>\n",
       "    <tr>\n",
       "      <th>2018-03-08</th>\n",
       "      <td>-0.771939</td>\n",
       "      <td>0.925489</td>\n",
       "      <td>-0.148202</td>\n",
       "      <td>-0.220742</td>\n",
       "      <td>4.0</td>\n",
       "      <td>13</td>\n",
       "    </tr>\n",
       "    <tr>\n",
       "      <th>2018-03-09</th>\n",
       "      <td>-0.990552</td>\n",
       "      <td>1.704500</td>\n",
       "      <td>-1.447922</td>\n",
       "      <td>0.060468</td>\n",
       "      <td>5.0</td>\n",
       "      <td>13</td>\n",
       "    </tr>\n",
       "    <tr>\n",
       "      <th>2018-03-10</th>\n",
       "      <td>0.310928</td>\n",
       "      <td>0.810005</td>\n",
       "      <td>-0.643031</td>\n",
       "      <td>-0.090067</td>\n",
       "      <td>6.0</td>\n",
       "      <td>13</td>\n",
       "    </tr>\n",
       "    <tr>\n",
       "      <th>2018-03-11</th>\n",
       "      <td>-1.359726</td>\n",
       "      <td>0.635321</td>\n",
       "      <td>0.938998</td>\n",
       "      <td>0.135916</td>\n",
       "      <td>7.0</td>\n",
       "      <td>13</td>\n",
       "    </tr>\n",
       "    <tr>\n",
       "      <th>2018-03-12</th>\n",
       "      <td>1.077967</td>\n",
       "      <td>0.519286</td>\n",
       "      <td>0.099999</td>\n",
       "      <td>0.638730</td>\n",
       "      <td>8.0</td>\n",
       "      <td>13</td>\n",
       "    </tr>\n",
       "    <tr>\n",
       "      <th>2018-03-13</th>\n",
       "      <td>0.593998</td>\n",
       "      <td>0.427791</td>\n",
       "      <td>0.557566</td>\n",
       "      <td>0.286848</td>\n",
       "      <td>9.0</td>\n",
       "      <td>13</td>\n",
       "    </tr>\n",
       "    <tr>\n",
       "      <th>2018-03-14</th>\n",
       "      <td>-0.066579</td>\n",
       "      <td>0.171686</td>\n",
       "      <td>1.069365</td>\n",
       "      <td>0.822569</td>\n",
       "      <td>10.0</td>\n",
       "      <td>13</td>\n",
       "    </tr>\n",
       "    <tr>\n",
       "      <th>2018-03-15</th>\n",
       "      <td>-1.169535</td>\n",
       "      <td>-1.191682</td>\n",
       "      <td>0.169808</td>\n",
       "      <td>0.534880</td>\n",
       "      <td>11.0</td>\n",
       "      <td>13</td>\n",
       "    </tr>\n",
       "    <tr>\n",
       "      <th>2018-03-16</th>\n",
       "      <td>-0.781807</td>\n",
       "      <td>-1.121264</td>\n",
       "      <td>-0.084425</td>\n",
       "      <td>0.185277</td>\n",
       "      <td>12.0</td>\n",
       "      <td>13</td>\n",
       "    </tr>\n",
       "    <tr>\n",
       "      <th>2018-03-17</th>\n",
       "      <td>1.217606</td>\n",
       "      <td>0.395554</td>\n",
       "      <td>1.375085</td>\n",
       "      <td>0.682691</td>\n",
       "      <td>13.0</td>\n",
       "      <td>13</td>\n",
       "    </tr>\n",
       "    <tr>\n",
       "      <th>2018-03-18</th>\n",
       "      <td>-2.581484</td>\n",
       "      <td>0.233059</td>\n",
       "      <td>-0.185880</td>\n",
       "      <td>-0.973858</td>\n",
       "      <td>14.0</td>\n",
       "      <td>13</td>\n",
       "    </tr>\n",
       "    <tr>\n",
       "      <th>2018-03-19</th>\n",
       "      <td>1.735567</td>\n",
       "      <td>1.063777</td>\n",
       "      <td>-0.450182</td>\n",
       "      <td>2.312442</td>\n",
       "      <td>15.0</td>\n",
       "      <td>13</td>\n",
       "    </tr>\n",
       "    <tr>\n",
       "      <th>2018-03-20</th>\n",
       "      <td>0.571404</td>\n",
       "      <td>0.655685</td>\n",
       "      <td>-1.868817</td>\n",
       "      <td>-0.973287</td>\n",
       "      <td>16.0</td>\n",
       "      <td>13</td>\n",
       "    </tr>\n",
       "    <tr>\n",
       "      <th>2018-03-21</th>\n",
       "      <td>0.336343</td>\n",
       "      <td>1.214288</td>\n",
       "      <td>1.065086</td>\n",
       "      <td>2.143880</td>\n",
       "      <td>17.0</td>\n",
       "      <td>13</td>\n",
       "    </tr>\n",
       "    <tr>\n",
       "      <th>2018-03-22</th>\n",
       "      <td>-0.392885</td>\n",
       "      <td>0.085108</td>\n",
       "      <td>0.016907</td>\n",
       "      <td>0.677721</td>\n",
       "      <td>18.0</td>\n",
       "      <td>13</td>\n",
       "    </tr>\n",
       "    <tr>\n",
       "      <th>2018-03-23</th>\n",
       "      <td>0.350437</td>\n",
       "      <td>-1.057915</td>\n",
       "      <td>0.967686</td>\n",
       "      <td>-0.254394</td>\n",
       "      <td>19.0</td>\n",
       "      <td>13</td>\n",
       "    </tr>\n",
       "  </tbody>\n",
       "</table>\n",
       "</div>"
      ],
      "text/plain": [
       "                   A         B         C         D     F   E\n",
       "2018-03-04  0.868550  0.361971 -1.215191 -0.605199   NaN  13\n",
       "2018-03-05  1.553660  0.180912  0.374747 -1.168331   1.0  13\n",
       "2018-03-06 -0.457921 -0.263354  1.425379  0.912822   2.0  13\n",
       "2018-03-07 -1.516530 -0.303393 -1.190135  3.482426   3.0  13\n",
       "2018-03-08 -0.771939  0.925489 -0.148202 -0.220742   4.0  13\n",
       "2018-03-09 -0.990552  1.704500 -1.447922  0.060468   5.0  13\n",
       "2018-03-10  0.310928  0.810005 -0.643031 -0.090067   6.0  13\n",
       "2018-03-11 -1.359726  0.635321  0.938998  0.135916   7.0  13\n",
       "2018-03-12  1.077967  0.519286  0.099999  0.638730   8.0  13\n",
       "2018-03-13  0.593998  0.427791  0.557566  0.286848   9.0  13\n",
       "2018-03-14 -0.066579  0.171686  1.069365  0.822569  10.0  13\n",
       "2018-03-15 -1.169535 -1.191682  0.169808  0.534880  11.0  13\n",
       "2018-03-16 -0.781807 -1.121264 -0.084425  0.185277  12.0  13\n",
       "2018-03-17  1.217606  0.395554  1.375085  0.682691  13.0  13\n",
       "2018-03-18 -2.581484  0.233059 -0.185880 -0.973858  14.0  13\n",
       "2018-03-19  1.735567  1.063777 -0.450182  2.312442  15.0  13\n",
       "2018-03-20  0.571404  0.655685 -1.868817 -0.973287  16.0  13\n",
       "2018-03-21  0.336343  1.214288  1.065086  2.143880  17.0  13\n",
       "2018-03-22 -0.392885  0.085108  0.016907  0.677721  18.0  13\n",
       "2018-03-23  0.350437 -1.057915  0.967686 -0.254394  19.0  13"
      ]
     },
     "execution_count": 38,
     "metadata": {},
     "output_type": "execute_result"
    }
   ],
   "source": [
    "df.loc[:, 'E'] = [13] * len(df)\n",
    "df"
   ]
  },
  {
   "cell_type": "markdown",
   "metadata": {},
   "source": [
    "\n"
   ]
  },
  {
   "cell_type": "markdown",
   "metadata": {},
   "source": [
    "### 데이터 프레임의 모든 수를 음수로 전환하기"
   ]
  },
  {
   "cell_type": "code",
   "execution_count": 39,
   "metadata": {},
   "outputs": [],
   "source": [
    "df2 = df.copy()"
   ]
  },
  {
   "cell_type": "code",
   "execution_count": 40,
   "metadata": {
    "scrolled": true
   },
   "outputs": [],
   "source": [
    "df2[df2 > 0] = -df2 # 모든 수를 음수로 전환"
   ]
  },
  {
   "cell_type": "code",
   "execution_count": 41,
   "metadata": {},
   "outputs": [
    {
     "data": {
      "text/html": [
       "<div>\n",
       "<style scoped>\n",
       "    .dataframe tbody tr th:only-of-type {\n",
       "        vertical-align: middle;\n",
       "    }\n",
       "\n",
       "    .dataframe tbody tr th {\n",
       "        vertical-align: top;\n",
       "    }\n",
       "\n",
       "    .dataframe thead th {\n",
       "        text-align: right;\n",
       "    }\n",
       "</style>\n",
       "<table border=\"1\" class=\"dataframe\">\n",
       "  <thead>\n",
       "    <tr style=\"text-align: right;\">\n",
       "      <th></th>\n",
       "      <th>A</th>\n",
       "      <th>B</th>\n",
       "      <th>C</th>\n",
       "      <th>D</th>\n",
       "      <th>F</th>\n",
       "      <th>E</th>\n",
       "    </tr>\n",
       "  </thead>\n",
       "  <tbody>\n",
       "    <tr>\n",
       "      <th>2018-03-04</th>\n",
       "      <td>-0.868550</td>\n",
       "      <td>-0.361971</td>\n",
       "      <td>-1.215191</td>\n",
       "      <td>-0.605199</td>\n",
       "      <td>NaN</td>\n",
       "      <td>-13</td>\n",
       "    </tr>\n",
       "    <tr>\n",
       "      <th>2018-03-05</th>\n",
       "      <td>-1.553660</td>\n",
       "      <td>-0.180912</td>\n",
       "      <td>-0.374747</td>\n",
       "      <td>-1.168331</td>\n",
       "      <td>-1.0</td>\n",
       "      <td>-13</td>\n",
       "    </tr>\n",
       "    <tr>\n",
       "      <th>2018-03-06</th>\n",
       "      <td>-0.457921</td>\n",
       "      <td>-0.263354</td>\n",
       "      <td>-1.425379</td>\n",
       "      <td>-0.912822</td>\n",
       "      <td>-2.0</td>\n",
       "      <td>-13</td>\n",
       "    </tr>\n",
       "    <tr>\n",
       "      <th>2018-03-07</th>\n",
       "      <td>-1.516530</td>\n",
       "      <td>-0.303393</td>\n",
       "      <td>-1.190135</td>\n",
       "      <td>-3.482426</td>\n",
       "      <td>-3.0</td>\n",
       "      <td>-13</td>\n",
       "    </tr>\n",
       "    <tr>\n",
       "      <th>2018-03-08</th>\n",
       "      <td>-0.771939</td>\n",
       "      <td>-0.925489</td>\n",
       "      <td>-0.148202</td>\n",
       "      <td>-0.220742</td>\n",
       "      <td>-4.0</td>\n",
       "      <td>-13</td>\n",
       "    </tr>\n",
       "  </tbody>\n",
       "</table>\n",
       "</div>"
      ],
      "text/plain": [
       "                   A         B         C         D    F   E\n",
       "2018-03-04 -0.868550 -0.361971 -1.215191 -0.605199  NaN -13\n",
       "2018-03-05 -1.553660 -0.180912 -0.374747 -1.168331 -1.0 -13\n",
       "2018-03-06 -0.457921 -0.263354 -1.425379 -0.912822 -2.0 -13\n",
       "2018-03-07 -1.516530 -0.303393 -1.190135 -3.482426 -3.0 -13\n",
       "2018-03-08 -0.771939 -0.925489 -0.148202 -0.220742 -4.0 -13"
      ]
     },
     "execution_count": 41,
     "metadata": {},
     "output_type": "execute_result"
    }
   ],
   "source": [
    "df2.head()"
   ]
  },
  {
   "cell_type": "markdown",
   "metadata": {},
   "source": [
    "\n"
   ]
  },
  {
   "cell_type": "markdown",
   "metadata": {},
   "source": [
    "\n"
   ]
  },
  {
   "cell_type": "markdown",
   "metadata": {},
   "source": [
    "## Missing Data"
   ]
  },
  {
   "cell_type": "markdown",
   "metadata": {},
   "source": [
    "### reindex 를 사용하여 지정된 축의 index 를 변경/추가/삭제"
   ]
  },
  {
   "cell_type": "code",
   "execution_count": 42,
   "metadata": {},
   "outputs": [],
   "source": [
    "df1 = df.reindex(index=dates[0:4], columns=list(df.columns) + ['E'])"
   ]
  },
  {
   "cell_type": "code",
   "execution_count": 43,
   "metadata": {},
   "outputs": [
    {
     "data": {
      "text/html": [
       "<div>\n",
       "<style scoped>\n",
       "    .dataframe tbody tr th:only-of-type {\n",
       "        vertical-align: middle;\n",
       "    }\n",
       "\n",
       "    .dataframe tbody tr th {\n",
       "        vertical-align: top;\n",
       "    }\n",
       "\n",
       "    .dataframe thead th {\n",
       "        text-align: right;\n",
       "    }\n",
       "</style>\n",
       "<table border=\"1\" class=\"dataframe\">\n",
       "  <thead>\n",
       "    <tr style=\"text-align: right;\">\n",
       "      <th></th>\n",
       "      <th>A</th>\n",
       "      <th>B</th>\n",
       "      <th>C</th>\n",
       "      <th>D</th>\n",
       "      <th>F</th>\n",
       "      <th>E</th>\n",
       "      <th>E</th>\n",
       "    </tr>\n",
       "  </thead>\n",
       "  <tbody>\n",
       "    <tr>\n",
       "      <th>2018-03-04</th>\n",
       "      <td>0.868550</td>\n",
       "      <td>0.361971</td>\n",
       "      <td>-1.215191</td>\n",
       "      <td>-0.605199</td>\n",
       "      <td>NaN</td>\n",
       "      <td>13</td>\n",
       "      <td>13</td>\n",
       "    </tr>\n",
       "    <tr>\n",
       "      <th>2018-03-05</th>\n",
       "      <td>1.553660</td>\n",
       "      <td>0.180912</td>\n",
       "      <td>0.374747</td>\n",
       "      <td>-1.168331</td>\n",
       "      <td>1.0</td>\n",
       "      <td>13</td>\n",
       "      <td>13</td>\n",
       "    </tr>\n",
       "    <tr>\n",
       "      <th>2018-03-06</th>\n",
       "      <td>-0.457921</td>\n",
       "      <td>-0.263354</td>\n",
       "      <td>1.425379</td>\n",
       "      <td>0.912822</td>\n",
       "      <td>2.0</td>\n",
       "      <td>13</td>\n",
       "      <td>13</td>\n",
       "    </tr>\n",
       "    <tr>\n",
       "      <th>2018-03-07</th>\n",
       "      <td>-1.516530</td>\n",
       "      <td>-0.303393</td>\n",
       "      <td>-1.190135</td>\n",
       "      <td>3.482426</td>\n",
       "      <td>3.0</td>\n",
       "      <td>13</td>\n",
       "      <td>13</td>\n",
       "    </tr>\n",
       "  </tbody>\n",
       "</table>\n",
       "</div>"
      ],
      "text/plain": [
       "                   A         B         C         D    F   E   E\n",
       "2018-03-04  0.868550  0.361971 -1.215191 -0.605199  NaN  13  13\n",
       "2018-03-05  1.553660  0.180912  0.374747 -1.168331  1.0  13  13\n",
       "2018-03-06 -0.457921 -0.263354  1.425379  0.912822  2.0  13  13\n",
       "2018-03-07 -1.516530 -0.303393 -1.190135  3.482426  3.0  13  13"
      ]
     },
     "execution_count": 43,
     "metadata": {},
     "output_type": "execute_result"
    }
   ],
   "source": [
    "df1"
   ]
  },
  {
   "cell_type": "markdown",
   "metadata": {},
   "source": [
    "\n"
   ]
  },
  {
   "cell_type": "markdown",
   "metadata": {},
   "source": [
    "### index[0], [1] 에 해당하는 E Column 의 값을 1로 변경하기"
   ]
  },
  {
   "cell_type": "code",
   "execution_count": 44,
   "metadata": {},
   "outputs": [
    {
     "data": {
      "text/html": [
       "<div>\n",
       "<style scoped>\n",
       "    .dataframe tbody tr th:only-of-type {\n",
       "        vertical-align: middle;\n",
       "    }\n",
       "\n",
       "    .dataframe tbody tr th {\n",
       "        vertical-align: top;\n",
       "    }\n",
       "\n",
       "    .dataframe thead th {\n",
       "        text-align: right;\n",
       "    }\n",
       "</style>\n",
       "<table border=\"1\" class=\"dataframe\">\n",
       "  <thead>\n",
       "    <tr style=\"text-align: right;\">\n",
       "      <th></th>\n",
       "      <th>A</th>\n",
       "      <th>B</th>\n",
       "      <th>C</th>\n",
       "      <th>D</th>\n",
       "      <th>F</th>\n",
       "      <th>E</th>\n",
       "      <th>E</th>\n",
       "    </tr>\n",
       "  </thead>\n",
       "  <tbody>\n",
       "    <tr>\n",
       "      <th>2018-03-04</th>\n",
       "      <td>0.868550</td>\n",
       "      <td>0.361971</td>\n",
       "      <td>-1.215191</td>\n",
       "      <td>-0.605199</td>\n",
       "      <td>NaN</td>\n",
       "      <td>1</td>\n",
       "      <td>1</td>\n",
       "    </tr>\n",
       "    <tr>\n",
       "      <th>2018-03-05</th>\n",
       "      <td>1.553660</td>\n",
       "      <td>0.180912</td>\n",
       "      <td>0.374747</td>\n",
       "      <td>-1.168331</td>\n",
       "      <td>1.0</td>\n",
       "      <td>1</td>\n",
       "      <td>1</td>\n",
       "    </tr>\n",
       "    <tr>\n",
       "      <th>2018-03-06</th>\n",
       "      <td>-0.457921</td>\n",
       "      <td>-0.263354</td>\n",
       "      <td>1.425379</td>\n",
       "      <td>0.912822</td>\n",
       "      <td>2.0</td>\n",
       "      <td>13</td>\n",
       "      <td>13</td>\n",
       "    </tr>\n",
       "    <tr>\n",
       "      <th>2018-03-07</th>\n",
       "      <td>-1.516530</td>\n",
       "      <td>-0.303393</td>\n",
       "      <td>-1.190135</td>\n",
       "      <td>3.482426</td>\n",
       "      <td>3.0</td>\n",
       "      <td>13</td>\n",
       "      <td>13</td>\n",
       "    </tr>\n",
       "  </tbody>\n",
       "</table>\n",
       "</div>"
      ],
      "text/plain": [
       "                   A         B         C         D    F   E   E\n",
       "2018-03-04  0.868550  0.361971 -1.215191 -0.605199  NaN   1   1\n",
       "2018-03-05  1.553660  0.180912  0.374747 -1.168331  1.0   1   1\n",
       "2018-03-06 -0.457921 -0.263354  1.425379  0.912822  2.0  13  13\n",
       "2018-03-07 -1.516530 -0.303393 -1.190135  3.482426  3.0  13  13"
      ]
     },
     "execution_count": 44,
     "metadata": {},
     "output_type": "execute_result"
    }
   ],
   "source": [
    "df1.loc[dates[0]:dates[1], 'E'] = 1\n",
    "df1"
   ]
  },
  {
   "cell_type": "markdown",
   "metadata": {},
   "source": [
    "\n"
   ]
  },
  {
   "cell_type": "markdown",
   "metadata": {},
   "source": [
    "### NaN 에 해당하는 행을 모두 지우기"
   ]
  },
  {
   "cell_type": "code",
   "execution_count": 45,
   "metadata": {},
   "outputs": [
    {
     "data": {
      "text/html": [
       "<div>\n",
       "<style scoped>\n",
       "    .dataframe tbody tr th:only-of-type {\n",
       "        vertical-align: middle;\n",
       "    }\n",
       "\n",
       "    .dataframe tbody tr th {\n",
       "        vertical-align: top;\n",
       "    }\n",
       "\n",
       "    .dataframe thead th {\n",
       "        text-align: right;\n",
       "    }\n",
       "</style>\n",
       "<table border=\"1\" class=\"dataframe\">\n",
       "  <thead>\n",
       "    <tr style=\"text-align: right;\">\n",
       "      <th></th>\n",
       "      <th>A</th>\n",
       "      <th>B</th>\n",
       "      <th>C</th>\n",
       "      <th>D</th>\n",
       "      <th>F</th>\n",
       "      <th>E</th>\n",
       "      <th>E</th>\n",
       "    </tr>\n",
       "  </thead>\n",
       "  <tbody>\n",
       "    <tr>\n",
       "      <th>2018-03-05</th>\n",
       "      <td>1.553660</td>\n",
       "      <td>0.180912</td>\n",
       "      <td>0.374747</td>\n",
       "      <td>-1.168331</td>\n",
       "      <td>1.0</td>\n",
       "      <td>1</td>\n",
       "      <td>1</td>\n",
       "    </tr>\n",
       "    <tr>\n",
       "      <th>2018-03-06</th>\n",
       "      <td>-0.457921</td>\n",
       "      <td>-0.263354</td>\n",
       "      <td>1.425379</td>\n",
       "      <td>0.912822</td>\n",
       "      <td>2.0</td>\n",
       "      <td>13</td>\n",
       "      <td>13</td>\n",
       "    </tr>\n",
       "    <tr>\n",
       "      <th>2018-03-07</th>\n",
       "      <td>-1.516530</td>\n",
       "      <td>-0.303393</td>\n",
       "      <td>-1.190135</td>\n",
       "      <td>3.482426</td>\n",
       "      <td>3.0</td>\n",
       "      <td>13</td>\n",
       "      <td>13</td>\n",
       "    </tr>\n",
       "  </tbody>\n",
       "</table>\n",
       "</div>"
      ],
      "text/plain": [
       "                   A         B         C         D    F   E   E\n",
       "2018-03-05  1.553660  0.180912  0.374747 -1.168331  1.0   1   1\n",
       "2018-03-06 -0.457921 -0.263354  1.425379  0.912822  2.0  13  13\n",
       "2018-03-07 -1.516530 -0.303393 -1.190135  3.482426  3.0  13  13"
      ]
     },
     "execution_count": 45,
     "metadata": {},
     "output_type": "execute_result"
    }
   ],
   "source": [
    "df1.dropna()"
   ]
  },
  {
   "cell_type": "markdown",
   "metadata": {},
   "source": [
    "\n"
   ]
  },
  {
   "cell_type": "markdown",
   "metadata": {},
   "source": [
    "### NaN 에 해당하는 값을 5로 대체하기"
   ]
  },
  {
   "cell_type": "code",
   "execution_count": 46,
   "metadata": {},
   "outputs": [
    {
     "data": {
      "text/html": [
       "<div>\n",
       "<style scoped>\n",
       "    .dataframe tbody tr th:only-of-type {\n",
       "        vertical-align: middle;\n",
       "    }\n",
       "\n",
       "    .dataframe tbody tr th {\n",
       "        vertical-align: top;\n",
       "    }\n",
       "\n",
       "    .dataframe thead th {\n",
       "        text-align: right;\n",
       "    }\n",
       "</style>\n",
       "<table border=\"1\" class=\"dataframe\">\n",
       "  <thead>\n",
       "    <tr style=\"text-align: right;\">\n",
       "      <th></th>\n",
       "      <th>A</th>\n",
       "      <th>B</th>\n",
       "      <th>C</th>\n",
       "      <th>D</th>\n",
       "      <th>F</th>\n",
       "      <th>E</th>\n",
       "      <th>E</th>\n",
       "    </tr>\n",
       "  </thead>\n",
       "  <tbody>\n",
       "    <tr>\n",
       "      <th>2018-03-04</th>\n",
       "      <td>0.868550</td>\n",
       "      <td>0.361971</td>\n",
       "      <td>-1.215191</td>\n",
       "      <td>-0.605199</td>\n",
       "      <td>5.0</td>\n",
       "      <td>1</td>\n",
       "      <td>1</td>\n",
       "    </tr>\n",
       "    <tr>\n",
       "      <th>2018-03-05</th>\n",
       "      <td>1.553660</td>\n",
       "      <td>0.180912</td>\n",
       "      <td>0.374747</td>\n",
       "      <td>-1.168331</td>\n",
       "      <td>1.0</td>\n",
       "      <td>1</td>\n",
       "      <td>1</td>\n",
       "    </tr>\n",
       "    <tr>\n",
       "      <th>2018-03-06</th>\n",
       "      <td>-0.457921</td>\n",
       "      <td>-0.263354</td>\n",
       "      <td>1.425379</td>\n",
       "      <td>0.912822</td>\n",
       "      <td>2.0</td>\n",
       "      <td>13</td>\n",
       "      <td>13</td>\n",
       "    </tr>\n",
       "    <tr>\n",
       "      <th>2018-03-07</th>\n",
       "      <td>-1.516530</td>\n",
       "      <td>-0.303393</td>\n",
       "      <td>-1.190135</td>\n",
       "      <td>3.482426</td>\n",
       "      <td>3.0</td>\n",
       "      <td>13</td>\n",
       "      <td>13</td>\n",
       "    </tr>\n",
       "  </tbody>\n",
       "</table>\n",
       "</div>"
      ],
      "text/plain": [
       "                   A         B         C         D    F   E   E\n",
       "2018-03-04  0.868550  0.361971 -1.215191 -0.605199  5.0   1   1\n",
       "2018-03-05  1.553660  0.180912  0.374747 -1.168331  1.0   1   1\n",
       "2018-03-06 -0.457921 -0.263354  1.425379  0.912822  2.0  13  13\n",
       "2018-03-07 -1.516530 -0.303393 -1.190135  3.482426  3.0  13  13"
      ]
     },
     "execution_count": 46,
     "metadata": {},
     "output_type": "execute_result"
    }
   ],
   "source": [
    "df1.fillna(5)"
   ]
  },
  {
   "cell_type": "markdown",
   "metadata": {},
   "source": [
    "\n"
   ]
  },
  {
   "cell_type": "markdown",
   "metadata": {},
   "source": [
    "### NaN 에 해당하는 값을 Boolean 값으로 표시하기"
   ]
  },
  {
   "cell_type": "code",
   "execution_count": 47,
   "metadata": {},
   "outputs": [
    {
     "data": {
      "text/html": [
       "<div>\n",
       "<style scoped>\n",
       "    .dataframe tbody tr th:only-of-type {\n",
       "        vertical-align: middle;\n",
       "    }\n",
       "\n",
       "    .dataframe tbody tr th {\n",
       "        vertical-align: top;\n",
       "    }\n",
       "\n",
       "    .dataframe thead th {\n",
       "        text-align: right;\n",
       "    }\n",
       "</style>\n",
       "<table border=\"1\" class=\"dataframe\">\n",
       "  <thead>\n",
       "    <tr style=\"text-align: right;\">\n",
       "      <th></th>\n",
       "      <th>A</th>\n",
       "      <th>B</th>\n",
       "      <th>C</th>\n",
       "      <th>D</th>\n",
       "      <th>F</th>\n",
       "      <th>E</th>\n",
       "    </tr>\n",
       "  </thead>\n",
       "  <tbody>\n",
       "    <tr>\n",
       "      <th>2018-03-04</th>\n",
       "      <td>False</td>\n",
       "      <td>False</td>\n",
       "      <td>False</td>\n",
       "      <td>False</td>\n",
       "      <td>True</td>\n",
       "      <td>False</td>\n",
       "    </tr>\n",
       "    <tr>\n",
       "      <th>2018-03-05</th>\n",
       "      <td>False</td>\n",
       "      <td>False</td>\n",
       "      <td>False</td>\n",
       "      <td>False</td>\n",
       "      <td>False</td>\n",
       "      <td>False</td>\n",
       "    </tr>\n",
       "    <tr>\n",
       "      <th>2018-03-06</th>\n",
       "      <td>False</td>\n",
       "      <td>False</td>\n",
       "      <td>False</td>\n",
       "      <td>False</td>\n",
       "      <td>False</td>\n",
       "      <td>False</td>\n",
       "    </tr>\n",
       "    <tr>\n",
       "      <th>2018-03-07</th>\n",
       "      <td>False</td>\n",
       "      <td>False</td>\n",
       "      <td>False</td>\n",
       "      <td>False</td>\n",
       "      <td>False</td>\n",
       "      <td>False</td>\n",
       "    </tr>\n",
       "    <tr>\n",
       "      <th>2018-03-08</th>\n",
       "      <td>False</td>\n",
       "      <td>False</td>\n",
       "      <td>False</td>\n",
       "      <td>False</td>\n",
       "      <td>False</td>\n",
       "      <td>False</td>\n",
       "    </tr>\n",
       "    <tr>\n",
       "      <th>2018-03-09</th>\n",
       "      <td>False</td>\n",
       "      <td>False</td>\n",
       "      <td>False</td>\n",
       "      <td>False</td>\n",
       "      <td>False</td>\n",
       "      <td>False</td>\n",
       "    </tr>\n",
       "    <tr>\n",
       "      <th>2018-03-10</th>\n",
       "      <td>False</td>\n",
       "      <td>False</td>\n",
       "      <td>False</td>\n",
       "      <td>False</td>\n",
       "      <td>False</td>\n",
       "      <td>False</td>\n",
       "    </tr>\n",
       "    <tr>\n",
       "      <th>2018-03-11</th>\n",
       "      <td>False</td>\n",
       "      <td>False</td>\n",
       "      <td>False</td>\n",
       "      <td>False</td>\n",
       "      <td>False</td>\n",
       "      <td>False</td>\n",
       "    </tr>\n",
       "    <tr>\n",
       "      <th>2018-03-12</th>\n",
       "      <td>False</td>\n",
       "      <td>False</td>\n",
       "      <td>False</td>\n",
       "      <td>False</td>\n",
       "      <td>False</td>\n",
       "      <td>False</td>\n",
       "    </tr>\n",
       "    <tr>\n",
       "      <th>2018-03-13</th>\n",
       "      <td>False</td>\n",
       "      <td>False</td>\n",
       "      <td>False</td>\n",
       "      <td>False</td>\n",
       "      <td>False</td>\n",
       "      <td>False</td>\n",
       "    </tr>\n",
       "    <tr>\n",
       "      <th>2018-03-14</th>\n",
       "      <td>False</td>\n",
       "      <td>False</td>\n",
       "      <td>False</td>\n",
       "      <td>False</td>\n",
       "      <td>False</td>\n",
       "      <td>False</td>\n",
       "    </tr>\n",
       "    <tr>\n",
       "      <th>2018-03-15</th>\n",
       "      <td>False</td>\n",
       "      <td>False</td>\n",
       "      <td>False</td>\n",
       "      <td>False</td>\n",
       "      <td>False</td>\n",
       "      <td>False</td>\n",
       "    </tr>\n",
       "    <tr>\n",
       "      <th>2018-03-16</th>\n",
       "      <td>False</td>\n",
       "      <td>False</td>\n",
       "      <td>False</td>\n",
       "      <td>False</td>\n",
       "      <td>False</td>\n",
       "      <td>False</td>\n",
       "    </tr>\n",
       "    <tr>\n",
       "      <th>2018-03-17</th>\n",
       "      <td>False</td>\n",
       "      <td>False</td>\n",
       "      <td>False</td>\n",
       "      <td>False</td>\n",
       "      <td>False</td>\n",
       "      <td>False</td>\n",
       "    </tr>\n",
       "    <tr>\n",
       "      <th>2018-03-18</th>\n",
       "      <td>False</td>\n",
       "      <td>False</td>\n",
       "      <td>False</td>\n",
       "      <td>False</td>\n",
       "      <td>False</td>\n",
       "      <td>False</td>\n",
       "    </tr>\n",
       "    <tr>\n",
       "      <th>2018-03-19</th>\n",
       "      <td>False</td>\n",
       "      <td>False</td>\n",
       "      <td>False</td>\n",
       "      <td>False</td>\n",
       "      <td>False</td>\n",
       "      <td>False</td>\n",
       "    </tr>\n",
       "    <tr>\n",
       "      <th>2018-03-20</th>\n",
       "      <td>False</td>\n",
       "      <td>False</td>\n",
       "      <td>False</td>\n",
       "      <td>False</td>\n",
       "      <td>False</td>\n",
       "      <td>False</td>\n",
       "    </tr>\n",
       "    <tr>\n",
       "      <th>2018-03-21</th>\n",
       "      <td>False</td>\n",
       "      <td>False</td>\n",
       "      <td>False</td>\n",
       "      <td>False</td>\n",
       "      <td>False</td>\n",
       "      <td>False</td>\n",
       "    </tr>\n",
       "    <tr>\n",
       "      <th>2018-03-22</th>\n",
       "      <td>False</td>\n",
       "      <td>False</td>\n",
       "      <td>False</td>\n",
       "      <td>False</td>\n",
       "      <td>False</td>\n",
       "      <td>False</td>\n",
       "    </tr>\n",
       "    <tr>\n",
       "      <th>2018-03-23</th>\n",
       "      <td>False</td>\n",
       "      <td>False</td>\n",
       "      <td>False</td>\n",
       "      <td>False</td>\n",
       "      <td>False</td>\n",
       "      <td>False</td>\n",
       "    </tr>\n",
       "  </tbody>\n",
       "</table>\n",
       "</div>"
      ],
      "text/plain": [
       "                A      B      C      D      F      E\n",
       "2018-03-04  False  False  False  False   True  False\n",
       "2018-03-05  False  False  False  False  False  False\n",
       "2018-03-06  False  False  False  False  False  False\n",
       "2018-03-07  False  False  False  False  False  False\n",
       "2018-03-08  False  False  False  False  False  False\n",
       "2018-03-09  False  False  False  False  False  False\n",
       "2018-03-10  False  False  False  False  False  False\n",
       "2018-03-11  False  False  False  False  False  False\n",
       "2018-03-12  False  False  False  False  False  False\n",
       "2018-03-13  False  False  False  False  False  False\n",
       "2018-03-14  False  False  False  False  False  False\n",
       "2018-03-15  False  False  False  False  False  False\n",
       "2018-03-16  False  False  False  False  False  False\n",
       "2018-03-17  False  False  False  False  False  False\n",
       "2018-03-18  False  False  False  False  False  False\n",
       "2018-03-19  False  False  False  False  False  False\n",
       "2018-03-20  False  False  False  False  False  False\n",
       "2018-03-21  False  False  False  False  False  False\n",
       "2018-03-22  False  False  False  False  False  False\n",
       "2018-03-23  False  False  False  False  False  False"
      ]
     },
     "execution_count": 47,
     "metadata": {},
     "output_type": "execute_result"
    }
   ],
   "source": [
    "pd.isna(df)"
   ]
  },
  {
   "cell_type": "markdown",
   "metadata": {},
   "source": [
    "\n"
   ]
  },
  {
   "cell_type": "markdown",
   "metadata": {},
   "source": [
    "## Operations"
   ]
  },
  {
   "cell_type": "code",
   "execution_count": 48,
   "metadata": {},
   "outputs": [
    {
     "data": {
      "text/plain": [
       "A    -0.073625\n",
       "B     0.272341\n",
       "C     0.041342\n",
       "D     0.429540\n",
       "F    10.000000\n",
       "E    13.000000\n",
       "dtype: float64"
      ]
     },
     "execution_count": 48,
     "metadata": {},
     "output_type": "execute_result"
    }
   ],
   "source": [
    "df.mean()"
   ]
  },
  {
   "cell_type": "code",
   "execution_count": 49,
   "metadata": {},
   "outputs": [
    {
     "data": {
      "text/plain": [
       "2018-03-04    2.482026\n",
       "2018-03-05    2.490165\n",
       "2018-03-06    2.769488\n",
       "2018-03-07    2.745395\n",
       "2018-03-08    2.797434\n",
       "2018-03-09    2.887749\n",
       "2018-03-10    3.231306\n",
       "2018-03-11    3.391752\n",
       "2018-03-12    3.889330\n",
       "2018-03-13    3.977700\n",
       "2018-03-14    4.166174\n",
       "2018-03-15    3.723912\n",
       "2018-03-16    3.866297\n",
       "2018-03-17    4.945156\n",
       "2018-03-18    3.915306\n",
       "2018-03-19    5.443601\n",
       "2018-03-20    4.564164\n",
       "2018-03-21    5.793266\n",
       "2018-03-22    5.231142\n",
       "2018-03-23    5.334302\n",
       "Freq: D, dtype: float64"
      ]
     },
     "execution_count": 49,
     "metadata": {},
     "output_type": "execute_result"
    }
   ],
   "source": [
    "df.mean(1)"
   ]
  },
  {
   "cell_type": "code",
   "execution_count": 50,
   "metadata": {},
   "outputs": [
    {
     "data": {
      "text/plain": [
       "2018-03-04    1.0\n",
       "2018-03-05    3.0\n",
       "2018-03-06    5.0\n",
       "2018-03-07    NaN\n",
       "2018-03-08    6.0\n",
       "2018-03-09    8.0\n",
       "Freq: D, dtype: float64"
      ]
     },
     "execution_count": 50,
     "metadata": {},
     "output_type": "execute_result"
    }
   ],
   "source": [
    "pd.Series([1, 3, 5, np.nan, 6, 8], index=dates[:6])"
   ]
  },
  {
   "cell_type": "code",
   "execution_count": 51,
   "metadata": {},
   "outputs": [
    {
     "data": {
      "text/plain": [
       "2018-03-06    1.0\n",
       "2018-03-07    3.0\n",
       "2018-03-08    5.0\n",
       "2018-03-09    NaN\n",
       "2018-03-10    6.0\n",
       "2018-03-11    8.0\n",
       "Freq: D, dtype: float64"
      ]
     },
     "execution_count": 51,
     "metadata": {},
     "output_type": "execute_result"
    }
   ],
   "source": [
    "s = pd.Series([1, 3, 5, np.nan, 6, 8], index=dates[:6].shift(2))\n",
    "s"
   ]
  },
  {
   "cell_type": "code",
   "execution_count": 52,
   "metadata": {},
   "outputs": [
    {
     "data": {
      "text/html": [
       "<div>\n",
       "<style scoped>\n",
       "    .dataframe tbody tr th:only-of-type {\n",
       "        vertical-align: middle;\n",
       "    }\n",
       "\n",
       "    .dataframe tbody tr th {\n",
       "        vertical-align: top;\n",
       "    }\n",
       "\n",
       "    .dataframe thead th {\n",
       "        text-align: right;\n",
       "    }\n",
       "</style>\n",
       "<table border=\"1\" class=\"dataframe\">\n",
       "  <thead>\n",
       "    <tr style=\"text-align: right;\">\n",
       "      <th></th>\n",
       "      <th>A</th>\n",
       "      <th>B</th>\n",
       "      <th>C</th>\n",
       "      <th>D</th>\n",
       "      <th>F</th>\n",
       "      <th>E</th>\n",
       "    </tr>\n",
       "  </thead>\n",
       "  <tbody>\n",
       "    <tr>\n",
       "      <th>2018-03-06</th>\n",
       "      <td>-1.457921</td>\n",
       "      <td>-1.263354</td>\n",
       "      <td>0.425379</td>\n",
       "      <td>-0.087178</td>\n",
       "      <td>1.0</td>\n",
       "      <td>12.0</td>\n",
       "    </tr>\n",
       "    <tr>\n",
       "      <th>2018-03-07</th>\n",
       "      <td>-4.516530</td>\n",
       "      <td>-3.303393</td>\n",
       "      <td>-4.190135</td>\n",
       "      <td>0.482426</td>\n",
       "      <td>0.0</td>\n",
       "      <td>10.0</td>\n",
       "    </tr>\n",
       "    <tr>\n",
       "      <th>2018-03-08</th>\n",
       "      <td>-5.771939</td>\n",
       "      <td>-4.074511</td>\n",
       "      <td>-5.148202</td>\n",
       "      <td>-5.220742</td>\n",
       "      <td>-1.0</td>\n",
       "      <td>8.0</td>\n",
       "    </tr>\n",
       "    <tr>\n",
       "      <th>2018-03-10</th>\n",
       "      <td>-5.689072</td>\n",
       "      <td>-5.189995</td>\n",
       "      <td>-6.643031</td>\n",
       "      <td>-6.090067</td>\n",
       "      <td>0.0</td>\n",
       "      <td>7.0</td>\n",
       "    </tr>\n",
       "    <tr>\n",
       "      <th>2018-03-11</th>\n",
       "      <td>-9.359726</td>\n",
       "      <td>-7.364679</td>\n",
       "      <td>-7.061002</td>\n",
       "      <td>-7.864084</td>\n",
       "      <td>-1.0</td>\n",
       "      <td>5.0</td>\n",
       "    </tr>\n",
       "  </tbody>\n",
       "</table>\n",
       "</div>"
      ],
      "text/plain": [
       "                   A         B         C         D    F     E\n",
       "2018-03-06 -1.457921 -1.263354  0.425379 -0.087178  1.0  12.0\n",
       "2018-03-07 -4.516530 -3.303393 -4.190135  0.482426  0.0  10.0\n",
       "2018-03-08 -5.771939 -4.074511 -5.148202 -5.220742 -1.0   8.0\n",
       "2018-03-10 -5.689072 -5.189995 -6.643031 -6.090067  0.0   7.0\n",
       "2018-03-11 -9.359726 -7.364679 -7.061002 -7.864084 -1.0   5.0"
      ]
     },
     "execution_count": 52,
     "metadata": {},
     "output_type": "execute_result"
    }
   ],
   "source": [
    "df.sub(s, axis='index').dropna()"
   ]
  },
  {
   "cell_type": "markdown",
   "metadata": {},
   "source": [
    "\n"
   ]
  },
  {
   "cell_type": "markdown",
   "metadata": {},
   "source": [
    "## Apply"
   ]
  },
  {
   "cell_type": "code",
   "execution_count": 53,
   "metadata": {},
   "outputs": [
    {
     "data": {
      "text/html": [
       "<div>\n",
       "<style scoped>\n",
       "    .dataframe tbody tr th:only-of-type {\n",
       "        vertical-align: middle;\n",
       "    }\n",
       "\n",
       "    .dataframe tbody tr th {\n",
       "        vertical-align: top;\n",
       "    }\n",
       "\n",
       "    .dataframe thead th {\n",
       "        text-align: right;\n",
       "    }\n",
       "</style>\n",
       "<table border=\"1\" class=\"dataframe\">\n",
       "  <thead>\n",
       "    <tr style=\"text-align: right;\">\n",
       "      <th></th>\n",
       "      <th>A</th>\n",
       "      <th>B</th>\n",
       "      <th>C</th>\n",
       "      <th>D</th>\n",
       "      <th>F</th>\n",
       "      <th>E</th>\n",
       "    </tr>\n",
       "  </thead>\n",
       "  <tbody>\n",
       "    <tr>\n",
       "      <th>2018-03-04</th>\n",
       "      <td>0.868550</td>\n",
       "      <td>0.361971</td>\n",
       "      <td>-1.215191</td>\n",
       "      <td>-0.605199</td>\n",
       "      <td>NaN</td>\n",
       "      <td>13</td>\n",
       "    </tr>\n",
       "    <tr>\n",
       "      <th>2018-03-05</th>\n",
       "      <td>1.553660</td>\n",
       "      <td>0.180912</td>\n",
       "      <td>0.374747</td>\n",
       "      <td>-1.168331</td>\n",
       "      <td>1.0</td>\n",
       "      <td>13</td>\n",
       "    </tr>\n",
       "    <tr>\n",
       "      <th>2018-03-06</th>\n",
       "      <td>-0.457921</td>\n",
       "      <td>-0.263354</td>\n",
       "      <td>1.425379</td>\n",
       "      <td>0.912822</td>\n",
       "      <td>2.0</td>\n",
       "      <td>13</td>\n",
       "    </tr>\n",
       "    <tr>\n",
       "      <th>2018-03-07</th>\n",
       "      <td>-1.516530</td>\n",
       "      <td>-0.303393</td>\n",
       "      <td>-1.190135</td>\n",
       "      <td>3.482426</td>\n",
       "      <td>3.0</td>\n",
       "      <td>13</td>\n",
       "    </tr>\n",
       "    <tr>\n",
       "      <th>2018-03-08</th>\n",
       "      <td>-0.771939</td>\n",
       "      <td>0.925489</td>\n",
       "      <td>-0.148202</td>\n",
       "      <td>-0.220742</td>\n",
       "      <td>4.0</td>\n",
       "      <td>13</td>\n",
       "    </tr>\n",
       "    <tr>\n",
       "      <th>2018-03-09</th>\n",
       "      <td>-0.990552</td>\n",
       "      <td>1.704500</td>\n",
       "      <td>-1.447922</td>\n",
       "      <td>0.060468</td>\n",
       "      <td>5.0</td>\n",
       "      <td>13</td>\n",
       "    </tr>\n",
       "    <tr>\n",
       "      <th>2018-03-10</th>\n",
       "      <td>0.310928</td>\n",
       "      <td>0.810005</td>\n",
       "      <td>-0.643031</td>\n",
       "      <td>-0.090067</td>\n",
       "      <td>6.0</td>\n",
       "      <td>13</td>\n",
       "    </tr>\n",
       "    <tr>\n",
       "      <th>2018-03-11</th>\n",
       "      <td>-1.359726</td>\n",
       "      <td>0.635321</td>\n",
       "      <td>0.938998</td>\n",
       "      <td>0.135916</td>\n",
       "      <td>7.0</td>\n",
       "      <td>13</td>\n",
       "    </tr>\n",
       "    <tr>\n",
       "      <th>2018-03-12</th>\n",
       "      <td>1.077967</td>\n",
       "      <td>0.519286</td>\n",
       "      <td>0.099999</td>\n",
       "      <td>0.638730</td>\n",
       "      <td>8.0</td>\n",
       "      <td>13</td>\n",
       "    </tr>\n",
       "    <tr>\n",
       "      <th>2018-03-13</th>\n",
       "      <td>0.593998</td>\n",
       "      <td>0.427791</td>\n",
       "      <td>0.557566</td>\n",
       "      <td>0.286848</td>\n",
       "      <td>9.0</td>\n",
       "      <td>13</td>\n",
       "    </tr>\n",
       "  </tbody>\n",
       "</table>\n",
       "</div>"
      ],
      "text/plain": [
       "                   A         B         C         D    F   E\n",
       "2018-03-04  0.868550  0.361971 -1.215191 -0.605199  NaN  13\n",
       "2018-03-05  1.553660  0.180912  0.374747 -1.168331  1.0  13\n",
       "2018-03-06 -0.457921 -0.263354  1.425379  0.912822  2.0  13\n",
       "2018-03-07 -1.516530 -0.303393 -1.190135  3.482426  3.0  13\n",
       "2018-03-08 -0.771939  0.925489 -0.148202 -0.220742  4.0  13\n",
       "2018-03-09 -0.990552  1.704500 -1.447922  0.060468  5.0  13\n",
       "2018-03-10  0.310928  0.810005 -0.643031 -0.090067  6.0  13\n",
       "2018-03-11 -1.359726  0.635321  0.938998  0.135916  7.0  13\n",
       "2018-03-12  1.077967  0.519286  0.099999  0.638730  8.0  13\n",
       "2018-03-13  0.593998  0.427791  0.557566  0.286848  9.0  13"
      ]
     },
     "execution_count": 53,
     "metadata": {},
     "output_type": "execute_result"
    }
   ],
   "source": [
    "df.head(10)"
   ]
  },
  {
   "cell_type": "code",
   "execution_count": 54,
   "metadata": {},
   "outputs": [
    {
     "data": {
      "text/html": [
       "<div>\n",
       "<style scoped>\n",
       "    .dataframe tbody tr th:only-of-type {\n",
       "        vertical-align: middle;\n",
       "    }\n",
       "\n",
       "    .dataframe tbody tr th {\n",
       "        vertical-align: top;\n",
       "    }\n",
       "\n",
       "    .dataframe thead th {\n",
       "        text-align: right;\n",
       "    }\n",
       "</style>\n",
       "<table border=\"1\" class=\"dataframe\">\n",
       "  <thead>\n",
       "    <tr style=\"text-align: right;\">\n",
       "      <th></th>\n",
       "      <th>A</th>\n",
       "      <th>B</th>\n",
       "      <th>C</th>\n",
       "      <th>D</th>\n",
       "      <th>F</th>\n",
       "      <th>E</th>\n",
       "    </tr>\n",
       "  </thead>\n",
       "  <tbody>\n",
       "    <tr>\n",
       "      <th>2018-03-04</th>\n",
       "      <td>0.868550</td>\n",
       "      <td>0.361971</td>\n",
       "      <td>-1.215191</td>\n",
       "      <td>-0.605199</td>\n",
       "      <td>NaN</td>\n",
       "      <td>13</td>\n",
       "    </tr>\n",
       "    <tr>\n",
       "      <th>2018-03-05</th>\n",
       "      <td>2.422210</td>\n",
       "      <td>0.542883</td>\n",
       "      <td>-0.840444</td>\n",
       "      <td>-1.773530</td>\n",
       "      <td>1.0</td>\n",
       "      <td>26</td>\n",
       "    </tr>\n",
       "    <tr>\n",
       "      <th>2018-03-06</th>\n",
       "      <td>1.964289</td>\n",
       "      <td>0.279529</td>\n",
       "      <td>0.584935</td>\n",
       "      <td>-0.860708</td>\n",
       "      <td>3.0</td>\n",
       "      <td>39</td>\n",
       "    </tr>\n",
       "    <tr>\n",
       "      <th>2018-03-07</th>\n",
       "      <td>0.447760</td>\n",
       "      <td>-0.023864</td>\n",
       "      <td>-0.605200</td>\n",
       "      <td>2.621718</td>\n",
       "      <td>6.0</td>\n",
       "      <td>52</td>\n",
       "    </tr>\n",
       "    <tr>\n",
       "      <th>2018-03-08</th>\n",
       "      <td>-0.324180</td>\n",
       "      <td>0.901625</td>\n",
       "      <td>-0.753402</td>\n",
       "      <td>2.400976</td>\n",
       "      <td>10.0</td>\n",
       "      <td>65</td>\n",
       "    </tr>\n",
       "  </tbody>\n",
       "</table>\n",
       "</div>"
      ],
      "text/plain": [
       "                   A         B         C         D     F   E\n",
       "2018-03-04  0.868550  0.361971 -1.215191 -0.605199   NaN  13\n",
       "2018-03-05  2.422210  0.542883 -0.840444 -1.773530   1.0  26\n",
       "2018-03-06  1.964289  0.279529  0.584935 -0.860708   3.0  39\n",
       "2018-03-07  0.447760 -0.023864 -0.605200  2.621718   6.0  52\n",
       "2018-03-08 -0.324180  0.901625 -0.753402  2.400976  10.0  65"
      ]
     },
     "execution_count": 54,
     "metadata": {},
     "output_type": "execute_result"
    }
   ],
   "source": [
    "df.apply(np.cumsum).head()"
   ]
  },
  {
   "cell_type": "code",
   "execution_count": 55,
   "metadata": {},
   "outputs": [
    {
     "data": {
      "text/html": [
       "<div>\n",
       "<style scoped>\n",
       "    .dataframe tbody tr th:only-of-type {\n",
       "        vertical-align: middle;\n",
       "    }\n",
       "\n",
       "    .dataframe tbody tr th {\n",
       "        vertical-align: top;\n",
       "    }\n",
       "\n",
       "    .dataframe thead th {\n",
       "        text-align: right;\n",
       "    }\n",
       "</style>\n",
       "<table border=\"1\" class=\"dataframe\">\n",
       "  <thead>\n",
       "    <tr style=\"text-align: right;\">\n",
       "      <th></th>\n",
       "      <th>A</th>\n",
       "      <th>B</th>\n",
       "      <th>C</th>\n",
       "      <th>D</th>\n",
       "      <th>F</th>\n",
       "      <th>E</th>\n",
       "    </tr>\n",
       "  </thead>\n",
       "  <tbody>\n",
       "    <tr>\n",
       "      <th>0</th>\n",
       "      <td>1</td>\n",
       "      <td>1</td>\n",
       "      <td>1</td>\n",
       "      <td>1</td>\n",
       "      <td>1</td>\n",
       "      <td>1</td>\n",
       "    </tr>\n",
       "    <tr>\n",
       "      <th>1</th>\n",
       "      <td>2</td>\n",
       "      <td>2</td>\n",
       "      <td>2</td>\n",
       "      <td>2</td>\n",
       "      <td>2</td>\n",
       "      <td>2</td>\n",
       "    </tr>\n",
       "    <tr>\n",
       "      <th>2</th>\n",
       "      <td>3</td>\n",
       "      <td>3</td>\n",
       "      <td>3</td>\n",
       "      <td>3</td>\n",
       "      <td>3</td>\n",
       "      <td>3</td>\n",
       "    </tr>\n",
       "  </tbody>\n",
       "</table>\n",
       "</div>"
      ],
      "text/plain": [
       "   A  B  C  D  F  E\n",
       "0  1  1  1  1  1  1\n",
       "1  2  2  2  2  2  2\n",
       "2  3  3  3  3  3  3"
      ]
     },
     "execution_count": 55,
     "metadata": {},
     "output_type": "execute_result"
    }
   ],
   "source": [
    "def my_cumsum(col):\n",
    "    return pd.Series([1, 2, 3])\n",
    "\n",
    "df.apply(my_cumsum)"
   ]
  },
  {
   "cell_type": "code",
   "execution_count": null,
   "metadata": {},
   "outputs": [],
   "source": []
  },
  {
   "cell_type": "markdown",
   "metadata": {},
   "source": [
    "## Histogramming"
   ]
  },
  {
   "cell_type": "markdown",
   "metadata": {},
   "source": [
    "value_counts () Series 메서드와 최상위 함수는 1D 값 배열의 막대 그래프 계산\n",
    "\n",
    "또한 일반 배열에서 함수로 사용"
   ]
  },
  {
   "cell_type": "code",
   "execution_count": 57,
   "metadata": {},
   "outputs": [],
   "source": [
    "s = pd.Series(np.random.randint(0, 7, size=10))"
   ]
  },
  {
   "cell_type": "code",
   "execution_count": 59,
   "metadata": {},
   "outputs": [
    {
     "data": {
      "text/plain": [
       "0    5\n",
       "1    0\n",
       "2    6\n",
       "3    3\n",
       "4    3\n",
       "5    3\n",
       "6    4\n",
       "7    4\n",
       "8    3\n",
       "9    2\n",
       "dtype: int64"
      ]
     },
     "execution_count": 59,
     "metadata": {},
     "output_type": "execute_result"
    }
   ],
   "source": [
    "s"
   ]
  },
  {
   "cell_type": "code",
   "execution_count": 61,
   "metadata": {},
   "outputs": [
    {
     "data": {
      "text/plain": [
       "3    4\n",
       "4    2\n",
       "6    1\n",
       "5    1\n",
       "2    1\n",
       "0    1\n",
       "dtype: int64"
      ]
     },
     "execution_count": 61,
     "metadata": {},
     "output_type": "execute_result"
    }
   ],
   "source": [
    "s.value_counts()"
   ]
  },
  {
   "cell_type": "code",
   "execution_count": null,
   "metadata": {},
   "outputs": [],
   "source": []
  },
  {
   "cell_type": "markdown",
   "metadata": {},
   "source": [
    "## String Methods"
   ]
  },
  {
   "cell_type": "code",
   "execution_count": 64,
   "metadata": {},
   "outputs": [],
   "source": [
    "s = pd.Series(['A', 'B', 'C', 'Aaba', 'Baca', np.nan, 'CABA', 'dog', 'cat'])"
   ]
  },
  {
   "cell_type": "code",
   "execution_count": 65,
   "metadata": {},
   "outputs": [
    {
     "data": {
      "text/plain": [
       "0       a\n",
       "1       b\n",
       "2       c\n",
       "3    aaba\n",
       "4    baca\n",
       "5     NaN\n",
       "6    caba\n",
       "7     dog\n",
       "8     cat\n",
       "dtype: object"
      ]
     },
     "execution_count": 65,
     "metadata": {},
     "output_type": "execute_result"
    }
   ],
   "source": [
    "s.str.lower()"
   ]
  },
  {
   "cell_type": "code",
   "execution_count": 66,
   "metadata": {},
   "outputs": [
    {
     "data": {
      "text/plain": [
       "0       A\n",
       "1       B\n",
       "2       C\n",
       "3    AABA\n",
       "4    BACA\n",
       "5     NaN\n",
       "6    CABA\n",
       "7     DOG\n",
       "8     CAT\n",
       "dtype: object"
      ]
     },
     "execution_count": 66,
     "metadata": {},
     "output_type": "execute_result"
    }
   ],
   "source": [
    "s.str.upper()"
   ]
  },
  {
   "cell_type": "code",
   "execution_count": 67,
   "metadata": {},
   "outputs": [
    {
     "data": {
      "text/plain": [
       "0    1.0\n",
       "1    1.0\n",
       "2    1.0\n",
       "3    4.0\n",
       "4    4.0\n",
       "5    NaN\n",
       "6    4.0\n",
       "7    3.0\n",
       "8    3.0\n",
       "dtype: float64"
      ]
     },
     "execution_count": 67,
     "metadata": {},
     "output_type": "execute_result"
    }
   ],
   "source": [
    "s.str.len()"
   ]
  },
  {
   "cell_type": "code",
   "execution_count": null,
   "metadata": {},
   "outputs": [],
   "source": []
  }
 ],
 "metadata": {
  "kernelspec": {
   "display_name": "Python 3",
   "language": "python",
   "name": "python3"
  },
  "language_info": {
   "codemirror_mode": {
    "name": "ipython",
    "version": 3
   },
   "file_extension": ".py",
   "mimetype": "text/x-python",
   "name": "python",
   "nbconvert_exporter": "python",
   "pygments_lexer": "ipython3",
   "version": "3.6.5"
  }
 },
 "nbformat": 4,
 "nbformat_minor": 2
}
