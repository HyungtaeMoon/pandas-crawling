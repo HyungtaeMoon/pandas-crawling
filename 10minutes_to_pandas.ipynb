{
 "cells": [
  {
   "cell_type": "code",
   "execution_count": 1,
   "metadata": {},
   "outputs": [],
   "source": [
    "import pandas as pd\n",
    "import numpy as np"
   ]
  },
  {
   "cell_type": "markdown",
   "metadata": {},
   "source": [
    "### pandas 의 버전 확인"
   ]
  },
  {
   "cell_type": "markdown",
   "metadata": {},
   "source": [
    "참고자료:\n",
    "\n",
    "`10 minutes to pandas`, `askdjango`, `구글링`"
   ]
  },
  {
   "cell_type": "code",
   "execution_count": 2,
   "metadata": {},
   "outputs": [
    {
     "data": {
      "text/plain": [
       "'0.23.4'"
      ]
     },
     "execution_count": 2,
     "metadata": {},
     "output_type": "execute_result"
    }
   ],
   "source": [
    "pd.__version__"
   ]
  },
  {
   "cell_type": "markdown",
   "metadata": {},
   "source": [
    "\n"
   ]
  },
  {
   "cell_type": "markdown",
   "metadata": {},
   "source": [
    "# 10 Minutes to pandas 튜토리얼"
   ]
  },
  {
   "cell_type": "markdown",
   "metadata": {},
   "source": [
    "\n"
   ]
  },
  {
   "cell_type": "markdown",
   "metadata": {},
   "source": [
    "### EP1: Object creation(객체 생성)"
   ]
  },
  {
   "cell_type": "code",
   "execution_count": 3,
   "metadata": {},
   "outputs": [
    {
     "data": {
      "text/plain": [
       "0    1.0\n",
       "1    3.0\n",
       "2    5.0\n",
       "3    NaN\n",
       "4    6.0\n",
       "5    8.0\n",
       "dtype: float64"
      ]
     },
     "execution_count": 3,
     "metadata": {},
     "output_type": "execute_result"
    }
   ],
   "source": [
    "s = pd.Series([1,3,5,np.nan,6,8]) #NaN = Not a Number\n",
    "s"
   ]
  },
  {
   "cell_type": "markdown",
   "metadata": {},
   "source": [
    "\n"
   ]
  },
  {
   "cell_type": "markdown",
   "metadata": {},
   "source": [
    "### date_range 를 사용하여 날짜 생성"
   ]
  },
  {
   "cell_type": "code",
   "execution_count": 4,
   "metadata": {},
   "outputs": [
    {
     "data": {
      "text/plain": [
       "DatetimeIndex(['2018-03-04', '2018-03-05', '2018-03-06', '2018-03-07',\n",
       "               '2018-03-08', '2018-03-09', '2018-03-10', '2018-03-11',\n",
       "               '2018-03-12', '2018-03-13', '2018-03-14', '2018-03-15',\n",
       "               '2018-03-16', '2018-03-17', '2018-03-18', '2018-03-19',\n",
       "               '2018-03-20', '2018-03-21', '2018-03-22', '2018-03-23'],\n",
       "              dtype='datetime64[ns]', freq='D')"
      ]
     },
     "execution_count": 4,
     "metadata": {},
     "output_type": "execute_result"
    }
   ],
   "source": [
    "dates = pd.date_range('20180304', periods=20)\n",
    "dates"
   ]
  },
  {
   "cell_type": "markdown",
   "metadata": {},
   "source": [
    "\n"
   ]
  },
  {
   "cell_type": "markdown",
   "metadata": {},
   "source": [
    "### 임의의 배열(array) 를 생성"
   ]
  },
  {
   "cell_type": "code",
   "execution_count": 5,
   "metadata": {},
   "outputs": [
    {
     "data": {
      "text/plain": [
       "array([[-1.00958463, -1.01327331,  0.65304157, -0.19024967],\n",
       "       [ 0.24298281,  0.58551333, -1.52570415,  0.00767151],\n",
       "       [ 0.53416739,  1.73817907,  2.42428627, -0.27299232],\n",
       "       [-1.02824385, -2.44625257,  2.45087941,  0.31765465],\n",
       "       [-0.93699251, -0.02778373,  0.6471208 ,  0.66631256],\n",
       "       [ 1.218634  ,  0.71721159, -0.43344963, -0.40049374]])"
      ]
     },
     "execution_count": 5,
     "metadata": {},
     "output_type": "execute_result"
    }
   ],
   "source": [
    "np.random.randn(6,4) # 6행 4열의 2차원 랜덤한 array 를 생성"
   ]
  },
  {
   "cell_type": "markdown",
   "metadata": {},
   "source": [
    "### 임의로 생성한 배열을 데이터 프레임으로 생성"
   ]
  },
  {
   "cell_type": "code",
   "execution_count": 6,
   "metadata": {},
   "outputs": [
    {
     "data": {
      "text/html": [
       "<div>\n",
       "<style scoped>\n",
       "    .dataframe tbody tr th:only-of-type {\n",
       "        vertical-align: middle;\n",
       "    }\n",
       "\n",
       "    .dataframe tbody tr th {\n",
       "        vertical-align: top;\n",
       "    }\n",
       "\n",
       "    .dataframe thead th {\n",
       "        text-align: right;\n",
       "    }\n",
       "</style>\n",
       "<table border=\"1\" class=\"dataframe\">\n",
       "  <thead>\n",
       "    <tr style=\"text-align: right;\">\n",
       "      <th></th>\n",
       "      <th>0</th>\n",
       "      <th>1</th>\n",
       "      <th>2</th>\n",
       "      <th>3</th>\n",
       "    </tr>\n",
       "  </thead>\n",
       "  <tbody>\n",
       "    <tr>\n",
       "      <th>인덱스0</th>\n",
       "      <td>-0.961174</td>\n",
       "      <td>0.857967</td>\n",
       "      <td>-1.231182</td>\n",
       "      <td>0.637483</td>\n",
       "    </tr>\n",
       "    <tr>\n",
       "      <th>인덱스1</th>\n",
       "      <td>-0.804291</td>\n",
       "      <td>-0.751086</td>\n",
       "      <td>1.035868</td>\n",
       "      <td>-0.627007</td>\n",
       "    </tr>\n",
       "    <tr>\n",
       "      <th>인덱스2</th>\n",
       "      <td>-2.718270</td>\n",
       "      <td>-0.358422</td>\n",
       "      <td>0.052701</td>\n",
       "      <td>-0.015055</td>\n",
       "    </tr>\n",
       "    <tr>\n",
       "      <th>인덱스3</th>\n",
       "      <td>0.026807</td>\n",
       "      <td>0.648742</td>\n",
       "      <td>0.169522</td>\n",
       "      <td>0.748975</td>\n",
       "    </tr>\n",
       "    <tr>\n",
       "      <th>인덱스4</th>\n",
       "      <td>0.178560</td>\n",
       "      <td>0.630651</td>\n",
       "      <td>-2.267587</td>\n",
       "      <td>1.159425</td>\n",
       "    </tr>\n",
       "    <tr>\n",
       "      <th>인덱스5</th>\n",
       "      <td>-0.803274</td>\n",
       "      <td>0.461349</td>\n",
       "      <td>-0.986126</td>\n",
       "      <td>-0.180598</td>\n",
       "    </tr>\n",
       "  </tbody>\n",
       "</table>\n",
       "</div>"
      ],
      "text/plain": [
       "             0         1         2         3\n",
       "인덱스0 -0.961174  0.857967 -1.231182  0.637483\n",
       "인덱스1 -0.804291 -0.751086  1.035868 -0.627007\n",
       "인덱스2 -2.718270 -0.358422  0.052701 -0.015055\n",
       "인덱스3  0.026807  0.648742  0.169522  0.748975\n",
       "인덱스4  0.178560  0.630651 -2.267587  1.159425\n",
       "인덱스5 -0.803274  0.461349 -0.986126 -0.180598"
      ]
     },
     "execution_count": 6,
     "metadata": {},
     "output_type": "execute_result"
    }
   ],
   "source": [
    "# 2차원 데이터 구조인 DataFrame 으로 생성\n",
    "\n",
    "pd.DataFrame(np.random.randn(6, 4), index=['인덱스0', '인덱스1', '인덱스2', '인덱스3', '인덱스4', '인덱스5'])"
   ]
  },
  {
   "cell_type": "markdown",
   "metadata": {},
   "source": [
    "\n"
   ]
  },
  {
   "cell_type": "markdown",
   "metadata": {},
   "source": [
    "# 만약 위에서 생성한 dates를 index 로 넣게 된다면?"
   ]
  },
  {
   "cell_type": "markdown",
   "metadata": {},
   "source": [
    "\n"
   ]
  },
  {
   "cell_type": "markdown",
   "metadata": {},
   "source": [
    "행이 맞지 않기 때문에 `ValueError: Shape of passed values is (4, 6), indices imply (4, 20)` 오류가 발생\n"
   ]
  },
  {
   "cell_type": "markdown",
   "metadata": {},
   "source": [
    "\n"
   ]
  },
  {
   "cell_type": "markdown",
   "metadata": {},
   "source": [
    "### 꼭 values 의 길이를 일치해야 에러없이 데이터 테이블이 생성된다\n",
    "\n",
    "#### + 다른 사람들도 보기 편하도록 데이터 테이블을 만들면 아래와 같이 shape, head 를 넣어주자"
   ]
  },
  {
   "cell_type": "code",
   "execution_count": 7,
   "metadata": {},
   "outputs": [
    {
     "name": "stdout",
     "output_type": "stream",
     "text": [
      "(20, 4)\n"
     ]
    },
    {
     "data": {
      "text/html": [
       "<div>\n",
       "<style scoped>\n",
       "    .dataframe tbody tr th:only-of-type {\n",
       "        vertical-align: middle;\n",
       "    }\n",
       "\n",
       "    .dataframe tbody tr th {\n",
       "        vertical-align: top;\n",
       "    }\n",
       "\n",
       "    .dataframe thead th {\n",
       "        text-align: right;\n",
       "    }\n",
       "</style>\n",
       "<table border=\"1\" class=\"dataframe\">\n",
       "  <thead>\n",
       "    <tr style=\"text-align: right;\">\n",
       "      <th></th>\n",
       "      <th>A</th>\n",
       "      <th>B</th>\n",
       "      <th>C</th>\n",
       "      <th>D</th>\n",
       "    </tr>\n",
       "  </thead>\n",
       "  <tbody>\n",
       "    <tr>\n",
       "      <th>2018-03-04</th>\n",
       "      <td>1.341755</td>\n",
       "      <td>-0.102368</td>\n",
       "      <td>-0.098966</td>\n",
       "      <td>-1.665442</td>\n",
       "    </tr>\n",
       "    <tr>\n",
       "      <th>2018-03-05</th>\n",
       "      <td>-1.488785</td>\n",
       "      <td>0.859913</td>\n",
       "      <td>-2.444986</td>\n",
       "      <td>-0.112190</td>\n",
       "    </tr>\n",
       "    <tr>\n",
       "      <th>2018-03-06</th>\n",
       "      <td>-1.128480</td>\n",
       "      <td>-0.083697</td>\n",
       "      <td>0.819332</td>\n",
       "      <td>0.559748</td>\n",
       "    </tr>\n",
       "    <tr>\n",
       "      <th>2018-03-07</th>\n",
       "      <td>0.696405</td>\n",
       "      <td>0.216876</td>\n",
       "      <td>0.434205</td>\n",
       "      <td>0.746290</td>\n",
       "    </tr>\n",
       "    <tr>\n",
       "      <th>2018-03-08</th>\n",
       "      <td>-0.683227</td>\n",
       "      <td>-0.507309</td>\n",
       "      <td>-0.096254</td>\n",
       "      <td>-0.550115</td>\n",
       "    </tr>\n",
       "  </tbody>\n",
       "</table>\n",
       "</div>"
      ],
      "text/plain": [
       "                   A         B         C         D\n",
       "2018-03-04  1.341755 -0.102368 -0.098966 -1.665442\n",
       "2018-03-05 -1.488785  0.859913 -2.444986 -0.112190\n",
       "2018-03-06 -1.128480 -0.083697  0.819332  0.559748\n",
       "2018-03-07  0.696405  0.216876  0.434205  0.746290\n",
       "2018-03-08 -0.683227 -0.507309 -0.096254 -0.550115"
      ]
     },
     "execution_count": 7,
     "metadata": {},
     "output_type": "execute_result"
    }
   ],
   "source": [
    "df = pd.DataFrame(np.random.randn(20, 4), index=dates, columns=['A','B','C','D'])\n",
    "\n",
    "print(df.shape)\n",
    "df.head()"
   ]
  },
  {
   "cell_type": "markdown",
   "metadata": {},
   "source": [
    "\n"
   ]
  },
  {
   "cell_type": "markdown",
   "metadata": {},
   "source": [
    "\n"
   ]
  },
  {
   "cell_type": "markdown",
   "metadata": {},
   "source": [
    "### 직렬로 변환할 수 있는 object 를 전달하여 DataFrame 생성하기"
   ]
  },
  {
   "cell_type": "code",
   "execution_count": 8,
   "metadata": {},
   "outputs": [
    {
     "name": "stdout",
     "output_type": "stream",
     "text": [
      "(4, 6)\n"
     ]
    },
    {
     "data": {
      "text/html": [
       "<div>\n",
       "<style scoped>\n",
       "    .dataframe tbody tr th:only-of-type {\n",
       "        vertical-align: middle;\n",
       "    }\n",
       "\n",
       "    .dataframe tbody tr th {\n",
       "        vertical-align: top;\n",
       "    }\n",
       "\n",
       "    .dataframe thead th {\n",
       "        text-align: right;\n",
       "    }\n",
       "</style>\n",
       "<table border=\"1\" class=\"dataframe\">\n",
       "  <thead>\n",
       "    <tr style=\"text-align: right;\">\n",
       "      <th></th>\n",
       "      <th>A</th>\n",
       "      <th>B</th>\n",
       "      <th>C</th>\n",
       "      <th>D</th>\n",
       "      <th>E</th>\n",
       "      <th>F</th>\n",
       "    </tr>\n",
       "  </thead>\n",
       "  <tbody>\n",
       "    <tr>\n",
       "      <th>0</th>\n",
       "      <td>1.0</td>\n",
       "      <td>2013-01-02</td>\n",
       "      <td>1.0</td>\n",
       "      <td>3</td>\n",
       "      <td>test</td>\n",
       "      <td>foo</td>\n",
       "    </tr>\n",
       "    <tr>\n",
       "      <th>1</th>\n",
       "      <td>1.0</td>\n",
       "      <td>2013-01-02</td>\n",
       "      <td>1.0</td>\n",
       "      <td>3</td>\n",
       "      <td>train</td>\n",
       "      <td>foo</td>\n",
       "    </tr>\n",
       "    <tr>\n",
       "      <th>2</th>\n",
       "      <td>1.0</td>\n",
       "      <td>2013-01-02</td>\n",
       "      <td>1.0</td>\n",
       "      <td>3</td>\n",
       "      <td>test</td>\n",
       "      <td>foo</td>\n",
       "    </tr>\n",
       "    <tr>\n",
       "      <th>3</th>\n",
       "      <td>1.0</td>\n",
       "      <td>2013-01-02</td>\n",
       "      <td>1.0</td>\n",
       "      <td>3</td>\n",
       "      <td>train</td>\n",
       "      <td>foo</td>\n",
       "    </tr>\n",
       "  </tbody>\n",
       "</table>\n",
       "</div>"
      ],
      "text/plain": [
       "     A          B    C  D      E    F\n",
       "0  1.0 2013-01-02  1.0  3   test  foo\n",
       "1  1.0 2013-01-02  1.0  3  train  foo\n",
       "2  1.0 2013-01-02  1.0  3   test  foo\n",
       "3  1.0 2013-01-02  1.0  3  train  foo"
      ]
     },
     "execution_count": 8,
     "metadata": {},
     "output_type": "execute_result"
    }
   ],
   "source": [
    "df2 = pd.DataFrame({ 'A' : 1.,\n",
    "                    'B' : pd.Timestamp('20130102'),\n",
    "                    'C' : pd.Series(1,index=list(range(4)),dtype='float32'),\n",
    "                    'D' : np.array([3] * 4,dtype='int32'),\n",
    "                    'E' : pd.Categorical([\"test\",\"train\",\"test\",\"train\"]),\n",
    "                    'F' : 'foo' })\n",
    "print(df2.shape)\n",
    "df2"
   ]
  },
  {
   "cell_type": "code",
   "execution_count": 9,
   "metadata": {},
   "outputs": [
    {
     "data": {
      "text/plain": [
       "A           float64\n",
       "B    datetime64[ns]\n",
       "C           float32\n",
       "D             int32\n",
       "E          category\n",
       "F            object\n",
       "dtype: object"
      ]
     },
     "execution_count": 9,
     "metadata": {},
     "output_type": "execute_result"
    }
   ],
   "source": [
    "df2.dtypes # 스마트하게 각 인덱스의 데이터타입을 출력해준다"
   ]
  },
  {
   "cell_type": "markdown",
   "metadata": {},
   "source": [
    "\n",
    "\n"
   ]
  },
  {
   "cell_type": "markdown",
   "metadata": {},
   "source": [
    "\n"
   ]
  },
  {
   "cell_type": "markdown",
   "metadata": {},
   "source": [
    "## EP2: Viewing Data\n",
    "\n",
    "----------------------\n",
    "\n",
    "Data의 값을 찾고 해당 데이터의 변경을 해본다"
   ]
  },
  {
   "cell_type": "markdown",
   "metadata": {},
   "source": [
    "```\n",
    "|        | columns1 | columns2 | columns3 | columns4 |\n",
    "|--------|----------|----------|----------|----------|\n",
    "| index1 |          |          |          |          |\n",
    "| index2 |          |          |          |          |\n",
    "| index3 |          |          |          |          |\n",
    "```"
   ]
  },
  {
   "cell_type": "markdown",
   "metadata": {},
   "source": [
    "\n"
   ]
  },
  {
   "cell_type": "markdown",
   "metadata": {},
   "source": [
    "### index 값 찾기"
   ]
  },
  {
   "cell_type": "code",
   "execution_count": 10,
   "metadata": {},
   "outputs": [
    {
     "data": {
      "text/plain": [
       "DatetimeIndex(['2018-03-04', '2018-03-05', '2018-03-06', '2018-03-07',\n",
       "               '2018-03-08', '2018-03-09', '2018-03-10', '2018-03-11',\n",
       "               '2018-03-12', '2018-03-13', '2018-03-14', '2018-03-15',\n",
       "               '2018-03-16', '2018-03-17', '2018-03-18', '2018-03-19',\n",
       "               '2018-03-20', '2018-03-21', '2018-03-22', '2018-03-23'],\n",
       "              dtype='datetime64[ns]', freq='D')"
      ]
     },
     "execution_count": 10,
     "metadata": {},
     "output_type": "execute_result"
    }
   ],
   "source": [
    "df.index"
   ]
  },
  {
   "cell_type": "markdown",
   "metadata": {},
   "source": [
    "\n"
   ]
  },
  {
   "cell_type": "markdown",
   "metadata": {},
   "source": [
    "### 데이터의 columns 의 값 찾기/변경하기"
   ]
  },
  {
   "cell_type": "code",
   "execution_count": 11,
   "metadata": {},
   "outputs": [
    {
     "data": {
      "text/plain": [
       "Index(['A', 'B', 'C', 'D'], dtype='object')"
      ]
     },
     "execution_count": 11,
     "metadata": {},
     "output_type": "execute_result"
    }
   ],
   "source": [
    "df.columns"
   ]
  },
  {
   "cell_type": "code",
   "execution_count": 12,
   "metadata": {},
   "outputs": [],
   "source": [
    "df.columns = ['A', 'B', 'C', 'D']"
   ]
  },
  {
   "cell_type": "markdown",
   "metadata": {},
   "source": [
    "\n"
   ]
  },
  {
   "cell_type": "markdown",
   "metadata": {},
   "source": [
    "### DataFrame의 요약 정보를 알아보기"
   ]
  },
  {
   "cell_type": "code",
   "execution_count": 13,
   "metadata": {},
   "outputs": [
    {
     "data": {
      "text/html": [
       "<div>\n",
       "<style scoped>\n",
       "    .dataframe tbody tr th:only-of-type {\n",
       "        vertical-align: middle;\n",
       "    }\n",
       "\n",
       "    .dataframe tbody tr th {\n",
       "        vertical-align: top;\n",
       "    }\n",
       "\n",
       "    .dataframe thead th {\n",
       "        text-align: right;\n",
       "    }\n",
       "</style>\n",
       "<table border=\"1\" class=\"dataframe\">\n",
       "  <thead>\n",
       "    <tr style=\"text-align: right;\">\n",
       "      <th></th>\n",
       "      <th>A</th>\n",
       "      <th>B</th>\n",
       "      <th>C</th>\n",
       "      <th>D</th>\n",
       "    </tr>\n",
       "  </thead>\n",
       "  <tbody>\n",
       "    <tr>\n",
       "      <th>count</th>\n",
       "      <td>20.000000</td>\n",
       "      <td>20.000000</td>\n",
       "      <td>20.000000</td>\n",
       "      <td>20.000000</td>\n",
       "    </tr>\n",
       "    <tr>\n",
       "      <th>mean</th>\n",
       "      <td>0.175139</td>\n",
       "      <td>0.090448</td>\n",
       "      <td>0.044829</td>\n",
       "      <td>-0.248372</td>\n",
       "    </tr>\n",
       "    <tr>\n",
       "      <th>std</th>\n",
       "      <td>0.884672</td>\n",
       "      <td>0.665181</td>\n",
       "      <td>1.078673</td>\n",
       "      <td>1.088915</td>\n",
       "    </tr>\n",
       "    <tr>\n",
       "      <th>min</th>\n",
       "      <td>-1.488785</td>\n",
       "      <td>-1.539896</td>\n",
       "      <td>-2.444986</td>\n",
       "      <td>-2.641699</td>\n",
       "    </tr>\n",
       "    <tr>\n",
       "      <th>25%</th>\n",
       "      <td>-0.509538</td>\n",
       "      <td>-0.160397</td>\n",
       "      <td>-0.538561</td>\n",
       "      <td>-0.751864</td>\n",
       "    </tr>\n",
       "    <tr>\n",
       "      <th>50%</th>\n",
       "      <td>0.086258</td>\n",
       "      <td>0.087223</td>\n",
       "      <td>0.168976</td>\n",
       "      <td>-0.325869</td>\n",
       "    </tr>\n",
       "    <tr>\n",
       "      <th>75%</th>\n",
       "      <td>0.867649</td>\n",
       "      <td>0.439049</td>\n",
       "      <td>0.798387</td>\n",
       "      <td>0.606678</td>\n",
       "    </tr>\n",
       "    <tr>\n",
       "      <th>max</th>\n",
       "      <td>1.629717</td>\n",
       "      <td>1.680005</td>\n",
       "      <td>1.902692</td>\n",
       "      <td>1.625021</td>\n",
       "    </tr>\n",
       "  </tbody>\n",
       "</table>\n",
       "</div>"
      ],
      "text/plain": [
       "               A          B          C          D\n",
       "count  20.000000  20.000000  20.000000  20.000000\n",
       "mean    0.175139   0.090448   0.044829  -0.248372\n",
       "std     0.884672   0.665181   1.078673   1.088915\n",
       "min    -1.488785  -1.539896  -2.444986  -2.641699\n",
       "25%    -0.509538  -0.160397  -0.538561  -0.751864\n",
       "50%     0.086258   0.087223   0.168976  -0.325869\n",
       "75%     0.867649   0.439049   0.798387   0.606678\n",
       "max     1.629717   1.680005   1.902692   1.625021"
      ]
     },
     "execution_count": 13,
     "metadata": {},
     "output_type": "execute_result"
    }
   ],
   "source": [
    "df.describe()"
   ]
  },
  {
   "cell_type": "markdown",
   "metadata": {},
   "source": [
    "\n"
   ]
  },
  {
   "cell_type": "markdown",
   "metadata": {},
   "source": [
    "### index 와 column 을 바꿔주는 `.T`"
   ]
  },
  {
   "cell_type": "code",
   "execution_count": 14,
   "metadata": {},
   "outputs": [
    {
     "data": {
      "text/html": [
       "<div>\n",
       "<style scoped>\n",
       "    .dataframe tbody tr th:only-of-type {\n",
       "        vertical-align: middle;\n",
       "    }\n",
       "\n",
       "    .dataframe tbody tr th {\n",
       "        vertical-align: top;\n",
       "    }\n",
       "\n",
       "    .dataframe thead th {\n",
       "        text-align: right;\n",
       "    }\n",
       "</style>\n",
       "<table border=\"1\" class=\"dataframe\">\n",
       "  <thead>\n",
       "    <tr style=\"text-align: right;\">\n",
       "      <th></th>\n",
       "      <th>2018-03-04 00:00:00</th>\n",
       "      <th>2018-03-05 00:00:00</th>\n",
       "      <th>2018-03-06 00:00:00</th>\n",
       "      <th>2018-03-07 00:00:00</th>\n",
       "      <th>2018-03-08 00:00:00</th>\n",
       "      <th>2018-03-09 00:00:00</th>\n",
       "      <th>2018-03-10 00:00:00</th>\n",
       "      <th>2018-03-11 00:00:00</th>\n",
       "      <th>2018-03-12 00:00:00</th>\n",
       "      <th>2018-03-13 00:00:00</th>\n",
       "      <th>2018-03-14 00:00:00</th>\n",
       "      <th>2018-03-15 00:00:00</th>\n",
       "      <th>2018-03-16 00:00:00</th>\n",
       "      <th>2018-03-17 00:00:00</th>\n",
       "      <th>2018-03-18 00:00:00</th>\n",
       "      <th>2018-03-19 00:00:00</th>\n",
       "      <th>2018-03-20 00:00:00</th>\n",
       "      <th>2018-03-21 00:00:00</th>\n",
       "      <th>2018-03-22 00:00:00</th>\n",
       "      <th>2018-03-23 00:00:00</th>\n",
       "    </tr>\n",
       "  </thead>\n",
       "  <tbody>\n",
       "    <tr>\n",
       "      <th>A</th>\n",
       "      <td>1.341755</td>\n",
       "      <td>-1.488785</td>\n",
       "      <td>-1.128480</td>\n",
       "      <td>0.696405</td>\n",
       "      <td>-0.683227</td>\n",
       "      <td>0.116714</td>\n",
       "      <td>0.018328</td>\n",
       "      <td>1.196211</td>\n",
       "      <td>-1.067965</td>\n",
       "      <td>-0.030167</td>\n",
       "      <td>0.882335</td>\n",
       "      <td>0.055802</td>\n",
       "      <td>1.629717</td>\n",
       "      <td>0.862753</td>\n",
       "      <td>-0.517246</td>\n",
       "      <td>-0.506969</td>\n",
       "      <td>1.157695</td>\n",
       "      <td>0.377131</td>\n",
       "      <td>-0.086612</td>\n",
       "      <td>0.677391</td>\n",
       "    </tr>\n",
       "    <tr>\n",
       "      <th>B</th>\n",
       "      <td>-0.102368</td>\n",
       "      <td>0.859913</td>\n",
       "      <td>-0.083697</td>\n",
       "      <td>0.216876</td>\n",
       "      <td>-0.507309</td>\n",
       "      <td>0.708181</td>\n",
       "      <td>0.613582</td>\n",
       "      <td>0.564046</td>\n",
       "      <td>-0.185638</td>\n",
       "      <td>-0.371161</td>\n",
       "      <td>0.118667</td>\n",
       "      <td>0.057446</td>\n",
       "      <td>-1.539896</td>\n",
       "      <td>-0.151984</td>\n",
       "      <td>1.680005</td>\n",
       "      <td>-0.793175</td>\n",
       "      <td>0.309981</td>\n",
       "      <td>0.397384</td>\n",
       "      <td>-0.098890</td>\n",
       "      <td>0.117001</td>\n",
       "    </tr>\n",
       "    <tr>\n",
       "      <th>C</th>\n",
       "      <td>-0.098966</td>\n",
       "      <td>-2.444986</td>\n",
       "      <td>0.819332</td>\n",
       "      <td>0.434205</td>\n",
       "      <td>-0.096254</td>\n",
       "      <td>0.791406</td>\n",
       "      <td>-0.510919</td>\n",
       "      <td>-1.408460</td>\n",
       "      <td>0.659850</td>\n",
       "      <td>0.606243</td>\n",
       "      <td>-0.358656</td>\n",
       "      <td>-1.459501</td>\n",
       "      <td>0.588722</td>\n",
       "      <td>-0.926197</td>\n",
       "      <td>1.902692</td>\n",
       "      <td>1.048097</td>\n",
       "      <td>-0.420172</td>\n",
       "      <td>1.119139</td>\n",
       "      <td>1.272491</td>\n",
       "      <td>-0.621488</td>\n",
       "    </tr>\n",
       "    <tr>\n",
       "      <th>D</th>\n",
       "      <td>-1.665442</td>\n",
       "      <td>-0.112190</td>\n",
       "      <td>0.559748</td>\n",
       "      <td>0.746290</td>\n",
       "      <td>-0.550115</td>\n",
       "      <td>-0.383858</td>\n",
       "      <td>-0.194982</td>\n",
       "      <td>-0.608706</td>\n",
       "      <td>1.398305</td>\n",
       "      <td>-2.641699</td>\n",
       "      <td>1.625021</td>\n",
       "      <td>-0.267881</td>\n",
       "      <td>0.620770</td>\n",
       "      <td>0.601981</td>\n",
       "      <td>-0.899572</td>\n",
       "      <td>-0.702628</td>\n",
       "      <td>-1.783902</td>\n",
       "      <td>-1.184511</td>\n",
       "      <td>-0.414775</td>\n",
       "      <td>0.890709</td>\n",
       "    </tr>\n",
       "  </tbody>\n",
       "</table>\n",
       "</div>"
      ],
      "text/plain": [
       "   2018-03-04  2018-03-05  2018-03-06  2018-03-07  2018-03-08  2018-03-09  \\\n",
       "A    1.341755   -1.488785   -1.128480    0.696405   -0.683227    0.116714   \n",
       "B   -0.102368    0.859913   -0.083697    0.216876   -0.507309    0.708181   \n",
       "C   -0.098966   -2.444986    0.819332    0.434205   -0.096254    0.791406   \n",
       "D   -1.665442   -0.112190    0.559748    0.746290   -0.550115   -0.383858   \n",
       "\n",
       "   2018-03-10  2018-03-11  2018-03-12  2018-03-13  2018-03-14  2018-03-15  \\\n",
       "A    0.018328    1.196211   -1.067965   -0.030167    0.882335    0.055802   \n",
       "B    0.613582    0.564046   -0.185638   -0.371161    0.118667    0.057446   \n",
       "C   -0.510919   -1.408460    0.659850    0.606243   -0.358656   -1.459501   \n",
       "D   -0.194982   -0.608706    1.398305   -2.641699    1.625021   -0.267881   \n",
       "\n",
       "   2018-03-16  2018-03-17  2018-03-18  2018-03-19  2018-03-20  2018-03-21  \\\n",
       "A    1.629717    0.862753   -0.517246   -0.506969    1.157695    0.377131   \n",
       "B   -1.539896   -0.151984    1.680005   -0.793175    0.309981    0.397384   \n",
       "C    0.588722   -0.926197    1.902692    1.048097   -0.420172    1.119139   \n",
       "D    0.620770    0.601981   -0.899572   -0.702628   -1.783902   -1.184511   \n",
       "\n",
       "   2018-03-22  2018-03-23  \n",
       "A   -0.086612    0.677391  \n",
       "B   -0.098890    0.117001  \n",
       "C    1.272491   -0.621488  \n",
       "D   -0.414775    0.890709  "
      ]
     },
     "execution_count": 14,
     "metadata": {},
     "output_type": "execute_result"
    }
   ],
   "source": [
    "df.T"
   ]
  },
  {
   "cell_type": "markdown",
   "metadata": {},
   "source": [
    "### 원하는 index 기준으로 다시 정렬하기"
   ]
  },
  {
   "cell_type": "code",
   "execution_count": 15,
   "metadata": {},
   "outputs": [
    {
     "data": {
      "text/html": [
       "<div>\n",
       "<style scoped>\n",
       "    .dataframe tbody tr th:only-of-type {\n",
       "        vertical-align: middle;\n",
       "    }\n",
       "\n",
       "    .dataframe tbody tr th {\n",
       "        vertical-align: top;\n",
       "    }\n",
       "\n",
       "    .dataframe thead th {\n",
       "        text-align: right;\n",
       "    }\n",
       "</style>\n",
       "<table border=\"1\" class=\"dataframe\">\n",
       "  <thead>\n",
       "    <tr style=\"text-align: right;\">\n",
       "      <th></th>\n",
       "      <th>A</th>\n",
       "      <th>B</th>\n",
       "      <th>C</th>\n",
       "      <th>D</th>\n",
       "    </tr>\n",
       "  </thead>\n",
       "  <tbody>\n",
       "    <tr>\n",
       "      <th>2018-03-23</th>\n",
       "      <td>0.677391</td>\n",
       "      <td>0.117001</td>\n",
       "      <td>-0.621488</td>\n",
       "      <td>0.890709</td>\n",
       "    </tr>\n",
       "    <tr>\n",
       "      <th>2018-03-22</th>\n",
       "      <td>-0.086612</td>\n",
       "      <td>-0.098890</td>\n",
       "      <td>1.272491</td>\n",
       "      <td>-0.414775</td>\n",
       "    </tr>\n",
       "    <tr>\n",
       "      <th>2018-03-21</th>\n",
       "      <td>0.377131</td>\n",
       "      <td>0.397384</td>\n",
       "      <td>1.119139</td>\n",
       "      <td>-1.184511</td>\n",
       "    </tr>\n",
       "    <tr>\n",
       "      <th>2018-03-20</th>\n",
       "      <td>1.157695</td>\n",
       "      <td>0.309981</td>\n",
       "      <td>-0.420172</td>\n",
       "      <td>-1.783902</td>\n",
       "    </tr>\n",
       "    <tr>\n",
       "      <th>2018-03-19</th>\n",
       "      <td>-0.506969</td>\n",
       "      <td>-0.793175</td>\n",
       "      <td>1.048097</td>\n",
       "      <td>-0.702628</td>\n",
       "    </tr>\n",
       "  </tbody>\n",
       "</table>\n",
       "</div>"
      ],
      "text/plain": [
       "                   A         B         C         D\n",
       "2018-03-23  0.677391  0.117001 -0.621488  0.890709\n",
       "2018-03-22 -0.086612 -0.098890  1.272491 -0.414775\n",
       "2018-03-21  0.377131  0.397384  1.119139 -1.184511\n",
       "2018-03-20  1.157695  0.309981 -0.420172 -1.783902\n",
       "2018-03-19 -0.506969 -0.793175  1.048097 -0.702628"
      ]
     },
     "execution_count": 15,
     "metadata": {},
     "output_type": "execute_result"
    }
   ],
   "source": [
    "df.sort_index(ascending=False).head()"
   ]
  },
  {
   "cell_type": "markdown",
   "metadata": {},
   "source": [
    "\n"
   ]
  },
  {
   "cell_type": "markdown",
   "metadata": {},
   "source": [
    "### 특정 column을 기준으로 정렬하기\n",
    "\n",
    "df.sort_values('<기준이 되는 column>')"
   ]
  },
  {
   "cell_type": "code",
   "execution_count": 16,
   "metadata": {},
   "outputs": [
    {
     "data": {
      "text/html": [
       "<div>\n",
       "<style scoped>\n",
       "    .dataframe tbody tr th:only-of-type {\n",
       "        vertical-align: middle;\n",
       "    }\n",
       "\n",
       "    .dataframe tbody tr th {\n",
       "        vertical-align: top;\n",
       "    }\n",
       "\n",
       "    .dataframe thead th {\n",
       "        text-align: right;\n",
       "    }\n",
       "</style>\n",
       "<table border=\"1\" class=\"dataframe\">\n",
       "  <thead>\n",
       "    <tr style=\"text-align: right;\">\n",
       "      <th></th>\n",
       "      <th>A</th>\n",
       "      <th>B</th>\n",
       "      <th>C</th>\n",
       "      <th>D</th>\n",
       "    </tr>\n",
       "  </thead>\n",
       "  <tbody>\n",
       "    <tr>\n",
       "      <th>2018-03-05</th>\n",
       "      <td>-1.488785</td>\n",
       "      <td>0.859913</td>\n",
       "      <td>-2.444986</td>\n",
       "      <td>-0.112190</td>\n",
       "    </tr>\n",
       "    <tr>\n",
       "      <th>2018-03-15</th>\n",
       "      <td>0.055802</td>\n",
       "      <td>0.057446</td>\n",
       "      <td>-1.459501</td>\n",
       "      <td>-0.267881</td>\n",
       "    </tr>\n",
       "    <tr>\n",
       "      <th>2018-03-11</th>\n",
       "      <td>1.196211</td>\n",
       "      <td>0.564046</td>\n",
       "      <td>-1.408460</td>\n",
       "      <td>-0.608706</td>\n",
       "    </tr>\n",
       "    <tr>\n",
       "      <th>2018-03-17</th>\n",
       "      <td>0.862753</td>\n",
       "      <td>-0.151984</td>\n",
       "      <td>-0.926197</td>\n",
       "      <td>0.601981</td>\n",
       "    </tr>\n",
       "    <tr>\n",
       "      <th>2018-03-23</th>\n",
       "      <td>0.677391</td>\n",
       "      <td>0.117001</td>\n",
       "      <td>-0.621488</td>\n",
       "      <td>0.890709</td>\n",
       "    </tr>\n",
       "  </tbody>\n",
       "</table>\n",
       "</div>"
      ],
      "text/plain": [
       "                   A         B         C         D\n",
       "2018-03-05 -1.488785  0.859913 -2.444986 -0.112190\n",
       "2018-03-15  0.055802  0.057446 -1.459501 -0.267881\n",
       "2018-03-11  1.196211  0.564046 -1.408460 -0.608706\n",
       "2018-03-17  0.862753 -0.151984 -0.926197  0.601981\n",
       "2018-03-23  0.677391  0.117001 -0.621488  0.890709"
      ]
     },
     "execution_count": 16,
     "metadata": {},
     "output_type": "execute_result"
    }
   ],
   "source": [
    "df.sort_values('C').head()"
   ]
  },
  {
   "cell_type": "markdown",
   "metadata": {},
   "source": [
    "\n"
   ]
  },
  {
   "cell_type": "markdown",
   "metadata": {},
   "source": [
    "\n",
    "\n"
   ]
  },
  {
   "cell_type": "markdown",
   "metadata": {},
   "source": [
    "## EP3: Selection"
   ]
  },
  {
   "cell_type": "markdown",
   "metadata": {},
   "source": [
    "특정 Column 을 선택해서 데이터를 확인\n",
    "\n",
    "2가지 방법은 모두 동일한 결과값을 가지지만 `Column명이 \"D-D\" ` 와 같은 경우에는 마이너스(-) _연산자로 인식하여 (데이터 - 데이터)로 계산을 한다_"
   ]
  },
  {
   "cell_type": "code",
   "execution_count": 17,
   "metadata": {},
   "outputs": [
    {
     "data": {
      "text/plain": [
       "2018-03-04   -1.665442\n",
       "2018-03-05   -0.112190\n",
       "2018-03-06    0.559748\n",
       "Freq: D, Name: D, dtype: float64"
      ]
     },
     "execution_count": 17,
     "metadata": {},
     "output_type": "execute_result"
    }
   ],
   "source": [
    "df['D'].head(3) # DataFrame 'D'의 데이터 가져오기(1)"
   ]
  },
  {
   "cell_type": "code",
   "execution_count": 18,
   "metadata": {},
   "outputs": [
    {
     "data": {
      "text/plain": [
       "2018-03-04   -1.665442\n",
       "2018-03-05   -0.112190\n",
       "2018-03-06    0.559748\n",
       "Freq: D, Name: D, dtype: float64"
      ]
     },
     "execution_count": 18,
     "metadata": {},
     "output_type": "execute_result"
    }
   ],
   "source": [
    "df.D.head(3) # DataFrame 'D'의 데이터 가져오기(1)"
   ]
  },
  {
   "cell_type": "markdown",
   "metadata": {},
   "source": [
    "\n"
   ]
  },
  {
   "cell_type": "markdown",
   "metadata": {},
   "source": [
    "### 슬라이싱하기"
   ]
  },
  {
   "cell_type": "markdown",
   "metadata": {},
   "source": [
    "#### DataFrame 에서 `0이상~3미만` 값을 출력하기"
   ]
  },
  {
   "cell_type": "code",
   "execution_count": 19,
   "metadata": {},
   "outputs": [
    {
     "data": {
      "text/html": [
       "<div>\n",
       "<style scoped>\n",
       "    .dataframe tbody tr th:only-of-type {\n",
       "        vertical-align: middle;\n",
       "    }\n",
       "\n",
       "    .dataframe tbody tr th {\n",
       "        vertical-align: top;\n",
       "    }\n",
       "\n",
       "    .dataframe thead th {\n",
       "        text-align: right;\n",
       "    }\n",
       "</style>\n",
       "<table border=\"1\" class=\"dataframe\">\n",
       "  <thead>\n",
       "    <tr style=\"text-align: right;\">\n",
       "      <th></th>\n",
       "      <th>A</th>\n",
       "      <th>B</th>\n",
       "      <th>C</th>\n",
       "      <th>D</th>\n",
       "    </tr>\n",
       "  </thead>\n",
       "  <tbody>\n",
       "    <tr>\n",
       "      <th>2018-03-04</th>\n",
       "      <td>1.341755</td>\n",
       "      <td>-0.102368</td>\n",
       "      <td>-0.098966</td>\n",
       "      <td>-1.665442</td>\n",
       "    </tr>\n",
       "    <tr>\n",
       "      <th>2018-03-05</th>\n",
       "      <td>-1.488785</td>\n",
       "      <td>0.859913</td>\n",
       "      <td>-2.444986</td>\n",
       "      <td>-0.112190</td>\n",
       "    </tr>\n",
       "    <tr>\n",
       "      <th>2018-03-06</th>\n",
       "      <td>-1.128480</td>\n",
       "      <td>-0.083697</td>\n",
       "      <td>0.819332</td>\n",
       "      <td>0.559748</td>\n",
       "    </tr>\n",
       "  </tbody>\n",
       "</table>\n",
       "</div>"
      ],
      "text/plain": [
       "                   A         B         C         D\n",
       "2018-03-04  1.341755 -0.102368 -0.098966 -1.665442\n",
       "2018-03-05 -1.488785  0.859913 -2.444986 -0.112190\n",
       "2018-03-06 -1.128480 -0.083697  0.819332  0.559748"
      ]
     },
     "execution_count": 19,
     "metadata": {},
     "output_type": "execute_result"
    }
   ],
   "source": [
    "df[0:3]"
   ]
  },
  {
   "cell_type": "markdown",
   "metadata": {},
   "source": [
    "\n"
   ]
  },
  {
   "cell_type": "markdown",
   "metadata": {},
   "source": [
    "#### DataFrame 에서 `A이상 F이하`의 값을 출력하기"
   ]
  },
  {
   "cell_type": "code",
   "execution_count": 20,
   "metadata": {},
   "outputs": [
    {
     "data": {
      "text/html": [
       "<div>\n",
       "<style scoped>\n",
       "    .dataframe tbody tr th:only-of-type {\n",
       "        vertical-align: middle;\n",
       "    }\n",
       "\n",
       "    .dataframe tbody tr th {\n",
       "        vertical-align: top;\n",
       "    }\n",
       "\n",
       "    .dataframe thead th {\n",
       "        text-align: right;\n",
       "    }\n",
       "</style>\n",
       "<table border=\"1\" class=\"dataframe\">\n",
       "  <thead>\n",
       "    <tr style=\"text-align: right;\">\n",
       "      <th></th>\n",
       "      <th>A</th>\n",
       "      <th>B</th>\n",
       "      <th>C</th>\n",
       "      <th>D</th>\n",
       "    </tr>\n",
       "  </thead>\n",
       "  <tbody>\n",
       "    <tr>\n",
       "      <th>2018-03-04</th>\n",
       "      <td>1.341755</td>\n",
       "      <td>-0.102368</td>\n",
       "      <td>-0.098966</td>\n",
       "      <td>-1.665442</td>\n",
       "    </tr>\n",
       "    <tr>\n",
       "      <th>2018-03-05</th>\n",
       "      <td>-1.488785</td>\n",
       "      <td>0.859913</td>\n",
       "      <td>-2.444986</td>\n",
       "      <td>-0.112190</td>\n",
       "    </tr>\n",
       "    <tr>\n",
       "      <th>2018-03-06</th>\n",
       "      <td>-1.128480</td>\n",
       "      <td>-0.083697</td>\n",
       "      <td>0.819332</td>\n",
       "      <td>0.559748</td>\n",
       "    </tr>\n",
       "  </tbody>\n",
       "</table>\n",
       "</div>"
      ],
      "text/plain": [
       "                   A         B         C         D\n",
       "2018-03-04  1.341755 -0.102368 -0.098966 -1.665442\n",
       "2018-03-05 -1.488785  0.859913 -2.444986 -0.112190\n",
       "2018-03-06 -1.128480 -0.083697  0.819332  0.559748"
      ]
     },
     "execution_count": 20,
     "metadata": {},
     "output_type": "execute_result"
    }
   ],
   "source": [
    "df['2018-03-04': '2018-03-06']"
   ]
  },
  {
   "cell_type": "markdown",
   "metadata": {},
   "source": [
    "\n"
   ]
  },
  {
   "cell_type": "markdown",
   "metadata": {},
   "source": [
    "#### 위에서 선언한 변수에 0번째 index 들의 값 출력하기\n",
    "\n",
    "`dates = pd.date_range('20180304', periods=20)`\n"
   ]
  },
  {
   "cell_type": "code",
   "execution_count": 21,
   "metadata": {},
   "outputs": [
    {
     "data": {
      "text/plain": [
       "A    1.341755\n",
       "B   -0.102368\n",
       "C   -0.098966\n",
       "D   -1.665442\n",
       "Name: 2018-03-04 00:00:00, dtype: float64"
      ]
     },
     "execution_count": 21,
     "metadata": {},
     "output_type": "execute_result"
    }
   ],
   "source": [
    "df.loc[dates[0]]"
   ]
  },
  {
   "cell_type": "code",
   "execution_count": 22,
   "metadata": {},
   "outputs": [
    {
     "data": {
      "text/html": [
       "<div>\n",
       "<style scoped>\n",
       "    .dataframe tbody tr th:only-of-type {\n",
       "        vertical-align: middle;\n",
       "    }\n",
       "\n",
       "    .dataframe tbody tr th {\n",
       "        vertical-align: top;\n",
       "    }\n",
       "\n",
       "    .dataframe thead th {\n",
       "        text-align: right;\n",
       "    }\n",
       "</style>\n",
       "<table border=\"1\" class=\"dataframe\">\n",
       "  <thead>\n",
       "    <tr style=\"text-align: right;\">\n",
       "      <th></th>\n",
       "      <th>A</th>\n",
       "      <th>D</th>\n",
       "    </tr>\n",
       "  </thead>\n",
       "  <tbody>\n",
       "    <tr>\n",
       "      <th>2018-03-04</th>\n",
       "      <td>1.341755</td>\n",
       "      <td>-1.665442</td>\n",
       "    </tr>\n",
       "    <tr>\n",
       "      <th>2018-03-05</th>\n",
       "      <td>-1.488785</td>\n",
       "      <td>-0.112190</td>\n",
       "    </tr>\n",
       "    <tr>\n",
       "      <th>2018-03-06</th>\n",
       "      <td>-1.128480</td>\n",
       "      <td>0.559748</td>\n",
       "    </tr>\n",
       "    <tr>\n",
       "      <th>2018-03-07</th>\n",
       "      <td>0.696405</td>\n",
       "      <td>0.746290</td>\n",
       "    </tr>\n",
       "    <tr>\n",
       "      <th>2018-03-08</th>\n",
       "      <td>-0.683227</td>\n",
       "      <td>-0.550115</td>\n",
       "    </tr>\n",
       "  </tbody>\n",
       "</table>\n",
       "</div>"
      ],
      "text/plain": [
       "                   A         D\n",
       "2018-03-04  1.341755 -1.665442\n",
       "2018-03-05 -1.488785 -0.112190\n",
       "2018-03-06 -1.128480  0.559748\n",
       "2018-03-07  0.696405  0.746290\n",
       "2018-03-08 -0.683227 -0.550115"
      ]
     },
     "execution_count": 22,
     "metadata": {},
     "output_type": "execute_result"
    }
   ],
   "source": [
    "df.loc[:, ['A', 'D']].head() # 특정 index 의 값을 찾기"
   ]
  },
  {
   "cell_type": "code",
   "execution_count": 23,
   "metadata": {},
   "outputs": [
    {
     "data": {
      "text/html": [
       "<div>\n",
       "<style scoped>\n",
       "    .dataframe tbody tr th:only-of-type {\n",
       "        vertical-align: middle;\n",
       "    }\n",
       "\n",
       "    .dataframe tbody tr th {\n",
       "        vertical-align: top;\n",
       "    }\n",
       "\n",
       "    .dataframe thead th {\n",
       "        text-align: right;\n",
       "    }\n",
       "</style>\n",
       "<table border=\"1\" class=\"dataframe\">\n",
       "  <thead>\n",
       "    <tr style=\"text-align: right;\">\n",
       "      <th></th>\n",
       "      <th>A</th>\n",
       "      <th>C</th>\n",
       "    </tr>\n",
       "  </thead>\n",
       "  <tbody>\n",
       "    <tr>\n",
       "      <th>2018-03-11</th>\n",
       "      <td>1.196211</td>\n",
       "      <td>-1.408460</td>\n",
       "    </tr>\n",
       "    <tr>\n",
       "      <th>2018-03-12</th>\n",
       "      <td>-1.067965</td>\n",
       "      <td>0.659850</td>\n",
       "    </tr>\n",
       "    <tr>\n",
       "      <th>2018-03-13</th>\n",
       "      <td>-0.030167</td>\n",
       "      <td>0.606243</td>\n",
       "    </tr>\n",
       "    <tr>\n",
       "      <th>2018-03-14</th>\n",
       "      <td>0.882335</td>\n",
       "      <td>-0.358656</td>\n",
       "    </tr>\n",
       "    <tr>\n",
       "      <th>2018-03-15</th>\n",
       "      <td>0.055802</td>\n",
       "      <td>-1.459501</td>\n",
       "    </tr>\n",
       "    <tr>\n",
       "      <th>2018-03-16</th>\n",
       "      <td>1.629717</td>\n",
       "      <td>0.588722</td>\n",
       "    </tr>\n",
       "  </tbody>\n",
       "</table>\n",
       "</div>"
      ],
      "text/plain": [
       "                   A         C\n",
       "2018-03-11  1.196211 -1.408460\n",
       "2018-03-12 -1.067965  0.659850\n",
       "2018-03-13 -0.030167  0.606243\n",
       "2018-03-14  0.882335 -0.358656\n",
       "2018-03-15  0.055802 -1.459501\n",
       "2018-03-16  1.629717  0.588722"
      ]
     },
     "execution_count": 23,
     "metadata": {},
     "output_type": "execute_result"
    }
   ],
   "source": [
    "df.loc['20180311': '20180316', ['A', 'C']]"
   ]
  },
  {
   "cell_type": "code",
   "execution_count": 24,
   "metadata": {},
   "outputs": [
    {
     "data": {
      "text/plain": [
       "A    1.196211\n",
       "C   -1.408460\n",
       "Name: 2018-03-11 00:00:00, dtype: float64"
      ]
     },
     "execution_count": 24,
     "metadata": {},
     "output_type": "execute_result"
    }
   ],
   "source": [
    "# 1개의 행만 지정했기 때문에 Series 로 출력\n",
    "df.loc['20180311', ['A', 'C']]"
   ]
  },
  {
   "cell_type": "code",
   "execution_count": 25,
   "metadata": {},
   "outputs": [
    {
     "data": {
      "text/plain": [
       "2018-03-11    1.196211\n",
       "2018-03-12   -1.067965\n",
       "2018-03-13   -0.030167\n",
       "2018-03-14    0.882335\n",
       "2018-03-15    0.055802\n",
       "2018-03-16    1.629717\n",
       "2018-03-17    0.862753\n",
       "2018-03-18   -0.517246\n",
       "2018-03-19   -0.506969\n",
       "Freq: D, Name: A, dtype: float64"
      ]
     },
     "execution_count": 25,
     "metadata": {},
     "output_type": "execute_result"
    }
   ],
   "source": [
    "# 행이던 열이던 한줄의 데이터 범위를 선택하면 Series 이다.\n",
    "df.loc['20180311':'20180319', 'A']"
   ]
  },
  {
   "cell_type": "markdown",
   "metadata": {},
   "source": [
    "### 세번째 행을 Selection 하기"
   ]
  },
  {
   "cell_type": "code",
   "execution_count": 26,
   "metadata": {},
   "outputs": [
    {
     "data": {
      "text/html": [
       "<div>\n",
       "<style scoped>\n",
       "    .dataframe tbody tr th:only-of-type {\n",
       "        vertical-align: middle;\n",
       "    }\n",
       "\n",
       "    .dataframe tbody tr th {\n",
       "        vertical-align: top;\n",
       "    }\n",
       "\n",
       "    .dataframe thead th {\n",
       "        text-align: right;\n",
       "    }\n",
       "</style>\n",
       "<table border=\"1\" class=\"dataframe\">\n",
       "  <thead>\n",
       "    <tr style=\"text-align: right;\">\n",
       "      <th></th>\n",
       "      <th>A</th>\n",
       "      <th>B</th>\n",
       "      <th>C</th>\n",
       "      <th>D</th>\n",
       "    </tr>\n",
       "  </thead>\n",
       "  <tbody>\n",
       "    <tr>\n",
       "      <th>2018-03-04</th>\n",
       "      <td>1.341755</td>\n",
       "      <td>-0.102368</td>\n",
       "      <td>-0.098966</td>\n",
       "      <td>-1.665442</td>\n",
       "    </tr>\n",
       "    <tr>\n",
       "      <th>2018-03-05</th>\n",
       "      <td>-1.488785</td>\n",
       "      <td>0.859913</td>\n",
       "      <td>-2.444986</td>\n",
       "      <td>-0.112190</td>\n",
       "    </tr>\n",
       "    <tr>\n",
       "      <th>2018-03-06</th>\n",
       "      <td>-1.128480</td>\n",
       "      <td>-0.083697</td>\n",
       "      <td>0.819332</td>\n",
       "      <td>0.559748</td>\n",
       "    </tr>\n",
       "    <tr>\n",
       "      <th>2018-03-07</th>\n",
       "      <td>0.696405</td>\n",
       "      <td>0.216876</td>\n",
       "      <td>0.434205</td>\n",
       "      <td>0.746290</td>\n",
       "    </tr>\n",
       "    <tr>\n",
       "      <th>2018-03-08</th>\n",
       "      <td>-0.683227</td>\n",
       "      <td>-0.507309</td>\n",
       "      <td>-0.096254</td>\n",
       "      <td>-0.550115</td>\n",
       "    </tr>\n",
       "  </tbody>\n",
       "</table>\n",
       "</div>"
      ],
      "text/plain": [
       "                   A         B         C         D\n",
       "2018-03-04  1.341755 -0.102368 -0.098966 -1.665442\n",
       "2018-03-05 -1.488785  0.859913 -2.444986 -0.112190\n",
       "2018-03-06 -1.128480 -0.083697  0.819332  0.559748\n",
       "2018-03-07  0.696405  0.216876  0.434205  0.746290\n",
       "2018-03-08 -0.683227 -0.507309 -0.096254 -0.550115"
      ]
     },
     "execution_count": 26,
     "metadata": {},
     "output_type": "execute_result"
    }
   ],
   "source": [
    "df.head()"
   ]
  },
  {
   "cell_type": "code",
   "execution_count": 27,
   "metadata": {},
   "outputs": [
    {
     "data": {
      "text/plain": [
       "A    0.696405\n",
       "B    0.216876\n",
       "C    0.434205\n",
       "D    0.746290\n",
       "Name: 2018-03-07 00:00:00, dtype: float64"
      ]
     },
     "execution_count": 27,
     "metadata": {},
     "output_type": "execute_result"
    }
   ],
   "source": [
    "df.iloc[3] # index 3번째의 행 값을 출력"
   ]
  },
  {
   "cell_type": "code",
   "execution_count": 28,
   "metadata": {},
   "outputs": [
    {
     "data": {
      "text/html": [
       "<div>\n",
       "<style scoped>\n",
       "    .dataframe tbody tr th:only-of-type {\n",
       "        vertical-align: middle;\n",
       "    }\n",
       "\n",
       "    .dataframe tbody tr th {\n",
       "        vertical-align: top;\n",
       "    }\n",
       "\n",
       "    .dataframe thead th {\n",
       "        text-align: right;\n",
       "    }\n",
       "</style>\n",
       "<table border=\"1\" class=\"dataframe\">\n",
       "  <thead>\n",
       "    <tr style=\"text-align: right;\">\n",
       "      <th></th>\n",
       "      <th>A</th>\n",
       "      <th>B</th>\n",
       "    </tr>\n",
       "  </thead>\n",
       "  <tbody>\n",
       "    <tr>\n",
       "      <th>2018-03-07</th>\n",
       "      <td>0.696405</td>\n",
       "      <td>0.216876</td>\n",
       "    </tr>\n",
       "    <tr>\n",
       "      <th>2018-03-08</th>\n",
       "      <td>-0.683227</td>\n",
       "      <td>-0.507309</td>\n",
       "    </tr>\n",
       "  </tbody>\n",
       "</table>\n",
       "</div>"
      ],
      "text/plain": [
       "                   A         B\n",
       "2018-03-07  0.696405  0.216876\n",
       "2018-03-08 -0.683227 -0.507309"
      ]
     },
     "execution_count": 28,
     "metadata": {},
     "output_type": "execute_result"
    }
   ],
   "source": [
    "df.iloc[3:5, 0:2] # 3월 7일부터 3월 8일 // AA, BB 인덱스의 값 출력"
   ]
  },
  {
   "cell_type": "code",
   "execution_count": 29,
   "metadata": {},
   "outputs": [
    {
     "data": {
      "text/html": [
       "<div>\n",
       "<style scoped>\n",
       "    .dataframe tbody tr th:only-of-type {\n",
       "        vertical-align: middle;\n",
       "    }\n",
       "\n",
       "    .dataframe tbody tr th {\n",
       "        vertical-align: top;\n",
       "    }\n",
       "\n",
       "    .dataframe thead th {\n",
       "        text-align: right;\n",
       "    }\n",
       "</style>\n",
       "<table border=\"1\" class=\"dataframe\">\n",
       "  <thead>\n",
       "    <tr style=\"text-align: right;\">\n",
       "      <th></th>\n",
       "      <th>A</th>\n",
       "      <th>C</th>\n",
       "    </tr>\n",
       "  </thead>\n",
       "  <tbody>\n",
       "    <tr>\n",
       "      <th>2018-03-05</th>\n",
       "      <td>-1.488785</td>\n",
       "      <td>-2.444986</td>\n",
       "    </tr>\n",
       "    <tr>\n",
       "      <th>2018-03-06</th>\n",
       "      <td>-1.128480</td>\n",
       "      <td>0.819332</td>\n",
       "    </tr>\n",
       "    <tr>\n",
       "      <th>2018-03-08</th>\n",
       "      <td>-0.683227</td>\n",
       "      <td>-0.096254</td>\n",
       "    </tr>\n",
       "  </tbody>\n",
       "</table>\n",
       "</div>"
      ],
      "text/plain": [
       "                   A         C\n",
       "2018-03-05 -1.488785 -2.444986\n",
       "2018-03-06 -1.128480  0.819332\n",
       "2018-03-08 -0.683227 -0.096254"
      ]
     },
     "execution_count": 29,
     "metadata": {},
     "output_type": "execute_result"
    }
   ],
   "source": [
    "df.iloc[[1, 2, 4], [0,2]]"
   ]
  },
  {
   "cell_type": "markdown",
   "metadata": {},
   "source": [
    "\n"
   ]
  },
  {
   "cell_type": "markdown",
   "metadata": {},
   "source": [
    "### *명시적으로 모든 행을 출력한다고 해줄 때는 범위가 없더라도 : 를 넣어준다"
   ]
  },
  {
   "cell_type": "code",
   "execution_count": 30,
   "metadata": {},
   "outputs": [
    {
     "data": {
      "text/html": [
       "<div>\n",
       "<style scoped>\n",
       "    .dataframe tbody tr th:only-of-type {\n",
       "        vertical-align: middle;\n",
       "    }\n",
       "\n",
       "    .dataframe tbody tr th {\n",
       "        vertical-align: top;\n",
       "    }\n",
       "\n",
       "    .dataframe thead th {\n",
       "        text-align: right;\n",
       "    }\n",
       "</style>\n",
       "<table border=\"1\" class=\"dataframe\">\n",
       "  <thead>\n",
       "    <tr style=\"text-align: right;\">\n",
       "      <th></th>\n",
       "      <th>A</th>\n",
       "      <th>B</th>\n",
       "      <th>C</th>\n",
       "      <th>D</th>\n",
       "    </tr>\n",
       "  </thead>\n",
       "  <tbody>\n",
       "    <tr>\n",
       "      <th>2018-03-05</th>\n",
       "      <td>-1.488785</td>\n",
       "      <td>0.859913</td>\n",
       "      <td>-2.444986</td>\n",
       "      <td>-0.11219</td>\n",
       "    </tr>\n",
       "    <tr>\n",
       "      <th>2018-03-07</th>\n",
       "      <td>0.696405</td>\n",
       "      <td>0.216876</td>\n",
       "      <td>0.434205</td>\n",
       "      <td>0.74629</td>\n",
       "    </tr>\n",
       "  </tbody>\n",
       "</table>\n",
       "</div>"
      ],
      "text/plain": [
       "                   A         B         C        D\n",
       "2018-03-05 -1.488785  0.859913 -2.444986 -0.11219\n",
       "2018-03-07  0.696405  0.216876  0.434205  0.74629"
      ]
     },
     "execution_count": 30,
     "metadata": {},
     "output_type": "execute_result"
    }
   ],
   "source": [
    "df.iloc[[1, 3], :]"
   ]
  },
  {
   "cell_type": "markdown",
   "metadata": {},
   "source": [
    "\n"
   ]
  },
  {
   "cell_type": "markdown",
   "metadata": {},
   "source": [
    "\n"
   ]
  },
  {
   "cell_type": "markdown",
   "metadata": {},
   "source": [
    "### Boolean Indexing"
   ]
  },
  {
   "cell_type": "markdown",
   "metadata": {},
   "source": [
    "DataFrame 에서 0 이상의 값을 찾아보기"
   ]
  },
  {
   "cell_type": "code",
   "execution_count": 31,
   "metadata": {},
   "outputs": [
    {
     "data": {
      "text/plain": [
       "2018-03-04     True\n",
       "2018-03-05    False\n",
       "2018-03-06    False\n",
       "2018-03-07     True\n",
       "2018-03-08    False\n",
       "2018-03-09     True\n",
       "2018-03-10     True\n",
       "2018-03-11     True\n",
       "2018-03-12    False\n",
       "2018-03-13    False\n",
       "2018-03-14     True\n",
       "2018-03-15     True\n",
       "2018-03-16     True\n",
       "2018-03-17     True\n",
       "2018-03-18    False\n",
       "2018-03-19    False\n",
       "2018-03-20     True\n",
       "2018-03-21     True\n",
       "2018-03-22    False\n",
       "2018-03-23     True\n",
       "Freq: D, Name: A, dtype: bool"
      ]
     },
     "execution_count": 31,
     "metadata": {},
     "output_type": "execute_result"
    }
   ],
   "source": [
    "df['A'] > 0"
   ]
  },
  {
   "cell_type": "markdown",
   "metadata": {},
   "source": [
    "\n"
   ]
  },
  {
   "cell_type": "markdown",
   "metadata": {},
   "source": [
    "### AA 인덱스에서 True 값만 가져오기"
   ]
  },
  {
   "cell_type": "code",
   "execution_count": 32,
   "metadata": {},
   "outputs": [
    {
     "data": {
      "text/html": [
       "<div>\n",
       "<style scoped>\n",
       "    .dataframe tbody tr th:only-of-type {\n",
       "        vertical-align: middle;\n",
       "    }\n",
       "\n",
       "    .dataframe tbody tr th {\n",
       "        vertical-align: top;\n",
       "    }\n",
       "\n",
       "    .dataframe thead th {\n",
       "        text-align: right;\n",
       "    }\n",
       "</style>\n",
       "<table border=\"1\" class=\"dataframe\">\n",
       "  <thead>\n",
       "    <tr style=\"text-align: right;\">\n",
       "      <th></th>\n",
       "      <th>A</th>\n",
       "      <th>B</th>\n",
       "      <th>C</th>\n",
       "      <th>D</th>\n",
       "    </tr>\n",
       "  </thead>\n",
       "  <tbody>\n",
       "    <tr>\n",
       "      <th>2018-03-04</th>\n",
       "      <td>1.341755</td>\n",
       "      <td>-0.102368</td>\n",
       "      <td>-0.098966</td>\n",
       "      <td>-1.665442</td>\n",
       "    </tr>\n",
       "    <tr>\n",
       "      <th>2018-03-07</th>\n",
       "      <td>0.696405</td>\n",
       "      <td>0.216876</td>\n",
       "      <td>0.434205</td>\n",
       "      <td>0.746290</td>\n",
       "    </tr>\n",
       "    <tr>\n",
       "      <th>2018-03-09</th>\n",
       "      <td>0.116714</td>\n",
       "      <td>0.708181</td>\n",
       "      <td>0.791406</td>\n",
       "      <td>-0.383858</td>\n",
       "    </tr>\n",
       "    <tr>\n",
       "      <th>2018-03-10</th>\n",
       "      <td>0.018328</td>\n",
       "      <td>0.613582</td>\n",
       "      <td>-0.510919</td>\n",
       "      <td>-0.194982</td>\n",
       "    </tr>\n",
       "    <tr>\n",
       "      <th>2018-03-11</th>\n",
       "      <td>1.196211</td>\n",
       "      <td>0.564046</td>\n",
       "      <td>-1.408460</td>\n",
       "      <td>-0.608706</td>\n",
       "    </tr>\n",
       "    <tr>\n",
       "      <th>2018-03-14</th>\n",
       "      <td>0.882335</td>\n",
       "      <td>0.118667</td>\n",
       "      <td>-0.358656</td>\n",
       "      <td>1.625021</td>\n",
       "    </tr>\n",
       "    <tr>\n",
       "      <th>2018-03-15</th>\n",
       "      <td>0.055802</td>\n",
       "      <td>0.057446</td>\n",
       "      <td>-1.459501</td>\n",
       "      <td>-0.267881</td>\n",
       "    </tr>\n",
       "    <tr>\n",
       "      <th>2018-03-16</th>\n",
       "      <td>1.629717</td>\n",
       "      <td>-1.539896</td>\n",
       "      <td>0.588722</td>\n",
       "      <td>0.620770</td>\n",
       "    </tr>\n",
       "    <tr>\n",
       "      <th>2018-03-17</th>\n",
       "      <td>0.862753</td>\n",
       "      <td>-0.151984</td>\n",
       "      <td>-0.926197</td>\n",
       "      <td>0.601981</td>\n",
       "    </tr>\n",
       "    <tr>\n",
       "      <th>2018-03-20</th>\n",
       "      <td>1.157695</td>\n",
       "      <td>0.309981</td>\n",
       "      <td>-0.420172</td>\n",
       "      <td>-1.783902</td>\n",
       "    </tr>\n",
       "    <tr>\n",
       "      <th>2018-03-21</th>\n",
       "      <td>0.377131</td>\n",
       "      <td>0.397384</td>\n",
       "      <td>1.119139</td>\n",
       "      <td>-1.184511</td>\n",
       "    </tr>\n",
       "    <tr>\n",
       "      <th>2018-03-23</th>\n",
       "      <td>0.677391</td>\n",
       "      <td>0.117001</td>\n",
       "      <td>-0.621488</td>\n",
       "      <td>0.890709</td>\n",
       "    </tr>\n",
       "  </tbody>\n",
       "</table>\n",
       "</div>"
      ],
      "text/plain": [
       "                   A         B         C         D\n",
       "2018-03-04  1.341755 -0.102368 -0.098966 -1.665442\n",
       "2018-03-07  0.696405  0.216876  0.434205  0.746290\n",
       "2018-03-09  0.116714  0.708181  0.791406 -0.383858\n",
       "2018-03-10  0.018328  0.613582 -0.510919 -0.194982\n",
       "2018-03-11  1.196211  0.564046 -1.408460 -0.608706\n",
       "2018-03-14  0.882335  0.118667 -0.358656  1.625021\n",
       "2018-03-15  0.055802  0.057446 -1.459501 -0.267881\n",
       "2018-03-16  1.629717 -1.539896  0.588722  0.620770\n",
       "2018-03-17  0.862753 -0.151984 -0.926197  0.601981\n",
       "2018-03-20  1.157695  0.309981 -0.420172 -1.783902\n",
       "2018-03-21  0.377131  0.397384  1.119139 -1.184511\n",
       "2018-03-23  0.677391  0.117001 -0.621488  0.890709"
      ]
     },
     "execution_count": 32,
     "metadata": {},
     "output_type": "execute_result"
    }
   ],
   "source": [
    "mask = df['A'] > 0\n",
    "df[mask]"
   ]
  },
  {
   "cell_type": "markdown",
   "metadata": {},
   "source": [
    "\n"
   ]
  },
  {
   "cell_type": "markdown",
   "metadata": {},
   "source": [
    "### df2 로 복사하여 새로운 튜토리얼을 진행"
   ]
  },
  {
   "cell_type": "code",
   "execution_count": 33,
   "metadata": {},
   "outputs": [],
   "source": [
    "df2 = df.copy()"
   ]
  },
  {
   "cell_type": "code",
   "execution_count": 34,
   "metadata": {},
   "outputs": [
    {
     "data": {
      "text/html": [
       "<div>\n",
       "<style scoped>\n",
       "    .dataframe tbody tr th:only-of-type {\n",
       "        vertical-align: middle;\n",
       "    }\n",
       "\n",
       "    .dataframe tbody tr th {\n",
       "        vertical-align: top;\n",
       "    }\n",
       "\n",
       "    .dataframe thead th {\n",
       "        text-align: right;\n",
       "    }\n",
       "</style>\n",
       "<table border=\"1\" class=\"dataframe\">\n",
       "  <thead>\n",
       "    <tr style=\"text-align: right;\">\n",
       "      <th></th>\n",
       "      <th>A</th>\n",
       "      <th>B</th>\n",
       "      <th>C</th>\n",
       "      <th>D</th>\n",
       "      <th>E</th>\n",
       "    </tr>\n",
       "  </thead>\n",
       "  <tbody>\n",
       "    <tr>\n",
       "      <th>2018-03-04</th>\n",
       "      <td>1.341755</td>\n",
       "      <td>-0.102368</td>\n",
       "      <td>-0.098966</td>\n",
       "      <td>-1.665442</td>\n",
       "      <td>one</td>\n",
       "    </tr>\n",
       "    <tr>\n",
       "      <th>2018-03-05</th>\n",
       "      <td>-1.488785</td>\n",
       "      <td>0.859913</td>\n",
       "      <td>-2.444986</td>\n",
       "      <td>-0.112190</td>\n",
       "      <td>two</td>\n",
       "    </tr>\n",
       "    <tr>\n",
       "      <th>2018-03-06</th>\n",
       "      <td>-1.128480</td>\n",
       "      <td>-0.083697</td>\n",
       "      <td>0.819332</td>\n",
       "      <td>0.559748</td>\n",
       "      <td>three</td>\n",
       "    </tr>\n",
       "    <tr>\n",
       "      <th>2018-03-07</th>\n",
       "      <td>0.696405</td>\n",
       "      <td>0.216876</td>\n",
       "      <td>0.434205</td>\n",
       "      <td>0.746290</td>\n",
       "      <td>four</td>\n",
       "    </tr>\n",
       "    <tr>\n",
       "      <th>2018-03-08</th>\n",
       "      <td>-0.683227</td>\n",
       "      <td>-0.507309</td>\n",
       "      <td>-0.096254</td>\n",
       "      <td>-0.550115</td>\n",
       "      <td>five</td>\n",
       "    </tr>\n",
       "  </tbody>\n",
       "</table>\n",
       "</div>"
      ],
      "text/plain": [
       "                   A         B         C         D      E\n",
       "2018-03-04  1.341755 -0.102368 -0.098966 -1.665442    one\n",
       "2018-03-05 -1.488785  0.859913 -2.444986 -0.112190    two\n",
       "2018-03-06 -1.128480 -0.083697  0.819332  0.559748  three\n",
       "2018-03-07  0.696405  0.216876  0.434205  0.746290   four\n",
       "2018-03-08 -0.683227 -0.507309 -0.096254 -0.550115   five"
      ]
     },
     "execution_count": 34,
     "metadata": {},
     "output_type": "execute_result"
    }
   ],
   "source": [
    "df2['E'] = [\n",
    "    'one', 'two', 'three', 'four', 'five',\n",
    "    'one', 'two', 'three', 'four', 'five',\n",
    "    'one', 'two', 'three', 'four', 'five',\n",
    "    'one', 'two', 'three', 'four', 'five',\n",
    "]\n",
    "df2.head()"
   ]
  },
  {
   "cell_type": "markdown",
   "metadata": {},
   "source": [
    "\n"
   ]
  },
  {
   "cell_type": "markdown",
   "metadata": {},
   "source": [
    "### 'one', 'two' 에 해당하는 값만 가져오기"
   ]
  },
  {
   "cell_type": "code",
   "execution_count": 35,
   "metadata": {},
   "outputs": [
    {
     "data": {
      "text/html": [
       "<div>\n",
       "<style scoped>\n",
       "    .dataframe tbody tr th:only-of-type {\n",
       "        vertical-align: middle;\n",
       "    }\n",
       "\n",
       "    .dataframe tbody tr th {\n",
       "        vertical-align: top;\n",
       "    }\n",
       "\n",
       "    .dataframe thead th {\n",
       "        text-align: right;\n",
       "    }\n",
       "</style>\n",
       "<table border=\"1\" class=\"dataframe\">\n",
       "  <thead>\n",
       "    <tr style=\"text-align: right;\">\n",
       "      <th></th>\n",
       "      <th>A</th>\n",
       "      <th>B</th>\n",
       "      <th>C</th>\n",
       "      <th>D</th>\n",
       "    </tr>\n",
       "  </thead>\n",
       "  <tbody>\n",
       "    <tr>\n",
       "      <th>2018-03-04</th>\n",
       "      <td>1.341755</td>\n",
       "      <td>-0.102368</td>\n",
       "      <td>-0.098966</td>\n",
       "      <td>-1.665442</td>\n",
       "    </tr>\n",
       "    <tr>\n",
       "      <th>2018-03-05</th>\n",
       "      <td>-1.488785</td>\n",
       "      <td>0.859913</td>\n",
       "      <td>-2.444986</td>\n",
       "      <td>-0.112190</td>\n",
       "    </tr>\n",
       "    <tr>\n",
       "      <th>2018-03-09</th>\n",
       "      <td>0.116714</td>\n",
       "      <td>0.708181</td>\n",
       "      <td>0.791406</td>\n",
       "      <td>-0.383858</td>\n",
       "    </tr>\n",
       "    <tr>\n",
       "      <th>2018-03-10</th>\n",
       "      <td>0.018328</td>\n",
       "      <td>0.613582</td>\n",
       "      <td>-0.510919</td>\n",
       "      <td>-0.194982</td>\n",
       "    </tr>\n",
       "    <tr>\n",
       "      <th>2018-03-14</th>\n",
       "      <td>0.882335</td>\n",
       "      <td>0.118667</td>\n",
       "      <td>-0.358656</td>\n",
       "      <td>1.625021</td>\n",
       "    </tr>\n",
       "    <tr>\n",
       "      <th>2018-03-15</th>\n",
       "      <td>0.055802</td>\n",
       "      <td>0.057446</td>\n",
       "      <td>-1.459501</td>\n",
       "      <td>-0.267881</td>\n",
       "    </tr>\n",
       "    <tr>\n",
       "      <th>2018-03-19</th>\n",
       "      <td>-0.506969</td>\n",
       "      <td>-0.793175</td>\n",
       "      <td>1.048097</td>\n",
       "      <td>-0.702628</td>\n",
       "    </tr>\n",
       "    <tr>\n",
       "      <th>2018-03-20</th>\n",
       "      <td>1.157695</td>\n",
       "      <td>0.309981</td>\n",
       "      <td>-0.420172</td>\n",
       "      <td>-1.783902</td>\n",
       "    </tr>\n",
       "  </tbody>\n",
       "</table>\n",
       "</div>"
      ],
      "text/plain": [
       "                   A         B         C         D\n",
       "2018-03-04  1.341755 -0.102368 -0.098966 -1.665442\n",
       "2018-03-05 -1.488785  0.859913 -2.444986 -0.112190\n",
       "2018-03-09  0.116714  0.708181  0.791406 -0.383858\n",
       "2018-03-10  0.018328  0.613582 -0.510919 -0.194982\n",
       "2018-03-14  0.882335  0.118667 -0.358656  1.625021\n",
       "2018-03-15  0.055802  0.057446 -1.459501 -0.267881\n",
       "2018-03-19 -0.506969 -0.793175  1.048097 -0.702628\n",
       "2018-03-20  1.157695  0.309981 -0.420172 -1.783902"
      ]
     },
     "execution_count": 35,
     "metadata": {},
     "output_type": "execute_result"
    }
   ],
   "source": [
    "mask = df2.E.isin(['one', 'two'])\n",
    "df[mask]"
   ]
  },
  {
   "cell_type": "markdown",
   "metadata": {},
   "source": [
    "\n"
   ]
  },
  {
   "cell_type": "markdown",
   "metadata": {},
   "source": [
    "### 새로운 Series 를 정의하기"
   ]
  },
  {
   "cell_type": "code",
   "execution_count": 36,
   "metadata": {},
   "outputs": [],
   "source": [
    "s1 = pd.Series(range(1, 21),\n",
    "               index=pd.date_range(\n",
    "                   '20180305', periods=20)\n",
    "              ) # 의도적으로 3월 5일부터 작성\n",
    "df['F'] = s1"
   ]
  },
  {
   "cell_type": "code",
   "execution_count": 37,
   "metadata": {},
   "outputs": [
    {
     "data": {
      "text/html": [
       "<div>\n",
       "<style scoped>\n",
       "    .dataframe tbody tr th:only-of-type {\n",
       "        vertical-align: middle;\n",
       "    }\n",
       "\n",
       "    .dataframe tbody tr th {\n",
       "        vertical-align: top;\n",
       "    }\n",
       "\n",
       "    .dataframe thead th {\n",
       "        text-align: right;\n",
       "    }\n",
       "</style>\n",
       "<table border=\"1\" class=\"dataframe\">\n",
       "  <thead>\n",
       "    <tr style=\"text-align: right;\">\n",
       "      <th></th>\n",
       "      <th>A</th>\n",
       "      <th>B</th>\n",
       "      <th>C</th>\n",
       "      <th>D</th>\n",
       "      <th>F</th>\n",
       "    </tr>\n",
       "  </thead>\n",
       "  <tbody>\n",
       "    <tr>\n",
       "      <th>2018-03-04</th>\n",
       "      <td>1.341755</td>\n",
       "      <td>-0.102368</td>\n",
       "      <td>-0.098966</td>\n",
       "      <td>-1.665442</td>\n",
       "      <td>NaN</td>\n",
       "    </tr>\n",
       "    <tr>\n",
       "      <th>2018-03-05</th>\n",
       "      <td>-1.488785</td>\n",
       "      <td>0.859913</td>\n",
       "      <td>-2.444986</td>\n",
       "      <td>-0.112190</td>\n",
       "      <td>1.0</td>\n",
       "    </tr>\n",
       "    <tr>\n",
       "      <th>2018-03-06</th>\n",
       "      <td>-1.128480</td>\n",
       "      <td>-0.083697</td>\n",
       "      <td>0.819332</td>\n",
       "      <td>0.559748</td>\n",
       "      <td>2.0</td>\n",
       "    </tr>\n",
       "    <tr>\n",
       "      <th>2018-03-07</th>\n",
       "      <td>0.696405</td>\n",
       "      <td>0.216876</td>\n",
       "      <td>0.434205</td>\n",
       "      <td>0.746290</td>\n",
       "      <td>3.0</td>\n",
       "    </tr>\n",
       "    <tr>\n",
       "      <th>2018-03-08</th>\n",
       "      <td>-0.683227</td>\n",
       "      <td>-0.507309</td>\n",
       "      <td>-0.096254</td>\n",
       "      <td>-0.550115</td>\n",
       "      <td>4.0</td>\n",
       "    </tr>\n",
       "    <tr>\n",
       "      <th>2018-03-09</th>\n",
       "      <td>0.116714</td>\n",
       "      <td>0.708181</td>\n",
       "      <td>0.791406</td>\n",
       "      <td>-0.383858</td>\n",
       "      <td>5.0</td>\n",
       "    </tr>\n",
       "    <tr>\n",
       "      <th>2018-03-10</th>\n",
       "      <td>0.018328</td>\n",
       "      <td>0.613582</td>\n",
       "      <td>-0.510919</td>\n",
       "      <td>-0.194982</td>\n",
       "      <td>6.0</td>\n",
       "    </tr>\n",
       "    <tr>\n",
       "      <th>2018-03-11</th>\n",
       "      <td>1.196211</td>\n",
       "      <td>0.564046</td>\n",
       "      <td>-1.408460</td>\n",
       "      <td>-0.608706</td>\n",
       "      <td>7.0</td>\n",
       "    </tr>\n",
       "    <tr>\n",
       "      <th>2018-03-12</th>\n",
       "      <td>-1.067965</td>\n",
       "      <td>-0.185638</td>\n",
       "      <td>0.659850</td>\n",
       "      <td>1.398305</td>\n",
       "      <td>8.0</td>\n",
       "    </tr>\n",
       "    <tr>\n",
       "      <th>2018-03-13</th>\n",
       "      <td>-0.030167</td>\n",
       "      <td>-0.371161</td>\n",
       "      <td>0.606243</td>\n",
       "      <td>-2.641699</td>\n",
       "      <td>9.0</td>\n",
       "    </tr>\n",
       "    <tr>\n",
       "      <th>2018-03-14</th>\n",
       "      <td>0.882335</td>\n",
       "      <td>0.118667</td>\n",
       "      <td>-0.358656</td>\n",
       "      <td>1.625021</td>\n",
       "      <td>10.0</td>\n",
       "    </tr>\n",
       "    <tr>\n",
       "      <th>2018-03-15</th>\n",
       "      <td>0.055802</td>\n",
       "      <td>0.057446</td>\n",
       "      <td>-1.459501</td>\n",
       "      <td>-0.267881</td>\n",
       "      <td>11.0</td>\n",
       "    </tr>\n",
       "    <tr>\n",
       "      <th>2018-03-16</th>\n",
       "      <td>1.629717</td>\n",
       "      <td>-1.539896</td>\n",
       "      <td>0.588722</td>\n",
       "      <td>0.620770</td>\n",
       "      <td>12.0</td>\n",
       "    </tr>\n",
       "    <tr>\n",
       "      <th>2018-03-17</th>\n",
       "      <td>0.862753</td>\n",
       "      <td>-0.151984</td>\n",
       "      <td>-0.926197</td>\n",
       "      <td>0.601981</td>\n",
       "      <td>13.0</td>\n",
       "    </tr>\n",
       "    <tr>\n",
       "      <th>2018-03-18</th>\n",
       "      <td>-0.517246</td>\n",
       "      <td>1.680005</td>\n",
       "      <td>1.902692</td>\n",
       "      <td>-0.899572</td>\n",
       "      <td>14.0</td>\n",
       "    </tr>\n",
       "    <tr>\n",
       "      <th>2018-03-19</th>\n",
       "      <td>-0.506969</td>\n",
       "      <td>-0.793175</td>\n",
       "      <td>1.048097</td>\n",
       "      <td>-0.702628</td>\n",
       "      <td>15.0</td>\n",
       "    </tr>\n",
       "    <tr>\n",
       "      <th>2018-03-20</th>\n",
       "      <td>1.157695</td>\n",
       "      <td>0.309981</td>\n",
       "      <td>-0.420172</td>\n",
       "      <td>-1.783902</td>\n",
       "      <td>16.0</td>\n",
       "    </tr>\n",
       "    <tr>\n",
       "      <th>2018-03-21</th>\n",
       "      <td>0.377131</td>\n",
       "      <td>0.397384</td>\n",
       "      <td>1.119139</td>\n",
       "      <td>-1.184511</td>\n",
       "      <td>17.0</td>\n",
       "    </tr>\n",
       "    <tr>\n",
       "      <th>2018-03-22</th>\n",
       "      <td>-0.086612</td>\n",
       "      <td>-0.098890</td>\n",
       "      <td>1.272491</td>\n",
       "      <td>-0.414775</td>\n",
       "      <td>18.0</td>\n",
       "    </tr>\n",
       "    <tr>\n",
       "      <th>2018-03-23</th>\n",
       "      <td>0.677391</td>\n",
       "      <td>0.117001</td>\n",
       "      <td>-0.621488</td>\n",
       "      <td>0.890709</td>\n",
       "      <td>19.0</td>\n",
       "    </tr>\n",
       "  </tbody>\n",
       "</table>\n",
       "</div>"
      ],
      "text/plain": [
       "                   A         B         C         D     F\n",
       "2018-03-04  1.341755 -0.102368 -0.098966 -1.665442   NaN\n",
       "2018-03-05 -1.488785  0.859913 -2.444986 -0.112190   1.0\n",
       "2018-03-06 -1.128480 -0.083697  0.819332  0.559748   2.0\n",
       "2018-03-07  0.696405  0.216876  0.434205  0.746290   3.0\n",
       "2018-03-08 -0.683227 -0.507309 -0.096254 -0.550115   4.0\n",
       "2018-03-09  0.116714  0.708181  0.791406 -0.383858   5.0\n",
       "2018-03-10  0.018328  0.613582 -0.510919 -0.194982   6.0\n",
       "2018-03-11  1.196211  0.564046 -1.408460 -0.608706   7.0\n",
       "2018-03-12 -1.067965 -0.185638  0.659850  1.398305   8.0\n",
       "2018-03-13 -0.030167 -0.371161  0.606243 -2.641699   9.0\n",
       "2018-03-14  0.882335  0.118667 -0.358656  1.625021  10.0\n",
       "2018-03-15  0.055802  0.057446 -1.459501 -0.267881  11.0\n",
       "2018-03-16  1.629717 -1.539896  0.588722  0.620770  12.0\n",
       "2018-03-17  0.862753 -0.151984 -0.926197  0.601981  13.0\n",
       "2018-03-18 -0.517246  1.680005  1.902692 -0.899572  14.0\n",
       "2018-03-19 -0.506969 -0.793175  1.048097 -0.702628  15.0\n",
       "2018-03-20  1.157695  0.309981 -0.420172 -1.783902  16.0\n",
       "2018-03-21  0.377131  0.397384  1.119139 -1.184511  17.0\n",
       "2018-03-22 -0.086612 -0.098890  1.272491 -0.414775  18.0\n",
       "2018-03-23  0.677391  0.117001 -0.621488  0.890709  19.0"
      ]
     },
     "execution_count": 37,
     "metadata": {},
     "output_type": "execute_result"
    }
   ],
   "source": [
    "df # 데이터프레임 F 를 생성했고, 값이 없으면 NaN 으로 출력됨을 확인"
   ]
  },
  {
   "cell_type": "markdown",
   "metadata": {},
   "source": [
    "\n"
   ]
  },
  {
   "cell_type": "markdown",
   "metadata": {},
   "source": [
    "### 데이터프레임의 길이만큼 EE 인덱스의 값을 13으로 생성하시오"
   ]
  },
  {
   "cell_type": "code",
   "execution_count": 38,
   "metadata": {},
   "outputs": [
    {
     "data": {
      "text/html": [
       "<div>\n",
       "<style scoped>\n",
       "    .dataframe tbody tr th:only-of-type {\n",
       "        vertical-align: middle;\n",
       "    }\n",
       "\n",
       "    .dataframe tbody tr th {\n",
       "        vertical-align: top;\n",
       "    }\n",
       "\n",
       "    .dataframe thead th {\n",
       "        text-align: right;\n",
       "    }\n",
       "</style>\n",
       "<table border=\"1\" class=\"dataframe\">\n",
       "  <thead>\n",
       "    <tr style=\"text-align: right;\">\n",
       "      <th></th>\n",
       "      <th>A</th>\n",
       "      <th>B</th>\n",
       "      <th>C</th>\n",
       "      <th>D</th>\n",
       "      <th>F</th>\n",
       "      <th>E</th>\n",
       "    </tr>\n",
       "  </thead>\n",
       "  <tbody>\n",
       "    <tr>\n",
       "      <th>2018-03-04</th>\n",
       "      <td>1.341755</td>\n",
       "      <td>-0.102368</td>\n",
       "      <td>-0.098966</td>\n",
       "      <td>-1.665442</td>\n",
       "      <td>NaN</td>\n",
       "      <td>13</td>\n",
       "    </tr>\n",
       "    <tr>\n",
       "      <th>2018-03-05</th>\n",
       "      <td>-1.488785</td>\n",
       "      <td>0.859913</td>\n",
       "      <td>-2.444986</td>\n",
       "      <td>-0.112190</td>\n",
       "      <td>1.0</td>\n",
       "      <td>13</td>\n",
       "    </tr>\n",
       "    <tr>\n",
       "      <th>2018-03-06</th>\n",
       "      <td>-1.128480</td>\n",
       "      <td>-0.083697</td>\n",
       "      <td>0.819332</td>\n",
       "      <td>0.559748</td>\n",
       "      <td>2.0</td>\n",
       "      <td>13</td>\n",
       "    </tr>\n",
       "    <tr>\n",
       "      <th>2018-03-07</th>\n",
       "      <td>0.696405</td>\n",
       "      <td>0.216876</td>\n",
       "      <td>0.434205</td>\n",
       "      <td>0.746290</td>\n",
       "      <td>3.0</td>\n",
       "      <td>13</td>\n",
       "    </tr>\n",
       "    <tr>\n",
       "      <th>2018-03-08</th>\n",
       "      <td>-0.683227</td>\n",
       "      <td>-0.507309</td>\n",
       "      <td>-0.096254</td>\n",
       "      <td>-0.550115</td>\n",
       "      <td>4.0</td>\n",
       "      <td>13</td>\n",
       "    </tr>\n",
       "    <tr>\n",
       "      <th>2018-03-09</th>\n",
       "      <td>0.116714</td>\n",
       "      <td>0.708181</td>\n",
       "      <td>0.791406</td>\n",
       "      <td>-0.383858</td>\n",
       "      <td>5.0</td>\n",
       "      <td>13</td>\n",
       "    </tr>\n",
       "    <tr>\n",
       "      <th>2018-03-10</th>\n",
       "      <td>0.018328</td>\n",
       "      <td>0.613582</td>\n",
       "      <td>-0.510919</td>\n",
       "      <td>-0.194982</td>\n",
       "      <td>6.0</td>\n",
       "      <td>13</td>\n",
       "    </tr>\n",
       "    <tr>\n",
       "      <th>2018-03-11</th>\n",
       "      <td>1.196211</td>\n",
       "      <td>0.564046</td>\n",
       "      <td>-1.408460</td>\n",
       "      <td>-0.608706</td>\n",
       "      <td>7.0</td>\n",
       "      <td>13</td>\n",
       "    </tr>\n",
       "    <tr>\n",
       "      <th>2018-03-12</th>\n",
       "      <td>-1.067965</td>\n",
       "      <td>-0.185638</td>\n",
       "      <td>0.659850</td>\n",
       "      <td>1.398305</td>\n",
       "      <td>8.0</td>\n",
       "      <td>13</td>\n",
       "    </tr>\n",
       "    <tr>\n",
       "      <th>2018-03-13</th>\n",
       "      <td>-0.030167</td>\n",
       "      <td>-0.371161</td>\n",
       "      <td>0.606243</td>\n",
       "      <td>-2.641699</td>\n",
       "      <td>9.0</td>\n",
       "      <td>13</td>\n",
       "    </tr>\n",
       "    <tr>\n",
       "      <th>2018-03-14</th>\n",
       "      <td>0.882335</td>\n",
       "      <td>0.118667</td>\n",
       "      <td>-0.358656</td>\n",
       "      <td>1.625021</td>\n",
       "      <td>10.0</td>\n",
       "      <td>13</td>\n",
       "    </tr>\n",
       "    <tr>\n",
       "      <th>2018-03-15</th>\n",
       "      <td>0.055802</td>\n",
       "      <td>0.057446</td>\n",
       "      <td>-1.459501</td>\n",
       "      <td>-0.267881</td>\n",
       "      <td>11.0</td>\n",
       "      <td>13</td>\n",
       "    </tr>\n",
       "    <tr>\n",
       "      <th>2018-03-16</th>\n",
       "      <td>1.629717</td>\n",
       "      <td>-1.539896</td>\n",
       "      <td>0.588722</td>\n",
       "      <td>0.620770</td>\n",
       "      <td>12.0</td>\n",
       "      <td>13</td>\n",
       "    </tr>\n",
       "    <tr>\n",
       "      <th>2018-03-17</th>\n",
       "      <td>0.862753</td>\n",
       "      <td>-0.151984</td>\n",
       "      <td>-0.926197</td>\n",
       "      <td>0.601981</td>\n",
       "      <td>13.0</td>\n",
       "      <td>13</td>\n",
       "    </tr>\n",
       "    <tr>\n",
       "      <th>2018-03-18</th>\n",
       "      <td>-0.517246</td>\n",
       "      <td>1.680005</td>\n",
       "      <td>1.902692</td>\n",
       "      <td>-0.899572</td>\n",
       "      <td>14.0</td>\n",
       "      <td>13</td>\n",
       "    </tr>\n",
       "    <tr>\n",
       "      <th>2018-03-19</th>\n",
       "      <td>-0.506969</td>\n",
       "      <td>-0.793175</td>\n",
       "      <td>1.048097</td>\n",
       "      <td>-0.702628</td>\n",
       "      <td>15.0</td>\n",
       "      <td>13</td>\n",
       "    </tr>\n",
       "    <tr>\n",
       "      <th>2018-03-20</th>\n",
       "      <td>1.157695</td>\n",
       "      <td>0.309981</td>\n",
       "      <td>-0.420172</td>\n",
       "      <td>-1.783902</td>\n",
       "      <td>16.0</td>\n",
       "      <td>13</td>\n",
       "    </tr>\n",
       "    <tr>\n",
       "      <th>2018-03-21</th>\n",
       "      <td>0.377131</td>\n",
       "      <td>0.397384</td>\n",
       "      <td>1.119139</td>\n",
       "      <td>-1.184511</td>\n",
       "      <td>17.0</td>\n",
       "      <td>13</td>\n",
       "    </tr>\n",
       "    <tr>\n",
       "      <th>2018-03-22</th>\n",
       "      <td>-0.086612</td>\n",
       "      <td>-0.098890</td>\n",
       "      <td>1.272491</td>\n",
       "      <td>-0.414775</td>\n",
       "      <td>18.0</td>\n",
       "      <td>13</td>\n",
       "    </tr>\n",
       "    <tr>\n",
       "      <th>2018-03-23</th>\n",
       "      <td>0.677391</td>\n",
       "      <td>0.117001</td>\n",
       "      <td>-0.621488</td>\n",
       "      <td>0.890709</td>\n",
       "      <td>19.0</td>\n",
       "      <td>13</td>\n",
       "    </tr>\n",
       "  </tbody>\n",
       "</table>\n",
       "</div>"
      ],
      "text/plain": [
       "                   A         B         C         D     F   E\n",
       "2018-03-04  1.341755 -0.102368 -0.098966 -1.665442   NaN  13\n",
       "2018-03-05 -1.488785  0.859913 -2.444986 -0.112190   1.0  13\n",
       "2018-03-06 -1.128480 -0.083697  0.819332  0.559748   2.0  13\n",
       "2018-03-07  0.696405  0.216876  0.434205  0.746290   3.0  13\n",
       "2018-03-08 -0.683227 -0.507309 -0.096254 -0.550115   4.0  13\n",
       "2018-03-09  0.116714  0.708181  0.791406 -0.383858   5.0  13\n",
       "2018-03-10  0.018328  0.613582 -0.510919 -0.194982   6.0  13\n",
       "2018-03-11  1.196211  0.564046 -1.408460 -0.608706   7.0  13\n",
       "2018-03-12 -1.067965 -0.185638  0.659850  1.398305   8.0  13\n",
       "2018-03-13 -0.030167 -0.371161  0.606243 -2.641699   9.0  13\n",
       "2018-03-14  0.882335  0.118667 -0.358656  1.625021  10.0  13\n",
       "2018-03-15  0.055802  0.057446 -1.459501 -0.267881  11.0  13\n",
       "2018-03-16  1.629717 -1.539896  0.588722  0.620770  12.0  13\n",
       "2018-03-17  0.862753 -0.151984 -0.926197  0.601981  13.0  13\n",
       "2018-03-18 -0.517246  1.680005  1.902692 -0.899572  14.0  13\n",
       "2018-03-19 -0.506969 -0.793175  1.048097 -0.702628  15.0  13\n",
       "2018-03-20  1.157695  0.309981 -0.420172 -1.783902  16.0  13\n",
       "2018-03-21  0.377131  0.397384  1.119139 -1.184511  17.0  13\n",
       "2018-03-22 -0.086612 -0.098890  1.272491 -0.414775  18.0  13\n",
       "2018-03-23  0.677391  0.117001 -0.621488  0.890709  19.0  13"
      ]
     },
     "execution_count": 38,
     "metadata": {},
     "output_type": "execute_result"
    }
   ],
   "source": [
    "df.loc[:, 'E'] = [13] * len(df)\n",
    "df"
   ]
  },
  {
   "cell_type": "markdown",
   "metadata": {},
   "source": [
    "\n"
   ]
  },
  {
   "cell_type": "markdown",
   "metadata": {},
   "source": [
    "### 데이터 프레임의 모든 수를 음수로 전환하기"
   ]
  },
  {
   "cell_type": "code",
   "execution_count": 39,
   "metadata": {},
   "outputs": [],
   "source": [
    "df2 = df.copy()"
   ]
  },
  {
   "cell_type": "code",
   "execution_count": 40,
   "metadata": {
    "scrolled": true
   },
   "outputs": [],
   "source": [
    "df2[df2 > 0] = -df2 # 모든 수를 음수로 전환"
   ]
  },
  {
   "cell_type": "code",
   "execution_count": 41,
   "metadata": {},
   "outputs": [
    {
     "data": {
      "text/html": [
       "<div>\n",
       "<style scoped>\n",
       "    .dataframe tbody tr th:only-of-type {\n",
       "        vertical-align: middle;\n",
       "    }\n",
       "\n",
       "    .dataframe tbody tr th {\n",
       "        vertical-align: top;\n",
       "    }\n",
       "\n",
       "    .dataframe thead th {\n",
       "        text-align: right;\n",
       "    }\n",
       "</style>\n",
       "<table border=\"1\" class=\"dataframe\">\n",
       "  <thead>\n",
       "    <tr style=\"text-align: right;\">\n",
       "      <th></th>\n",
       "      <th>A</th>\n",
       "      <th>B</th>\n",
       "      <th>C</th>\n",
       "      <th>D</th>\n",
       "      <th>F</th>\n",
       "      <th>E</th>\n",
       "    </tr>\n",
       "  </thead>\n",
       "  <tbody>\n",
       "    <tr>\n",
       "      <th>2018-03-04</th>\n",
       "      <td>-1.341755</td>\n",
       "      <td>-0.102368</td>\n",
       "      <td>-0.098966</td>\n",
       "      <td>-1.665442</td>\n",
       "      <td>NaN</td>\n",
       "      <td>-13</td>\n",
       "    </tr>\n",
       "    <tr>\n",
       "      <th>2018-03-05</th>\n",
       "      <td>-1.488785</td>\n",
       "      <td>-0.859913</td>\n",
       "      <td>-2.444986</td>\n",
       "      <td>-0.112190</td>\n",
       "      <td>-1.0</td>\n",
       "      <td>-13</td>\n",
       "    </tr>\n",
       "    <tr>\n",
       "      <th>2018-03-06</th>\n",
       "      <td>-1.128480</td>\n",
       "      <td>-0.083697</td>\n",
       "      <td>-0.819332</td>\n",
       "      <td>-0.559748</td>\n",
       "      <td>-2.0</td>\n",
       "      <td>-13</td>\n",
       "    </tr>\n",
       "    <tr>\n",
       "      <th>2018-03-07</th>\n",
       "      <td>-0.696405</td>\n",
       "      <td>-0.216876</td>\n",
       "      <td>-0.434205</td>\n",
       "      <td>-0.746290</td>\n",
       "      <td>-3.0</td>\n",
       "      <td>-13</td>\n",
       "    </tr>\n",
       "    <tr>\n",
       "      <th>2018-03-08</th>\n",
       "      <td>-0.683227</td>\n",
       "      <td>-0.507309</td>\n",
       "      <td>-0.096254</td>\n",
       "      <td>-0.550115</td>\n",
       "      <td>-4.0</td>\n",
       "      <td>-13</td>\n",
       "    </tr>\n",
       "  </tbody>\n",
       "</table>\n",
       "</div>"
      ],
      "text/plain": [
       "                   A         B         C         D    F   E\n",
       "2018-03-04 -1.341755 -0.102368 -0.098966 -1.665442  NaN -13\n",
       "2018-03-05 -1.488785 -0.859913 -2.444986 -0.112190 -1.0 -13\n",
       "2018-03-06 -1.128480 -0.083697 -0.819332 -0.559748 -2.0 -13\n",
       "2018-03-07 -0.696405 -0.216876 -0.434205 -0.746290 -3.0 -13\n",
       "2018-03-08 -0.683227 -0.507309 -0.096254 -0.550115 -4.0 -13"
      ]
     },
     "execution_count": 41,
     "metadata": {},
     "output_type": "execute_result"
    }
   ],
   "source": [
    "df2.head()"
   ]
  },
  {
   "cell_type": "markdown",
   "metadata": {},
   "source": [
    "\n"
   ]
  },
  {
   "cell_type": "markdown",
   "metadata": {},
   "source": [
    "\n"
   ]
  },
  {
   "cell_type": "markdown",
   "metadata": {},
   "source": [
    "## Missing Data"
   ]
  },
  {
   "cell_type": "markdown",
   "metadata": {},
   "source": [
    "### reindex 를 사용하여 지정된 축의 index 를 변경/추가/삭제"
   ]
  },
  {
   "cell_type": "code",
   "execution_count": 42,
   "metadata": {},
   "outputs": [],
   "source": [
    "df1 = df.reindex(index=dates[0:4], columns=list(df.columns) + ['E'])"
   ]
  },
  {
   "cell_type": "code",
   "execution_count": 43,
   "metadata": {},
   "outputs": [
    {
     "data": {
      "text/html": [
       "<div>\n",
       "<style scoped>\n",
       "    .dataframe tbody tr th:only-of-type {\n",
       "        vertical-align: middle;\n",
       "    }\n",
       "\n",
       "    .dataframe tbody tr th {\n",
       "        vertical-align: top;\n",
       "    }\n",
       "\n",
       "    .dataframe thead th {\n",
       "        text-align: right;\n",
       "    }\n",
       "</style>\n",
       "<table border=\"1\" class=\"dataframe\">\n",
       "  <thead>\n",
       "    <tr style=\"text-align: right;\">\n",
       "      <th></th>\n",
       "      <th>A</th>\n",
       "      <th>B</th>\n",
       "      <th>C</th>\n",
       "      <th>D</th>\n",
       "      <th>F</th>\n",
       "      <th>E</th>\n",
       "      <th>E</th>\n",
       "    </tr>\n",
       "  </thead>\n",
       "  <tbody>\n",
       "    <tr>\n",
       "      <th>2018-03-04</th>\n",
       "      <td>1.341755</td>\n",
       "      <td>-0.102368</td>\n",
       "      <td>-0.098966</td>\n",
       "      <td>-1.665442</td>\n",
       "      <td>NaN</td>\n",
       "      <td>13</td>\n",
       "      <td>13</td>\n",
       "    </tr>\n",
       "    <tr>\n",
       "      <th>2018-03-05</th>\n",
       "      <td>-1.488785</td>\n",
       "      <td>0.859913</td>\n",
       "      <td>-2.444986</td>\n",
       "      <td>-0.112190</td>\n",
       "      <td>1.0</td>\n",
       "      <td>13</td>\n",
       "      <td>13</td>\n",
       "    </tr>\n",
       "    <tr>\n",
       "      <th>2018-03-06</th>\n",
       "      <td>-1.128480</td>\n",
       "      <td>-0.083697</td>\n",
       "      <td>0.819332</td>\n",
       "      <td>0.559748</td>\n",
       "      <td>2.0</td>\n",
       "      <td>13</td>\n",
       "      <td>13</td>\n",
       "    </tr>\n",
       "    <tr>\n",
       "      <th>2018-03-07</th>\n",
       "      <td>0.696405</td>\n",
       "      <td>0.216876</td>\n",
       "      <td>0.434205</td>\n",
       "      <td>0.746290</td>\n",
       "      <td>3.0</td>\n",
       "      <td>13</td>\n",
       "      <td>13</td>\n",
       "    </tr>\n",
       "  </tbody>\n",
       "</table>\n",
       "</div>"
      ],
      "text/plain": [
       "                   A         B         C         D    F   E   E\n",
       "2018-03-04  1.341755 -0.102368 -0.098966 -1.665442  NaN  13  13\n",
       "2018-03-05 -1.488785  0.859913 -2.444986 -0.112190  1.0  13  13\n",
       "2018-03-06 -1.128480 -0.083697  0.819332  0.559748  2.0  13  13\n",
       "2018-03-07  0.696405  0.216876  0.434205  0.746290  3.0  13  13"
      ]
     },
     "execution_count": 43,
     "metadata": {},
     "output_type": "execute_result"
    }
   ],
   "source": [
    "df1"
   ]
  },
  {
   "cell_type": "markdown",
   "metadata": {},
   "source": [
    "\n"
   ]
  },
  {
   "cell_type": "markdown",
   "metadata": {},
   "source": [
    "### index[0], [1] 에 해당하는 E Column 의 값을 1로 변경하기"
   ]
  },
  {
   "cell_type": "code",
   "execution_count": 44,
   "metadata": {},
   "outputs": [
    {
     "data": {
      "text/html": [
       "<div>\n",
       "<style scoped>\n",
       "    .dataframe tbody tr th:only-of-type {\n",
       "        vertical-align: middle;\n",
       "    }\n",
       "\n",
       "    .dataframe tbody tr th {\n",
       "        vertical-align: top;\n",
       "    }\n",
       "\n",
       "    .dataframe thead th {\n",
       "        text-align: right;\n",
       "    }\n",
       "</style>\n",
       "<table border=\"1\" class=\"dataframe\">\n",
       "  <thead>\n",
       "    <tr style=\"text-align: right;\">\n",
       "      <th></th>\n",
       "      <th>A</th>\n",
       "      <th>B</th>\n",
       "      <th>C</th>\n",
       "      <th>D</th>\n",
       "      <th>F</th>\n",
       "      <th>E</th>\n",
       "      <th>E</th>\n",
       "    </tr>\n",
       "  </thead>\n",
       "  <tbody>\n",
       "    <tr>\n",
       "      <th>2018-03-04</th>\n",
       "      <td>1.341755</td>\n",
       "      <td>-0.102368</td>\n",
       "      <td>-0.098966</td>\n",
       "      <td>-1.665442</td>\n",
       "      <td>NaN</td>\n",
       "      <td>1</td>\n",
       "      <td>1</td>\n",
       "    </tr>\n",
       "    <tr>\n",
       "      <th>2018-03-05</th>\n",
       "      <td>-1.488785</td>\n",
       "      <td>0.859913</td>\n",
       "      <td>-2.444986</td>\n",
       "      <td>-0.112190</td>\n",
       "      <td>1.0</td>\n",
       "      <td>1</td>\n",
       "      <td>1</td>\n",
       "    </tr>\n",
       "    <tr>\n",
       "      <th>2018-03-06</th>\n",
       "      <td>-1.128480</td>\n",
       "      <td>-0.083697</td>\n",
       "      <td>0.819332</td>\n",
       "      <td>0.559748</td>\n",
       "      <td>2.0</td>\n",
       "      <td>13</td>\n",
       "      <td>13</td>\n",
       "    </tr>\n",
       "    <tr>\n",
       "      <th>2018-03-07</th>\n",
       "      <td>0.696405</td>\n",
       "      <td>0.216876</td>\n",
       "      <td>0.434205</td>\n",
       "      <td>0.746290</td>\n",
       "      <td>3.0</td>\n",
       "      <td>13</td>\n",
       "      <td>13</td>\n",
       "    </tr>\n",
       "  </tbody>\n",
       "</table>\n",
       "</div>"
      ],
      "text/plain": [
       "                   A         B         C         D    F   E   E\n",
       "2018-03-04  1.341755 -0.102368 -0.098966 -1.665442  NaN   1   1\n",
       "2018-03-05 -1.488785  0.859913 -2.444986 -0.112190  1.0   1   1\n",
       "2018-03-06 -1.128480 -0.083697  0.819332  0.559748  2.0  13  13\n",
       "2018-03-07  0.696405  0.216876  0.434205  0.746290  3.0  13  13"
      ]
     },
     "execution_count": 44,
     "metadata": {},
     "output_type": "execute_result"
    }
   ],
   "source": [
    "df1.loc[dates[0]:dates[1], 'E'] = 1\n",
    "df1"
   ]
  },
  {
   "cell_type": "markdown",
   "metadata": {},
   "source": [
    "\n"
   ]
  },
  {
   "cell_type": "markdown",
   "metadata": {},
   "source": [
    "### NaN 에 해당하는 행을 모두 지우기"
   ]
  },
  {
   "cell_type": "code",
   "execution_count": 45,
   "metadata": {},
   "outputs": [
    {
     "data": {
      "text/html": [
       "<div>\n",
       "<style scoped>\n",
       "    .dataframe tbody tr th:only-of-type {\n",
       "        vertical-align: middle;\n",
       "    }\n",
       "\n",
       "    .dataframe tbody tr th {\n",
       "        vertical-align: top;\n",
       "    }\n",
       "\n",
       "    .dataframe thead th {\n",
       "        text-align: right;\n",
       "    }\n",
       "</style>\n",
       "<table border=\"1\" class=\"dataframe\">\n",
       "  <thead>\n",
       "    <tr style=\"text-align: right;\">\n",
       "      <th></th>\n",
       "      <th>A</th>\n",
       "      <th>B</th>\n",
       "      <th>C</th>\n",
       "      <th>D</th>\n",
       "      <th>F</th>\n",
       "      <th>E</th>\n",
       "      <th>E</th>\n",
       "    </tr>\n",
       "  </thead>\n",
       "  <tbody>\n",
       "    <tr>\n",
       "      <th>2018-03-05</th>\n",
       "      <td>-1.488785</td>\n",
       "      <td>0.859913</td>\n",
       "      <td>-2.444986</td>\n",
       "      <td>-0.112190</td>\n",
       "      <td>1.0</td>\n",
       "      <td>1</td>\n",
       "      <td>1</td>\n",
       "    </tr>\n",
       "    <tr>\n",
       "      <th>2018-03-06</th>\n",
       "      <td>-1.128480</td>\n",
       "      <td>-0.083697</td>\n",
       "      <td>0.819332</td>\n",
       "      <td>0.559748</td>\n",
       "      <td>2.0</td>\n",
       "      <td>13</td>\n",
       "      <td>13</td>\n",
       "    </tr>\n",
       "    <tr>\n",
       "      <th>2018-03-07</th>\n",
       "      <td>0.696405</td>\n",
       "      <td>0.216876</td>\n",
       "      <td>0.434205</td>\n",
       "      <td>0.746290</td>\n",
       "      <td>3.0</td>\n",
       "      <td>13</td>\n",
       "      <td>13</td>\n",
       "    </tr>\n",
       "  </tbody>\n",
       "</table>\n",
       "</div>"
      ],
      "text/plain": [
       "                   A         B         C         D    F   E   E\n",
       "2018-03-05 -1.488785  0.859913 -2.444986 -0.112190  1.0   1   1\n",
       "2018-03-06 -1.128480 -0.083697  0.819332  0.559748  2.0  13  13\n",
       "2018-03-07  0.696405  0.216876  0.434205  0.746290  3.0  13  13"
      ]
     },
     "execution_count": 45,
     "metadata": {},
     "output_type": "execute_result"
    }
   ],
   "source": [
    "df1.dropna()"
   ]
  },
  {
   "cell_type": "markdown",
   "metadata": {},
   "source": [
    "\n"
   ]
  },
  {
   "cell_type": "markdown",
   "metadata": {},
   "source": [
    "### NaN 에 해당하는 값을 5로 대체하기"
   ]
  },
  {
   "cell_type": "code",
   "execution_count": 46,
   "metadata": {},
   "outputs": [
    {
     "data": {
      "text/html": [
       "<div>\n",
       "<style scoped>\n",
       "    .dataframe tbody tr th:only-of-type {\n",
       "        vertical-align: middle;\n",
       "    }\n",
       "\n",
       "    .dataframe tbody tr th {\n",
       "        vertical-align: top;\n",
       "    }\n",
       "\n",
       "    .dataframe thead th {\n",
       "        text-align: right;\n",
       "    }\n",
       "</style>\n",
       "<table border=\"1\" class=\"dataframe\">\n",
       "  <thead>\n",
       "    <tr style=\"text-align: right;\">\n",
       "      <th></th>\n",
       "      <th>A</th>\n",
       "      <th>B</th>\n",
       "      <th>C</th>\n",
       "      <th>D</th>\n",
       "      <th>F</th>\n",
       "      <th>E</th>\n",
       "      <th>E</th>\n",
       "    </tr>\n",
       "  </thead>\n",
       "  <tbody>\n",
       "    <tr>\n",
       "      <th>2018-03-04</th>\n",
       "      <td>1.341755</td>\n",
       "      <td>-0.102368</td>\n",
       "      <td>-0.098966</td>\n",
       "      <td>-1.665442</td>\n",
       "      <td>5.0</td>\n",
       "      <td>1</td>\n",
       "      <td>1</td>\n",
       "    </tr>\n",
       "    <tr>\n",
       "      <th>2018-03-05</th>\n",
       "      <td>-1.488785</td>\n",
       "      <td>0.859913</td>\n",
       "      <td>-2.444986</td>\n",
       "      <td>-0.112190</td>\n",
       "      <td>1.0</td>\n",
       "      <td>1</td>\n",
       "      <td>1</td>\n",
       "    </tr>\n",
       "    <tr>\n",
       "      <th>2018-03-06</th>\n",
       "      <td>-1.128480</td>\n",
       "      <td>-0.083697</td>\n",
       "      <td>0.819332</td>\n",
       "      <td>0.559748</td>\n",
       "      <td>2.0</td>\n",
       "      <td>13</td>\n",
       "      <td>13</td>\n",
       "    </tr>\n",
       "    <tr>\n",
       "      <th>2018-03-07</th>\n",
       "      <td>0.696405</td>\n",
       "      <td>0.216876</td>\n",
       "      <td>0.434205</td>\n",
       "      <td>0.746290</td>\n",
       "      <td>3.0</td>\n",
       "      <td>13</td>\n",
       "      <td>13</td>\n",
       "    </tr>\n",
       "  </tbody>\n",
       "</table>\n",
       "</div>"
      ],
      "text/plain": [
       "                   A         B         C         D    F   E   E\n",
       "2018-03-04  1.341755 -0.102368 -0.098966 -1.665442  5.0   1   1\n",
       "2018-03-05 -1.488785  0.859913 -2.444986 -0.112190  1.0   1   1\n",
       "2018-03-06 -1.128480 -0.083697  0.819332  0.559748  2.0  13  13\n",
       "2018-03-07  0.696405  0.216876  0.434205  0.746290  3.0  13  13"
      ]
     },
     "execution_count": 46,
     "metadata": {},
     "output_type": "execute_result"
    }
   ],
   "source": [
    "df1.fillna(5)"
   ]
  },
  {
   "cell_type": "markdown",
   "metadata": {},
   "source": [
    "\n"
   ]
  },
  {
   "cell_type": "markdown",
   "metadata": {},
   "source": [
    "### NaN 에 해당하는 값을 Boolean 값으로 표시하기"
   ]
  },
  {
   "cell_type": "code",
   "execution_count": 47,
   "metadata": {},
   "outputs": [
    {
     "data": {
      "text/html": [
       "<div>\n",
       "<style scoped>\n",
       "    .dataframe tbody tr th:only-of-type {\n",
       "        vertical-align: middle;\n",
       "    }\n",
       "\n",
       "    .dataframe tbody tr th {\n",
       "        vertical-align: top;\n",
       "    }\n",
       "\n",
       "    .dataframe thead th {\n",
       "        text-align: right;\n",
       "    }\n",
       "</style>\n",
       "<table border=\"1\" class=\"dataframe\">\n",
       "  <thead>\n",
       "    <tr style=\"text-align: right;\">\n",
       "      <th></th>\n",
       "      <th>A</th>\n",
       "      <th>B</th>\n",
       "      <th>C</th>\n",
       "      <th>D</th>\n",
       "      <th>F</th>\n",
       "      <th>E</th>\n",
       "    </tr>\n",
       "  </thead>\n",
       "  <tbody>\n",
       "    <tr>\n",
       "      <th>2018-03-04</th>\n",
       "      <td>False</td>\n",
       "      <td>False</td>\n",
       "      <td>False</td>\n",
       "      <td>False</td>\n",
       "      <td>True</td>\n",
       "      <td>False</td>\n",
       "    </tr>\n",
       "    <tr>\n",
       "      <th>2018-03-05</th>\n",
       "      <td>False</td>\n",
       "      <td>False</td>\n",
       "      <td>False</td>\n",
       "      <td>False</td>\n",
       "      <td>False</td>\n",
       "      <td>False</td>\n",
       "    </tr>\n",
       "    <tr>\n",
       "      <th>2018-03-06</th>\n",
       "      <td>False</td>\n",
       "      <td>False</td>\n",
       "      <td>False</td>\n",
       "      <td>False</td>\n",
       "      <td>False</td>\n",
       "      <td>False</td>\n",
       "    </tr>\n",
       "    <tr>\n",
       "      <th>2018-03-07</th>\n",
       "      <td>False</td>\n",
       "      <td>False</td>\n",
       "      <td>False</td>\n",
       "      <td>False</td>\n",
       "      <td>False</td>\n",
       "      <td>False</td>\n",
       "    </tr>\n",
       "    <tr>\n",
       "      <th>2018-03-08</th>\n",
       "      <td>False</td>\n",
       "      <td>False</td>\n",
       "      <td>False</td>\n",
       "      <td>False</td>\n",
       "      <td>False</td>\n",
       "      <td>False</td>\n",
       "    </tr>\n",
       "    <tr>\n",
       "      <th>2018-03-09</th>\n",
       "      <td>False</td>\n",
       "      <td>False</td>\n",
       "      <td>False</td>\n",
       "      <td>False</td>\n",
       "      <td>False</td>\n",
       "      <td>False</td>\n",
       "    </tr>\n",
       "    <tr>\n",
       "      <th>2018-03-10</th>\n",
       "      <td>False</td>\n",
       "      <td>False</td>\n",
       "      <td>False</td>\n",
       "      <td>False</td>\n",
       "      <td>False</td>\n",
       "      <td>False</td>\n",
       "    </tr>\n",
       "    <tr>\n",
       "      <th>2018-03-11</th>\n",
       "      <td>False</td>\n",
       "      <td>False</td>\n",
       "      <td>False</td>\n",
       "      <td>False</td>\n",
       "      <td>False</td>\n",
       "      <td>False</td>\n",
       "    </tr>\n",
       "    <tr>\n",
       "      <th>2018-03-12</th>\n",
       "      <td>False</td>\n",
       "      <td>False</td>\n",
       "      <td>False</td>\n",
       "      <td>False</td>\n",
       "      <td>False</td>\n",
       "      <td>False</td>\n",
       "    </tr>\n",
       "    <tr>\n",
       "      <th>2018-03-13</th>\n",
       "      <td>False</td>\n",
       "      <td>False</td>\n",
       "      <td>False</td>\n",
       "      <td>False</td>\n",
       "      <td>False</td>\n",
       "      <td>False</td>\n",
       "    </tr>\n",
       "    <tr>\n",
       "      <th>2018-03-14</th>\n",
       "      <td>False</td>\n",
       "      <td>False</td>\n",
       "      <td>False</td>\n",
       "      <td>False</td>\n",
       "      <td>False</td>\n",
       "      <td>False</td>\n",
       "    </tr>\n",
       "    <tr>\n",
       "      <th>2018-03-15</th>\n",
       "      <td>False</td>\n",
       "      <td>False</td>\n",
       "      <td>False</td>\n",
       "      <td>False</td>\n",
       "      <td>False</td>\n",
       "      <td>False</td>\n",
       "    </tr>\n",
       "    <tr>\n",
       "      <th>2018-03-16</th>\n",
       "      <td>False</td>\n",
       "      <td>False</td>\n",
       "      <td>False</td>\n",
       "      <td>False</td>\n",
       "      <td>False</td>\n",
       "      <td>False</td>\n",
       "    </tr>\n",
       "    <tr>\n",
       "      <th>2018-03-17</th>\n",
       "      <td>False</td>\n",
       "      <td>False</td>\n",
       "      <td>False</td>\n",
       "      <td>False</td>\n",
       "      <td>False</td>\n",
       "      <td>False</td>\n",
       "    </tr>\n",
       "    <tr>\n",
       "      <th>2018-03-18</th>\n",
       "      <td>False</td>\n",
       "      <td>False</td>\n",
       "      <td>False</td>\n",
       "      <td>False</td>\n",
       "      <td>False</td>\n",
       "      <td>False</td>\n",
       "    </tr>\n",
       "    <tr>\n",
       "      <th>2018-03-19</th>\n",
       "      <td>False</td>\n",
       "      <td>False</td>\n",
       "      <td>False</td>\n",
       "      <td>False</td>\n",
       "      <td>False</td>\n",
       "      <td>False</td>\n",
       "    </tr>\n",
       "    <tr>\n",
       "      <th>2018-03-20</th>\n",
       "      <td>False</td>\n",
       "      <td>False</td>\n",
       "      <td>False</td>\n",
       "      <td>False</td>\n",
       "      <td>False</td>\n",
       "      <td>False</td>\n",
       "    </tr>\n",
       "    <tr>\n",
       "      <th>2018-03-21</th>\n",
       "      <td>False</td>\n",
       "      <td>False</td>\n",
       "      <td>False</td>\n",
       "      <td>False</td>\n",
       "      <td>False</td>\n",
       "      <td>False</td>\n",
       "    </tr>\n",
       "    <tr>\n",
       "      <th>2018-03-22</th>\n",
       "      <td>False</td>\n",
       "      <td>False</td>\n",
       "      <td>False</td>\n",
       "      <td>False</td>\n",
       "      <td>False</td>\n",
       "      <td>False</td>\n",
       "    </tr>\n",
       "    <tr>\n",
       "      <th>2018-03-23</th>\n",
       "      <td>False</td>\n",
       "      <td>False</td>\n",
       "      <td>False</td>\n",
       "      <td>False</td>\n",
       "      <td>False</td>\n",
       "      <td>False</td>\n",
       "    </tr>\n",
       "  </tbody>\n",
       "</table>\n",
       "</div>"
      ],
      "text/plain": [
       "                A      B      C      D      F      E\n",
       "2018-03-04  False  False  False  False   True  False\n",
       "2018-03-05  False  False  False  False  False  False\n",
       "2018-03-06  False  False  False  False  False  False\n",
       "2018-03-07  False  False  False  False  False  False\n",
       "2018-03-08  False  False  False  False  False  False\n",
       "2018-03-09  False  False  False  False  False  False\n",
       "2018-03-10  False  False  False  False  False  False\n",
       "2018-03-11  False  False  False  False  False  False\n",
       "2018-03-12  False  False  False  False  False  False\n",
       "2018-03-13  False  False  False  False  False  False\n",
       "2018-03-14  False  False  False  False  False  False\n",
       "2018-03-15  False  False  False  False  False  False\n",
       "2018-03-16  False  False  False  False  False  False\n",
       "2018-03-17  False  False  False  False  False  False\n",
       "2018-03-18  False  False  False  False  False  False\n",
       "2018-03-19  False  False  False  False  False  False\n",
       "2018-03-20  False  False  False  False  False  False\n",
       "2018-03-21  False  False  False  False  False  False\n",
       "2018-03-22  False  False  False  False  False  False\n",
       "2018-03-23  False  False  False  False  False  False"
      ]
     },
     "execution_count": 47,
     "metadata": {},
     "output_type": "execute_result"
    }
   ],
   "source": [
    "pd.isna(df)"
   ]
  },
  {
   "cell_type": "markdown",
   "metadata": {},
   "source": [
    "\n"
   ]
  },
  {
   "cell_type": "markdown",
   "metadata": {},
   "source": [
    "## Operations"
   ]
  },
  {
   "cell_type": "code",
   "execution_count": 48,
   "metadata": {},
   "outputs": [
    {
     "data": {
      "text/plain": [
       "A     0.175139\n",
       "B     0.090448\n",
       "C     0.044829\n",
       "D    -0.248372\n",
       "F    10.000000\n",
       "E    13.000000\n",
       "dtype: float64"
      ]
     },
     "execution_count": 48,
     "metadata": {},
     "output_type": "execute_result"
    }
   ],
   "source": [
    "df.mean()"
   ]
  },
  {
   "cell_type": "code",
   "execution_count": 49,
   "metadata": {},
   "outputs": [
    {
     "data": {
      "text/plain": [
       "2018-03-04    2.494996\n",
       "2018-03-05    1.802325\n",
       "2018-03-06    2.527817\n",
       "2018-03-07    3.015630\n",
       "2018-03-08    2.527183\n",
       "2018-03-09    3.205407\n",
       "2018-03-10    3.154335\n",
       "2018-03-11    3.290515\n",
       "2018-03-12    3.634092\n",
       "2018-03-13    3.260536\n",
       "2018-03-14    4.211228\n",
       "2018-03-15    3.730978\n",
       "2018-03-16    4.383219\n",
       "2018-03-17    4.397759\n",
       "2018-03-18    4.860980\n",
       "2018-03-19    4.507554\n",
       "2018-03-20    4.710600\n",
       "2018-03-21    5.118190\n",
       "2018-03-22    5.278702\n",
       "2018-03-23    5.510602\n",
       "Freq: D, dtype: float64"
      ]
     },
     "execution_count": 49,
     "metadata": {},
     "output_type": "execute_result"
    }
   ],
   "source": [
    "df.mean(1)"
   ]
  },
  {
   "cell_type": "code",
   "execution_count": 50,
   "metadata": {},
   "outputs": [
    {
     "data": {
      "text/plain": [
       "2018-03-04    1.0\n",
       "2018-03-05    3.0\n",
       "2018-03-06    5.0\n",
       "2018-03-07    NaN\n",
       "2018-03-08    6.0\n",
       "2018-03-09    8.0\n",
       "Freq: D, dtype: float64"
      ]
     },
     "execution_count": 50,
     "metadata": {},
     "output_type": "execute_result"
    }
   ],
   "source": [
    "pd.Series([1, 3, 5, np.nan, 6, 8], index=dates[:6])"
   ]
  },
  {
   "cell_type": "code",
   "execution_count": 51,
   "metadata": {},
   "outputs": [
    {
     "data": {
      "text/plain": [
       "2018-03-06    1.0\n",
       "2018-03-07    3.0\n",
       "2018-03-08    5.0\n",
       "2018-03-09    NaN\n",
       "2018-03-10    6.0\n",
       "2018-03-11    8.0\n",
       "Freq: D, dtype: float64"
      ]
     },
     "execution_count": 51,
     "metadata": {},
     "output_type": "execute_result"
    }
   ],
   "source": [
    "s = pd.Series([1, 3, 5, np.nan, 6, 8], index=dates[:6].shift(2))\n",
    "s"
   ]
  },
  {
   "cell_type": "code",
   "execution_count": 52,
   "metadata": {},
   "outputs": [
    {
     "data": {
      "text/html": [
       "<div>\n",
       "<style scoped>\n",
       "    .dataframe tbody tr th:only-of-type {\n",
       "        vertical-align: middle;\n",
       "    }\n",
       "\n",
       "    .dataframe tbody tr th {\n",
       "        vertical-align: top;\n",
       "    }\n",
       "\n",
       "    .dataframe thead th {\n",
       "        text-align: right;\n",
       "    }\n",
       "</style>\n",
       "<table border=\"1\" class=\"dataframe\">\n",
       "  <thead>\n",
       "    <tr style=\"text-align: right;\">\n",
       "      <th></th>\n",
       "      <th>A</th>\n",
       "      <th>B</th>\n",
       "      <th>C</th>\n",
       "      <th>D</th>\n",
       "      <th>F</th>\n",
       "      <th>E</th>\n",
       "    </tr>\n",
       "  </thead>\n",
       "  <tbody>\n",
       "    <tr>\n",
       "      <th>2018-03-06</th>\n",
       "      <td>-2.128480</td>\n",
       "      <td>-1.083697</td>\n",
       "      <td>-0.180668</td>\n",
       "      <td>-0.440252</td>\n",
       "      <td>1.0</td>\n",
       "      <td>12.0</td>\n",
       "    </tr>\n",
       "    <tr>\n",
       "      <th>2018-03-07</th>\n",
       "      <td>-2.303595</td>\n",
       "      <td>-2.783124</td>\n",
       "      <td>-2.565795</td>\n",
       "      <td>-2.253710</td>\n",
       "      <td>0.0</td>\n",
       "      <td>10.0</td>\n",
       "    </tr>\n",
       "    <tr>\n",
       "      <th>2018-03-08</th>\n",
       "      <td>-5.683227</td>\n",
       "      <td>-5.507309</td>\n",
       "      <td>-5.096254</td>\n",
       "      <td>-5.550115</td>\n",
       "      <td>-1.0</td>\n",
       "      <td>8.0</td>\n",
       "    </tr>\n",
       "    <tr>\n",
       "      <th>2018-03-10</th>\n",
       "      <td>-5.981672</td>\n",
       "      <td>-5.386418</td>\n",
       "      <td>-6.510919</td>\n",
       "      <td>-6.194982</td>\n",
       "      <td>0.0</td>\n",
       "      <td>7.0</td>\n",
       "    </tr>\n",
       "    <tr>\n",
       "      <th>2018-03-11</th>\n",
       "      <td>-6.803789</td>\n",
       "      <td>-7.435954</td>\n",
       "      <td>-9.408460</td>\n",
       "      <td>-8.608706</td>\n",
       "      <td>-1.0</td>\n",
       "      <td>5.0</td>\n",
       "    </tr>\n",
       "  </tbody>\n",
       "</table>\n",
       "</div>"
      ],
      "text/plain": [
       "                   A         B         C         D    F     E\n",
       "2018-03-06 -2.128480 -1.083697 -0.180668 -0.440252  1.0  12.0\n",
       "2018-03-07 -2.303595 -2.783124 -2.565795 -2.253710  0.0  10.0\n",
       "2018-03-08 -5.683227 -5.507309 -5.096254 -5.550115 -1.0   8.0\n",
       "2018-03-10 -5.981672 -5.386418 -6.510919 -6.194982  0.0   7.0\n",
       "2018-03-11 -6.803789 -7.435954 -9.408460 -8.608706 -1.0   5.0"
      ]
     },
     "execution_count": 52,
     "metadata": {},
     "output_type": "execute_result"
    }
   ],
   "source": [
    "df.sub(s, axis='index').dropna()"
   ]
  },
  {
   "cell_type": "markdown",
   "metadata": {},
   "source": [
    "\n"
   ]
  },
  {
   "cell_type": "markdown",
   "metadata": {},
   "source": [
    "## Apply"
   ]
  },
  {
   "cell_type": "code",
   "execution_count": 54,
   "metadata": {},
   "outputs": [
    {
     "data": {
      "text/html": [
       "<div>\n",
       "<style scoped>\n",
       "    .dataframe tbody tr th:only-of-type {\n",
       "        vertical-align: middle;\n",
       "    }\n",
       "\n",
       "    .dataframe tbody tr th {\n",
       "        vertical-align: top;\n",
       "    }\n",
       "\n",
       "    .dataframe thead th {\n",
       "        text-align: right;\n",
       "    }\n",
       "</style>\n",
       "<table border=\"1\" class=\"dataframe\">\n",
       "  <thead>\n",
       "    <tr style=\"text-align: right;\">\n",
       "      <th></th>\n",
       "      <th>A</th>\n",
       "      <th>B</th>\n",
       "      <th>C</th>\n",
       "      <th>D</th>\n",
       "      <th>F</th>\n",
       "      <th>E</th>\n",
       "    </tr>\n",
       "  </thead>\n",
       "  <tbody>\n",
       "    <tr>\n",
       "      <th>2018-03-04</th>\n",
       "      <td>1.341755</td>\n",
       "      <td>-0.102368</td>\n",
       "      <td>-0.098966</td>\n",
       "      <td>-1.665442</td>\n",
       "      <td>NaN</td>\n",
       "      <td>13</td>\n",
       "    </tr>\n",
       "    <tr>\n",
       "      <th>2018-03-05</th>\n",
       "      <td>-1.488785</td>\n",
       "      <td>0.859913</td>\n",
       "      <td>-2.444986</td>\n",
       "      <td>-0.112190</td>\n",
       "      <td>1.0</td>\n",
       "      <td>13</td>\n",
       "    </tr>\n",
       "    <tr>\n",
       "      <th>2018-03-06</th>\n",
       "      <td>-1.128480</td>\n",
       "      <td>-0.083697</td>\n",
       "      <td>0.819332</td>\n",
       "      <td>0.559748</td>\n",
       "      <td>2.0</td>\n",
       "      <td>13</td>\n",
       "    </tr>\n",
       "    <tr>\n",
       "      <th>2018-03-07</th>\n",
       "      <td>0.696405</td>\n",
       "      <td>0.216876</td>\n",
       "      <td>0.434205</td>\n",
       "      <td>0.746290</td>\n",
       "      <td>3.0</td>\n",
       "      <td>13</td>\n",
       "    </tr>\n",
       "    <tr>\n",
       "      <th>2018-03-08</th>\n",
       "      <td>-0.683227</td>\n",
       "      <td>-0.507309</td>\n",
       "      <td>-0.096254</td>\n",
       "      <td>-0.550115</td>\n",
       "      <td>4.0</td>\n",
       "      <td>13</td>\n",
       "    </tr>\n",
       "    <tr>\n",
       "      <th>2018-03-09</th>\n",
       "      <td>0.116714</td>\n",
       "      <td>0.708181</td>\n",
       "      <td>0.791406</td>\n",
       "      <td>-0.383858</td>\n",
       "      <td>5.0</td>\n",
       "      <td>13</td>\n",
       "    </tr>\n",
       "    <tr>\n",
       "      <th>2018-03-10</th>\n",
       "      <td>0.018328</td>\n",
       "      <td>0.613582</td>\n",
       "      <td>-0.510919</td>\n",
       "      <td>-0.194982</td>\n",
       "      <td>6.0</td>\n",
       "      <td>13</td>\n",
       "    </tr>\n",
       "    <tr>\n",
       "      <th>2018-03-11</th>\n",
       "      <td>1.196211</td>\n",
       "      <td>0.564046</td>\n",
       "      <td>-1.408460</td>\n",
       "      <td>-0.608706</td>\n",
       "      <td>7.0</td>\n",
       "      <td>13</td>\n",
       "    </tr>\n",
       "    <tr>\n",
       "      <th>2018-03-12</th>\n",
       "      <td>-1.067965</td>\n",
       "      <td>-0.185638</td>\n",
       "      <td>0.659850</td>\n",
       "      <td>1.398305</td>\n",
       "      <td>8.0</td>\n",
       "      <td>13</td>\n",
       "    </tr>\n",
       "    <tr>\n",
       "      <th>2018-03-13</th>\n",
       "      <td>-0.030167</td>\n",
       "      <td>-0.371161</td>\n",
       "      <td>0.606243</td>\n",
       "      <td>-2.641699</td>\n",
       "      <td>9.0</td>\n",
       "      <td>13</td>\n",
       "    </tr>\n",
       "  </tbody>\n",
       "</table>\n",
       "</div>"
      ],
      "text/plain": [
       "                   A         B         C         D    F   E\n",
       "2018-03-04  1.341755 -0.102368 -0.098966 -1.665442  NaN  13\n",
       "2018-03-05 -1.488785  0.859913 -2.444986 -0.112190  1.0  13\n",
       "2018-03-06 -1.128480 -0.083697  0.819332  0.559748  2.0  13\n",
       "2018-03-07  0.696405  0.216876  0.434205  0.746290  3.0  13\n",
       "2018-03-08 -0.683227 -0.507309 -0.096254 -0.550115  4.0  13\n",
       "2018-03-09  0.116714  0.708181  0.791406 -0.383858  5.0  13\n",
       "2018-03-10  0.018328  0.613582 -0.510919 -0.194982  6.0  13\n",
       "2018-03-11  1.196211  0.564046 -1.408460 -0.608706  7.0  13\n",
       "2018-03-12 -1.067965 -0.185638  0.659850  1.398305  8.0  13\n",
       "2018-03-13 -0.030167 -0.371161  0.606243 -2.641699  9.0  13"
      ]
     },
     "execution_count": 54,
     "metadata": {},
     "output_type": "execute_result"
    }
   ],
   "source": [
    "df.head(10)"
   ]
  },
  {
   "cell_type": "code",
   "execution_count": 56,
   "metadata": {},
   "outputs": [
    {
     "data": {
      "text/html": [
       "<div>\n",
       "<style scoped>\n",
       "    .dataframe tbody tr th:only-of-type {\n",
       "        vertical-align: middle;\n",
       "    }\n",
       "\n",
       "    .dataframe tbody tr th {\n",
       "        vertical-align: top;\n",
       "    }\n",
       "\n",
       "    .dataframe thead th {\n",
       "        text-align: right;\n",
       "    }\n",
       "</style>\n",
       "<table border=\"1\" class=\"dataframe\">\n",
       "  <thead>\n",
       "    <tr style=\"text-align: right;\">\n",
       "      <th></th>\n",
       "      <th>A</th>\n",
       "      <th>B</th>\n",
       "      <th>C</th>\n",
       "      <th>D</th>\n",
       "      <th>F</th>\n",
       "      <th>E</th>\n",
       "    </tr>\n",
       "  </thead>\n",
       "  <tbody>\n",
       "    <tr>\n",
       "      <th>2018-03-04</th>\n",
       "      <td>1.341755</td>\n",
       "      <td>-0.102368</td>\n",
       "      <td>-0.098966</td>\n",
       "      <td>-1.665442</td>\n",
       "      <td>NaN</td>\n",
       "      <td>13</td>\n",
       "    </tr>\n",
       "    <tr>\n",
       "      <th>2018-03-05</th>\n",
       "      <td>-0.147030</td>\n",
       "      <td>0.757545</td>\n",
       "      <td>-2.543952</td>\n",
       "      <td>-1.777632</td>\n",
       "      <td>1.0</td>\n",
       "      <td>26</td>\n",
       "    </tr>\n",
       "    <tr>\n",
       "      <th>2018-03-06</th>\n",
       "      <td>-1.275511</td>\n",
       "      <td>0.673849</td>\n",
       "      <td>-1.724620</td>\n",
       "      <td>-1.217883</td>\n",
       "      <td>3.0</td>\n",
       "      <td>39</td>\n",
       "    </tr>\n",
       "    <tr>\n",
       "      <th>2018-03-07</th>\n",
       "      <td>-0.579105</td>\n",
       "      <td>0.890725</td>\n",
       "      <td>-1.290415</td>\n",
       "      <td>-0.471593</td>\n",
       "      <td>6.0</td>\n",
       "      <td>52</td>\n",
       "    </tr>\n",
       "    <tr>\n",
       "      <th>2018-03-08</th>\n",
       "      <td>-1.262332</td>\n",
       "      <td>0.383416</td>\n",
       "      <td>-1.386669</td>\n",
       "      <td>-1.021708</td>\n",
       "      <td>10.0</td>\n",
       "      <td>65</td>\n",
       "    </tr>\n",
       "  </tbody>\n",
       "</table>\n",
       "</div>"
      ],
      "text/plain": [
       "                   A         B         C         D     F   E\n",
       "2018-03-04  1.341755 -0.102368 -0.098966 -1.665442   NaN  13\n",
       "2018-03-05 -0.147030  0.757545 -2.543952 -1.777632   1.0  26\n",
       "2018-03-06 -1.275511  0.673849 -1.724620 -1.217883   3.0  39\n",
       "2018-03-07 -0.579105  0.890725 -1.290415 -0.471593   6.0  52\n",
       "2018-03-08 -1.262332  0.383416 -1.386669 -1.021708  10.0  65"
      ]
     },
     "execution_count": 56,
     "metadata": {},
     "output_type": "execute_result"
    }
   ],
   "source": [
    "df.apply(np.cumsum).head()"
   ]
  },
  {
   "cell_type": "code",
   "execution_count": 57,
   "metadata": {},
   "outputs": [
    {
     "data": {
      "text/html": [
       "<div>\n",
       "<style scoped>\n",
       "    .dataframe tbody tr th:only-of-type {\n",
       "        vertical-align: middle;\n",
       "    }\n",
       "\n",
       "    .dataframe tbody tr th {\n",
       "        vertical-align: top;\n",
       "    }\n",
       "\n",
       "    .dataframe thead th {\n",
       "        text-align: right;\n",
       "    }\n",
       "</style>\n",
       "<table border=\"1\" class=\"dataframe\">\n",
       "  <thead>\n",
       "    <tr style=\"text-align: right;\">\n",
       "      <th></th>\n",
       "      <th>A</th>\n",
       "      <th>B</th>\n",
       "      <th>C</th>\n",
       "      <th>D</th>\n",
       "      <th>F</th>\n",
       "      <th>E</th>\n",
       "    </tr>\n",
       "  </thead>\n",
       "  <tbody>\n",
       "    <tr>\n",
       "      <th>0</th>\n",
       "      <td>1</td>\n",
       "      <td>1</td>\n",
       "      <td>1</td>\n",
       "      <td>1</td>\n",
       "      <td>1</td>\n",
       "      <td>1</td>\n",
       "    </tr>\n",
       "    <tr>\n",
       "      <th>1</th>\n",
       "      <td>2</td>\n",
       "      <td>2</td>\n",
       "      <td>2</td>\n",
       "      <td>2</td>\n",
       "      <td>2</td>\n",
       "      <td>2</td>\n",
       "    </tr>\n",
       "    <tr>\n",
       "      <th>2</th>\n",
       "      <td>3</td>\n",
       "      <td>3</td>\n",
       "      <td>3</td>\n",
       "      <td>3</td>\n",
       "      <td>3</td>\n",
       "      <td>3</td>\n",
       "    </tr>\n",
       "  </tbody>\n",
       "</table>\n",
       "</div>"
      ],
      "text/plain": [
       "   A  B  C  D  F  E\n",
       "0  1  1  1  1  1  1\n",
       "1  2  2  2  2  2  2\n",
       "2  3  3  3  3  3  3"
      ]
     },
     "execution_count": 57,
     "metadata": {},
     "output_type": "execute_result"
    }
   ],
   "source": [
    "def my_cumsum(col):\n",
    "    return pd.Series([1, 2, 3])\n",
    "\n",
    "df.apply(my_cumsum)"
   ]
  },
  {
   "cell_type": "code",
   "execution_count": null,
   "metadata": {},
   "outputs": [],
   "source": []
  },
  {
   "cell_type": "code",
   "execution_count": null,
   "metadata": {},
   "outputs": [],
   "source": []
  }
 ],
 "metadata": {
  "kernelspec": {
   "display_name": "Python 3",
   "language": "python",
   "name": "python3"
  },
  "language_info": {
   "codemirror_mode": {
    "name": "ipython",
    "version": 3
   },
   "file_extension": ".py",
   "mimetype": "text/x-python",
   "name": "python",
   "nbconvert_exporter": "python",
   "pygments_lexer": "ipython3",
   "version": "3.6.5"
  }
 },
 "nbformat": 4,
 "nbformat_minor": 2
}
