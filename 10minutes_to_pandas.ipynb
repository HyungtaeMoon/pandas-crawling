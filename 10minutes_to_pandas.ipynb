{
 "cells": [
  {
   "cell_type": "code",
   "execution_count": 1,
   "metadata": {},
   "outputs": [],
   "source": [
    "import pandas as pd\n",
    "import numpy as np"
   ]
  },
  {
   "cell_type": "markdown",
   "metadata": {},
   "source": [
    "### pandas 의 버전 확인"
   ]
  },
  {
   "cell_type": "markdown",
   "metadata": {},
   "source": [
    "참고자료:\n",
    "\n",
    "`10 minutes to pandas`, `askdjango`, `구글링`"
   ]
  },
  {
   "cell_type": "code",
   "execution_count": 2,
   "metadata": {},
   "outputs": [
    {
     "data": {
      "text/plain": [
       "'0.23.4'"
      ]
     },
     "execution_count": 2,
     "metadata": {},
     "output_type": "execute_result"
    }
   ],
   "source": [
    "pd.__version__"
   ]
  },
  {
   "cell_type": "markdown",
   "metadata": {},
   "source": [
    "\n"
   ]
  },
  {
   "cell_type": "markdown",
   "metadata": {},
   "source": [
    "# 10 Minutes to pandas 튜토리얼"
   ]
  },
  {
   "cell_type": "markdown",
   "metadata": {},
   "source": [
    "\n"
   ]
  },
  {
   "cell_type": "markdown",
   "metadata": {},
   "source": [
    "### EP1: Object creation(객체 생성)"
   ]
  },
  {
   "cell_type": "code",
   "execution_count": 3,
   "metadata": {},
   "outputs": [
    {
     "data": {
      "text/plain": [
       "0    1.0\n",
       "1    3.0\n",
       "2    5.0\n",
       "3    NaN\n",
       "4    6.0\n",
       "5    8.0\n",
       "dtype: float64"
      ]
     },
     "execution_count": 3,
     "metadata": {},
     "output_type": "execute_result"
    }
   ],
   "source": [
    "s = pd.Series([1,3,5,np.nan,6,8]) #NaN = Not a Number\n",
    "s"
   ]
  },
  {
   "cell_type": "markdown",
   "metadata": {},
   "source": [
    "\n"
   ]
  },
  {
   "cell_type": "markdown",
   "metadata": {},
   "source": [
    "### date_range 를 사용하여 날짜 생성"
   ]
  },
  {
   "cell_type": "code",
   "execution_count": 4,
   "metadata": {},
   "outputs": [
    {
     "data": {
      "text/plain": [
       "DatetimeIndex(['2018-03-04', '2018-03-05', '2018-03-06', '2018-03-07',\n",
       "               '2018-03-08', '2018-03-09', '2018-03-10', '2018-03-11',\n",
       "               '2018-03-12', '2018-03-13', '2018-03-14', '2018-03-15',\n",
       "               '2018-03-16', '2018-03-17', '2018-03-18', '2018-03-19',\n",
       "               '2018-03-20', '2018-03-21', '2018-03-22', '2018-03-23'],\n",
       "              dtype='datetime64[ns]', freq='D')"
      ]
     },
     "execution_count": 4,
     "metadata": {},
     "output_type": "execute_result"
    }
   ],
   "source": [
    "dates = pd.date_range('20180304', periods=20)\n",
    "dates"
   ]
  },
  {
   "cell_type": "markdown",
   "metadata": {},
   "source": [
    "\n"
   ]
  },
  {
   "cell_type": "markdown",
   "metadata": {},
   "source": [
    "### 임의의 배열(array) 를 생성"
   ]
  },
  {
   "cell_type": "code",
   "execution_count": 5,
   "metadata": {},
   "outputs": [
    {
     "data": {
      "text/plain": [
       "array([[-0.54524116,  1.27108154,  0.10397068,  2.11915519],\n",
       "       [ 0.6546215 , -1.10031777,  0.47330821, -0.10602901],\n",
       "       [-0.49365796,  0.10059236,  0.80886691, -0.18806568],\n",
       "       [-1.30293856,  0.13010594,  0.33089507, -1.6488051 ],\n",
       "       [-0.24668392, -0.84773237, -1.49251561,  0.33178638],\n",
       "       [-1.11067223, -0.95766677,  0.78459024,  0.8669871 ]])"
      ]
     },
     "execution_count": 5,
     "metadata": {},
     "output_type": "execute_result"
    }
   ],
   "source": [
    "np.random.randn(6,4) # 6행 4열의 2차원 랜덤한 array 를 생성"
   ]
  },
  {
   "cell_type": "markdown",
   "metadata": {},
   "source": [
    "### 임의로 생성한 배열을 데이터 프레임으로 생성"
   ]
  },
  {
   "cell_type": "code",
   "execution_count": 6,
   "metadata": {},
   "outputs": [
    {
     "data": {
      "text/html": [
       "<div>\n",
       "<style scoped>\n",
       "    .dataframe tbody tr th:only-of-type {\n",
       "        vertical-align: middle;\n",
       "    }\n",
       "\n",
       "    .dataframe tbody tr th {\n",
       "        vertical-align: top;\n",
       "    }\n",
       "\n",
       "    .dataframe thead th {\n",
       "        text-align: right;\n",
       "    }\n",
       "</style>\n",
       "<table border=\"1\" class=\"dataframe\">\n",
       "  <thead>\n",
       "    <tr style=\"text-align: right;\">\n",
       "      <th></th>\n",
       "      <th>0</th>\n",
       "      <th>1</th>\n",
       "      <th>2</th>\n",
       "      <th>3</th>\n",
       "    </tr>\n",
       "  </thead>\n",
       "  <tbody>\n",
       "    <tr>\n",
       "      <th>인덱스0</th>\n",
       "      <td>-1.457796</td>\n",
       "      <td>1.535562</td>\n",
       "      <td>-1.393730</td>\n",
       "      <td>-1.652597</td>\n",
       "    </tr>\n",
       "    <tr>\n",
       "      <th>인덱스1</th>\n",
       "      <td>0.379330</td>\n",
       "      <td>-0.329306</td>\n",
       "      <td>-0.241058</td>\n",
       "      <td>1.759611</td>\n",
       "    </tr>\n",
       "    <tr>\n",
       "      <th>인덱스2</th>\n",
       "      <td>1.337315</td>\n",
       "      <td>-0.431995</td>\n",
       "      <td>-0.766556</td>\n",
       "      <td>1.535007</td>\n",
       "    </tr>\n",
       "    <tr>\n",
       "      <th>인덱스3</th>\n",
       "      <td>-0.508428</td>\n",
       "      <td>-1.064694</td>\n",
       "      <td>-0.442117</td>\n",
       "      <td>0.594102</td>\n",
       "    </tr>\n",
       "    <tr>\n",
       "      <th>인덱스4</th>\n",
       "      <td>-0.952506</td>\n",
       "      <td>-0.289919</td>\n",
       "      <td>0.583938</td>\n",
       "      <td>-0.885277</td>\n",
       "    </tr>\n",
       "    <tr>\n",
       "      <th>인덱스5</th>\n",
       "      <td>0.790502</td>\n",
       "      <td>0.287908</td>\n",
       "      <td>0.917310</td>\n",
       "      <td>-0.706523</td>\n",
       "    </tr>\n",
       "  </tbody>\n",
       "</table>\n",
       "</div>"
      ],
      "text/plain": [
       "             0         1         2         3\n",
       "인덱스0 -1.457796  1.535562 -1.393730 -1.652597\n",
       "인덱스1  0.379330 -0.329306 -0.241058  1.759611\n",
       "인덱스2  1.337315 -0.431995 -0.766556  1.535007\n",
       "인덱스3 -0.508428 -1.064694 -0.442117  0.594102\n",
       "인덱스4 -0.952506 -0.289919  0.583938 -0.885277\n",
       "인덱스5  0.790502  0.287908  0.917310 -0.706523"
      ]
     },
     "execution_count": 6,
     "metadata": {},
     "output_type": "execute_result"
    }
   ],
   "source": [
    "# 2차원 데이터 구조인 DataFrame 으로 생성\n",
    "\n",
    "pd.DataFrame(np.random.randn(6, 4), index=['인덱스0', '인덱스1', '인덱스2', '인덱스3', '인덱스4', '인덱스5'])"
   ]
  },
  {
   "cell_type": "markdown",
   "metadata": {},
   "source": [
    "\n"
   ]
  },
  {
   "cell_type": "markdown",
   "metadata": {},
   "source": [
    "# 만약 위에서 생성한 dates를 index 로 넣게 된다면?"
   ]
  },
  {
   "cell_type": "markdown",
   "metadata": {},
   "source": [
    "\n"
   ]
  },
  {
   "cell_type": "markdown",
   "metadata": {},
   "source": [
    "행이 맞지 않기 때문에 `ValueError: Shape of passed values is (4, 6), indices imply (4, 20)` 오류가 발생\n"
   ]
  },
  {
   "cell_type": "markdown",
   "metadata": {},
   "source": [
    "\n"
   ]
  },
  {
   "cell_type": "markdown",
   "metadata": {},
   "source": [
    "### 꼭 values 의 길이를 일치해야 에러없이 데이터 테이블이 생성된다\n",
    "\n",
    "#### + 다른 사람들도 보기 편하도록 데이터 테이블을 만들면 아래와 같이 shape, head 를 넣어주자"
   ]
  },
  {
   "cell_type": "code",
   "execution_count": 7,
   "metadata": {},
   "outputs": [
    {
     "name": "stdout",
     "output_type": "stream",
     "text": [
      "(20, 4)\n"
     ]
    },
    {
     "data": {
      "text/html": [
       "<div>\n",
       "<style scoped>\n",
       "    .dataframe tbody tr th:only-of-type {\n",
       "        vertical-align: middle;\n",
       "    }\n",
       "\n",
       "    .dataframe tbody tr th {\n",
       "        vertical-align: top;\n",
       "    }\n",
       "\n",
       "    .dataframe thead th {\n",
       "        text-align: right;\n",
       "    }\n",
       "</style>\n",
       "<table border=\"1\" class=\"dataframe\">\n",
       "  <thead>\n",
       "    <tr style=\"text-align: right;\">\n",
       "      <th></th>\n",
       "      <th>A</th>\n",
       "      <th>B</th>\n",
       "      <th>C</th>\n",
       "      <th>D</th>\n",
       "    </tr>\n",
       "  </thead>\n",
       "  <tbody>\n",
       "    <tr>\n",
       "      <th>2018-03-04</th>\n",
       "      <td>-0.111416</td>\n",
       "      <td>0.982670</td>\n",
       "      <td>1.099774</td>\n",
       "      <td>-1.971252</td>\n",
       "    </tr>\n",
       "    <tr>\n",
       "      <th>2018-03-05</th>\n",
       "      <td>0.710864</td>\n",
       "      <td>0.720855</td>\n",
       "      <td>-1.294882</td>\n",
       "      <td>-1.117494</td>\n",
       "    </tr>\n",
       "    <tr>\n",
       "      <th>2018-03-06</th>\n",
       "      <td>0.964254</td>\n",
       "      <td>0.167364</td>\n",
       "      <td>-0.332012</td>\n",
       "      <td>0.696122</td>\n",
       "    </tr>\n",
       "    <tr>\n",
       "      <th>2018-03-07</th>\n",
       "      <td>0.324560</td>\n",
       "      <td>-0.544726</td>\n",
       "      <td>-1.065665</td>\n",
       "      <td>-0.467353</td>\n",
       "    </tr>\n",
       "    <tr>\n",
       "      <th>2018-03-08</th>\n",
       "      <td>0.468820</td>\n",
       "      <td>-1.599092</td>\n",
       "      <td>1.657712</td>\n",
       "      <td>-1.276103</td>\n",
       "    </tr>\n",
       "  </tbody>\n",
       "</table>\n",
       "</div>"
      ],
      "text/plain": [
       "                   A         B         C         D\n",
       "2018-03-04 -0.111416  0.982670  1.099774 -1.971252\n",
       "2018-03-05  0.710864  0.720855 -1.294882 -1.117494\n",
       "2018-03-06  0.964254  0.167364 -0.332012  0.696122\n",
       "2018-03-07  0.324560 -0.544726 -1.065665 -0.467353\n",
       "2018-03-08  0.468820 -1.599092  1.657712 -1.276103"
      ]
     },
     "execution_count": 7,
     "metadata": {},
     "output_type": "execute_result"
    }
   ],
   "source": [
    "df = pd.DataFrame(np.random.randn(20, 4), index=dates, columns=['A','B','C','D'])\n",
    "\n",
    "print(df.shape)\n",
    "df.head()"
   ]
  },
  {
   "cell_type": "markdown",
   "metadata": {},
   "source": [
    "\n"
   ]
  },
  {
   "cell_type": "markdown",
   "metadata": {},
   "source": [
    "\n"
   ]
  },
  {
   "cell_type": "markdown",
   "metadata": {},
   "source": [
    "### 직렬로 변환할 수 있는 object 를 전달하여 DataFrame 생성하기"
   ]
  },
  {
   "cell_type": "code",
   "execution_count": 8,
   "metadata": {},
   "outputs": [
    {
     "name": "stdout",
     "output_type": "stream",
     "text": [
      "(4, 6)\n"
     ]
    },
    {
     "data": {
      "text/html": [
       "<div>\n",
       "<style scoped>\n",
       "    .dataframe tbody tr th:only-of-type {\n",
       "        vertical-align: middle;\n",
       "    }\n",
       "\n",
       "    .dataframe tbody tr th {\n",
       "        vertical-align: top;\n",
       "    }\n",
       "\n",
       "    .dataframe thead th {\n",
       "        text-align: right;\n",
       "    }\n",
       "</style>\n",
       "<table border=\"1\" class=\"dataframe\">\n",
       "  <thead>\n",
       "    <tr style=\"text-align: right;\">\n",
       "      <th></th>\n",
       "      <th>A</th>\n",
       "      <th>B</th>\n",
       "      <th>C</th>\n",
       "      <th>D</th>\n",
       "      <th>E</th>\n",
       "      <th>F</th>\n",
       "    </tr>\n",
       "  </thead>\n",
       "  <tbody>\n",
       "    <tr>\n",
       "      <th>0</th>\n",
       "      <td>1.0</td>\n",
       "      <td>2013-01-02</td>\n",
       "      <td>1.0</td>\n",
       "      <td>3</td>\n",
       "      <td>test</td>\n",
       "      <td>foo</td>\n",
       "    </tr>\n",
       "    <tr>\n",
       "      <th>1</th>\n",
       "      <td>1.0</td>\n",
       "      <td>2013-01-02</td>\n",
       "      <td>1.0</td>\n",
       "      <td>3</td>\n",
       "      <td>train</td>\n",
       "      <td>foo</td>\n",
       "    </tr>\n",
       "    <tr>\n",
       "      <th>2</th>\n",
       "      <td>1.0</td>\n",
       "      <td>2013-01-02</td>\n",
       "      <td>1.0</td>\n",
       "      <td>3</td>\n",
       "      <td>test</td>\n",
       "      <td>foo</td>\n",
       "    </tr>\n",
       "    <tr>\n",
       "      <th>3</th>\n",
       "      <td>1.0</td>\n",
       "      <td>2013-01-02</td>\n",
       "      <td>1.0</td>\n",
       "      <td>3</td>\n",
       "      <td>train</td>\n",
       "      <td>foo</td>\n",
       "    </tr>\n",
       "  </tbody>\n",
       "</table>\n",
       "</div>"
      ],
      "text/plain": [
       "     A          B    C  D      E    F\n",
       "0  1.0 2013-01-02  1.0  3   test  foo\n",
       "1  1.0 2013-01-02  1.0  3  train  foo\n",
       "2  1.0 2013-01-02  1.0  3   test  foo\n",
       "3  1.0 2013-01-02  1.0  3  train  foo"
      ]
     },
     "execution_count": 8,
     "metadata": {},
     "output_type": "execute_result"
    }
   ],
   "source": [
    "df2 = pd.DataFrame({ 'A' : 1.,\n",
    "                    'B' : pd.Timestamp('20130102'),\n",
    "                    'C' : pd.Series(1,index=list(range(4)),dtype='float32'),\n",
    "                    'D' : np.array([3] * 4,dtype='int32'),\n",
    "                    'E' : pd.Categorical([\"test\",\"train\",\"test\",\"train\"]),\n",
    "                    'F' : 'foo' })\n",
    "print(df2.shape)\n",
    "df2"
   ]
  },
  {
   "cell_type": "code",
   "execution_count": 9,
   "metadata": {},
   "outputs": [
    {
     "data": {
      "text/plain": [
       "A           float64\n",
       "B    datetime64[ns]\n",
       "C           float32\n",
       "D             int32\n",
       "E          category\n",
       "F            object\n",
       "dtype: object"
      ]
     },
     "execution_count": 9,
     "metadata": {},
     "output_type": "execute_result"
    }
   ],
   "source": [
    "df2.dtypes # 스마트하게 각 인덱스의 데이터타입을 출력해준다"
   ]
  },
  {
   "cell_type": "markdown",
   "metadata": {},
   "source": [
    "\n",
    "\n"
   ]
  },
  {
   "cell_type": "markdown",
   "metadata": {},
   "source": [
    "\n"
   ]
  },
  {
   "cell_type": "markdown",
   "metadata": {},
   "source": [
    "## EP2: Viewing Data\n",
    "\n",
    "----------------------\n",
    "\n",
    "Data의 값을 찾고 해당 데이터의 변경을 해본다"
   ]
  },
  {
   "cell_type": "markdown",
   "metadata": {},
   "source": [
    "```\n",
    "|        | columns1 | columns2 | columns3 | columns4 |\n",
    "|--------|----------|----------|----------|----------|\n",
    "| index1 |          |          |          |          |\n",
    "| index2 |          |          |          |          |\n",
    "| index3 |          |          |          |          |\n",
    "```"
   ]
  },
  {
   "cell_type": "markdown",
   "metadata": {},
   "source": [
    "\n"
   ]
  },
  {
   "cell_type": "markdown",
   "metadata": {},
   "source": [
    "### index 값 찾기"
   ]
  },
  {
   "cell_type": "code",
   "execution_count": 10,
   "metadata": {},
   "outputs": [
    {
     "data": {
      "text/plain": [
       "DatetimeIndex(['2018-03-04', '2018-03-05', '2018-03-06', '2018-03-07',\n",
       "               '2018-03-08', '2018-03-09', '2018-03-10', '2018-03-11',\n",
       "               '2018-03-12', '2018-03-13', '2018-03-14', '2018-03-15',\n",
       "               '2018-03-16', '2018-03-17', '2018-03-18', '2018-03-19',\n",
       "               '2018-03-20', '2018-03-21', '2018-03-22', '2018-03-23'],\n",
       "              dtype='datetime64[ns]', freq='D')"
      ]
     },
     "execution_count": 10,
     "metadata": {},
     "output_type": "execute_result"
    }
   ],
   "source": [
    "df.index"
   ]
  },
  {
   "cell_type": "markdown",
   "metadata": {},
   "source": [
    "\n"
   ]
  },
  {
   "cell_type": "markdown",
   "metadata": {},
   "source": [
    "### 데이터의 columns 의 값 찾기/변경하기"
   ]
  },
  {
   "cell_type": "code",
   "execution_count": 11,
   "metadata": {},
   "outputs": [
    {
     "data": {
      "text/plain": [
       "Index(['A', 'B', 'C', 'D'], dtype='object')"
      ]
     },
     "execution_count": 11,
     "metadata": {},
     "output_type": "execute_result"
    }
   ],
   "source": [
    "df.columns"
   ]
  },
  {
   "cell_type": "code",
   "execution_count": 12,
   "metadata": {},
   "outputs": [],
   "source": [
    "df.columns = ['AA', 'BB', 'CC', 'DD']"
   ]
  },
  {
   "cell_type": "markdown",
   "metadata": {},
   "source": [
    "\n"
   ]
  },
  {
   "cell_type": "markdown",
   "metadata": {},
   "source": [
    "### DataFrame의 요약 정보를 알아보기"
   ]
  },
  {
   "cell_type": "code",
   "execution_count": 13,
   "metadata": {},
   "outputs": [
    {
     "data": {
      "text/html": [
       "<div>\n",
       "<style scoped>\n",
       "    .dataframe tbody tr th:only-of-type {\n",
       "        vertical-align: middle;\n",
       "    }\n",
       "\n",
       "    .dataframe tbody tr th {\n",
       "        vertical-align: top;\n",
       "    }\n",
       "\n",
       "    .dataframe thead th {\n",
       "        text-align: right;\n",
       "    }\n",
       "</style>\n",
       "<table border=\"1\" class=\"dataframe\">\n",
       "  <thead>\n",
       "    <tr style=\"text-align: right;\">\n",
       "      <th></th>\n",
       "      <th>AA</th>\n",
       "      <th>BB</th>\n",
       "      <th>CC</th>\n",
       "      <th>DD</th>\n",
       "    </tr>\n",
       "  </thead>\n",
       "  <tbody>\n",
       "    <tr>\n",
       "      <th>count</th>\n",
       "      <td>20.000000</td>\n",
       "      <td>20.000000</td>\n",
       "      <td>20.000000</td>\n",
       "      <td>20.000000</td>\n",
       "    </tr>\n",
       "    <tr>\n",
       "      <th>mean</th>\n",
       "      <td>0.016760</td>\n",
       "      <td>0.038429</td>\n",
       "      <td>-0.029962</td>\n",
       "      <td>0.070371</td>\n",
       "    </tr>\n",
       "    <tr>\n",
       "      <th>std</th>\n",
       "      <td>0.756162</td>\n",
       "      <td>1.063686</td>\n",
       "      <td>1.116231</td>\n",
       "      <td>1.188271</td>\n",
       "    </tr>\n",
       "    <tr>\n",
       "      <th>min</th>\n",
       "      <td>-1.450708</td>\n",
       "      <td>-1.911083</td>\n",
       "      <td>-2.228759</td>\n",
       "      <td>-1.971252</td>\n",
       "    </tr>\n",
       "    <tr>\n",
       "      <th>25%</th>\n",
       "      <td>-0.412660</td>\n",
       "      <td>-0.555892</td>\n",
       "      <td>-0.879199</td>\n",
       "      <td>-0.989334</td>\n",
       "    </tr>\n",
       "    <tr>\n",
       "      <th>50%</th>\n",
       "      <td>-0.131387</td>\n",
       "      <td>0.273926</td>\n",
       "      <td>0.155387</td>\n",
       "      <td>0.162989</td>\n",
       "    </tr>\n",
       "    <tr>\n",
       "      <th>75%</th>\n",
       "      <td>0.426251</td>\n",
       "      <td>0.511562</td>\n",
       "      <td>0.804518</td>\n",
       "      <td>1.068991</td>\n",
       "    </tr>\n",
       "    <tr>\n",
       "      <th>max</th>\n",
       "      <td>1.640194</td>\n",
       "      <td>1.920155</td>\n",
       "      <td>1.657712</td>\n",
       "      <td>1.969327</td>\n",
       "    </tr>\n",
       "  </tbody>\n",
       "</table>\n",
       "</div>"
      ],
      "text/plain": [
       "              AA         BB         CC         DD\n",
       "count  20.000000  20.000000  20.000000  20.000000\n",
       "mean    0.016760   0.038429  -0.029962   0.070371\n",
       "std     0.756162   1.063686   1.116231   1.188271\n",
       "min    -1.450708  -1.911083  -2.228759  -1.971252\n",
       "25%    -0.412660  -0.555892  -0.879199  -0.989334\n",
       "50%    -0.131387   0.273926   0.155387   0.162989\n",
       "75%     0.426251   0.511562   0.804518   1.068991\n",
       "max     1.640194   1.920155   1.657712   1.969327"
      ]
     },
     "execution_count": 13,
     "metadata": {},
     "output_type": "execute_result"
    }
   ],
   "source": [
    "df.describe()"
   ]
  },
  {
   "cell_type": "markdown",
   "metadata": {},
   "source": [
    "\n"
   ]
  },
  {
   "cell_type": "markdown",
   "metadata": {},
   "source": [
    "### index 와 column 을 바꿔주는 `.T`"
   ]
  },
  {
   "cell_type": "code",
   "execution_count": 14,
   "metadata": {},
   "outputs": [
    {
     "data": {
      "text/html": [
       "<div>\n",
       "<style scoped>\n",
       "    .dataframe tbody tr th:only-of-type {\n",
       "        vertical-align: middle;\n",
       "    }\n",
       "\n",
       "    .dataframe tbody tr th {\n",
       "        vertical-align: top;\n",
       "    }\n",
       "\n",
       "    .dataframe thead th {\n",
       "        text-align: right;\n",
       "    }\n",
       "</style>\n",
       "<table border=\"1\" class=\"dataframe\">\n",
       "  <thead>\n",
       "    <tr style=\"text-align: right;\">\n",
       "      <th></th>\n",
       "      <th>2018-03-04 00:00:00</th>\n",
       "      <th>2018-03-05 00:00:00</th>\n",
       "      <th>2018-03-06 00:00:00</th>\n",
       "      <th>2018-03-07 00:00:00</th>\n",
       "      <th>2018-03-08 00:00:00</th>\n",
       "      <th>2018-03-09 00:00:00</th>\n",
       "      <th>2018-03-10 00:00:00</th>\n",
       "      <th>2018-03-11 00:00:00</th>\n",
       "      <th>2018-03-12 00:00:00</th>\n",
       "      <th>2018-03-13 00:00:00</th>\n",
       "      <th>2018-03-14 00:00:00</th>\n",
       "      <th>2018-03-15 00:00:00</th>\n",
       "      <th>2018-03-16 00:00:00</th>\n",
       "      <th>2018-03-17 00:00:00</th>\n",
       "      <th>2018-03-18 00:00:00</th>\n",
       "      <th>2018-03-19 00:00:00</th>\n",
       "      <th>2018-03-20 00:00:00</th>\n",
       "      <th>2018-03-21 00:00:00</th>\n",
       "      <th>2018-03-22 00:00:00</th>\n",
       "      <th>2018-03-23 00:00:00</th>\n",
       "    </tr>\n",
       "  </thead>\n",
       "  <tbody>\n",
       "    <tr>\n",
       "      <th>AA</th>\n",
       "      <td>-0.111416</td>\n",
       "      <td>0.710864</td>\n",
       "      <td>0.964254</td>\n",
       "      <td>0.324560</td>\n",
       "      <td>0.468820</td>\n",
       "      <td>-0.189765</td>\n",
       "      <td>-0.684227</td>\n",
       "      <td>1.640194</td>\n",
       "      <td>-0.322137</td>\n",
       "      <td>-0.086360</td>\n",
       "      <td>-0.191816</td>\n",
       "      <td>-0.173712</td>\n",
       "      <td>1.342993</td>\n",
       "      <td>-0.151358</td>\n",
       "      <td>0.036859</td>\n",
       "      <td>0.412061</td>\n",
       "      <td>-0.708502</td>\n",
       "      <td>-0.777987</td>\n",
       "      <td>-1.450708</td>\n",
       "      <td>-0.717418</td>\n",
       "    </tr>\n",
       "    <tr>\n",
       "      <th>BB</th>\n",
       "      <td>0.982670</td>\n",
       "      <td>0.720855</td>\n",
       "      <td>0.167364</td>\n",
       "      <td>-0.544726</td>\n",
       "      <td>-1.599092</td>\n",
       "      <td>0.312118</td>\n",
       "      <td>-1.863847</td>\n",
       "      <td>0.044395</td>\n",
       "      <td>-1.246787</td>\n",
       "      <td>0.081511</td>\n",
       "      <td>1.028748</td>\n",
       "      <td>0.301855</td>\n",
       "      <td>0.318543</td>\n",
       "      <td>-1.911083</td>\n",
       "      <td>-0.589389</td>\n",
       "      <td>0.441797</td>\n",
       "      <td>0.249315</td>\n",
       "      <td>1.920155</td>\n",
       "      <td>1.655633</td>\n",
       "      <td>0.298537</td>\n",
       "    </tr>\n",
       "    <tr>\n",
       "      <th>CC</th>\n",
       "      <td>1.099774</td>\n",
       "      <td>-1.294882</td>\n",
       "      <td>-0.332012</td>\n",
       "      <td>-1.065665</td>\n",
       "      <td>1.657712</td>\n",
       "      <td>0.526358</td>\n",
       "      <td>0.795735</td>\n",
       "      <td>0.701436</td>\n",
       "      <td>-0.633855</td>\n",
       "      <td>0.167596</td>\n",
       "      <td>0.830868</td>\n",
       "      <td>-0.817043</td>\n",
       "      <td>-1.647794</td>\n",
       "      <td>1.376948</td>\n",
       "      <td>-1.479406</td>\n",
       "      <td>0.030550</td>\n",
       "      <td>0.237221</td>\n",
       "      <td>0.143178</td>\n",
       "      <td>-2.228759</td>\n",
       "      <td>1.332800</td>\n",
       "    </tr>\n",
       "    <tr>\n",
       "      <th>DD</th>\n",
       "      <td>-1.971252</td>\n",
       "      <td>-1.117494</td>\n",
       "      <td>0.696122</td>\n",
       "      <td>-0.467353</td>\n",
       "      <td>-1.276103</td>\n",
       "      <td>-1.783141</td>\n",
       "      <td>1.029790</td>\n",
       "      <td>0.298313</td>\n",
       "      <td>0.259672</td>\n",
       "      <td>0.004880</td>\n",
       "      <td>0.670017</td>\n",
       "      <td>1.186591</td>\n",
       "      <td>-0.593016</td>\n",
       "      <td>-0.946632</td>\n",
       "      <td>1.274970</td>\n",
       "      <td>1.557150</td>\n",
       "      <td>0.066305</td>\n",
       "      <td>-1.117439</td>\n",
       "      <td>1.969327</td>\n",
       "      <td>1.666714</td>\n",
       "    </tr>\n",
       "  </tbody>\n",
       "</table>\n",
       "</div>"
      ],
      "text/plain": [
       "    2018-03-04  2018-03-05  2018-03-06  2018-03-07  2018-03-08  2018-03-09  \\\n",
       "AA   -0.111416    0.710864    0.964254    0.324560    0.468820   -0.189765   \n",
       "BB    0.982670    0.720855    0.167364   -0.544726   -1.599092    0.312118   \n",
       "CC    1.099774   -1.294882   -0.332012   -1.065665    1.657712    0.526358   \n",
       "DD   -1.971252   -1.117494    0.696122   -0.467353   -1.276103   -1.783141   \n",
       "\n",
       "    2018-03-10  2018-03-11  2018-03-12  2018-03-13  2018-03-14  2018-03-15  \\\n",
       "AA   -0.684227    1.640194   -0.322137   -0.086360   -0.191816   -0.173712   \n",
       "BB   -1.863847    0.044395   -1.246787    0.081511    1.028748    0.301855   \n",
       "CC    0.795735    0.701436   -0.633855    0.167596    0.830868   -0.817043   \n",
       "DD    1.029790    0.298313    0.259672    0.004880    0.670017    1.186591   \n",
       "\n",
       "    2018-03-16  2018-03-17  2018-03-18  2018-03-19  2018-03-20  2018-03-21  \\\n",
       "AA    1.342993   -0.151358    0.036859    0.412061   -0.708502   -0.777987   \n",
       "BB    0.318543   -1.911083   -0.589389    0.441797    0.249315    1.920155   \n",
       "CC   -1.647794    1.376948   -1.479406    0.030550    0.237221    0.143178   \n",
       "DD   -0.593016   -0.946632    1.274970    1.557150    0.066305   -1.117439   \n",
       "\n",
       "    2018-03-22  2018-03-23  \n",
       "AA   -1.450708   -0.717418  \n",
       "BB    1.655633    0.298537  \n",
       "CC   -2.228759    1.332800  \n",
       "DD    1.969327    1.666714  "
      ]
     },
     "execution_count": 14,
     "metadata": {},
     "output_type": "execute_result"
    }
   ],
   "source": [
    "df.T"
   ]
  },
  {
   "cell_type": "markdown",
   "metadata": {},
   "source": [
    "### 원하는 index 기준으로 다시 정렬하기"
   ]
  },
  {
   "cell_type": "code",
   "execution_count": 15,
   "metadata": {},
   "outputs": [
    {
     "data": {
      "text/html": [
       "<div>\n",
       "<style scoped>\n",
       "    .dataframe tbody tr th:only-of-type {\n",
       "        vertical-align: middle;\n",
       "    }\n",
       "\n",
       "    .dataframe tbody tr th {\n",
       "        vertical-align: top;\n",
       "    }\n",
       "\n",
       "    .dataframe thead th {\n",
       "        text-align: right;\n",
       "    }\n",
       "</style>\n",
       "<table border=\"1\" class=\"dataframe\">\n",
       "  <thead>\n",
       "    <tr style=\"text-align: right;\">\n",
       "      <th></th>\n",
       "      <th>AA</th>\n",
       "      <th>BB</th>\n",
       "      <th>CC</th>\n",
       "      <th>DD</th>\n",
       "    </tr>\n",
       "  </thead>\n",
       "  <tbody>\n",
       "    <tr>\n",
       "      <th>2018-03-23</th>\n",
       "      <td>-0.717418</td>\n",
       "      <td>0.298537</td>\n",
       "      <td>1.332800</td>\n",
       "      <td>1.666714</td>\n",
       "    </tr>\n",
       "    <tr>\n",
       "      <th>2018-03-22</th>\n",
       "      <td>-1.450708</td>\n",
       "      <td>1.655633</td>\n",
       "      <td>-2.228759</td>\n",
       "      <td>1.969327</td>\n",
       "    </tr>\n",
       "    <tr>\n",
       "      <th>2018-03-21</th>\n",
       "      <td>-0.777987</td>\n",
       "      <td>1.920155</td>\n",
       "      <td>0.143178</td>\n",
       "      <td>-1.117439</td>\n",
       "    </tr>\n",
       "    <tr>\n",
       "      <th>2018-03-20</th>\n",
       "      <td>-0.708502</td>\n",
       "      <td>0.249315</td>\n",
       "      <td>0.237221</td>\n",
       "      <td>0.066305</td>\n",
       "    </tr>\n",
       "    <tr>\n",
       "      <th>2018-03-19</th>\n",
       "      <td>0.412061</td>\n",
       "      <td>0.441797</td>\n",
       "      <td>0.030550</td>\n",
       "      <td>1.557150</td>\n",
       "    </tr>\n",
       "  </tbody>\n",
       "</table>\n",
       "</div>"
      ],
      "text/plain": [
       "                  AA        BB        CC        DD\n",
       "2018-03-23 -0.717418  0.298537  1.332800  1.666714\n",
       "2018-03-22 -1.450708  1.655633 -2.228759  1.969327\n",
       "2018-03-21 -0.777987  1.920155  0.143178 -1.117439\n",
       "2018-03-20 -0.708502  0.249315  0.237221  0.066305\n",
       "2018-03-19  0.412061  0.441797  0.030550  1.557150"
      ]
     },
     "execution_count": 15,
     "metadata": {},
     "output_type": "execute_result"
    }
   ],
   "source": [
    "df.sort_index(ascending=False).head()"
   ]
  },
  {
   "cell_type": "markdown",
   "metadata": {},
   "source": [
    "\n"
   ]
  },
  {
   "cell_type": "markdown",
   "metadata": {},
   "source": [
    "### 특정 column을 기준으로 정렬하기\n",
    "\n",
    "df.sort_values('<기준이 되는 column>')"
   ]
  },
  {
   "cell_type": "code",
   "execution_count": 16,
   "metadata": {},
   "outputs": [
    {
     "data": {
      "text/html": [
       "<div>\n",
       "<style scoped>\n",
       "    .dataframe tbody tr th:only-of-type {\n",
       "        vertical-align: middle;\n",
       "    }\n",
       "\n",
       "    .dataframe tbody tr th {\n",
       "        vertical-align: top;\n",
       "    }\n",
       "\n",
       "    .dataframe thead th {\n",
       "        text-align: right;\n",
       "    }\n",
       "</style>\n",
       "<table border=\"1\" class=\"dataframe\">\n",
       "  <thead>\n",
       "    <tr style=\"text-align: right;\">\n",
       "      <th></th>\n",
       "      <th>AA</th>\n",
       "      <th>BB</th>\n",
       "      <th>CC</th>\n",
       "      <th>DD</th>\n",
       "    </tr>\n",
       "  </thead>\n",
       "  <tbody>\n",
       "    <tr>\n",
       "      <th>2018-03-22</th>\n",
       "      <td>-1.450708</td>\n",
       "      <td>1.655633</td>\n",
       "      <td>-2.228759</td>\n",
       "      <td>1.969327</td>\n",
       "    </tr>\n",
       "    <tr>\n",
       "      <th>2018-03-16</th>\n",
       "      <td>1.342993</td>\n",
       "      <td>0.318543</td>\n",
       "      <td>-1.647794</td>\n",
       "      <td>-0.593016</td>\n",
       "    </tr>\n",
       "    <tr>\n",
       "      <th>2018-03-18</th>\n",
       "      <td>0.036859</td>\n",
       "      <td>-0.589389</td>\n",
       "      <td>-1.479406</td>\n",
       "      <td>1.274970</td>\n",
       "    </tr>\n",
       "    <tr>\n",
       "      <th>2018-03-05</th>\n",
       "      <td>0.710864</td>\n",
       "      <td>0.720855</td>\n",
       "      <td>-1.294882</td>\n",
       "      <td>-1.117494</td>\n",
       "    </tr>\n",
       "    <tr>\n",
       "      <th>2018-03-07</th>\n",
       "      <td>0.324560</td>\n",
       "      <td>-0.544726</td>\n",
       "      <td>-1.065665</td>\n",
       "      <td>-0.467353</td>\n",
       "    </tr>\n",
       "  </tbody>\n",
       "</table>\n",
       "</div>"
      ],
      "text/plain": [
       "                  AA        BB        CC        DD\n",
       "2018-03-22 -1.450708  1.655633 -2.228759  1.969327\n",
       "2018-03-16  1.342993  0.318543 -1.647794 -0.593016\n",
       "2018-03-18  0.036859 -0.589389 -1.479406  1.274970\n",
       "2018-03-05  0.710864  0.720855 -1.294882 -1.117494\n",
       "2018-03-07  0.324560 -0.544726 -1.065665 -0.467353"
      ]
     },
     "execution_count": 16,
     "metadata": {},
     "output_type": "execute_result"
    }
   ],
   "source": [
    "df.sort_values('CC').head()"
   ]
  },
  {
   "cell_type": "markdown",
   "metadata": {},
   "source": [
    "\n"
   ]
  },
  {
   "cell_type": "markdown",
   "metadata": {},
   "source": [
    "\n",
    "\n"
   ]
  },
  {
   "cell_type": "markdown",
   "metadata": {},
   "source": [
    "## EP3: Selection"
   ]
  },
  {
   "cell_type": "markdown",
   "metadata": {},
   "source": [
    "특정 Column 을 선택해서 데이터를 확인\n",
    "\n",
    "2가지 방법은 모두 동일한 결과값을 가지지만 `Column명이 \"D-D\" ` 와 같은 경우에는 마이너스(-) _연산자로 인식하여 (데이터 - 데이터)로 계산을 한다_"
   ]
  },
  {
   "cell_type": "code",
   "execution_count": 17,
   "metadata": {},
   "outputs": [
    {
     "data": {
      "text/plain": [
       "2018-03-04   -1.971252\n",
       "2018-03-05   -1.117494\n",
       "2018-03-06    0.696122\n",
       "Freq: D, Name: DD, dtype: float64"
      ]
     },
     "execution_count": 17,
     "metadata": {},
     "output_type": "execute_result"
    }
   ],
   "source": [
    "df['DD'].head(3) # DataFrame 'DD'의 데이터 가져오기(1)"
   ]
  },
  {
   "cell_type": "code",
   "execution_count": 18,
   "metadata": {},
   "outputs": [
    {
     "data": {
      "text/plain": [
       "2018-03-04   -1.971252\n",
       "2018-03-05   -1.117494\n",
       "2018-03-06    0.696122\n",
       "Freq: D, Name: DD, dtype: float64"
      ]
     },
     "execution_count": 18,
     "metadata": {},
     "output_type": "execute_result"
    }
   ],
   "source": [
    "df.DD.head(3) # DataFrame 'DD'의 데이터 가져오기(1)"
   ]
  },
  {
   "cell_type": "markdown",
   "metadata": {},
   "source": [
    "\n"
   ]
  },
  {
   "cell_type": "markdown",
   "metadata": {},
   "source": [
    "### 슬라이싱하기"
   ]
  },
  {
   "cell_type": "markdown",
   "metadata": {},
   "source": [
    "#### DataFrame 에서 `0이상~3미만` 값을 출력하기"
   ]
  },
  {
   "cell_type": "code",
   "execution_count": 19,
   "metadata": {},
   "outputs": [
    {
     "data": {
      "text/html": [
       "<div>\n",
       "<style scoped>\n",
       "    .dataframe tbody tr th:only-of-type {\n",
       "        vertical-align: middle;\n",
       "    }\n",
       "\n",
       "    .dataframe tbody tr th {\n",
       "        vertical-align: top;\n",
       "    }\n",
       "\n",
       "    .dataframe thead th {\n",
       "        text-align: right;\n",
       "    }\n",
       "</style>\n",
       "<table border=\"1\" class=\"dataframe\">\n",
       "  <thead>\n",
       "    <tr style=\"text-align: right;\">\n",
       "      <th></th>\n",
       "      <th>AA</th>\n",
       "      <th>BB</th>\n",
       "      <th>CC</th>\n",
       "      <th>DD</th>\n",
       "    </tr>\n",
       "  </thead>\n",
       "  <tbody>\n",
       "    <tr>\n",
       "      <th>2018-03-04</th>\n",
       "      <td>-0.111416</td>\n",
       "      <td>0.982670</td>\n",
       "      <td>1.099774</td>\n",
       "      <td>-1.971252</td>\n",
       "    </tr>\n",
       "    <tr>\n",
       "      <th>2018-03-05</th>\n",
       "      <td>0.710864</td>\n",
       "      <td>0.720855</td>\n",
       "      <td>-1.294882</td>\n",
       "      <td>-1.117494</td>\n",
       "    </tr>\n",
       "    <tr>\n",
       "      <th>2018-03-06</th>\n",
       "      <td>0.964254</td>\n",
       "      <td>0.167364</td>\n",
       "      <td>-0.332012</td>\n",
       "      <td>0.696122</td>\n",
       "    </tr>\n",
       "  </tbody>\n",
       "</table>\n",
       "</div>"
      ],
      "text/plain": [
       "                  AA        BB        CC        DD\n",
       "2018-03-04 -0.111416  0.982670  1.099774 -1.971252\n",
       "2018-03-05  0.710864  0.720855 -1.294882 -1.117494\n",
       "2018-03-06  0.964254  0.167364 -0.332012  0.696122"
      ]
     },
     "execution_count": 19,
     "metadata": {},
     "output_type": "execute_result"
    }
   ],
   "source": [
    "df[0:3]"
   ]
  },
  {
   "cell_type": "markdown",
   "metadata": {},
   "source": [
    "\n"
   ]
  },
  {
   "cell_type": "markdown",
   "metadata": {},
   "source": [
    "#### DataFrame 에서 `A이상 F이하`의 값을 출력하기"
   ]
  },
  {
   "cell_type": "code",
   "execution_count": 20,
   "metadata": {},
   "outputs": [
    {
     "data": {
      "text/html": [
       "<div>\n",
       "<style scoped>\n",
       "    .dataframe tbody tr th:only-of-type {\n",
       "        vertical-align: middle;\n",
       "    }\n",
       "\n",
       "    .dataframe tbody tr th {\n",
       "        vertical-align: top;\n",
       "    }\n",
       "\n",
       "    .dataframe thead th {\n",
       "        text-align: right;\n",
       "    }\n",
       "</style>\n",
       "<table border=\"1\" class=\"dataframe\">\n",
       "  <thead>\n",
       "    <tr style=\"text-align: right;\">\n",
       "      <th></th>\n",
       "      <th>AA</th>\n",
       "      <th>BB</th>\n",
       "      <th>CC</th>\n",
       "      <th>DD</th>\n",
       "    </tr>\n",
       "  </thead>\n",
       "  <tbody>\n",
       "    <tr>\n",
       "      <th>2018-03-04</th>\n",
       "      <td>-0.111416</td>\n",
       "      <td>0.982670</td>\n",
       "      <td>1.099774</td>\n",
       "      <td>-1.971252</td>\n",
       "    </tr>\n",
       "    <tr>\n",
       "      <th>2018-03-05</th>\n",
       "      <td>0.710864</td>\n",
       "      <td>0.720855</td>\n",
       "      <td>-1.294882</td>\n",
       "      <td>-1.117494</td>\n",
       "    </tr>\n",
       "    <tr>\n",
       "      <th>2018-03-06</th>\n",
       "      <td>0.964254</td>\n",
       "      <td>0.167364</td>\n",
       "      <td>-0.332012</td>\n",
       "      <td>0.696122</td>\n",
       "    </tr>\n",
       "  </tbody>\n",
       "</table>\n",
       "</div>"
      ],
      "text/plain": [
       "                  AA        BB        CC        DD\n",
       "2018-03-04 -0.111416  0.982670  1.099774 -1.971252\n",
       "2018-03-05  0.710864  0.720855 -1.294882 -1.117494\n",
       "2018-03-06  0.964254  0.167364 -0.332012  0.696122"
      ]
     },
     "execution_count": 20,
     "metadata": {},
     "output_type": "execute_result"
    }
   ],
   "source": [
    "df['2018-03-04': '2018-03-06']"
   ]
  },
  {
   "cell_type": "markdown",
   "metadata": {},
   "source": [
    "\n"
   ]
  },
  {
   "cell_type": "markdown",
   "metadata": {},
   "source": [
    "#### 위에서 선언한 변수에 0번째 index 들의 값 출력하기\n",
    "\n",
    "`dates = pd.date_range('20180304', periods=20)`\n"
   ]
  },
  {
   "cell_type": "code",
   "execution_count": 21,
   "metadata": {},
   "outputs": [
    {
     "data": {
      "text/plain": [
       "AA   -0.111416\n",
       "BB    0.982670\n",
       "CC    1.099774\n",
       "DD   -1.971252\n",
       "Name: 2018-03-04 00:00:00, dtype: float64"
      ]
     },
     "execution_count": 21,
     "metadata": {},
     "output_type": "execute_result"
    }
   ],
   "source": [
    "df.loc[dates[0]]"
   ]
  },
  {
   "cell_type": "code",
   "execution_count": 22,
   "metadata": {},
   "outputs": [
    {
     "data": {
      "text/html": [
       "<div>\n",
       "<style scoped>\n",
       "    .dataframe tbody tr th:only-of-type {\n",
       "        vertical-align: middle;\n",
       "    }\n",
       "\n",
       "    .dataframe tbody tr th {\n",
       "        vertical-align: top;\n",
       "    }\n",
       "\n",
       "    .dataframe thead th {\n",
       "        text-align: right;\n",
       "    }\n",
       "</style>\n",
       "<table border=\"1\" class=\"dataframe\">\n",
       "  <thead>\n",
       "    <tr style=\"text-align: right;\">\n",
       "      <th></th>\n",
       "      <th>AA</th>\n",
       "      <th>DD</th>\n",
       "    </tr>\n",
       "  </thead>\n",
       "  <tbody>\n",
       "    <tr>\n",
       "      <th>2018-03-04</th>\n",
       "      <td>-0.111416</td>\n",
       "      <td>-1.971252</td>\n",
       "    </tr>\n",
       "    <tr>\n",
       "      <th>2018-03-05</th>\n",
       "      <td>0.710864</td>\n",
       "      <td>-1.117494</td>\n",
       "    </tr>\n",
       "    <tr>\n",
       "      <th>2018-03-06</th>\n",
       "      <td>0.964254</td>\n",
       "      <td>0.696122</td>\n",
       "    </tr>\n",
       "    <tr>\n",
       "      <th>2018-03-07</th>\n",
       "      <td>0.324560</td>\n",
       "      <td>-0.467353</td>\n",
       "    </tr>\n",
       "    <tr>\n",
       "      <th>2018-03-08</th>\n",
       "      <td>0.468820</td>\n",
       "      <td>-1.276103</td>\n",
       "    </tr>\n",
       "  </tbody>\n",
       "</table>\n",
       "</div>"
      ],
      "text/plain": [
       "                  AA        DD\n",
       "2018-03-04 -0.111416 -1.971252\n",
       "2018-03-05  0.710864 -1.117494\n",
       "2018-03-06  0.964254  0.696122\n",
       "2018-03-07  0.324560 -0.467353\n",
       "2018-03-08  0.468820 -1.276103"
      ]
     },
     "execution_count": 22,
     "metadata": {},
     "output_type": "execute_result"
    }
   ],
   "source": [
    "df.loc[:, ['AA', 'DD']].head() # 특정 index 의 값을 찾기"
   ]
  },
  {
   "cell_type": "code",
   "execution_count": 23,
   "metadata": {},
   "outputs": [
    {
     "data": {
      "text/html": [
       "<div>\n",
       "<style scoped>\n",
       "    .dataframe tbody tr th:only-of-type {\n",
       "        vertical-align: middle;\n",
       "    }\n",
       "\n",
       "    .dataframe tbody tr th {\n",
       "        vertical-align: top;\n",
       "    }\n",
       "\n",
       "    .dataframe thead th {\n",
       "        text-align: right;\n",
       "    }\n",
       "</style>\n",
       "<table border=\"1\" class=\"dataframe\">\n",
       "  <thead>\n",
       "    <tr style=\"text-align: right;\">\n",
       "      <th></th>\n",
       "      <th>AA</th>\n",
       "      <th>CC</th>\n",
       "    </tr>\n",
       "  </thead>\n",
       "  <tbody>\n",
       "    <tr>\n",
       "      <th>2018-03-11</th>\n",
       "      <td>1.640194</td>\n",
       "      <td>0.701436</td>\n",
       "    </tr>\n",
       "    <tr>\n",
       "      <th>2018-03-12</th>\n",
       "      <td>-0.322137</td>\n",
       "      <td>-0.633855</td>\n",
       "    </tr>\n",
       "    <tr>\n",
       "      <th>2018-03-13</th>\n",
       "      <td>-0.086360</td>\n",
       "      <td>0.167596</td>\n",
       "    </tr>\n",
       "    <tr>\n",
       "      <th>2018-03-14</th>\n",
       "      <td>-0.191816</td>\n",
       "      <td>0.830868</td>\n",
       "    </tr>\n",
       "    <tr>\n",
       "      <th>2018-03-15</th>\n",
       "      <td>-0.173712</td>\n",
       "      <td>-0.817043</td>\n",
       "    </tr>\n",
       "    <tr>\n",
       "      <th>2018-03-16</th>\n",
       "      <td>1.342993</td>\n",
       "      <td>-1.647794</td>\n",
       "    </tr>\n",
       "  </tbody>\n",
       "</table>\n",
       "</div>"
      ],
      "text/plain": [
       "                  AA        CC\n",
       "2018-03-11  1.640194  0.701436\n",
       "2018-03-12 -0.322137 -0.633855\n",
       "2018-03-13 -0.086360  0.167596\n",
       "2018-03-14 -0.191816  0.830868\n",
       "2018-03-15 -0.173712 -0.817043\n",
       "2018-03-16  1.342993 -1.647794"
      ]
     },
     "execution_count": 23,
     "metadata": {},
     "output_type": "execute_result"
    }
   ],
   "source": [
    "df.loc['20180311': '20180316', ['AA', 'CC']]"
   ]
  },
  {
   "cell_type": "code",
   "execution_count": 24,
   "metadata": {},
   "outputs": [
    {
     "data": {
      "text/plain": [
       "AA    1.640194\n",
       "CC    0.701436\n",
       "Name: 2018-03-11 00:00:00, dtype: float64"
      ]
     },
     "execution_count": 24,
     "metadata": {},
     "output_type": "execute_result"
    }
   ],
   "source": [
    "# 1개의 행만 지정했기 때문에 Series 로 출력\n",
    "df.loc['20180311', ['AA', 'CC']]"
   ]
  },
  {
   "cell_type": "code",
   "execution_count": 25,
   "metadata": {},
   "outputs": [
    {
     "data": {
      "text/plain": [
       "2018-03-11    1.640194\n",
       "2018-03-12   -0.322137\n",
       "2018-03-13   -0.086360\n",
       "2018-03-14   -0.191816\n",
       "2018-03-15   -0.173712\n",
       "2018-03-16    1.342993\n",
       "2018-03-17   -0.151358\n",
       "2018-03-18    0.036859\n",
       "2018-03-19    0.412061\n",
       "Freq: D, Name: AA, dtype: float64"
      ]
     },
     "execution_count": 25,
     "metadata": {},
     "output_type": "execute_result"
    }
   ],
   "source": [
    "# 행이던 열이던 한줄의 데이터 범위를 선택하면 Series 이다.\n",
    "df.loc['20180311':'20180319', 'AA']"
   ]
  },
  {
   "cell_type": "markdown",
   "metadata": {},
   "source": [
    "### 세번째 행을 Selection 하기"
   ]
  },
  {
   "cell_type": "code",
   "execution_count": 26,
   "metadata": {},
   "outputs": [
    {
     "data": {
      "text/html": [
       "<div>\n",
       "<style scoped>\n",
       "    .dataframe tbody tr th:only-of-type {\n",
       "        vertical-align: middle;\n",
       "    }\n",
       "\n",
       "    .dataframe tbody tr th {\n",
       "        vertical-align: top;\n",
       "    }\n",
       "\n",
       "    .dataframe thead th {\n",
       "        text-align: right;\n",
       "    }\n",
       "</style>\n",
       "<table border=\"1\" class=\"dataframe\">\n",
       "  <thead>\n",
       "    <tr style=\"text-align: right;\">\n",
       "      <th></th>\n",
       "      <th>AA</th>\n",
       "      <th>BB</th>\n",
       "      <th>CC</th>\n",
       "      <th>DD</th>\n",
       "    </tr>\n",
       "  </thead>\n",
       "  <tbody>\n",
       "    <tr>\n",
       "      <th>2018-03-04</th>\n",
       "      <td>-0.111416</td>\n",
       "      <td>0.982670</td>\n",
       "      <td>1.099774</td>\n",
       "      <td>-1.971252</td>\n",
       "    </tr>\n",
       "    <tr>\n",
       "      <th>2018-03-05</th>\n",
       "      <td>0.710864</td>\n",
       "      <td>0.720855</td>\n",
       "      <td>-1.294882</td>\n",
       "      <td>-1.117494</td>\n",
       "    </tr>\n",
       "    <tr>\n",
       "      <th>2018-03-06</th>\n",
       "      <td>0.964254</td>\n",
       "      <td>0.167364</td>\n",
       "      <td>-0.332012</td>\n",
       "      <td>0.696122</td>\n",
       "    </tr>\n",
       "    <tr>\n",
       "      <th>2018-03-07</th>\n",
       "      <td>0.324560</td>\n",
       "      <td>-0.544726</td>\n",
       "      <td>-1.065665</td>\n",
       "      <td>-0.467353</td>\n",
       "    </tr>\n",
       "    <tr>\n",
       "      <th>2018-03-08</th>\n",
       "      <td>0.468820</td>\n",
       "      <td>-1.599092</td>\n",
       "      <td>1.657712</td>\n",
       "      <td>-1.276103</td>\n",
       "    </tr>\n",
       "  </tbody>\n",
       "</table>\n",
       "</div>"
      ],
      "text/plain": [
       "                  AA        BB        CC        DD\n",
       "2018-03-04 -0.111416  0.982670  1.099774 -1.971252\n",
       "2018-03-05  0.710864  0.720855 -1.294882 -1.117494\n",
       "2018-03-06  0.964254  0.167364 -0.332012  0.696122\n",
       "2018-03-07  0.324560 -0.544726 -1.065665 -0.467353\n",
       "2018-03-08  0.468820 -1.599092  1.657712 -1.276103"
      ]
     },
     "execution_count": 26,
     "metadata": {},
     "output_type": "execute_result"
    }
   ],
   "source": [
    "df.head()"
   ]
  },
  {
   "cell_type": "code",
   "execution_count": 27,
   "metadata": {},
   "outputs": [
    {
     "data": {
      "text/plain": [
       "AA    0.324560\n",
       "BB   -0.544726\n",
       "CC   -1.065665\n",
       "DD   -0.467353\n",
       "Name: 2018-03-07 00:00:00, dtype: float64"
      ]
     },
     "execution_count": 27,
     "metadata": {},
     "output_type": "execute_result"
    }
   ],
   "source": [
    "df.iloc[3] # index 3번째의 행 값을 출력"
   ]
  },
  {
   "cell_type": "code",
   "execution_count": 28,
   "metadata": {},
   "outputs": [
    {
     "data": {
      "text/html": [
       "<div>\n",
       "<style scoped>\n",
       "    .dataframe tbody tr th:only-of-type {\n",
       "        vertical-align: middle;\n",
       "    }\n",
       "\n",
       "    .dataframe tbody tr th {\n",
       "        vertical-align: top;\n",
       "    }\n",
       "\n",
       "    .dataframe thead th {\n",
       "        text-align: right;\n",
       "    }\n",
       "</style>\n",
       "<table border=\"1\" class=\"dataframe\">\n",
       "  <thead>\n",
       "    <tr style=\"text-align: right;\">\n",
       "      <th></th>\n",
       "      <th>AA</th>\n",
       "      <th>BB</th>\n",
       "    </tr>\n",
       "  </thead>\n",
       "  <tbody>\n",
       "    <tr>\n",
       "      <th>2018-03-07</th>\n",
       "      <td>0.32456</td>\n",
       "      <td>-0.544726</td>\n",
       "    </tr>\n",
       "    <tr>\n",
       "      <th>2018-03-08</th>\n",
       "      <td>0.46882</td>\n",
       "      <td>-1.599092</td>\n",
       "    </tr>\n",
       "  </tbody>\n",
       "</table>\n",
       "</div>"
      ],
      "text/plain": [
       "                 AA        BB\n",
       "2018-03-07  0.32456 -0.544726\n",
       "2018-03-08  0.46882 -1.599092"
      ]
     },
     "execution_count": 28,
     "metadata": {},
     "output_type": "execute_result"
    }
   ],
   "source": [
    "df.iloc[3:5, 0:2] # 3월 7일부터 3월 8일 // AA, BB 인덱스의 값 출력"
   ]
  },
  {
   "cell_type": "code",
   "execution_count": 29,
   "metadata": {},
   "outputs": [
    {
     "data": {
      "text/html": [
       "<div>\n",
       "<style scoped>\n",
       "    .dataframe tbody tr th:only-of-type {\n",
       "        vertical-align: middle;\n",
       "    }\n",
       "\n",
       "    .dataframe tbody tr th {\n",
       "        vertical-align: top;\n",
       "    }\n",
       "\n",
       "    .dataframe thead th {\n",
       "        text-align: right;\n",
       "    }\n",
       "</style>\n",
       "<table border=\"1\" class=\"dataframe\">\n",
       "  <thead>\n",
       "    <tr style=\"text-align: right;\">\n",
       "      <th></th>\n",
       "      <th>AA</th>\n",
       "      <th>CC</th>\n",
       "    </tr>\n",
       "  </thead>\n",
       "  <tbody>\n",
       "    <tr>\n",
       "      <th>2018-03-05</th>\n",
       "      <td>0.710864</td>\n",
       "      <td>-1.294882</td>\n",
       "    </tr>\n",
       "    <tr>\n",
       "      <th>2018-03-06</th>\n",
       "      <td>0.964254</td>\n",
       "      <td>-0.332012</td>\n",
       "    </tr>\n",
       "    <tr>\n",
       "      <th>2018-03-08</th>\n",
       "      <td>0.468820</td>\n",
       "      <td>1.657712</td>\n",
       "    </tr>\n",
       "  </tbody>\n",
       "</table>\n",
       "</div>"
      ],
      "text/plain": [
       "                  AA        CC\n",
       "2018-03-05  0.710864 -1.294882\n",
       "2018-03-06  0.964254 -0.332012\n",
       "2018-03-08  0.468820  1.657712"
      ]
     },
     "execution_count": 29,
     "metadata": {},
     "output_type": "execute_result"
    }
   ],
   "source": [
    "df.iloc[[1, 2, 4], [0,2]]"
   ]
  },
  {
   "cell_type": "markdown",
   "metadata": {},
   "source": [
    "\n"
   ]
  },
  {
   "cell_type": "markdown",
   "metadata": {},
   "source": [
    "### *명시적으로 모든 행을 출력한다고 해줄 때는 범위가 없더라도 : 를 넣어준다"
   ]
  },
  {
   "cell_type": "code",
   "execution_count": 30,
   "metadata": {},
   "outputs": [
    {
     "data": {
      "text/html": [
       "<div>\n",
       "<style scoped>\n",
       "    .dataframe tbody tr th:only-of-type {\n",
       "        vertical-align: middle;\n",
       "    }\n",
       "\n",
       "    .dataframe tbody tr th {\n",
       "        vertical-align: top;\n",
       "    }\n",
       "\n",
       "    .dataframe thead th {\n",
       "        text-align: right;\n",
       "    }\n",
       "</style>\n",
       "<table border=\"1\" class=\"dataframe\">\n",
       "  <thead>\n",
       "    <tr style=\"text-align: right;\">\n",
       "      <th></th>\n",
       "      <th>AA</th>\n",
       "      <th>BB</th>\n",
       "      <th>CC</th>\n",
       "      <th>DD</th>\n",
       "    </tr>\n",
       "  </thead>\n",
       "  <tbody>\n",
       "    <tr>\n",
       "      <th>2018-03-05</th>\n",
       "      <td>0.710864</td>\n",
       "      <td>0.720855</td>\n",
       "      <td>-1.294882</td>\n",
       "      <td>-1.117494</td>\n",
       "    </tr>\n",
       "    <tr>\n",
       "      <th>2018-03-07</th>\n",
       "      <td>0.324560</td>\n",
       "      <td>-0.544726</td>\n",
       "      <td>-1.065665</td>\n",
       "      <td>-0.467353</td>\n",
       "    </tr>\n",
       "  </tbody>\n",
       "</table>\n",
       "</div>"
      ],
      "text/plain": [
       "                  AA        BB        CC        DD\n",
       "2018-03-05  0.710864  0.720855 -1.294882 -1.117494\n",
       "2018-03-07  0.324560 -0.544726 -1.065665 -0.467353"
      ]
     },
     "execution_count": 30,
     "metadata": {},
     "output_type": "execute_result"
    }
   ],
   "source": [
    "df.iloc[[1, 3], :]"
   ]
  },
  {
   "cell_type": "markdown",
   "metadata": {},
   "source": [
    "\n"
   ]
  },
  {
   "cell_type": "markdown",
   "metadata": {},
   "source": [
    "\n"
   ]
  },
  {
   "cell_type": "markdown",
   "metadata": {},
   "source": [
    "### Boolean Indexing"
   ]
  },
  {
   "cell_type": "markdown",
   "metadata": {},
   "source": [
    "DataFrame 에서 0 이상의 값을 찾아보기"
   ]
  },
  {
   "cell_type": "code",
   "execution_count": 31,
   "metadata": {},
   "outputs": [
    {
     "data": {
      "text/plain": [
       "2018-03-04    False\n",
       "2018-03-05     True\n",
       "2018-03-06     True\n",
       "2018-03-07     True\n",
       "2018-03-08     True\n",
       "2018-03-09    False\n",
       "2018-03-10    False\n",
       "2018-03-11     True\n",
       "2018-03-12    False\n",
       "2018-03-13    False\n",
       "2018-03-14    False\n",
       "2018-03-15    False\n",
       "2018-03-16     True\n",
       "2018-03-17    False\n",
       "2018-03-18     True\n",
       "2018-03-19     True\n",
       "2018-03-20    False\n",
       "2018-03-21    False\n",
       "2018-03-22    False\n",
       "2018-03-23    False\n",
       "Freq: D, Name: AA, dtype: bool"
      ]
     },
     "execution_count": 31,
     "metadata": {},
     "output_type": "execute_result"
    }
   ],
   "source": [
    "df['AA'] > 0"
   ]
  },
  {
   "cell_type": "markdown",
   "metadata": {},
   "source": [
    "\n"
   ]
  },
  {
   "cell_type": "markdown",
   "metadata": {},
   "source": [
    "### AA 인덱스에서 True 값만 가져오기"
   ]
  },
  {
   "cell_type": "code",
   "execution_count": 32,
   "metadata": {},
   "outputs": [
    {
     "data": {
      "text/html": [
       "<div>\n",
       "<style scoped>\n",
       "    .dataframe tbody tr th:only-of-type {\n",
       "        vertical-align: middle;\n",
       "    }\n",
       "\n",
       "    .dataframe tbody tr th {\n",
       "        vertical-align: top;\n",
       "    }\n",
       "\n",
       "    .dataframe thead th {\n",
       "        text-align: right;\n",
       "    }\n",
       "</style>\n",
       "<table border=\"1\" class=\"dataframe\">\n",
       "  <thead>\n",
       "    <tr style=\"text-align: right;\">\n",
       "      <th></th>\n",
       "      <th>AA</th>\n",
       "      <th>BB</th>\n",
       "      <th>CC</th>\n",
       "      <th>DD</th>\n",
       "    </tr>\n",
       "  </thead>\n",
       "  <tbody>\n",
       "    <tr>\n",
       "      <th>2018-03-05</th>\n",
       "      <td>0.710864</td>\n",
       "      <td>0.720855</td>\n",
       "      <td>-1.294882</td>\n",
       "      <td>-1.117494</td>\n",
       "    </tr>\n",
       "    <tr>\n",
       "      <th>2018-03-06</th>\n",
       "      <td>0.964254</td>\n",
       "      <td>0.167364</td>\n",
       "      <td>-0.332012</td>\n",
       "      <td>0.696122</td>\n",
       "    </tr>\n",
       "    <tr>\n",
       "      <th>2018-03-07</th>\n",
       "      <td>0.324560</td>\n",
       "      <td>-0.544726</td>\n",
       "      <td>-1.065665</td>\n",
       "      <td>-0.467353</td>\n",
       "    </tr>\n",
       "    <tr>\n",
       "      <th>2018-03-08</th>\n",
       "      <td>0.468820</td>\n",
       "      <td>-1.599092</td>\n",
       "      <td>1.657712</td>\n",
       "      <td>-1.276103</td>\n",
       "    </tr>\n",
       "    <tr>\n",
       "      <th>2018-03-11</th>\n",
       "      <td>1.640194</td>\n",
       "      <td>0.044395</td>\n",
       "      <td>0.701436</td>\n",
       "      <td>0.298313</td>\n",
       "    </tr>\n",
       "    <tr>\n",
       "      <th>2018-03-16</th>\n",
       "      <td>1.342993</td>\n",
       "      <td>0.318543</td>\n",
       "      <td>-1.647794</td>\n",
       "      <td>-0.593016</td>\n",
       "    </tr>\n",
       "    <tr>\n",
       "      <th>2018-03-18</th>\n",
       "      <td>0.036859</td>\n",
       "      <td>-0.589389</td>\n",
       "      <td>-1.479406</td>\n",
       "      <td>1.274970</td>\n",
       "    </tr>\n",
       "    <tr>\n",
       "      <th>2018-03-19</th>\n",
       "      <td>0.412061</td>\n",
       "      <td>0.441797</td>\n",
       "      <td>0.030550</td>\n",
       "      <td>1.557150</td>\n",
       "    </tr>\n",
       "  </tbody>\n",
       "</table>\n",
       "</div>"
      ],
      "text/plain": [
       "                  AA        BB        CC        DD\n",
       "2018-03-05  0.710864  0.720855 -1.294882 -1.117494\n",
       "2018-03-06  0.964254  0.167364 -0.332012  0.696122\n",
       "2018-03-07  0.324560 -0.544726 -1.065665 -0.467353\n",
       "2018-03-08  0.468820 -1.599092  1.657712 -1.276103\n",
       "2018-03-11  1.640194  0.044395  0.701436  0.298313\n",
       "2018-03-16  1.342993  0.318543 -1.647794 -0.593016\n",
       "2018-03-18  0.036859 -0.589389 -1.479406  1.274970\n",
       "2018-03-19  0.412061  0.441797  0.030550  1.557150"
      ]
     },
     "execution_count": 32,
     "metadata": {},
     "output_type": "execute_result"
    }
   ],
   "source": [
    "mask = df['AA'] > 0\n",
    "df[mask]"
   ]
  },
  {
   "cell_type": "markdown",
   "metadata": {},
   "source": [
    "\n"
   ]
  },
  {
   "cell_type": "markdown",
   "metadata": {},
   "source": [
    "### df2 로 복사하여 새로운 튜토리얼을 진행"
   ]
  },
  {
   "cell_type": "code",
   "execution_count": 33,
   "metadata": {},
   "outputs": [],
   "source": [
    "df2 = df.copy()"
   ]
  },
  {
   "cell_type": "code",
   "execution_count": 34,
   "metadata": {},
   "outputs": [
    {
     "data": {
      "text/html": [
       "<div>\n",
       "<style scoped>\n",
       "    .dataframe tbody tr th:only-of-type {\n",
       "        vertical-align: middle;\n",
       "    }\n",
       "\n",
       "    .dataframe tbody tr th {\n",
       "        vertical-align: top;\n",
       "    }\n",
       "\n",
       "    .dataframe thead th {\n",
       "        text-align: right;\n",
       "    }\n",
       "</style>\n",
       "<table border=\"1\" class=\"dataframe\">\n",
       "  <thead>\n",
       "    <tr style=\"text-align: right;\">\n",
       "      <th></th>\n",
       "      <th>AA</th>\n",
       "      <th>BB</th>\n",
       "      <th>CC</th>\n",
       "      <th>DD</th>\n",
       "      <th>EE</th>\n",
       "    </tr>\n",
       "  </thead>\n",
       "  <tbody>\n",
       "    <tr>\n",
       "      <th>2018-03-04</th>\n",
       "      <td>-0.111416</td>\n",
       "      <td>0.982670</td>\n",
       "      <td>1.099774</td>\n",
       "      <td>-1.971252</td>\n",
       "      <td>one</td>\n",
       "    </tr>\n",
       "    <tr>\n",
       "      <th>2018-03-05</th>\n",
       "      <td>0.710864</td>\n",
       "      <td>0.720855</td>\n",
       "      <td>-1.294882</td>\n",
       "      <td>-1.117494</td>\n",
       "      <td>two</td>\n",
       "    </tr>\n",
       "    <tr>\n",
       "      <th>2018-03-06</th>\n",
       "      <td>0.964254</td>\n",
       "      <td>0.167364</td>\n",
       "      <td>-0.332012</td>\n",
       "      <td>0.696122</td>\n",
       "      <td>three</td>\n",
       "    </tr>\n",
       "    <tr>\n",
       "      <th>2018-03-07</th>\n",
       "      <td>0.324560</td>\n",
       "      <td>-0.544726</td>\n",
       "      <td>-1.065665</td>\n",
       "      <td>-0.467353</td>\n",
       "      <td>four</td>\n",
       "    </tr>\n",
       "    <tr>\n",
       "      <th>2018-03-08</th>\n",
       "      <td>0.468820</td>\n",
       "      <td>-1.599092</td>\n",
       "      <td>1.657712</td>\n",
       "      <td>-1.276103</td>\n",
       "      <td>five</td>\n",
       "    </tr>\n",
       "  </tbody>\n",
       "</table>\n",
       "</div>"
      ],
      "text/plain": [
       "                  AA        BB        CC        DD     EE\n",
       "2018-03-04 -0.111416  0.982670  1.099774 -1.971252    one\n",
       "2018-03-05  0.710864  0.720855 -1.294882 -1.117494    two\n",
       "2018-03-06  0.964254  0.167364 -0.332012  0.696122  three\n",
       "2018-03-07  0.324560 -0.544726 -1.065665 -0.467353   four\n",
       "2018-03-08  0.468820 -1.599092  1.657712 -1.276103   five"
      ]
     },
     "execution_count": 34,
     "metadata": {},
     "output_type": "execute_result"
    }
   ],
   "source": [
    "df2['EE'] = [\n",
    "    'one', 'two', 'three', 'four', 'five',\n",
    "    'one', 'two', 'three', 'four', 'five',\n",
    "    'one', 'two', 'three', 'four', 'five',\n",
    "    'one', 'two', 'three', 'four', 'five',\n",
    "]\n",
    "df2.head()"
   ]
  },
  {
   "cell_type": "markdown",
   "metadata": {},
   "source": [
    "\n"
   ]
  },
  {
   "cell_type": "markdown",
   "metadata": {},
   "source": [
    "### 'one', 'two' 에 해당하는 값만 가져오기"
   ]
  },
  {
   "cell_type": "code",
   "execution_count": 35,
   "metadata": {},
   "outputs": [
    {
     "data": {
      "text/html": [
       "<div>\n",
       "<style scoped>\n",
       "    .dataframe tbody tr th:only-of-type {\n",
       "        vertical-align: middle;\n",
       "    }\n",
       "\n",
       "    .dataframe tbody tr th {\n",
       "        vertical-align: top;\n",
       "    }\n",
       "\n",
       "    .dataframe thead th {\n",
       "        text-align: right;\n",
       "    }\n",
       "</style>\n",
       "<table border=\"1\" class=\"dataframe\">\n",
       "  <thead>\n",
       "    <tr style=\"text-align: right;\">\n",
       "      <th></th>\n",
       "      <th>AA</th>\n",
       "      <th>BB</th>\n",
       "      <th>CC</th>\n",
       "      <th>DD</th>\n",
       "    </tr>\n",
       "  </thead>\n",
       "  <tbody>\n",
       "    <tr>\n",
       "      <th>2018-03-04</th>\n",
       "      <td>-0.111416</td>\n",
       "      <td>0.982670</td>\n",
       "      <td>1.099774</td>\n",
       "      <td>-1.971252</td>\n",
       "    </tr>\n",
       "    <tr>\n",
       "      <th>2018-03-05</th>\n",
       "      <td>0.710864</td>\n",
       "      <td>0.720855</td>\n",
       "      <td>-1.294882</td>\n",
       "      <td>-1.117494</td>\n",
       "    </tr>\n",
       "    <tr>\n",
       "      <th>2018-03-09</th>\n",
       "      <td>-0.189765</td>\n",
       "      <td>0.312118</td>\n",
       "      <td>0.526358</td>\n",
       "      <td>-1.783141</td>\n",
       "    </tr>\n",
       "    <tr>\n",
       "      <th>2018-03-10</th>\n",
       "      <td>-0.684227</td>\n",
       "      <td>-1.863847</td>\n",
       "      <td>0.795735</td>\n",
       "      <td>1.029790</td>\n",
       "    </tr>\n",
       "    <tr>\n",
       "      <th>2018-03-14</th>\n",
       "      <td>-0.191816</td>\n",
       "      <td>1.028748</td>\n",
       "      <td>0.830868</td>\n",
       "      <td>0.670017</td>\n",
       "    </tr>\n",
       "    <tr>\n",
       "      <th>2018-03-15</th>\n",
       "      <td>-0.173712</td>\n",
       "      <td>0.301855</td>\n",
       "      <td>-0.817043</td>\n",
       "      <td>1.186591</td>\n",
       "    </tr>\n",
       "    <tr>\n",
       "      <th>2018-03-19</th>\n",
       "      <td>0.412061</td>\n",
       "      <td>0.441797</td>\n",
       "      <td>0.030550</td>\n",
       "      <td>1.557150</td>\n",
       "    </tr>\n",
       "    <tr>\n",
       "      <th>2018-03-20</th>\n",
       "      <td>-0.708502</td>\n",
       "      <td>0.249315</td>\n",
       "      <td>0.237221</td>\n",
       "      <td>0.066305</td>\n",
       "    </tr>\n",
       "  </tbody>\n",
       "</table>\n",
       "</div>"
      ],
      "text/plain": [
       "                  AA        BB        CC        DD\n",
       "2018-03-04 -0.111416  0.982670  1.099774 -1.971252\n",
       "2018-03-05  0.710864  0.720855 -1.294882 -1.117494\n",
       "2018-03-09 -0.189765  0.312118  0.526358 -1.783141\n",
       "2018-03-10 -0.684227 -1.863847  0.795735  1.029790\n",
       "2018-03-14 -0.191816  1.028748  0.830868  0.670017\n",
       "2018-03-15 -0.173712  0.301855 -0.817043  1.186591\n",
       "2018-03-19  0.412061  0.441797  0.030550  1.557150\n",
       "2018-03-20 -0.708502  0.249315  0.237221  0.066305"
      ]
     },
     "execution_count": 35,
     "metadata": {},
     "output_type": "execute_result"
    }
   ],
   "source": [
    "mask = df2.EE.isin(['one', 'two'])\n",
    "df[mask]"
   ]
  },
  {
   "cell_type": "markdown",
   "metadata": {},
   "source": [
    "\n"
   ]
  },
  {
   "cell_type": "markdown",
   "metadata": {},
   "source": [
    "### 새로운 Series 를 정의하기"
   ]
  },
  {
   "cell_type": "code",
   "execution_count": 36,
   "metadata": {},
   "outputs": [],
   "source": [
    "s1 = pd.Series(range(1, 21),\n",
    "               index=pd.date_range(\n",
    "                   '20180305', periods=20)\n",
    "              ) # 의도적으로 3월 5일부터 작성\n",
    "df['F'] = s1"
   ]
  },
  {
   "cell_type": "code",
   "execution_count": 37,
   "metadata": {},
   "outputs": [
    {
     "data": {
      "text/html": [
       "<div>\n",
       "<style scoped>\n",
       "    .dataframe tbody tr th:only-of-type {\n",
       "        vertical-align: middle;\n",
       "    }\n",
       "\n",
       "    .dataframe tbody tr th {\n",
       "        vertical-align: top;\n",
       "    }\n",
       "\n",
       "    .dataframe thead th {\n",
       "        text-align: right;\n",
       "    }\n",
       "</style>\n",
       "<table border=\"1\" class=\"dataframe\">\n",
       "  <thead>\n",
       "    <tr style=\"text-align: right;\">\n",
       "      <th></th>\n",
       "      <th>AA</th>\n",
       "      <th>BB</th>\n",
       "      <th>CC</th>\n",
       "      <th>DD</th>\n",
       "      <th>F</th>\n",
       "    </tr>\n",
       "  </thead>\n",
       "  <tbody>\n",
       "    <tr>\n",
       "      <th>2018-03-04</th>\n",
       "      <td>-0.111416</td>\n",
       "      <td>0.982670</td>\n",
       "      <td>1.099774</td>\n",
       "      <td>-1.971252</td>\n",
       "      <td>NaN</td>\n",
       "    </tr>\n",
       "    <tr>\n",
       "      <th>2018-03-05</th>\n",
       "      <td>0.710864</td>\n",
       "      <td>0.720855</td>\n",
       "      <td>-1.294882</td>\n",
       "      <td>-1.117494</td>\n",
       "      <td>1.0</td>\n",
       "    </tr>\n",
       "    <tr>\n",
       "      <th>2018-03-06</th>\n",
       "      <td>0.964254</td>\n",
       "      <td>0.167364</td>\n",
       "      <td>-0.332012</td>\n",
       "      <td>0.696122</td>\n",
       "      <td>2.0</td>\n",
       "    </tr>\n",
       "    <tr>\n",
       "      <th>2018-03-07</th>\n",
       "      <td>0.324560</td>\n",
       "      <td>-0.544726</td>\n",
       "      <td>-1.065665</td>\n",
       "      <td>-0.467353</td>\n",
       "      <td>3.0</td>\n",
       "    </tr>\n",
       "    <tr>\n",
       "      <th>2018-03-08</th>\n",
       "      <td>0.468820</td>\n",
       "      <td>-1.599092</td>\n",
       "      <td>1.657712</td>\n",
       "      <td>-1.276103</td>\n",
       "      <td>4.0</td>\n",
       "    </tr>\n",
       "    <tr>\n",
       "      <th>2018-03-09</th>\n",
       "      <td>-0.189765</td>\n",
       "      <td>0.312118</td>\n",
       "      <td>0.526358</td>\n",
       "      <td>-1.783141</td>\n",
       "      <td>5.0</td>\n",
       "    </tr>\n",
       "    <tr>\n",
       "      <th>2018-03-10</th>\n",
       "      <td>-0.684227</td>\n",
       "      <td>-1.863847</td>\n",
       "      <td>0.795735</td>\n",
       "      <td>1.029790</td>\n",
       "      <td>6.0</td>\n",
       "    </tr>\n",
       "    <tr>\n",
       "      <th>2018-03-11</th>\n",
       "      <td>1.640194</td>\n",
       "      <td>0.044395</td>\n",
       "      <td>0.701436</td>\n",
       "      <td>0.298313</td>\n",
       "      <td>7.0</td>\n",
       "    </tr>\n",
       "    <tr>\n",
       "      <th>2018-03-12</th>\n",
       "      <td>-0.322137</td>\n",
       "      <td>-1.246787</td>\n",
       "      <td>-0.633855</td>\n",
       "      <td>0.259672</td>\n",
       "      <td>8.0</td>\n",
       "    </tr>\n",
       "    <tr>\n",
       "      <th>2018-03-13</th>\n",
       "      <td>-0.086360</td>\n",
       "      <td>0.081511</td>\n",
       "      <td>0.167596</td>\n",
       "      <td>0.004880</td>\n",
       "      <td>9.0</td>\n",
       "    </tr>\n",
       "    <tr>\n",
       "      <th>2018-03-14</th>\n",
       "      <td>-0.191816</td>\n",
       "      <td>1.028748</td>\n",
       "      <td>0.830868</td>\n",
       "      <td>0.670017</td>\n",
       "      <td>10.0</td>\n",
       "    </tr>\n",
       "    <tr>\n",
       "      <th>2018-03-15</th>\n",
       "      <td>-0.173712</td>\n",
       "      <td>0.301855</td>\n",
       "      <td>-0.817043</td>\n",
       "      <td>1.186591</td>\n",
       "      <td>11.0</td>\n",
       "    </tr>\n",
       "    <tr>\n",
       "      <th>2018-03-16</th>\n",
       "      <td>1.342993</td>\n",
       "      <td>0.318543</td>\n",
       "      <td>-1.647794</td>\n",
       "      <td>-0.593016</td>\n",
       "      <td>12.0</td>\n",
       "    </tr>\n",
       "    <tr>\n",
       "      <th>2018-03-17</th>\n",
       "      <td>-0.151358</td>\n",
       "      <td>-1.911083</td>\n",
       "      <td>1.376948</td>\n",
       "      <td>-0.946632</td>\n",
       "      <td>13.0</td>\n",
       "    </tr>\n",
       "    <tr>\n",
       "      <th>2018-03-18</th>\n",
       "      <td>0.036859</td>\n",
       "      <td>-0.589389</td>\n",
       "      <td>-1.479406</td>\n",
       "      <td>1.274970</td>\n",
       "      <td>14.0</td>\n",
       "    </tr>\n",
       "    <tr>\n",
       "      <th>2018-03-19</th>\n",
       "      <td>0.412061</td>\n",
       "      <td>0.441797</td>\n",
       "      <td>0.030550</td>\n",
       "      <td>1.557150</td>\n",
       "      <td>15.0</td>\n",
       "    </tr>\n",
       "    <tr>\n",
       "      <th>2018-03-20</th>\n",
       "      <td>-0.708502</td>\n",
       "      <td>0.249315</td>\n",
       "      <td>0.237221</td>\n",
       "      <td>0.066305</td>\n",
       "      <td>16.0</td>\n",
       "    </tr>\n",
       "    <tr>\n",
       "      <th>2018-03-21</th>\n",
       "      <td>-0.777987</td>\n",
       "      <td>1.920155</td>\n",
       "      <td>0.143178</td>\n",
       "      <td>-1.117439</td>\n",
       "      <td>17.0</td>\n",
       "    </tr>\n",
       "    <tr>\n",
       "      <th>2018-03-22</th>\n",
       "      <td>-1.450708</td>\n",
       "      <td>1.655633</td>\n",
       "      <td>-2.228759</td>\n",
       "      <td>1.969327</td>\n",
       "      <td>18.0</td>\n",
       "    </tr>\n",
       "    <tr>\n",
       "      <th>2018-03-23</th>\n",
       "      <td>-0.717418</td>\n",
       "      <td>0.298537</td>\n",
       "      <td>1.332800</td>\n",
       "      <td>1.666714</td>\n",
       "      <td>19.0</td>\n",
       "    </tr>\n",
       "  </tbody>\n",
       "</table>\n",
       "</div>"
      ],
      "text/plain": [
       "                  AA        BB        CC        DD     F\n",
       "2018-03-04 -0.111416  0.982670  1.099774 -1.971252   NaN\n",
       "2018-03-05  0.710864  0.720855 -1.294882 -1.117494   1.0\n",
       "2018-03-06  0.964254  0.167364 -0.332012  0.696122   2.0\n",
       "2018-03-07  0.324560 -0.544726 -1.065665 -0.467353   3.0\n",
       "2018-03-08  0.468820 -1.599092  1.657712 -1.276103   4.0\n",
       "2018-03-09 -0.189765  0.312118  0.526358 -1.783141   5.0\n",
       "2018-03-10 -0.684227 -1.863847  0.795735  1.029790   6.0\n",
       "2018-03-11  1.640194  0.044395  0.701436  0.298313   7.0\n",
       "2018-03-12 -0.322137 -1.246787 -0.633855  0.259672   8.0\n",
       "2018-03-13 -0.086360  0.081511  0.167596  0.004880   9.0\n",
       "2018-03-14 -0.191816  1.028748  0.830868  0.670017  10.0\n",
       "2018-03-15 -0.173712  0.301855 -0.817043  1.186591  11.0\n",
       "2018-03-16  1.342993  0.318543 -1.647794 -0.593016  12.0\n",
       "2018-03-17 -0.151358 -1.911083  1.376948 -0.946632  13.0\n",
       "2018-03-18  0.036859 -0.589389 -1.479406  1.274970  14.0\n",
       "2018-03-19  0.412061  0.441797  0.030550  1.557150  15.0\n",
       "2018-03-20 -0.708502  0.249315  0.237221  0.066305  16.0\n",
       "2018-03-21 -0.777987  1.920155  0.143178 -1.117439  17.0\n",
       "2018-03-22 -1.450708  1.655633 -2.228759  1.969327  18.0\n",
       "2018-03-23 -0.717418  0.298537  1.332800  1.666714  19.0"
      ]
     },
     "execution_count": 37,
     "metadata": {},
     "output_type": "execute_result"
    }
   ],
   "source": [
    "df # 데이터프레임 F 를 생성했고, 값이 없으면 NaN 으로 출력됨을 확인"
   ]
  },
  {
   "cell_type": "markdown",
   "metadata": {},
   "source": [
    "\n"
   ]
  },
  {
   "cell_type": "markdown",
   "metadata": {},
   "source": [
    "### 데이터프레임의 길이만큼 EE 인덱스의 값을 13으로 생성하시오"
   ]
  },
  {
   "cell_type": "code",
   "execution_count": 38,
   "metadata": {},
   "outputs": [
    {
     "data": {
      "text/html": [
       "<div>\n",
       "<style scoped>\n",
       "    .dataframe tbody tr th:only-of-type {\n",
       "        vertical-align: middle;\n",
       "    }\n",
       "\n",
       "    .dataframe tbody tr th {\n",
       "        vertical-align: top;\n",
       "    }\n",
       "\n",
       "    .dataframe thead th {\n",
       "        text-align: right;\n",
       "    }\n",
       "</style>\n",
       "<table border=\"1\" class=\"dataframe\">\n",
       "  <thead>\n",
       "    <tr style=\"text-align: right;\">\n",
       "      <th></th>\n",
       "      <th>AA</th>\n",
       "      <th>BB</th>\n",
       "      <th>CC</th>\n",
       "      <th>DD</th>\n",
       "      <th>F</th>\n",
       "      <th>EE</th>\n",
       "    </tr>\n",
       "  </thead>\n",
       "  <tbody>\n",
       "    <tr>\n",
       "      <th>2018-03-04</th>\n",
       "      <td>-0.111416</td>\n",
       "      <td>0.982670</td>\n",
       "      <td>1.099774</td>\n",
       "      <td>-1.971252</td>\n",
       "      <td>NaN</td>\n",
       "      <td>13</td>\n",
       "    </tr>\n",
       "    <tr>\n",
       "      <th>2018-03-05</th>\n",
       "      <td>0.710864</td>\n",
       "      <td>0.720855</td>\n",
       "      <td>-1.294882</td>\n",
       "      <td>-1.117494</td>\n",
       "      <td>1.0</td>\n",
       "      <td>13</td>\n",
       "    </tr>\n",
       "    <tr>\n",
       "      <th>2018-03-06</th>\n",
       "      <td>0.964254</td>\n",
       "      <td>0.167364</td>\n",
       "      <td>-0.332012</td>\n",
       "      <td>0.696122</td>\n",
       "      <td>2.0</td>\n",
       "      <td>13</td>\n",
       "    </tr>\n",
       "    <tr>\n",
       "      <th>2018-03-07</th>\n",
       "      <td>0.324560</td>\n",
       "      <td>-0.544726</td>\n",
       "      <td>-1.065665</td>\n",
       "      <td>-0.467353</td>\n",
       "      <td>3.0</td>\n",
       "      <td>13</td>\n",
       "    </tr>\n",
       "    <tr>\n",
       "      <th>2018-03-08</th>\n",
       "      <td>0.468820</td>\n",
       "      <td>-1.599092</td>\n",
       "      <td>1.657712</td>\n",
       "      <td>-1.276103</td>\n",
       "      <td>4.0</td>\n",
       "      <td>13</td>\n",
       "    </tr>\n",
       "    <tr>\n",
       "      <th>2018-03-09</th>\n",
       "      <td>-0.189765</td>\n",
       "      <td>0.312118</td>\n",
       "      <td>0.526358</td>\n",
       "      <td>-1.783141</td>\n",
       "      <td>5.0</td>\n",
       "      <td>13</td>\n",
       "    </tr>\n",
       "    <tr>\n",
       "      <th>2018-03-10</th>\n",
       "      <td>-0.684227</td>\n",
       "      <td>-1.863847</td>\n",
       "      <td>0.795735</td>\n",
       "      <td>1.029790</td>\n",
       "      <td>6.0</td>\n",
       "      <td>13</td>\n",
       "    </tr>\n",
       "    <tr>\n",
       "      <th>2018-03-11</th>\n",
       "      <td>1.640194</td>\n",
       "      <td>0.044395</td>\n",
       "      <td>0.701436</td>\n",
       "      <td>0.298313</td>\n",
       "      <td>7.0</td>\n",
       "      <td>13</td>\n",
       "    </tr>\n",
       "    <tr>\n",
       "      <th>2018-03-12</th>\n",
       "      <td>-0.322137</td>\n",
       "      <td>-1.246787</td>\n",
       "      <td>-0.633855</td>\n",
       "      <td>0.259672</td>\n",
       "      <td>8.0</td>\n",
       "      <td>13</td>\n",
       "    </tr>\n",
       "    <tr>\n",
       "      <th>2018-03-13</th>\n",
       "      <td>-0.086360</td>\n",
       "      <td>0.081511</td>\n",
       "      <td>0.167596</td>\n",
       "      <td>0.004880</td>\n",
       "      <td>9.0</td>\n",
       "      <td>13</td>\n",
       "    </tr>\n",
       "    <tr>\n",
       "      <th>2018-03-14</th>\n",
       "      <td>-0.191816</td>\n",
       "      <td>1.028748</td>\n",
       "      <td>0.830868</td>\n",
       "      <td>0.670017</td>\n",
       "      <td>10.0</td>\n",
       "      <td>13</td>\n",
       "    </tr>\n",
       "    <tr>\n",
       "      <th>2018-03-15</th>\n",
       "      <td>-0.173712</td>\n",
       "      <td>0.301855</td>\n",
       "      <td>-0.817043</td>\n",
       "      <td>1.186591</td>\n",
       "      <td>11.0</td>\n",
       "      <td>13</td>\n",
       "    </tr>\n",
       "    <tr>\n",
       "      <th>2018-03-16</th>\n",
       "      <td>1.342993</td>\n",
       "      <td>0.318543</td>\n",
       "      <td>-1.647794</td>\n",
       "      <td>-0.593016</td>\n",
       "      <td>12.0</td>\n",
       "      <td>13</td>\n",
       "    </tr>\n",
       "    <tr>\n",
       "      <th>2018-03-17</th>\n",
       "      <td>-0.151358</td>\n",
       "      <td>-1.911083</td>\n",
       "      <td>1.376948</td>\n",
       "      <td>-0.946632</td>\n",
       "      <td>13.0</td>\n",
       "      <td>13</td>\n",
       "    </tr>\n",
       "    <tr>\n",
       "      <th>2018-03-18</th>\n",
       "      <td>0.036859</td>\n",
       "      <td>-0.589389</td>\n",
       "      <td>-1.479406</td>\n",
       "      <td>1.274970</td>\n",
       "      <td>14.0</td>\n",
       "      <td>13</td>\n",
       "    </tr>\n",
       "    <tr>\n",
       "      <th>2018-03-19</th>\n",
       "      <td>0.412061</td>\n",
       "      <td>0.441797</td>\n",
       "      <td>0.030550</td>\n",
       "      <td>1.557150</td>\n",
       "      <td>15.0</td>\n",
       "      <td>13</td>\n",
       "    </tr>\n",
       "    <tr>\n",
       "      <th>2018-03-20</th>\n",
       "      <td>-0.708502</td>\n",
       "      <td>0.249315</td>\n",
       "      <td>0.237221</td>\n",
       "      <td>0.066305</td>\n",
       "      <td>16.0</td>\n",
       "      <td>13</td>\n",
       "    </tr>\n",
       "    <tr>\n",
       "      <th>2018-03-21</th>\n",
       "      <td>-0.777987</td>\n",
       "      <td>1.920155</td>\n",
       "      <td>0.143178</td>\n",
       "      <td>-1.117439</td>\n",
       "      <td>17.0</td>\n",
       "      <td>13</td>\n",
       "    </tr>\n",
       "    <tr>\n",
       "      <th>2018-03-22</th>\n",
       "      <td>-1.450708</td>\n",
       "      <td>1.655633</td>\n",
       "      <td>-2.228759</td>\n",
       "      <td>1.969327</td>\n",
       "      <td>18.0</td>\n",
       "      <td>13</td>\n",
       "    </tr>\n",
       "    <tr>\n",
       "      <th>2018-03-23</th>\n",
       "      <td>-0.717418</td>\n",
       "      <td>0.298537</td>\n",
       "      <td>1.332800</td>\n",
       "      <td>1.666714</td>\n",
       "      <td>19.0</td>\n",
       "      <td>13</td>\n",
       "    </tr>\n",
       "  </tbody>\n",
       "</table>\n",
       "</div>"
      ],
      "text/plain": [
       "                  AA        BB        CC        DD     F  EE\n",
       "2018-03-04 -0.111416  0.982670  1.099774 -1.971252   NaN  13\n",
       "2018-03-05  0.710864  0.720855 -1.294882 -1.117494   1.0  13\n",
       "2018-03-06  0.964254  0.167364 -0.332012  0.696122   2.0  13\n",
       "2018-03-07  0.324560 -0.544726 -1.065665 -0.467353   3.0  13\n",
       "2018-03-08  0.468820 -1.599092  1.657712 -1.276103   4.0  13\n",
       "2018-03-09 -0.189765  0.312118  0.526358 -1.783141   5.0  13\n",
       "2018-03-10 -0.684227 -1.863847  0.795735  1.029790   6.0  13\n",
       "2018-03-11  1.640194  0.044395  0.701436  0.298313   7.0  13\n",
       "2018-03-12 -0.322137 -1.246787 -0.633855  0.259672   8.0  13\n",
       "2018-03-13 -0.086360  0.081511  0.167596  0.004880   9.0  13\n",
       "2018-03-14 -0.191816  1.028748  0.830868  0.670017  10.0  13\n",
       "2018-03-15 -0.173712  0.301855 -0.817043  1.186591  11.0  13\n",
       "2018-03-16  1.342993  0.318543 -1.647794 -0.593016  12.0  13\n",
       "2018-03-17 -0.151358 -1.911083  1.376948 -0.946632  13.0  13\n",
       "2018-03-18  0.036859 -0.589389 -1.479406  1.274970  14.0  13\n",
       "2018-03-19  0.412061  0.441797  0.030550  1.557150  15.0  13\n",
       "2018-03-20 -0.708502  0.249315  0.237221  0.066305  16.0  13\n",
       "2018-03-21 -0.777987  1.920155  0.143178 -1.117439  17.0  13\n",
       "2018-03-22 -1.450708  1.655633 -2.228759  1.969327  18.0  13\n",
       "2018-03-23 -0.717418  0.298537  1.332800  1.666714  19.0  13"
      ]
     },
     "execution_count": 38,
     "metadata": {},
     "output_type": "execute_result"
    }
   ],
   "source": [
    "df.loc[:, 'EE'] = [13] * len(df)\n",
    "df"
   ]
  },
  {
   "cell_type": "markdown",
   "metadata": {},
   "source": [
    "\n"
   ]
  },
  {
   "cell_type": "markdown",
   "metadata": {},
   "source": [
    "### 데이터 프레임의 모든 수를 음수로 전환하기"
   ]
  },
  {
   "cell_type": "code",
   "execution_count": 39,
   "metadata": {},
   "outputs": [],
   "source": [
    "df2 = df.copy()"
   ]
  },
  {
   "cell_type": "code",
   "execution_count": 40,
   "metadata": {
    "scrolled": true
   },
   "outputs": [],
   "source": [
    "df2[df2 > 0] = -df2 # 모든 수를 음수로 전환"
   ]
  },
  {
   "cell_type": "code",
   "execution_count": 41,
   "metadata": {},
   "outputs": [
    {
     "data": {
      "text/html": [
       "<div>\n",
       "<style scoped>\n",
       "    .dataframe tbody tr th:only-of-type {\n",
       "        vertical-align: middle;\n",
       "    }\n",
       "\n",
       "    .dataframe tbody tr th {\n",
       "        vertical-align: top;\n",
       "    }\n",
       "\n",
       "    .dataframe thead th {\n",
       "        text-align: right;\n",
       "    }\n",
       "</style>\n",
       "<table border=\"1\" class=\"dataframe\">\n",
       "  <thead>\n",
       "    <tr style=\"text-align: right;\">\n",
       "      <th></th>\n",
       "      <th>AA</th>\n",
       "      <th>BB</th>\n",
       "      <th>CC</th>\n",
       "      <th>DD</th>\n",
       "      <th>F</th>\n",
       "      <th>EE</th>\n",
       "    </tr>\n",
       "  </thead>\n",
       "  <tbody>\n",
       "    <tr>\n",
       "      <th>2018-03-04</th>\n",
       "      <td>-0.111416</td>\n",
       "      <td>-0.982670</td>\n",
       "      <td>-1.099774</td>\n",
       "      <td>-1.971252</td>\n",
       "      <td>NaN</td>\n",
       "      <td>-13</td>\n",
       "    </tr>\n",
       "    <tr>\n",
       "      <th>2018-03-05</th>\n",
       "      <td>-0.710864</td>\n",
       "      <td>-0.720855</td>\n",
       "      <td>-1.294882</td>\n",
       "      <td>-1.117494</td>\n",
       "      <td>-1.0</td>\n",
       "      <td>-13</td>\n",
       "    </tr>\n",
       "    <tr>\n",
       "      <th>2018-03-06</th>\n",
       "      <td>-0.964254</td>\n",
       "      <td>-0.167364</td>\n",
       "      <td>-0.332012</td>\n",
       "      <td>-0.696122</td>\n",
       "      <td>-2.0</td>\n",
       "      <td>-13</td>\n",
       "    </tr>\n",
       "    <tr>\n",
       "      <th>2018-03-07</th>\n",
       "      <td>-0.324560</td>\n",
       "      <td>-0.544726</td>\n",
       "      <td>-1.065665</td>\n",
       "      <td>-0.467353</td>\n",
       "      <td>-3.0</td>\n",
       "      <td>-13</td>\n",
       "    </tr>\n",
       "    <tr>\n",
       "      <th>2018-03-08</th>\n",
       "      <td>-0.468820</td>\n",
       "      <td>-1.599092</td>\n",
       "      <td>-1.657712</td>\n",
       "      <td>-1.276103</td>\n",
       "      <td>-4.0</td>\n",
       "      <td>-13</td>\n",
       "    </tr>\n",
       "  </tbody>\n",
       "</table>\n",
       "</div>"
      ],
      "text/plain": [
       "                  AA        BB        CC        DD    F  EE\n",
       "2018-03-04 -0.111416 -0.982670 -1.099774 -1.971252  NaN -13\n",
       "2018-03-05 -0.710864 -0.720855 -1.294882 -1.117494 -1.0 -13\n",
       "2018-03-06 -0.964254 -0.167364 -0.332012 -0.696122 -2.0 -13\n",
       "2018-03-07 -0.324560 -0.544726 -1.065665 -0.467353 -3.0 -13\n",
       "2018-03-08 -0.468820 -1.599092 -1.657712 -1.276103 -4.0 -13"
      ]
     },
     "execution_count": 41,
     "metadata": {},
     "output_type": "execute_result"
    }
   ],
   "source": [
    "df2.head()"
   ]
  }
 ],
 "metadata": {
  "kernelspec": {
   "display_name": "Python 3",
   "language": "python",
   "name": "python3"
  },
  "language_info": {
   "codemirror_mode": {
    "name": "ipython",
    "version": 3
   },
   "file_extension": ".py",
   "mimetype": "text/x-python",
   "name": "python",
   "nbconvert_exporter": "python",
   "pygments_lexer": "ipython3",
   "version": "3.6.5"
  }
 },
 "nbformat": 4,
 "nbformat_minor": 2
}
