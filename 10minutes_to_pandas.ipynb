{
 "cells": [
  {
   "cell_type": "code",
   "execution_count": 1,
   "metadata": {},
   "outputs": [],
   "source": [
    "import pandas as pd\n",
    "import numpy as np"
   ]
  },
  {
   "cell_type": "markdown",
   "metadata": {},
   "source": [
    "### pandas 의 버전 확인"
   ]
  },
  {
   "cell_type": "markdown",
   "metadata": {},
   "source": [
    "참고자료:\n",
    "\n",
    "`10 minutes to pandas`, `askdjango`, `구글링`"
   ]
  },
  {
   "cell_type": "code",
   "execution_count": 2,
   "metadata": {},
   "outputs": [
    {
     "data": {
      "text/plain": [
       "'0.23.4'"
      ]
     },
     "execution_count": 2,
     "metadata": {},
     "output_type": "execute_result"
    }
   ],
   "source": [
    "pd.__version__"
   ]
  },
  {
   "cell_type": "markdown",
   "metadata": {},
   "source": [
    "\n"
   ]
  },
  {
   "cell_type": "markdown",
   "metadata": {},
   "source": [
    "# 10 Minutes to pandas 튜토리얼"
   ]
  },
  {
   "cell_type": "markdown",
   "metadata": {},
   "source": [
    "\n"
   ]
  },
  {
   "cell_type": "markdown",
   "metadata": {},
   "source": [
    "### EP1: Object creation(객체 생성)"
   ]
  },
  {
   "cell_type": "code",
   "execution_count": 3,
   "metadata": {},
   "outputs": [
    {
     "data": {
      "text/plain": [
       "0    1.0\n",
       "1    3.0\n",
       "2    5.0\n",
       "3    NaN\n",
       "4    6.0\n",
       "5    8.0\n",
       "dtype: float64"
      ]
     },
     "execution_count": 3,
     "metadata": {},
     "output_type": "execute_result"
    }
   ],
   "source": [
    "s = pd.Series([1,3,5,np.nan,6,8]) #NaN = Not a Number\n",
    "s"
   ]
  },
  {
   "cell_type": "markdown",
   "metadata": {},
   "source": [
    "\n"
   ]
  },
  {
   "cell_type": "markdown",
   "metadata": {},
   "source": [
    "### date_range 를 사용하여 날짜 생성"
   ]
  },
  {
   "cell_type": "code",
   "execution_count": 4,
   "metadata": {},
   "outputs": [
    {
     "data": {
      "text/plain": [
       "DatetimeIndex(['2018-03-04', '2018-03-05', '2018-03-06', '2018-03-07',\n",
       "               '2018-03-08', '2018-03-09', '2018-03-10', '2018-03-11',\n",
       "               '2018-03-12', '2018-03-13', '2018-03-14', '2018-03-15',\n",
       "               '2018-03-16', '2018-03-17', '2018-03-18', '2018-03-19',\n",
       "               '2018-03-20', '2018-03-21', '2018-03-22', '2018-03-23'],\n",
       "              dtype='datetime64[ns]', freq='D')"
      ]
     },
     "execution_count": 4,
     "metadata": {},
     "output_type": "execute_result"
    }
   ],
   "source": [
    "dates = pd.date_range('20180304', periods=20)\n",
    "dates"
   ]
  },
  {
   "cell_type": "markdown",
   "metadata": {},
   "source": [
    "\n"
   ]
  },
  {
   "cell_type": "markdown",
   "metadata": {},
   "source": [
    "### 임의의 배열(array) 를 생성"
   ]
  },
  {
   "cell_type": "code",
   "execution_count": 5,
   "metadata": {},
   "outputs": [
    {
     "data": {
      "text/plain": [
       "array([[ 4.59081389e-01, -1.12869306e+00,  2.69274099e+00,\n",
       "        -3.64585904e-01],\n",
       "       [-6.43209530e-01,  6.00650804e-04,  1.53822323e+00,\n",
       "        -1.83938279e+00],\n",
       "       [ 1.70232215e+00, -8.97962860e-01, -2.62646415e-01,\n",
       "        -1.31935032e+00],\n",
       "       [ 7.62793510e-01,  5.49635018e-01,  9.10210516e-01,\n",
       "        -1.73475364e+00],\n",
       "       [ 3.62775517e-01,  3.59156288e-01, -1.11084570e+00,\n",
       "        -7.75852926e-01],\n",
       "       [-5.10352726e-01,  2.07149780e+00, -9.20242296e-01,\n",
       "        -2.55541664e-01]])"
      ]
     },
     "execution_count": 5,
     "metadata": {},
     "output_type": "execute_result"
    }
   ],
   "source": [
    "np.random.randn(6,4) # 6행 4열의 2차원 랜덤한 array 를 생성"
   ]
  },
  {
   "cell_type": "markdown",
   "metadata": {},
   "source": [
    "### 임의로 생성한 배열을 데이터 프레임으로 생성"
   ]
  },
  {
   "cell_type": "code",
   "execution_count": 6,
   "metadata": {},
   "outputs": [
    {
     "data": {
      "text/html": [
       "<div>\n",
       "<style scoped>\n",
       "    .dataframe tbody tr th:only-of-type {\n",
       "        vertical-align: middle;\n",
       "    }\n",
       "\n",
       "    .dataframe tbody tr th {\n",
       "        vertical-align: top;\n",
       "    }\n",
       "\n",
       "    .dataframe thead th {\n",
       "        text-align: right;\n",
       "    }\n",
       "</style>\n",
       "<table border=\"1\" class=\"dataframe\">\n",
       "  <thead>\n",
       "    <tr style=\"text-align: right;\">\n",
       "      <th></th>\n",
       "      <th>0</th>\n",
       "      <th>1</th>\n",
       "      <th>2</th>\n",
       "      <th>3</th>\n",
       "    </tr>\n",
       "  </thead>\n",
       "  <tbody>\n",
       "    <tr>\n",
       "      <th>인덱스0</th>\n",
       "      <td>-1.190040</td>\n",
       "      <td>-0.650851</td>\n",
       "      <td>1.526844</td>\n",
       "      <td>0.397755</td>\n",
       "    </tr>\n",
       "    <tr>\n",
       "      <th>인덱스1</th>\n",
       "      <td>-0.298046</td>\n",
       "      <td>-0.625153</td>\n",
       "      <td>0.439832</td>\n",
       "      <td>0.618520</td>\n",
       "    </tr>\n",
       "    <tr>\n",
       "      <th>인덱스2</th>\n",
       "      <td>0.117274</td>\n",
       "      <td>-2.376662</td>\n",
       "      <td>-0.361141</td>\n",
       "      <td>-0.276977</td>\n",
       "    </tr>\n",
       "    <tr>\n",
       "      <th>인덱스3</th>\n",
       "      <td>0.459043</td>\n",
       "      <td>1.116591</td>\n",
       "      <td>0.466648</td>\n",
       "      <td>-1.750471</td>\n",
       "    </tr>\n",
       "    <tr>\n",
       "      <th>인덱스4</th>\n",
       "      <td>0.108150</td>\n",
       "      <td>0.643040</td>\n",
       "      <td>-2.005338</td>\n",
       "      <td>-0.684018</td>\n",
       "    </tr>\n",
       "    <tr>\n",
       "      <th>인덱스5</th>\n",
       "      <td>0.029832</td>\n",
       "      <td>-1.758634</td>\n",
       "      <td>-0.353506</td>\n",
       "      <td>0.548303</td>\n",
       "    </tr>\n",
       "  </tbody>\n",
       "</table>\n",
       "</div>"
      ],
      "text/plain": [
       "             0         1         2         3\n",
       "인덱스0 -1.190040 -0.650851  1.526844  0.397755\n",
       "인덱스1 -0.298046 -0.625153  0.439832  0.618520\n",
       "인덱스2  0.117274 -2.376662 -0.361141 -0.276977\n",
       "인덱스3  0.459043  1.116591  0.466648 -1.750471\n",
       "인덱스4  0.108150  0.643040 -2.005338 -0.684018\n",
       "인덱스5  0.029832 -1.758634 -0.353506  0.548303"
      ]
     },
     "execution_count": 6,
     "metadata": {},
     "output_type": "execute_result"
    }
   ],
   "source": [
    "# 2차원 데이터 구조인 DataFrame 으로 생성\n",
    "\n",
    "pd.DataFrame(np.random.randn(6, 4), index=['인덱스0', '인덱스1', '인덱스2', '인덱스3', '인덱스4', '인덱스5'])"
   ]
  },
  {
   "cell_type": "markdown",
   "metadata": {},
   "source": [
    "\n"
   ]
  },
  {
   "cell_type": "markdown",
   "metadata": {},
   "source": [
    "# 만약 위에서 생성한 dates를 index 로 넣게 된다면?"
   ]
  },
  {
   "cell_type": "markdown",
   "metadata": {},
   "source": [
    "\n"
   ]
  },
  {
   "cell_type": "markdown",
   "metadata": {},
   "source": [
    "행이 맞지 않기 때문에 `ValueError: Shape of passed values is (4, 6), indices imply (4, 20)` 오류가 발생\n"
   ]
  },
  {
   "cell_type": "markdown",
   "metadata": {},
   "source": [
    "\n"
   ]
  },
  {
   "cell_type": "markdown",
   "metadata": {},
   "source": [
    "### 꼭 values 의 길이를 일치해야 에러없이 데이터 테이블이 생성된다\n",
    "\n",
    "#### + 다른 사람들도 보기 편하도록 데이터 테이블을 만들면 아래와 같이 shape, head 를 넣어주자"
   ]
  },
  {
   "cell_type": "code",
   "execution_count": 7,
   "metadata": {},
   "outputs": [
    {
     "name": "stdout",
     "output_type": "stream",
     "text": [
      "(20, 4)\n"
     ]
    },
    {
     "data": {
      "text/html": [
       "<div>\n",
       "<style scoped>\n",
       "    .dataframe tbody tr th:only-of-type {\n",
       "        vertical-align: middle;\n",
       "    }\n",
       "\n",
       "    .dataframe tbody tr th {\n",
       "        vertical-align: top;\n",
       "    }\n",
       "\n",
       "    .dataframe thead th {\n",
       "        text-align: right;\n",
       "    }\n",
       "</style>\n",
       "<table border=\"1\" class=\"dataframe\">\n",
       "  <thead>\n",
       "    <tr style=\"text-align: right;\">\n",
       "      <th></th>\n",
       "      <th>A</th>\n",
       "      <th>B</th>\n",
       "      <th>C</th>\n",
       "      <th>D</th>\n",
       "    </tr>\n",
       "  </thead>\n",
       "  <tbody>\n",
       "    <tr>\n",
       "      <th>2018-03-04</th>\n",
       "      <td>-0.703106</td>\n",
       "      <td>0.653740</td>\n",
       "      <td>-1.257482</td>\n",
       "      <td>0.965541</td>\n",
       "    </tr>\n",
       "    <tr>\n",
       "      <th>2018-03-05</th>\n",
       "      <td>0.547757</td>\n",
       "      <td>-0.519178</td>\n",
       "      <td>-0.392001</td>\n",
       "      <td>-1.193207</td>\n",
       "    </tr>\n",
       "    <tr>\n",
       "      <th>2018-03-06</th>\n",
       "      <td>-0.130877</td>\n",
       "      <td>-0.170858</td>\n",
       "      <td>0.614137</td>\n",
       "      <td>-1.084493</td>\n",
       "    </tr>\n",
       "    <tr>\n",
       "      <th>2018-03-07</th>\n",
       "      <td>1.090962</td>\n",
       "      <td>1.989445</td>\n",
       "      <td>-0.573960</td>\n",
       "      <td>-0.715516</td>\n",
       "    </tr>\n",
       "    <tr>\n",
       "      <th>2018-03-08</th>\n",
       "      <td>-1.013661</td>\n",
       "      <td>0.404164</td>\n",
       "      <td>-0.365994</td>\n",
       "      <td>-2.269701</td>\n",
       "    </tr>\n",
       "  </tbody>\n",
       "</table>\n",
       "</div>"
      ],
      "text/plain": [
       "                   A         B         C         D\n",
       "2018-03-04 -0.703106  0.653740 -1.257482  0.965541\n",
       "2018-03-05  0.547757 -0.519178 -0.392001 -1.193207\n",
       "2018-03-06 -0.130877 -0.170858  0.614137 -1.084493\n",
       "2018-03-07  1.090962  1.989445 -0.573960 -0.715516\n",
       "2018-03-08 -1.013661  0.404164 -0.365994 -2.269701"
      ]
     },
     "execution_count": 7,
     "metadata": {},
     "output_type": "execute_result"
    }
   ],
   "source": [
    "df = pd.DataFrame(np.random.randn(20, 4), index=dates, columns=['A','B','C','D'])\n",
    "\n",
    "print(df.shape)\n",
    "df.head()"
   ]
  },
  {
   "cell_type": "markdown",
   "metadata": {},
   "source": [
    "\n"
   ]
  },
  {
   "cell_type": "markdown",
   "metadata": {},
   "source": [
    "\n"
   ]
  },
  {
   "cell_type": "markdown",
   "metadata": {},
   "source": [
    "### 직렬로 변환할 수 있는 object 를 전달하여 DataFrame 생성하기"
   ]
  },
  {
   "cell_type": "code",
   "execution_count": 8,
   "metadata": {},
   "outputs": [
    {
     "name": "stdout",
     "output_type": "stream",
     "text": [
      "(4, 6)\n"
     ]
    },
    {
     "data": {
      "text/html": [
       "<div>\n",
       "<style scoped>\n",
       "    .dataframe tbody tr th:only-of-type {\n",
       "        vertical-align: middle;\n",
       "    }\n",
       "\n",
       "    .dataframe tbody tr th {\n",
       "        vertical-align: top;\n",
       "    }\n",
       "\n",
       "    .dataframe thead th {\n",
       "        text-align: right;\n",
       "    }\n",
       "</style>\n",
       "<table border=\"1\" class=\"dataframe\">\n",
       "  <thead>\n",
       "    <tr style=\"text-align: right;\">\n",
       "      <th></th>\n",
       "      <th>A</th>\n",
       "      <th>B</th>\n",
       "      <th>C</th>\n",
       "      <th>D</th>\n",
       "      <th>E</th>\n",
       "      <th>F</th>\n",
       "    </tr>\n",
       "  </thead>\n",
       "  <tbody>\n",
       "    <tr>\n",
       "      <th>0</th>\n",
       "      <td>1.0</td>\n",
       "      <td>2013-01-02</td>\n",
       "      <td>1.0</td>\n",
       "      <td>3</td>\n",
       "      <td>test</td>\n",
       "      <td>foo</td>\n",
       "    </tr>\n",
       "    <tr>\n",
       "      <th>1</th>\n",
       "      <td>1.0</td>\n",
       "      <td>2013-01-02</td>\n",
       "      <td>1.0</td>\n",
       "      <td>3</td>\n",
       "      <td>train</td>\n",
       "      <td>foo</td>\n",
       "    </tr>\n",
       "    <tr>\n",
       "      <th>2</th>\n",
       "      <td>1.0</td>\n",
       "      <td>2013-01-02</td>\n",
       "      <td>1.0</td>\n",
       "      <td>3</td>\n",
       "      <td>test</td>\n",
       "      <td>foo</td>\n",
       "    </tr>\n",
       "    <tr>\n",
       "      <th>3</th>\n",
       "      <td>1.0</td>\n",
       "      <td>2013-01-02</td>\n",
       "      <td>1.0</td>\n",
       "      <td>3</td>\n",
       "      <td>train</td>\n",
       "      <td>foo</td>\n",
       "    </tr>\n",
       "  </tbody>\n",
       "</table>\n",
       "</div>"
      ],
      "text/plain": [
       "     A          B    C  D      E    F\n",
       "0  1.0 2013-01-02  1.0  3   test  foo\n",
       "1  1.0 2013-01-02  1.0  3  train  foo\n",
       "2  1.0 2013-01-02  1.0  3   test  foo\n",
       "3  1.0 2013-01-02  1.0  3  train  foo"
      ]
     },
     "execution_count": 8,
     "metadata": {},
     "output_type": "execute_result"
    }
   ],
   "source": [
    "df2 = pd.DataFrame({ 'A' : 1.,\n",
    "                    'B' : pd.Timestamp('20130102'),\n",
    "                    'C' : pd.Series(1,index=list(range(4)),dtype='float32'),\n",
    "                    'D' : np.array([3] * 4,dtype='int32'),\n",
    "                    'E' : pd.Categorical([\"test\",\"train\",\"test\",\"train\"]),\n",
    "                    'F' : 'foo' })\n",
    "print(df2.shape)\n",
    "df2"
   ]
  },
  {
   "cell_type": "code",
   "execution_count": 9,
   "metadata": {},
   "outputs": [
    {
     "data": {
      "text/plain": [
       "A           float64\n",
       "B    datetime64[ns]\n",
       "C           float32\n",
       "D             int32\n",
       "E          category\n",
       "F            object\n",
       "dtype: object"
      ]
     },
     "execution_count": 9,
     "metadata": {},
     "output_type": "execute_result"
    }
   ],
   "source": [
    "df2.dtypes # 스마트하게 각 인덱스의 데이터타입을 출력해준다"
   ]
  },
  {
   "cell_type": "markdown",
   "metadata": {},
   "source": [
    "\n",
    "\n"
   ]
  },
  {
   "cell_type": "markdown",
   "metadata": {},
   "source": [
    "\n"
   ]
  },
  {
   "cell_type": "markdown",
   "metadata": {},
   "source": [
    "## EP2: Viewing Data\n",
    "\n",
    "----------------------\n",
    "\n",
    "Data의 값을 찾고 해당 데이터의 변경을 해본다"
   ]
  },
  {
   "cell_type": "markdown",
   "metadata": {},
   "source": [
    "```\n",
    "|        | columns1 | columns2 | columns3 | columns4 |\n",
    "|--------|----------|----------|----------|----------|\n",
    "| index1 |          |          |          |          |\n",
    "| index2 |          |          |          |          |\n",
    "| index3 |          |          |          |          |\n",
    "```"
   ]
  },
  {
   "cell_type": "markdown",
   "metadata": {},
   "source": [
    "\n"
   ]
  },
  {
   "cell_type": "markdown",
   "metadata": {},
   "source": [
    "### index 값 찾기"
   ]
  },
  {
   "cell_type": "code",
   "execution_count": 10,
   "metadata": {},
   "outputs": [
    {
     "data": {
      "text/plain": [
       "DatetimeIndex(['2018-03-04', '2018-03-05', '2018-03-06', '2018-03-07',\n",
       "               '2018-03-08', '2018-03-09', '2018-03-10', '2018-03-11',\n",
       "               '2018-03-12', '2018-03-13', '2018-03-14', '2018-03-15',\n",
       "               '2018-03-16', '2018-03-17', '2018-03-18', '2018-03-19',\n",
       "               '2018-03-20', '2018-03-21', '2018-03-22', '2018-03-23'],\n",
       "              dtype='datetime64[ns]', freq='D')"
      ]
     },
     "execution_count": 10,
     "metadata": {},
     "output_type": "execute_result"
    }
   ],
   "source": [
    "df.index"
   ]
  },
  {
   "cell_type": "markdown",
   "metadata": {},
   "source": [
    "\n"
   ]
  },
  {
   "cell_type": "markdown",
   "metadata": {},
   "source": [
    "### 데이터의 columns 의 값 찾기/변경하기"
   ]
  },
  {
   "cell_type": "code",
   "execution_count": 11,
   "metadata": {},
   "outputs": [
    {
     "data": {
      "text/plain": [
       "Index(['A', 'B', 'C', 'D'], dtype='object')"
      ]
     },
     "execution_count": 11,
     "metadata": {},
     "output_type": "execute_result"
    }
   ],
   "source": [
    "df.columns"
   ]
  },
  {
   "cell_type": "code",
   "execution_count": 12,
   "metadata": {},
   "outputs": [],
   "source": [
    "df.columns = ['A', 'B', 'C', 'D']"
   ]
  },
  {
   "cell_type": "markdown",
   "metadata": {},
   "source": [
    "\n"
   ]
  },
  {
   "cell_type": "markdown",
   "metadata": {},
   "source": [
    "### DataFrame의 요약 정보를 알아보기"
   ]
  },
  {
   "cell_type": "code",
   "execution_count": 13,
   "metadata": {},
   "outputs": [
    {
     "data": {
      "text/html": [
       "<div>\n",
       "<style scoped>\n",
       "    .dataframe tbody tr th:only-of-type {\n",
       "        vertical-align: middle;\n",
       "    }\n",
       "\n",
       "    .dataframe tbody tr th {\n",
       "        vertical-align: top;\n",
       "    }\n",
       "\n",
       "    .dataframe thead th {\n",
       "        text-align: right;\n",
       "    }\n",
       "</style>\n",
       "<table border=\"1\" class=\"dataframe\">\n",
       "  <thead>\n",
       "    <tr style=\"text-align: right;\">\n",
       "      <th></th>\n",
       "      <th>A</th>\n",
       "      <th>B</th>\n",
       "      <th>C</th>\n",
       "      <th>D</th>\n",
       "    </tr>\n",
       "  </thead>\n",
       "  <tbody>\n",
       "    <tr>\n",
       "      <th>count</th>\n",
       "      <td>20.000000</td>\n",
       "      <td>20.000000</td>\n",
       "      <td>20.000000</td>\n",
       "      <td>20.000000</td>\n",
       "    </tr>\n",
       "    <tr>\n",
       "      <th>mean</th>\n",
       "      <td>-0.263461</td>\n",
       "      <td>-0.358772</td>\n",
       "      <td>0.052354</td>\n",
       "      <td>-0.085480</td>\n",
       "    </tr>\n",
       "    <tr>\n",
       "      <th>std</th>\n",
       "      <td>1.037438</td>\n",
       "      <td>0.975795</td>\n",
       "      <td>0.891763</td>\n",
       "      <td>1.059816</td>\n",
       "    </tr>\n",
       "    <tr>\n",
       "      <th>min</th>\n",
       "      <td>-2.317784</td>\n",
       "      <td>-1.834366</td>\n",
       "      <td>-1.287916</td>\n",
       "      <td>-2.269701</td>\n",
       "    </tr>\n",
       "    <tr>\n",
       "      <th>25%</th>\n",
       "      <td>-0.795740</td>\n",
       "      <td>-1.057945</td>\n",
       "      <td>-0.600179</td>\n",
       "      <td>-0.725772</td>\n",
       "    </tr>\n",
       "    <tr>\n",
       "      <th>50%</th>\n",
       "      <td>-0.175319</td>\n",
       "      <td>-0.423575</td>\n",
       "      <td>-0.114012</td>\n",
       "      <td>-0.072497</td>\n",
       "    </tr>\n",
       "    <tr>\n",
       "      <th>75%</th>\n",
       "      <td>0.387284</td>\n",
       "      <td>0.109467</td>\n",
       "      <td>0.867335</td>\n",
       "      <td>0.361035</td>\n",
       "    </tr>\n",
       "    <tr>\n",
       "      <th>max</th>\n",
       "      <td>1.834355</td>\n",
       "      <td>1.989445</td>\n",
       "      <td>1.552706</td>\n",
       "      <td>2.759436</td>\n",
       "    </tr>\n",
       "  </tbody>\n",
       "</table>\n",
       "</div>"
      ],
      "text/plain": [
       "               A          B          C          D\n",
       "count  20.000000  20.000000  20.000000  20.000000\n",
       "mean   -0.263461  -0.358772   0.052354  -0.085480\n",
       "std     1.037438   0.975795   0.891763   1.059816\n",
       "min    -2.317784  -1.834366  -1.287916  -2.269701\n",
       "25%    -0.795740  -1.057945  -0.600179  -0.725772\n",
       "50%    -0.175319  -0.423575  -0.114012  -0.072497\n",
       "75%     0.387284   0.109467   0.867335   0.361035\n",
       "max     1.834355   1.989445   1.552706   2.759436"
      ]
     },
     "execution_count": 13,
     "metadata": {},
     "output_type": "execute_result"
    }
   ],
   "source": [
    "df.describe()"
   ]
  },
  {
   "cell_type": "markdown",
   "metadata": {},
   "source": [
    "\n"
   ]
  },
  {
   "cell_type": "markdown",
   "metadata": {},
   "source": [
    "### index 와 column 을 바꿔주는 `.T`"
   ]
  },
  {
   "cell_type": "code",
   "execution_count": 14,
   "metadata": {},
   "outputs": [
    {
     "data": {
      "text/html": [
       "<div>\n",
       "<style scoped>\n",
       "    .dataframe tbody tr th:only-of-type {\n",
       "        vertical-align: middle;\n",
       "    }\n",
       "\n",
       "    .dataframe tbody tr th {\n",
       "        vertical-align: top;\n",
       "    }\n",
       "\n",
       "    .dataframe thead th {\n",
       "        text-align: right;\n",
       "    }\n",
       "</style>\n",
       "<table border=\"1\" class=\"dataframe\">\n",
       "  <thead>\n",
       "    <tr style=\"text-align: right;\">\n",
       "      <th></th>\n",
       "      <th>2018-03-04 00:00:00</th>\n",
       "      <th>2018-03-05 00:00:00</th>\n",
       "      <th>2018-03-06 00:00:00</th>\n",
       "      <th>2018-03-07 00:00:00</th>\n",
       "      <th>2018-03-08 00:00:00</th>\n",
       "      <th>2018-03-09 00:00:00</th>\n",
       "      <th>2018-03-10 00:00:00</th>\n",
       "      <th>2018-03-11 00:00:00</th>\n",
       "      <th>2018-03-12 00:00:00</th>\n",
       "      <th>2018-03-13 00:00:00</th>\n",
       "      <th>2018-03-14 00:00:00</th>\n",
       "      <th>2018-03-15 00:00:00</th>\n",
       "      <th>2018-03-16 00:00:00</th>\n",
       "      <th>2018-03-17 00:00:00</th>\n",
       "      <th>2018-03-18 00:00:00</th>\n",
       "      <th>2018-03-19 00:00:00</th>\n",
       "      <th>2018-03-20 00:00:00</th>\n",
       "      <th>2018-03-21 00:00:00</th>\n",
       "      <th>2018-03-22 00:00:00</th>\n",
       "      <th>2018-03-23 00:00:00</th>\n",
       "    </tr>\n",
       "  </thead>\n",
       "  <tbody>\n",
       "    <tr>\n",
       "      <th>A</th>\n",
       "      <td>-0.703106</td>\n",
       "      <td>0.547757</td>\n",
       "      <td>-0.130877</td>\n",
       "      <td>1.090962</td>\n",
       "      <td>-1.013661</td>\n",
       "      <td>0.118995</td>\n",
       "      <td>-0.219761</td>\n",
       "      <td>-0.333685</td>\n",
       "      <td>0.656796</td>\n",
       "      <td>0.179418</td>\n",
       "      <td>-0.015846</td>\n",
       "      <td>0.333792</td>\n",
       "      <td>-0.793051</td>\n",
       "      <td>-1.365017</td>\n",
       "      <td>0.647727</td>\n",
       "      <td>1.834355</td>\n",
       "      <td>-2.317784</td>\n",
       "      <td>-0.803808</td>\n",
       "      <td>-2.302691</td>\n",
       "      <td>-0.679732</td>\n",
       "    </tr>\n",
       "    <tr>\n",
       "      <th>B</th>\n",
       "      <td>0.653740</td>\n",
       "      <td>-0.519178</td>\n",
       "      <td>-0.170858</td>\n",
       "      <td>1.989445</td>\n",
       "      <td>0.404164</td>\n",
       "      <td>-0.461176</td>\n",
       "      <td>-1.574852</td>\n",
       "      <td>-0.948865</td>\n",
       "      <td>-0.385973</td>\n",
       "      <td>-0.625696</td>\n",
       "      <td>-0.063043</td>\n",
       "      <td>-1.834366</td>\n",
       "      <td>-0.778356</td>\n",
       "      <td>0.365965</td>\n",
       "      <td>-0.003620</td>\n",
       "      <td>-1.464695</td>\n",
       "      <td>1.111655</td>\n",
       "      <td>0.023968</td>\n",
       "      <td>-1.385183</td>\n",
       "      <td>-1.508508</td>\n",
       "    </tr>\n",
       "    <tr>\n",
       "      <th>C</th>\n",
       "      <td>-1.257482</td>\n",
       "      <td>-0.392001</td>\n",
       "      <td>0.614137</td>\n",
       "      <td>-0.573960</td>\n",
       "      <td>-0.365994</td>\n",
       "      <td>-0.268378</td>\n",
       "      <td>0.839809</td>\n",
       "      <td>0.949915</td>\n",
       "      <td>0.110937</td>\n",
       "      <td>-0.790553</td>\n",
       "      <td>-0.678836</td>\n",
       "      <td>1.103465</td>\n",
       "      <td>1.552706</td>\n",
       "      <td>0.001600</td>\n",
       "      <td>-1.172329</td>\n",
       "      <td>1.343250</td>\n",
       "      <td>0.990790</td>\n",
       "      <td>-1.287916</td>\n",
       "      <td>0.557555</td>\n",
       "      <td>-0.229623</td>\n",
       "    </tr>\n",
       "    <tr>\n",
       "      <th>D</th>\n",
       "      <td>0.965541</td>\n",
       "      <td>-1.193207</td>\n",
       "      <td>-1.084493</td>\n",
       "      <td>-0.715516</td>\n",
       "      <td>-2.269701</td>\n",
       "      <td>-0.756540</td>\n",
       "      <td>0.167952</td>\n",
       "      <td>0.701913</td>\n",
       "      <td>0.077588</td>\n",
       "      <td>0.480335</td>\n",
       "      <td>0.321268</td>\n",
       "      <td>-0.564340</td>\n",
       "      <td>-0.030697</td>\n",
       "      <td>2.759436</td>\n",
       "      <td>0.255908</td>\n",
       "      <td>-1.320738</td>\n",
       "      <td>-0.223556</td>\n",
       "      <td>1.010108</td>\n",
       "      <td>-0.114297</td>\n",
       "      <td>-0.176565</td>\n",
       "    </tr>\n",
       "  </tbody>\n",
       "</table>\n",
       "</div>"
      ],
      "text/plain": [
       "   2018-03-04  2018-03-05  2018-03-06  2018-03-07  2018-03-08  2018-03-09  \\\n",
       "A   -0.703106    0.547757   -0.130877    1.090962   -1.013661    0.118995   \n",
       "B    0.653740   -0.519178   -0.170858    1.989445    0.404164   -0.461176   \n",
       "C   -1.257482   -0.392001    0.614137   -0.573960   -0.365994   -0.268378   \n",
       "D    0.965541   -1.193207   -1.084493   -0.715516   -2.269701   -0.756540   \n",
       "\n",
       "   2018-03-10  2018-03-11  2018-03-12  2018-03-13  2018-03-14  2018-03-15  \\\n",
       "A   -0.219761   -0.333685    0.656796    0.179418   -0.015846    0.333792   \n",
       "B   -1.574852   -0.948865   -0.385973   -0.625696   -0.063043   -1.834366   \n",
       "C    0.839809    0.949915    0.110937   -0.790553   -0.678836    1.103465   \n",
       "D    0.167952    0.701913    0.077588    0.480335    0.321268   -0.564340   \n",
       "\n",
       "   2018-03-16  2018-03-17  2018-03-18  2018-03-19  2018-03-20  2018-03-21  \\\n",
       "A   -0.793051   -1.365017    0.647727    1.834355   -2.317784   -0.803808   \n",
       "B   -0.778356    0.365965   -0.003620   -1.464695    1.111655    0.023968   \n",
       "C    1.552706    0.001600   -1.172329    1.343250    0.990790   -1.287916   \n",
       "D   -0.030697    2.759436    0.255908   -1.320738   -0.223556    1.010108   \n",
       "\n",
       "   2018-03-22  2018-03-23  \n",
       "A   -2.302691   -0.679732  \n",
       "B   -1.385183   -1.508508  \n",
       "C    0.557555   -0.229623  \n",
       "D   -0.114297   -0.176565  "
      ]
     },
     "execution_count": 14,
     "metadata": {},
     "output_type": "execute_result"
    }
   ],
   "source": [
    "df.T"
   ]
  },
  {
   "cell_type": "markdown",
   "metadata": {},
   "source": [
    "### 원하는 index 기준으로 다시 정렬하기"
   ]
  },
  {
   "cell_type": "code",
   "execution_count": 15,
   "metadata": {},
   "outputs": [
    {
     "data": {
      "text/html": [
       "<div>\n",
       "<style scoped>\n",
       "    .dataframe tbody tr th:only-of-type {\n",
       "        vertical-align: middle;\n",
       "    }\n",
       "\n",
       "    .dataframe tbody tr th {\n",
       "        vertical-align: top;\n",
       "    }\n",
       "\n",
       "    .dataframe thead th {\n",
       "        text-align: right;\n",
       "    }\n",
       "</style>\n",
       "<table border=\"1\" class=\"dataframe\">\n",
       "  <thead>\n",
       "    <tr style=\"text-align: right;\">\n",
       "      <th></th>\n",
       "      <th>A</th>\n",
       "      <th>B</th>\n",
       "      <th>C</th>\n",
       "      <th>D</th>\n",
       "    </tr>\n",
       "  </thead>\n",
       "  <tbody>\n",
       "    <tr>\n",
       "      <th>2018-03-23</th>\n",
       "      <td>-0.679732</td>\n",
       "      <td>-1.508508</td>\n",
       "      <td>-0.229623</td>\n",
       "      <td>-0.176565</td>\n",
       "    </tr>\n",
       "    <tr>\n",
       "      <th>2018-03-22</th>\n",
       "      <td>-2.302691</td>\n",
       "      <td>-1.385183</td>\n",
       "      <td>0.557555</td>\n",
       "      <td>-0.114297</td>\n",
       "    </tr>\n",
       "    <tr>\n",
       "      <th>2018-03-21</th>\n",
       "      <td>-0.803808</td>\n",
       "      <td>0.023968</td>\n",
       "      <td>-1.287916</td>\n",
       "      <td>1.010108</td>\n",
       "    </tr>\n",
       "    <tr>\n",
       "      <th>2018-03-20</th>\n",
       "      <td>-2.317784</td>\n",
       "      <td>1.111655</td>\n",
       "      <td>0.990790</td>\n",
       "      <td>-0.223556</td>\n",
       "    </tr>\n",
       "    <tr>\n",
       "      <th>2018-03-19</th>\n",
       "      <td>1.834355</td>\n",
       "      <td>-1.464695</td>\n",
       "      <td>1.343250</td>\n",
       "      <td>-1.320738</td>\n",
       "    </tr>\n",
       "  </tbody>\n",
       "</table>\n",
       "</div>"
      ],
      "text/plain": [
       "                   A         B         C         D\n",
       "2018-03-23 -0.679732 -1.508508 -0.229623 -0.176565\n",
       "2018-03-22 -2.302691 -1.385183  0.557555 -0.114297\n",
       "2018-03-21 -0.803808  0.023968 -1.287916  1.010108\n",
       "2018-03-20 -2.317784  1.111655  0.990790 -0.223556\n",
       "2018-03-19  1.834355 -1.464695  1.343250 -1.320738"
      ]
     },
     "execution_count": 15,
     "metadata": {},
     "output_type": "execute_result"
    }
   ],
   "source": [
    "df.sort_index(ascending=False).head()"
   ]
  },
  {
   "cell_type": "markdown",
   "metadata": {},
   "source": [
    "\n"
   ]
  },
  {
   "cell_type": "markdown",
   "metadata": {},
   "source": [
    "### 특정 column을 기준으로 정렬하기\n",
    "\n",
    "df.sort_values('<기준이 되는 column>')"
   ]
  },
  {
   "cell_type": "code",
   "execution_count": 16,
   "metadata": {},
   "outputs": [
    {
     "data": {
      "text/html": [
       "<div>\n",
       "<style scoped>\n",
       "    .dataframe tbody tr th:only-of-type {\n",
       "        vertical-align: middle;\n",
       "    }\n",
       "\n",
       "    .dataframe tbody tr th {\n",
       "        vertical-align: top;\n",
       "    }\n",
       "\n",
       "    .dataframe thead th {\n",
       "        text-align: right;\n",
       "    }\n",
       "</style>\n",
       "<table border=\"1\" class=\"dataframe\">\n",
       "  <thead>\n",
       "    <tr style=\"text-align: right;\">\n",
       "      <th></th>\n",
       "      <th>A</th>\n",
       "      <th>B</th>\n",
       "      <th>C</th>\n",
       "      <th>D</th>\n",
       "    </tr>\n",
       "  </thead>\n",
       "  <tbody>\n",
       "    <tr>\n",
       "      <th>2018-03-21</th>\n",
       "      <td>-0.803808</td>\n",
       "      <td>0.023968</td>\n",
       "      <td>-1.287916</td>\n",
       "      <td>1.010108</td>\n",
       "    </tr>\n",
       "    <tr>\n",
       "      <th>2018-03-04</th>\n",
       "      <td>-0.703106</td>\n",
       "      <td>0.653740</td>\n",
       "      <td>-1.257482</td>\n",
       "      <td>0.965541</td>\n",
       "    </tr>\n",
       "    <tr>\n",
       "      <th>2018-03-18</th>\n",
       "      <td>0.647727</td>\n",
       "      <td>-0.003620</td>\n",
       "      <td>-1.172329</td>\n",
       "      <td>0.255908</td>\n",
       "    </tr>\n",
       "    <tr>\n",
       "      <th>2018-03-13</th>\n",
       "      <td>0.179418</td>\n",
       "      <td>-0.625696</td>\n",
       "      <td>-0.790553</td>\n",
       "      <td>0.480335</td>\n",
       "    </tr>\n",
       "    <tr>\n",
       "      <th>2018-03-14</th>\n",
       "      <td>-0.015846</td>\n",
       "      <td>-0.063043</td>\n",
       "      <td>-0.678836</td>\n",
       "      <td>0.321268</td>\n",
       "    </tr>\n",
       "  </tbody>\n",
       "</table>\n",
       "</div>"
      ],
      "text/plain": [
       "                   A         B         C         D\n",
       "2018-03-21 -0.803808  0.023968 -1.287916  1.010108\n",
       "2018-03-04 -0.703106  0.653740 -1.257482  0.965541\n",
       "2018-03-18  0.647727 -0.003620 -1.172329  0.255908\n",
       "2018-03-13  0.179418 -0.625696 -0.790553  0.480335\n",
       "2018-03-14 -0.015846 -0.063043 -0.678836  0.321268"
      ]
     },
     "execution_count": 16,
     "metadata": {},
     "output_type": "execute_result"
    }
   ],
   "source": [
    "df.sort_values('C').head()"
   ]
  },
  {
   "cell_type": "markdown",
   "metadata": {},
   "source": [
    "\n"
   ]
  },
  {
   "cell_type": "markdown",
   "metadata": {},
   "source": [
    "\n",
    "\n"
   ]
  },
  {
   "cell_type": "markdown",
   "metadata": {},
   "source": [
    "## EP3: Selection"
   ]
  },
  {
   "cell_type": "markdown",
   "metadata": {},
   "source": [
    "특정 Column 을 선택해서 데이터를 확인\n",
    "\n",
    "2가지 방법은 모두 동일한 결과값을 가지지만 `Column명이 \"D-D\" ` 와 같은 경우에는 마이너스(-) _연산자로 인식하여 (데이터 - 데이터)로 계산을 한다_"
   ]
  },
  {
   "cell_type": "code",
   "execution_count": 17,
   "metadata": {},
   "outputs": [
    {
     "data": {
      "text/plain": [
       "2018-03-04    0.965541\n",
       "2018-03-05   -1.193207\n",
       "2018-03-06   -1.084493\n",
       "Freq: D, Name: D, dtype: float64"
      ]
     },
     "execution_count": 17,
     "metadata": {},
     "output_type": "execute_result"
    }
   ],
   "source": [
    "df['D'].head(3) # DataFrame 'D'의 데이터 가져오기(1)"
   ]
  },
  {
   "cell_type": "code",
   "execution_count": 18,
   "metadata": {},
   "outputs": [
    {
     "data": {
      "text/plain": [
       "2018-03-04    0.965541\n",
       "2018-03-05   -1.193207\n",
       "2018-03-06   -1.084493\n",
       "Freq: D, Name: D, dtype: float64"
      ]
     },
     "execution_count": 18,
     "metadata": {},
     "output_type": "execute_result"
    }
   ],
   "source": [
    "df.D.head(3) # DataFrame 'D'의 데이터 가져오기(1)"
   ]
  },
  {
   "cell_type": "markdown",
   "metadata": {},
   "source": [
    "\n"
   ]
  },
  {
   "cell_type": "markdown",
   "metadata": {},
   "source": [
    "### 슬라이싱하기"
   ]
  },
  {
   "cell_type": "markdown",
   "metadata": {},
   "source": [
    "#### DataFrame 에서 `0이상~3미만` 값을 출력하기"
   ]
  },
  {
   "cell_type": "code",
   "execution_count": 19,
   "metadata": {},
   "outputs": [
    {
     "data": {
      "text/html": [
       "<div>\n",
       "<style scoped>\n",
       "    .dataframe tbody tr th:only-of-type {\n",
       "        vertical-align: middle;\n",
       "    }\n",
       "\n",
       "    .dataframe tbody tr th {\n",
       "        vertical-align: top;\n",
       "    }\n",
       "\n",
       "    .dataframe thead th {\n",
       "        text-align: right;\n",
       "    }\n",
       "</style>\n",
       "<table border=\"1\" class=\"dataframe\">\n",
       "  <thead>\n",
       "    <tr style=\"text-align: right;\">\n",
       "      <th></th>\n",
       "      <th>A</th>\n",
       "      <th>B</th>\n",
       "      <th>C</th>\n",
       "      <th>D</th>\n",
       "    </tr>\n",
       "  </thead>\n",
       "  <tbody>\n",
       "    <tr>\n",
       "      <th>2018-03-04</th>\n",
       "      <td>-0.703106</td>\n",
       "      <td>0.653740</td>\n",
       "      <td>-1.257482</td>\n",
       "      <td>0.965541</td>\n",
       "    </tr>\n",
       "    <tr>\n",
       "      <th>2018-03-05</th>\n",
       "      <td>0.547757</td>\n",
       "      <td>-0.519178</td>\n",
       "      <td>-0.392001</td>\n",
       "      <td>-1.193207</td>\n",
       "    </tr>\n",
       "    <tr>\n",
       "      <th>2018-03-06</th>\n",
       "      <td>-0.130877</td>\n",
       "      <td>-0.170858</td>\n",
       "      <td>0.614137</td>\n",
       "      <td>-1.084493</td>\n",
       "    </tr>\n",
       "  </tbody>\n",
       "</table>\n",
       "</div>"
      ],
      "text/plain": [
       "                   A         B         C         D\n",
       "2018-03-04 -0.703106  0.653740 -1.257482  0.965541\n",
       "2018-03-05  0.547757 -0.519178 -0.392001 -1.193207\n",
       "2018-03-06 -0.130877 -0.170858  0.614137 -1.084493"
      ]
     },
     "execution_count": 19,
     "metadata": {},
     "output_type": "execute_result"
    }
   ],
   "source": [
    "df[0:3]"
   ]
  },
  {
   "cell_type": "markdown",
   "metadata": {},
   "source": [
    "\n"
   ]
  },
  {
   "cell_type": "markdown",
   "metadata": {},
   "source": [
    "#### DataFrame 에서 `A이상 F이하`의 값을 출력하기"
   ]
  },
  {
   "cell_type": "code",
   "execution_count": 20,
   "metadata": {},
   "outputs": [
    {
     "data": {
      "text/html": [
       "<div>\n",
       "<style scoped>\n",
       "    .dataframe tbody tr th:only-of-type {\n",
       "        vertical-align: middle;\n",
       "    }\n",
       "\n",
       "    .dataframe tbody tr th {\n",
       "        vertical-align: top;\n",
       "    }\n",
       "\n",
       "    .dataframe thead th {\n",
       "        text-align: right;\n",
       "    }\n",
       "</style>\n",
       "<table border=\"1\" class=\"dataframe\">\n",
       "  <thead>\n",
       "    <tr style=\"text-align: right;\">\n",
       "      <th></th>\n",
       "      <th>A</th>\n",
       "      <th>B</th>\n",
       "      <th>C</th>\n",
       "      <th>D</th>\n",
       "    </tr>\n",
       "  </thead>\n",
       "  <tbody>\n",
       "    <tr>\n",
       "      <th>2018-03-04</th>\n",
       "      <td>-0.703106</td>\n",
       "      <td>0.653740</td>\n",
       "      <td>-1.257482</td>\n",
       "      <td>0.965541</td>\n",
       "    </tr>\n",
       "    <tr>\n",
       "      <th>2018-03-05</th>\n",
       "      <td>0.547757</td>\n",
       "      <td>-0.519178</td>\n",
       "      <td>-0.392001</td>\n",
       "      <td>-1.193207</td>\n",
       "    </tr>\n",
       "    <tr>\n",
       "      <th>2018-03-06</th>\n",
       "      <td>-0.130877</td>\n",
       "      <td>-0.170858</td>\n",
       "      <td>0.614137</td>\n",
       "      <td>-1.084493</td>\n",
       "    </tr>\n",
       "  </tbody>\n",
       "</table>\n",
       "</div>"
      ],
      "text/plain": [
       "                   A         B         C         D\n",
       "2018-03-04 -0.703106  0.653740 -1.257482  0.965541\n",
       "2018-03-05  0.547757 -0.519178 -0.392001 -1.193207\n",
       "2018-03-06 -0.130877 -0.170858  0.614137 -1.084493"
      ]
     },
     "execution_count": 20,
     "metadata": {},
     "output_type": "execute_result"
    }
   ],
   "source": [
    "df['2018-03-04': '2018-03-06']"
   ]
  },
  {
   "cell_type": "markdown",
   "metadata": {},
   "source": [
    "\n"
   ]
  },
  {
   "cell_type": "markdown",
   "metadata": {},
   "source": [
    "#### 위에서 선언한 변수에 0번째 index 들의 값 출력하기\n",
    "\n",
    "`dates = pd.date_range('20180304', periods=20)`\n"
   ]
  },
  {
   "cell_type": "code",
   "execution_count": 21,
   "metadata": {},
   "outputs": [
    {
     "data": {
      "text/plain": [
       "A   -0.703106\n",
       "B    0.653740\n",
       "C   -1.257482\n",
       "D    0.965541\n",
       "Name: 2018-03-04 00:00:00, dtype: float64"
      ]
     },
     "execution_count": 21,
     "metadata": {},
     "output_type": "execute_result"
    }
   ],
   "source": [
    "df.loc[dates[0]]"
   ]
  },
  {
   "cell_type": "code",
   "execution_count": 22,
   "metadata": {},
   "outputs": [
    {
     "data": {
      "text/html": [
       "<div>\n",
       "<style scoped>\n",
       "    .dataframe tbody tr th:only-of-type {\n",
       "        vertical-align: middle;\n",
       "    }\n",
       "\n",
       "    .dataframe tbody tr th {\n",
       "        vertical-align: top;\n",
       "    }\n",
       "\n",
       "    .dataframe thead th {\n",
       "        text-align: right;\n",
       "    }\n",
       "</style>\n",
       "<table border=\"1\" class=\"dataframe\">\n",
       "  <thead>\n",
       "    <tr style=\"text-align: right;\">\n",
       "      <th></th>\n",
       "      <th>A</th>\n",
       "      <th>D</th>\n",
       "    </tr>\n",
       "  </thead>\n",
       "  <tbody>\n",
       "    <tr>\n",
       "      <th>2018-03-04</th>\n",
       "      <td>-0.703106</td>\n",
       "      <td>0.965541</td>\n",
       "    </tr>\n",
       "    <tr>\n",
       "      <th>2018-03-05</th>\n",
       "      <td>0.547757</td>\n",
       "      <td>-1.193207</td>\n",
       "    </tr>\n",
       "    <tr>\n",
       "      <th>2018-03-06</th>\n",
       "      <td>-0.130877</td>\n",
       "      <td>-1.084493</td>\n",
       "    </tr>\n",
       "    <tr>\n",
       "      <th>2018-03-07</th>\n",
       "      <td>1.090962</td>\n",
       "      <td>-0.715516</td>\n",
       "    </tr>\n",
       "    <tr>\n",
       "      <th>2018-03-08</th>\n",
       "      <td>-1.013661</td>\n",
       "      <td>-2.269701</td>\n",
       "    </tr>\n",
       "  </tbody>\n",
       "</table>\n",
       "</div>"
      ],
      "text/plain": [
       "                   A         D\n",
       "2018-03-04 -0.703106  0.965541\n",
       "2018-03-05  0.547757 -1.193207\n",
       "2018-03-06 -0.130877 -1.084493\n",
       "2018-03-07  1.090962 -0.715516\n",
       "2018-03-08 -1.013661 -2.269701"
      ]
     },
     "execution_count": 22,
     "metadata": {},
     "output_type": "execute_result"
    }
   ],
   "source": [
    "df.loc[:, ['A', 'D']].head() # 특정 index 의 값을 찾기"
   ]
  },
  {
   "cell_type": "code",
   "execution_count": 23,
   "metadata": {},
   "outputs": [
    {
     "data": {
      "text/html": [
       "<div>\n",
       "<style scoped>\n",
       "    .dataframe tbody tr th:only-of-type {\n",
       "        vertical-align: middle;\n",
       "    }\n",
       "\n",
       "    .dataframe tbody tr th {\n",
       "        vertical-align: top;\n",
       "    }\n",
       "\n",
       "    .dataframe thead th {\n",
       "        text-align: right;\n",
       "    }\n",
       "</style>\n",
       "<table border=\"1\" class=\"dataframe\">\n",
       "  <thead>\n",
       "    <tr style=\"text-align: right;\">\n",
       "      <th></th>\n",
       "      <th>A</th>\n",
       "      <th>C</th>\n",
       "    </tr>\n",
       "  </thead>\n",
       "  <tbody>\n",
       "    <tr>\n",
       "      <th>2018-03-11</th>\n",
       "      <td>-0.333685</td>\n",
       "      <td>0.949915</td>\n",
       "    </tr>\n",
       "    <tr>\n",
       "      <th>2018-03-12</th>\n",
       "      <td>0.656796</td>\n",
       "      <td>0.110937</td>\n",
       "    </tr>\n",
       "    <tr>\n",
       "      <th>2018-03-13</th>\n",
       "      <td>0.179418</td>\n",
       "      <td>-0.790553</td>\n",
       "    </tr>\n",
       "    <tr>\n",
       "      <th>2018-03-14</th>\n",
       "      <td>-0.015846</td>\n",
       "      <td>-0.678836</td>\n",
       "    </tr>\n",
       "    <tr>\n",
       "      <th>2018-03-15</th>\n",
       "      <td>0.333792</td>\n",
       "      <td>1.103465</td>\n",
       "    </tr>\n",
       "    <tr>\n",
       "      <th>2018-03-16</th>\n",
       "      <td>-0.793051</td>\n",
       "      <td>1.552706</td>\n",
       "    </tr>\n",
       "  </tbody>\n",
       "</table>\n",
       "</div>"
      ],
      "text/plain": [
       "                   A         C\n",
       "2018-03-11 -0.333685  0.949915\n",
       "2018-03-12  0.656796  0.110937\n",
       "2018-03-13  0.179418 -0.790553\n",
       "2018-03-14 -0.015846 -0.678836\n",
       "2018-03-15  0.333792  1.103465\n",
       "2018-03-16 -0.793051  1.552706"
      ]
     },
     "execution_count": 23,
     "metadata": {},
     "output_type": "execute_result"
    }
   ],
   "source": [
    "df.loc['20180311': '20180316', ['A', 'C']]"
   ]
  },
  {
   "cell_type": "code",
   "execution_count": 24,
   "metadata": {},
   "outputs": [
    {
     "data": {
      "text/plain": [
       "A   -0.333685\n",
       "C    0.949915\n",
       "Name: 2018-03-11 00:00:00, dtype: float64"
      ]
     },
     "execution_count": 24,
     "metadata": {},
     "output_type": "execute_result"
    }
   ],
   "source": [
    "# 1개의 행만 지정했기 때문에 Series 로 출력\n",
    "df.loc['20180311', ['A', 'C']]"
   ]
  },
  {
   "cell_type": "code",
   "execution_count": 25,
   "metadata": {},
   "outputs": [
    {
     "data": {
      "text/plain": [
       "2018-03-11   -0.333685\n",
       "2018-03-12    0.656796\n",
       "2018-03-13    0.179418\n",
       "2018-03-14   -0.015846\n",
       "2018-03-15    0.333792\n",
       "2018-03-16   -0.793051\n",
       "2018-03-17   -1.365017\n",
       "2018-03-18    0.647727\n",
       "2018-03-19    1.834355\n",
       "Freq: D, Name: A, dtype: float64"
      ]
     },
     "execution_count": 25,
     "metadata": {},
     "output_type": "execute_result"
    }
   ],
   "source": [
    "# 행이던 열이던 한줄의 데이터 범위를 선택하면 Series 이다.\n",
    "df.loc['20180311':'20180319', 'A']"
   ]
  },
  {
   "cell_type": "markdown",
   "metadata": {},
   "source": [
    "### 세번째 행을 Selection 하기"
   ]
  },
  {
   "cell_type": "code",
   "execution_count": 26,
   "metadata": {},
   "outputs": [
    {
     "data": {
      "text/html": [
       "<div>\n",
       "<style scoped>\n",
       "    .dataframe tbody tr th:only-of-type {\n",
       "        vertical-align: middle;\n",
       "    }\n",
       "\n",
       "    .dataframe tbody tr th {\n",
       "        vertical-align: top;\n",
       "    }\n",
       "\n",
       "    .dataframe thead th {\n",
       "        text-align: right;\n",
       "    }\n",
       "</style>\n",
       "<table border=\"1\" class=\"dataframe\">\n",
       "  <thead>\n",
       "    <tr style=\"text-align: right;\">\n",
       "      <th></th>\n",
       "      <th>A</th>\n",
       "      <th>B</th>\n",
       "      <th>C</th>\n",
       "      <th>D</th>\n",
       "    </tr>\n",
       "  </thead>\n",
       "  <tbody>\n",
       "    <tr>\n",
       "      <th>2018-03-04</th>\n",
       "      <td>-0.703106</td>\n",
       "      <td>0.653740</td>\n",
       "      <td>-1.257482</td>\n",
       "      <td>0.965541</td>\n",
       "    </tr>\n",
       "    <tr>\n",
       "      <th>2018-03-05</th>\n",
       "      <td>0.547757</td>\n",
       "      <td>-0.519178</td>\n",
       "      <td>-0.392001</td>\n",
       "      <td>-1.193207</td>\n",
       "    </tr>\n",
       "    <tr>\n",
       "      <th>2018-03-06</th>\n",
       "      <td>-0.130877</td>\n",
       "      <td>-0.170858</td>\n",
       "      <td>0.614137</td>\n",
       "      <td>-1.084493</td>\n",
       "    </tr>\n",
       "    <tr>\n",
       "      <th>2018-03-07</th>\n",
       "      <td>1.090962</td>\n",
       "      <td>1.989445</td>\n",
       "      <td>-0.573960</td>\n",
       "      <td>-0.715516</td>\n",
       "    </tr>\n",
       "    <tr>\n",
       "      <th>2018-03-08</th>\n",
       "      <td>-1.013661</td>\n",
       "      <td>0.404164</td>\n",
       "      <td>-0.365994</td>\n",
       "      <td>-2.269701</td>\n",
       "    </tr>\n",
       "  </tbody>\n",
       "</table>\n",
       "</div>"
      ],
      "text/plain": [
       "                   A         B         C         D\n",
       "2018-03-04 -0.703106  0.653740 -1.257482  0.965541\n",
       "2018-03-05  0.547757 -0.519178 -0.392001 -1.193207\n",
       "2018-03-06 -0.130877 -0.170858  0.614137 -1.084493\n",
       "2018-03-07  1.090962  1.989445 -0.573960 -0.715516\n",
       "2018-03-08 -1.013661  0.404164 -0.365994 -2.269701"
      ]
     },
     "execution_count": 26,
     "metadata": {},
     "output_type": "execute_result"
    }
   ],
   "source": [
    "df.head()"
   ]
  },
  {
   "cell_type": "code",
   "execution_count": 27,
   "metadata": {},
   "outputs": [
    {
     "data": {
      "text/plain": [
       "A    1.090962\n",
       "B    1.989445\n",
       "C   -0.573960\n",
       "D   -0.715516\n",
       "Name: 2018-03-07 00:00:00, dtype: float64"
      ]
     },
     "execution_count": 27,
     "metadata": {},
     "output_type": "execute_result"
    }
   ],
   "source": [
    "df.iloc[3] # index 3번째의 행 값을 출력"
   ]
  },
  {
   "cell_type": "code",
   "execution_count": 28,
   "metadata": {},
   "outputs": [
    {
     "data": {
      "text/html": [
       "<div>\n",
       "<style scoped>\n",
       "    .dataframe tbody tr th:only-of-type {\n",
       "        vertical-align: middle;\n",
       "    }\n",
       "\n",
       "    .dataframe tbody tr th {\n",
       "        vertical-align: top;\n",
       "    }\n",
       "\n",
       "    .dataframe thead th {\n",
       "        text-align: right;\n",
       "    }\n",
       "</style>\n",
       "<table border=\"1\" class=\"dataframe\">\n",
       "  <thead>\n",
       "    <tr style=\"text-align: right;\">\n",
       "      <th></th>\n",
       "      <th>A</th>\n",
       "      <th>B</th>\n",
       "    </tr>\n",
       "  </thead>\n",
       "  <tbody>\n",
       "    <tr>\n",
       "      <th>2018-03-07</th>\n",
       "      <td>1.090962</td>\n",
       "      <td>1.989445</td>\n",
       "    </tr>\n",
       "    <tr>\n",
       "      <th>2018-03-08</th>\n",
       "      <td>-1.013661</td>\n",
       "      <td>0.404164</td>\n",
       "    </tr>\n",
       "  </tbody>\n",
       "</table>\n",
       "</div>"
      ],
      "text/plain": [
       "                   A         B\n",
       "2018-03-07  1.090962  1.989445\n",
       "2018-03-08 -1.013661  0.404164"
      ]
     },
     "execution_count": 28,
     "metadata": {},
     "output_type": "execute_result"
    }
   ],
   "source": [
    "df.iloc[3:5, 0:2] # 3월 7일부터 3월 8일 // AA, BB 인덱스의 값 출력"
   ]
  },
  {
   "cell_type": "code",
   "execution_count": 29,
   "metadata": {},
   "outputs": [
    {
     "data": {
      "text/html": [
       "<div>\n",
       "<style scoped>\n",
       "    .dataframe tbody tr th:only-of-type {\n",
       "        vertical-align: middle;\n",
       "    }\n",
       "\n",
       "    .dataframe tbody tr th {\n",
       "        vertical-align: top;\n",
       "    }\n",
       "\n",
       "    .dataframe thead th {\n",
       "        text-align: right;\n",
       "    }\n",
       "</style>\n",
       "<table border=\"1\" class=\"dataframe\">\n",
       "  <thead>\n",
       "    <tr style=\"text-align: right;\">\n",
       "      <th></th>\n",
       "      <th>A</th>\n",
       "      <th>C</th>\n",
       "    </tr>\n",
       "  </thead>\n",
       "  <tbody>\n",
       "    <tr>\n",
       "      <th>2018-03-05</th>\n",
       "      <td>0.547757</td>\n",
       "      <td>-0.392001</td>\n",
       "    </tr>\n",
       "    <tr>\n",
       "      <th>2018-03-06</th>\n",
       "      <td>-0.130877</td>\n",
       "      <td>0.614137</td>\n",
       "    </tr>\n",
       "    <tr>\n",
       "      <th>2018-03-08</th>\n",
       "      <td>-1.013661</td>\n",
       "      <td>-0.365994</td>\n",
       "    </tr>\n",
       "  </tbody>\n",
       "</table>\n",
       "</div>"
      ],
      "text/plain": [
       "                   A         C\n",
       "2018-03-05  0.547757 -0.392001\n",
       "2018-03-06 -0.130877  0.614137\n",
       "2018-03-08 -1.013661 -0.365994"
      ]
     },
     "execution_count": 29,
     "metadata": {},
     "output_type": "execute_result"
    }
   ],
   "source": [
    "df.iloc[[1, 2, 4], [0,2]]"
   ]
  },
  {
   "cell_type": "markdown",
   "metadata": {},
   "source": [
    "\n"
   ]
  },
  {
   "cell_type": "markdown",
   "metadata": {},
   "source": [
    "### *명시적으로 모든 행을 출력한다고 해줄 때는 범위가 없더라도 : 를 넣어준다"
   ]
  },
  {
   "cell_type": "code",
   "execution_count": 30,
   "metadata": {},
   "outputs": [
    {
     "data": {
      "text/html": [
       "<div>\n",
       "<style scoped>\n",
       "    .dataframe tbody tr th:only-of-type {\n",
       "        vertical-align: middle;\n",
       "    }\n",
       "\n",
       "    .dataframe tbody tr th {\n",
       "        vertical-align: top;\n",
       "    }\n",
       "\n",
       "    .dataframe thead th {\n",
       "        text-align: right;\n",
       "    }\n",
       "</style>\n",
       "<table border=\"1\" class=\"dataframe\">\n",
       "  <thead>\n",
       "    <tr style=\"text-align: right;\">\n",
       "      <th></th>\n",
       "      <th>A</th>\n",
       "      <th>B</th>\n",
       "      <th>C</th>\n",
       "      <th>D</th>\n",
       "    </tr>\n",
       "  </thead>\n",
       "  <tbody>\n",
       "    <tr>\n",
       "      <th>2018-03-05</th>\n",
       "      <td>0.547757</td>\n",
       "      <td>-0.519178</td>\n",
       "      <td>-0.392001</td>\n",
       "      <td>-1.193207</td>\n",
       "    </tr>\n",
       "    <tr>\n",
       "      <th>2018-03-07</th>\n",
       "      <td>1.090962</td>\n",
       "      <td>1.989445</td>\n",
       "      <td>-0.573960</td>\n",
       "      <td>-0.715516</td>\n",
       "    </tr>\n",
       "  </tbody>\n",
       "</table>\n",
       "</div>"
      ],
      "text/plain": [
       "                   A         B         C         D\n",
       "2018-03-05  0.547757 -0.519178 -0.392001 -1.193207\n",
       "2018-03-07  1.090962  1.989445 -0.573960 -0.715516"
      ]
     },
     "execution_count": 30,
     "metadata": {},
     "output_type": "execute_result"
    }
   ],
   "source": [
    "df.iloc[[1, 3], :]"
   ]
  },
  {
   "cell_type": "markdown",
   "metadata": {},
   "source": [
    "\n"
   ]
  },
  {
   "cell_type": "markdown",
   "metadata": {},
   "source": [
    "\n"
   ]
  },
  {
   "cell_type": "markdown",
   "metadata": {},
   "source": [
    "### Boolean Indexing"
   ]
  },
  {
   "cell_type": "markdown",
   "metadata": {},
   "source": [
    "DataFrame 에서 0 이상의 값을 찾아보기"
   ]
  },
  {
   "cell_type": "code",
   "execution_count": 31,
   "metadata": {},
   "outputs": [
    {
     "data": {
      "text/plain": [
       "2018-03-04    False\n",
       "2018-03-05     True\n",
       "2018-03-06    False\n",
       "2018-03-07     True\n",
       "2018-03-08    False\n",
       "2018-03-09     True\n",
       "2018-03-10    False\n",
       "2018-03-11    False\n",
       "2018-03-12     True\n",
       "2018-03-13     True\n",
       "2018-03-14    False\n",
       "2018-03-15     True\n",
       "2018-03-16    False\n",
       "2018-03-17    False\n",
       "2018-03-18     True\n",
       "2018-03-19     True\n",
       "2018-03-20    False\n",
       "2018-03-21    False\n",
       "2018-03-22    False\n",
       "2018-03-23    False\n",
       "Freq: D, Name: A, dtype: bool"
      ]
     },
     "execution_count": 31,
     "metadata": {},
     "output_type": "execute_result"
    }
   ],
   "source": [
    "df['A'] > 0"
   ]
  },
  {
   "cell_type": "markdown",
   "metadata": {},
   "source": [
    "\n"
   ]
  },
  {
   "cell_type": "markdown",
   "metadata": {},
   "source": [
    "### AA 인덱스에서 True 값만 가져오기"
   ]
  },
  {
   "cell_type": "code",
   "execution_count": 32,
   "metadata": {},
   "outputs": [
    {
     "data": {
      "text/html": [
       "<div>\n",
       "<style scoped>\n",
       "    .dataframe tbody tr th:only-of-type {\n",
       "        vertical-align: middle;\n",
       "    }\n",
       "\n",
       "    .dataframe tbody tr th {\n",
       "        vertical-align: top;\n",
       "    }\n",
       "\n",
       "    .dataframe thead th {\n",
       "        text-align: right;\n",
       "    }\n",
       "</style>\n",
       "<table border=\"1\" class=\"dataframe\">\n",
       "  <thead>\n",
       "    <tr style=\"text-align: right;\">\n",
       "      <th></th>\n",
       "      <th>A</th>\n",
       "      <th>B</th>\n",
       "      <th>C</th>\n",
       "      <th>D</th>\n",
       "    </tr>\n",
       "  </thead>\n",
       "  <tbody>\n",
       "    <tr>\n",
       "      <th>2018-03-05</th>\n",
       "      <td>0.547757</td>\n",
       "      <td>-0.519178</td>\n",
       "      <td>-0.392001</td>\n",
       "      <td>-1.193207</td>\n",
       "    </tr>\n",
       "    <tr>\n",
       "      <th>2018-03-07</th>\n",
       "      <td>1.090962</td>\n",
       "      <td>1.989445</td>\n",
       "      <td>-0.573960</td>\n",
       "      <td>-0.715516</td>\n",
       "    </tr>\n",
       "    <tr>\n",
       "      <th>2018-03-09</th>\n",
       "      <td>0.118995</td>\n",
       "      <td>-0.461176</td>\n",
       "      <td>-0.268378</td>\n",
       "      <td>-0.756540</td>\n",
       "    </tr>\n",
       "    <tr>\n",
       "      <th>2018-03-12</th>\n",
       "      <td>0.656796</td>\n",
       "      <td>-0.385973</td>\n",
       "      <td>0.110937</td>\n",
       "      <td>0.077588</td>\n",
       "    </tr>\n",
       "    <tr>\n",
       "      <th>2018-03-13</th>\n",
       "      <td>0.179418</td>\n",
       "      <td>-0.625696</td>\n",
       "      <td>-0.790553</td>\n",
       "      <td>0.480335</td>\n",
       "    </tr>\n",
       "    <tr>\n",
       "      <th>2018-03-15</th>\n",
       "      <td>0.333792</td>\n",
       "      <td>-1.834366</td>\n",
       "      <td>1.103465</td>\n",
       "      <td>-0.564340</td>\n",
       "    </tr>\n",
       "    <tr>\n",
       "      <th>2018-03-18</th>\n",
       "      <td>0.647727</td>\n",
       "      <td>-0.003620</td>\n",
       "      <td>-1.172329</td>\n",
       "      <td>0.255908</td>\n",
       "    </tr>\n",
       "    <tr>\n",
       "      <th>2018-03-19</th>\n",
       "      <td>1.834355</td>\n",
       "      <td>-1.464695</td>\n",
       "      <td>1.343250</td>\n",
       "      <td>-1.320738</td>\n",
       "    </tr>\n",
       "  </tbody>\n",
       "</table>\n",
       "</div>"
      ],
      "text/plain": [
       "                   A         B         C         D\n",
       "2018-03-05  0.547757 -0.519178 -0.392001 -1.193207\n",
       "2018-03-07  1.090962  1.989445 -0.573960 -0.715516\n",
       "2018-03-09  0.118995 -0.461176 -0.268378 -0.756540\n",
       "2018-03-12  0.656796 -0.385973  0.110937  0.077588\n",
       "2018-03-13  0.179418 -0.625696 -0.790553  0.480335\n",
       "2018-03-15  0.333792 -1.834366  1.103465 -0.564340\n",
       "2018-03-18  0.647727 -0.003620 -1.172329  0.255908\n",
       "2018-03-19  1.834355 -1.464695  1.343250 -1.320738"
      ]
     },
     "execution_count": 32,
     "metadata": {},
     "output_type": "execute_result"
    }
   ],
   "source": [
    "mask = df['A'] > 0\n",
    "df[mask]"
   ]
  },
  {
   "cell_type": "markdown",
   "metadata": {},
   "source": [
    "\n"
   ]
  },
  {
   "cell_type": "markdown",
   "metadata": {},
   "source": [
    "### df2 로 복사하여 새로운 튜토리얼을 진행"
   ]
  },
  {
   "cell_type": "code",
   "execution_count": 33,
   "metadata": {},
   "outputs": [],
   "source": [
    "df2 = df.copy()"
   ]
  },
  {
   "cell_type": "code",
   "execution_count": 34,
   "metadata": {},
   "outputs": [
    {
     "data": {
      "text/html": [
       "<div>\n",
       "<style scoped>\n",
       "    .dataframe tbody tr th:only-of-type {\n",
       "        vertical-align: middle;\n",
       "    }\n",
       "\n",
       "    .dataframe tbody tr th {\n",
       "        vertical-align: top;\n",
       "    }\n",
       "\n",
       "    .dataframe thead th {\n",
       "        text-align: right;\n",
       "    }\n",
       "</style>\n",
       "<table border=\"1\" class=\"dataframe\">\n",
       "  <thead>\n",
       "    <tr style=\"text-align: right;\">\n",
       "      <th></th>\n",
       "      <th>A</th>\n",
       "      <th>B</th>\n",
       "      <th>C</th>\n",
       "      <th>D</th>\n",
       "      <th>E</th>\n",
       "    </tr>\n",
       "  </thead>\n",
       "  <tbody>\n",
       "    <tr>\n",
       "      <th>2018-03-04</th>\n",
       "      <td>-0.703106</td>\n",
       "      <td>0.653740</td>\n",
       "      <td>-1.257482</td>\n",
       "      <td>0.965541</td>\n",
       "      <td>one</td>\n",
       "    </tr>\n",
       "    <tr>\n",
       "      <th>2018-03-05</th>\n",
       "      <td>0.547757</td>\n",
       "      <td>-0.519178</td>\n",
       "      <td>-0.392001</td>\n",
       "      <td>-1.193207</td>\n",
       "      <td>two</td>\n",
       "    </tr>\n",
       "    <tr>\n",
       "      <th>2018-03-06</th>\n",
       "      <td>-0.130877</td>\n",
       "      <td>-0.170858</td>\n",
       "      <td>0.614137</td>\n",
       "      <td>-1.084493</td>\n",
       "      <td>three</td>\n",
       "    </tr>\n",
       "    <tr>\n",
       "      <th>2018-03-07</th>\n",
       "      <td>1.090962</td>\n",
       "      <td>1.989445</td>\n",
       "      <td>-0.573960</td>\n",
       "      <td>-0.715516</td>\n",
       "      <td>four</td>\n",
       "    </tr>\n",
       "    <tr>\n",
       "      <th>2018-03-08</th>\n",
       "      <td>-1.013661</td>\n",
       "      <td>0.404164</td>\n",
       "      <td>-0.365994</td>\n",
       "      <td>-2.269701</td>\n",
       "      <td>five</td>\n",
       "    </tr>\n",
       "  </tbody>\n",
       "</table>\n",
       "</div>"
      ],
      "text/plain": [
       "                   A         B         C         D      E\n",
       "2018-03-04 -0.703106  0.653740 -1.257482  0.965541    one\n",
       "2018-03-05  0.547757 -0.519178 -0.392001 -1.193207    two\n",
       "2018-03-06 -0.130877 -0.170858  0.614137 -1.084493  three\n",
       "2018-03-07  1.090962  1.989445 -0.573960 -0.715516   four\n",
       "2018-03-08 -1.013661  0.404164 -0.365994 -2.269701   five"
      ]
     },
     "execution_count": 34,
     "metadata": {},
     "output_type": "execute_result"
    }
   ],
   "source": [
    "df2['E'] = [\n",
    "    'one', 'two', 'three', 'four', 'five',\n",
    "    'one', 'two', 'three', 'four', 'five',\n",
    "    'one', 'two', 'three', 'four', 'five',\n",
    "    'one', 'two', 'three', 'four', 'five',\n",
    "]\n",
    "df2.head()"
   ]
  },
  {
   "cell_type": "markdown",
   "metadata": {},
   "source": [
    "\n"
   ]
  },
  {
   "cell_type": "markdown",
   "metadata": {},
   "source": [
    "### 'one', 'two' 에 해당하는 값만 가져오기"
   ]
  },
  {
   "cell_type": "code",
   "execution_count": 35,
   "metadata": {},
   "outputs": [
    {
     "data": {
      "text/html": [
       "<div>\n",
       "<style scoped>\n",
       "    .dataframe tbody tr th:only-of-type {\n",
       "        vertical-align: middle;\n",
       "    }\n",
       "\n",
       "    .dataframe tbody tr th {\n",
       "        vertical-align: top;\n",
       "    }\n",
       "\n",
       "    .dataframe thead th {\n",
       "        text-align: right;\n",
       "    }\n",
       "</style>\n",
       "<table border=\"1\" class=\"dataframe\">\n",
       "  <thead>\n",
       "    <tr style=\"text-align: right;\">\n",
       "      <th></th>\n",
       "      <th>A</th>\n",
       "      <th>B</th>\n",
       "      <th>C</th>\n",
       "      <th>D</th>\n",
       "    </tr>\n",
       "  </thead>\n",
       "  <tbody>\n",
       "    <tr>\n",
       "      <th>2018-03-04</th>\n",
       "      <td>-0.703106</td>\n",
       "      <td>0.653740</td>\n",
       "      <td>-1.257482</td>\n",
       "      <td>0.965541</td>\n",
       "    </tr>\n",
       "    <tr>\n",
       "      <th>2018-03-05</th>\n",
       "      <td>0.547757</td>\n",
       "      <td>-0.519178</td>\n",
       "      <td>-0.392001</td>\n",
       "      <td>-1.193207</td>\n",
       "    </tr>\n",
       "    <tr>\n",
       "      <th>2018-03-09</th>\n",
       "      <td>0.118995</td>\n",
       "      <td>-0.461176</td>\n",
       "      <td>-0.268378</td>\n",
       "      <td>-0.756540</td>\n",
       "    </tr>\n",
       "    <tr>\n",
       "      <th>2018-03-10</th>\n",
       "      <td>-0.219761</td>\n",
       "      <td>-1.574852</td>\n",
       "      <td>0.839809</td>\n",
       "      <td>0.167952</td>\n",
       "    </tr>\n",
       "    <tr>\n",
       "      <th>2018-03-14</th>\n",
       "      <td>-0.015846</td>\n",
       "      <td>-0.063043</td>\n",
       "      <td>-0.678836</td>\n",
       "      <td>0.321268</td>\n",
       "    </tr>\n",
       "    <tr>\n",
       "      <th>2018-03-15</th>\n",
       "      <td>0.333792</td>\n",
       "      <td>-1.834366</td>\n",
       "      <td>1.103465</td>\n",
       "      <td>-0.564340</td>\n",
       "    </tr>\n",
       "    <tr>\n",
       "      <th>2018-03-19</th>\n",
       "      <td>1.834355</td>\n",
       "      <td>-1.464695</td>\n",
       "      <td>1.343250</td>\n",
       "      <td>-1.320738</td>\n",
       "    </tr>\n",
       "    <tr>\n",
       "      <th>2018-03-20</th>\n",
       "      <td>-2.317784</td>\n",
       "      <td>1.111655</td>\n",
       "      <td>0.990790</td>\n",
       "      <td>-0.223556</td>\n",
       "    </tr>\n",
       "  </tbody>\n",
       "</table>\n",
       "</div>"
      ],
      "text/plain": [
       "                   A         B         C         D\n",
       "2018-03-04 -0.703106  0.653740 -1.257482  0.965541\n",
       "2018-03-05  0.547757 -0.519178 -0.392001 -1.193207\n",
       "2018-03-09  0.118995 -0.461176 -0.268378 -0.756540\n",
       "2018-03-10 -0.219761 -1.574852  0.839809  0.167952\n",
       "2018-03-14 -0.015846 -0.063043 -0.678836  0.321268\n",
       "2018-03-15  0.333792 -1.834366  1.103465 -0.564340\n",
       "2018-03-19  1.834355 -1.464695  1.343250 -1.320738\n",
       "2018-03-20 -2.317784  1.111655  0.990790 -0.223556"
      ]
     },
     "execution_count": 35,
     "metadata": {},
     "output_type": "execute_result"
    }
   ],
   "source": [
    "mask = df2.E.isin(['one', 'two'])\n",
    "df[mask]"
   ]
  },
  {
   "cell_type": "markdown",
   "metadata": {},
   "source": [
    "\n"
   ]
  },
  {
   "cell_type": "markdown",
   "metadata": {},
   "source": [
    "### 새로운 Series 를 정의하기"
   ]
  },
  {
   "cell_type": "code",
   "execution_count": 36,
   "metadata": {},
   "outputs": [],
   "source": [
    "s1 = pd.Series(range(1, 21),\n",
    "               index=pd.date_range(\n",
    "                   '20180305', periods=20)\n",
    "              ) # 의도적으로 3월 5일부터 작성\n",
    "df['F'] = s1"
   ]
  },
  {
   "cell_type": "code",
   "execution_count": 37,
   "metadata": {},
   "outputs": [
    {
     "data": {
      "text/html": [
       "<div>\n",
       "<style scoped>\n",
       "    .dataframe tbody tr th:only-of-type {\n",
       "        vertical-align: middle;\n",
       "    }\n",
       "\n",
       "    .dataframe tbody tr th {\n",
       "        vertical-align: top;\n",
       "    }\n",
       "\n",
       "    .dataframe thead th {\n",
       "        text-align: right;\n",
       "    }\n",
       "</style>\n",
       "<table border=\"1\" class=\"dataframe\">\n",
       "  <thead>\n",
       "    <tr style=\"text-align: right;\">\n",
       "      <th></th>\n",
       "      <th>A</th>\n",
       "      <th>B</th>\n",
       "      <th>C</th>\n",
       "      <th>D</th>\n",
       "      <th>F</th>\n",
       "    </tr>\n",
       "  </thead>\n",
       "  <tbody>\n",
       "    <tr>\n",
       "      <th>2018-03-04</th>\n",
       "      <td>-0.703106</td>\n",
       "      <td>0.653740</td>\n",
       "      <td>-1.257482</td>\n",
       "      <td>0.965541</td>\n",
       "      <td>NaN</td>\n",
       "    </tr>\n",
       "    <tr>\n",
       "      <th>2018-03-05</th>\n",
       "      <td>0.547757</td>\n",
       "      <td>-0.519178</td>\n",
       "      <td>-0.392001</td>\n",
       "      <td>-1.193207</td>\n",
       "      <td>1.0</td>\n",
       "    </tr>\n",
       "    <tr>\n",
       "      <th>2018-03-06</th>\n",
       "      <td>-0.130877</td>\n",
       "      <td>-0.170858</td>\n",
       "      <td>0.614137</td>\n",
       "      <td>-1.084493</td>\n",
       "      <td>2.0</td>\n",
       "    </tr>\n",
       "    <tr>\n",
       "      <th>2018-03-07</th>\n",
       "      <td>1.090962</td>\n",
       "      <td>1.989445</td>\n",
       "      <td>-0.573960</td>\n",
       "      <td>-0.715516</td>\n",
       "      <td>3.0</td>\n",
       "    </tr>\n",
       "    <tr>\n",
       "      <th>2018-03-08</th>\n",
       "      <td>-1.013661</td>\n",
       "      <td>0.404164</td>\n",
       "      <td>-0.365994</td>\n",
       "      <td>-2.269701</td>\n",
       "      <td>4.0</td>\n",
       "    </tr>\n",
       "    <tr>\n",
       "      <th>2018-03-09</th>\n",
       "      <td>0.118995</td>\n",
       "      <td>-0.461176</td>\n",
       "      <td>-0.268378</td>\n",
       "      <td>-0.756540</td>\n",
       "      <td>5.0</td>\n",
       "    </tr>\n",
       "    <tr>\n",
       "      <th>2018-03-10</th>\n",
       "      <td>-0.219761</td>\n",
       "      <td>-1.574852</td>\n",
       "      <td>0.839809</td>\n",
       "      <td>0.167952</td>\n",
       "      <td>6.0</td>\n",
       "    </tr>\n",
       "    <tr>\n",
       "      <th>2018-03-11</th>\n",
       "      <td>-0.333685</td>\n",
       "      <td>-0.948865</td>\n",
       "      <td>0.949915</td>\n",
       "      <td>0.701913</td>\n",
       "      <td>7.0</td>\n",
       "    </tr>\n",
       "    <tr>\n",
       "      <th>2018-03-12</th>\n",
       "      <td>0.656796</td>\n",
       "      <td>-0.385973</td>\n",
       "      <td>0.110937</td>\n",
       "      <td>0.077588</td>\n",
       "      <td>8.0</td>\n",
       "    </tr>\n",
       "    <tr>\n",
       "      <th>2018-03-13</th>\n",
       "      <td>0.179418</td>\n",
       "      <td>-0.625696</td>\n",
       "      <td>-0.790553</td>\n",
       "      <td>0.480335</td>\n",
       "      <td>9.0</td>\n",
       "    </tr>\n",
       "    <tr>\n",
       "      <th>2018-03-14</th>\n",
       "      <td>-0.015846</td>\n",
       "      <td>-0.063043</td>\n",
       "      <td>-0.678836</td>\n",
       "      <td>0.321268</td>\n",
       "      <td>10.0</td>\n",
       "    </tr>\n",
       "    <tr>\n",
       "      <th>2018-03-15</th>\n",
       "      <td>0.333792</td>\n",
       "      <td>-1.834366</td>\n",
       "      <td>1.103465</td>\n",
       "      <td>-0.564340</td>\n",
       "      <td>11.0</td>\n",
       "    </tr>\n",
       "    <tr>\n",
       "      <th>2018-03-16</th>\n",
       "      <td>-0.793051</td>\n",
       "      <td>-0.778356</td>\n",
       "      <td>1.552706</td>\n",
       "      <td>-0.030697</td>\n",
       "      <td>12.0</td>\n",
       "    </tr>\n",
       "    <tr>\n",
       "      <th>2018-03-17</th>\n",
       "      <td>-1.365017</td>\n",
       "      <td>0.365965</td>\n",
       "      <td>0.001600</td>\n",
       "      <td>2.759436</td>\n",
       "      <td>13.0</td>\n",
       "    </tr>\n",
       "    <tr>\n",
       "      <th>2018-03-18</th>\n",
       "      <td>0.647727</td>\n",
       "      <td>-0.003620</td>\n",
       "      <td>-1.172329</td>\n",
       "      <td>0.255908</td>\n",
       "      <td>14.0</td>\n",
       "    </tr>\n",
       "    <tr>\n",
       "      <th>2018-03-19</th>\n",
       "      <td>1.834355</td>\n",
       "      <td>-1.464695</td>\n",
       "      <td>1.343250</td>\n",
       "      <td>-1.320738</td>\n",
       "      <td>15.0</td>\n",
       "    </tr>\n",
       "    <tr>\n",
       "      <th>2018-03-20</th>\n",
       "      <td>-2.317784</td>\n",
       "      <td>1.111655</td>\n",
       "      <td>0.990790</td>\n",
       "      <td>-0.223556</td>\n",
       "      <td>16.0</td>\n",
       "    </tr>\n",
       "    <tr>\n",
       "      <th>2018-03-21</th>\n",
       "      <td>-0.803808</td>\n",
       "      <td>0.023968</td>\n",
       "      <td>-1.287916</td>\n",
       "      <td>1.010108</td>\n",
       "      <td>17.0</td>\n",
       "    </tr>\n",
       "    <tr>\n",
       "      <th>2018-03-22</th>\n",
       "      <td>-2.302691</td>\n",
       "      <td>-1.385183</td>\n",
       "      <td>0.557555</td>\n",
       "      <td>-0.114297</td>\n",
       "      <td>18.0</td>\n",
       "    </tr>\n",
       "    <tr>\n",
       "      <th>2018-03-23</th>\n",
       "      <td>-0.679732</td>\n",
       "      <td>-1.508508</td>\n",
       "      <td>-0.229623</td>\n",
       "      <td>-0.176565</td>\n",
       "      <td>19.0</td>\n",
       "    </tr>\n",
       "  </tbody>\n",
       "</table>\n",
       "</div>"
      ],
      "text/plain": [
       "                   A         B         C         D     F\n",
       "2018-03-04 -0.703106  0.653740 -1.257482  0.965541   NaN\n",
       "2018-03-05  0.547757 -0.519178 -0.392001 -1.193207   1.0\n",
       "2018-03-06 -0.130877 -0.170858  0.614137 -1.084493   2.0\n",
       "2018-03-07  1.090962  1.989445 -0.573960 -0.715516   3.0\n",
       "2018-03-08 -1.013661  0.404164 -0.365994 -2.269701   4.0\n",
       "2018-03-09  0.118995 -0.461176 -0.268378 -0.756540   5.0\n",
       "2018-03-10 -0.219761 -1.574852  0.839809  0.167952   6.0\n",
       "2018-03-11 -0.333685 -0.948865  0.949915  0.701913   7.0\n",
       "2018-03-12  0.656796 -0.385973  0.110937  0.077588   8.0\n",
       "2018-03-13  0.179418 -0.625696 -0.790553  0.480335   9.0\n",
       "2018-03-14 -0.015846 -0.063043 -0.678836  0.321268  10.0\n",
       "2018-03-15  0.333792 -1.834366  1.103465 -0.564340  11.0\n",
       "2018-03-16 -0.793051 -0.778356  1.552706 -0.030697  12.0\n",
       "2018-03-17 -1.365017  0.365965  0.001600  2.759436  13.0\n",
       "2018-03-18  0.647727 -0.003620 -1.172329  0.255908  14.0\n",
       "2018-03-19  1.834355 -1.464695  1.343250 -1.320738  15.0\n",
       "2018-03-20 -2.317784  1.111655  0.990790 -0.223556  16.0\n",
       "2018-03-21 -0.803808  0.023968 -1.287916  1.010108  17.0\n",
       "2018-03-22 -2.302691 -1.385183  0.557555 -0.114297  18.0\n",
       "2018-03-23 -0.679732 -1.508508 -0.229623 -0.176565  19.0"
      ]
     },
     "execution_count": 37,
     "metadata": {},
     "output_type": "execute_result"
    }
   ],
   "source": [
    "df # 데이터프레임 F 를 생성했고, 값이 없으면 NaN 으로 출력됨을 확인"
   ]
  },
  {
   "cell_type": "markdown",
   "metadata": {},
   "source": [
    "\n"
   ]
  },
  {
   "cell_type": "markdown",
   "metadata": {},
   "source": [
    "### 데이터프레임의 길이만큼 EE 인덱스의 값을 13으로 생성하시오"
   ]
  },
  {
   "cell_type": "code",
   "execution_count": 38,
   "metadata": {},
   "outputs": [
    {
     "data": {
      "text/html": [
       "<div>\n",
       "<style scoped>\n",
       "    .dataframe tbody tr th:only-of-type {\n",
       "        vertical-align: middle;\n",
       "    }\n",
       "\n",
       "    .dataframe tbody tr th {\n",
       "        vertical-align: top;\n",
       "    }\n",
       "\n",
       "    .dataframe thead th {\n",
       "        text-align: right;\n",
       "    }\n",
       "</style>\n",
       "<table border=\"1\" class=\"dataframe\">\n",
       "  <thead>\n",
       "    <tr style=\"text-align: right;\">\n",
       "      <th></th>\n",
       "      <th>A</th>\n",
       "      <th>B</th>\n",
       "      <th>C</th>\n",
       "      <th>D</th>\n",
       "      <th>F</th>\n",
       "      <th>E</th>\n",
       "    </tr>\n",
       "  </thead>\n",
       "  <tbody>\n",
       "    <tr>\n",
       "      <th>2018-03-04</th>\n",
       "      <td>-0.703106</td>\n",
       "      <td>0.653740</td>\n",
       "      <td>-1.257482</td>\n",
       "      <td>0.965541</td>\n",
       "      <td>NaN</td>\n",
       "      <td>13</td>\n",
       "    </tr>\n",
       "    <tr>\n",
       "      <th>2018-03-05</th>\n",
       "      <td>0.547757</td>\n",
       "      <td>-0.519178</td>\n",
       "      <td>-0.392001</td>\n",
       "      <td>-1.193207</td>\n",
       "      <td>1.0</td>\n",
       "      <td>13</td>\n",
       "    </tr>\n",
       "    <tr>\n",
       "      <th>2018-03-06</th>\n",
       "      <td>-0.130877</td>\n",
       "      <td>-0.170858</td>\n",
       "      <td>0.614137</td>\n",
       "      <td>-1.084493</td>\n",
       "      <td>2.0</td>\n",
       "      <td>13</td>\n",
       "    </tr>\n",
       "    <tr>\n",
       "      <th>2018-03-07</th>\n",
       "      <td>1.090962</td>\n",
       "      <td>1.989445</td>\n",
       "      <td>-0.573960</td>\n",
       "      <td>-0.715516</td>\n",
       "      <td>3.0</td>\n",
       "      <td>13</td>\n",
       "    </tr>\n",
       "    <tr>\n",
       "      <th>2018-03-08</th>\n",
       "      <td>-1.013661</td>\n",
       "      <td>0.404164</td>\n",
       "      <td>-0.365994</td>\n",
       "      <td>-2.269701</td>\n",
       "      <td>4.0</td>\n",
       "      <td>13</td>\n",
       "    </tr>\n",
       "    <tr>\n",
       "      <th>2018-03-09</th>\n",
       "      <td>0.118995</td>\n",
       "      <td>-0.461176</td>\n",
       "      <td>-0.268378</td>\n",
       "      <td>-0.756540</td>\n",
       "      <td>5.0</td>\n",
       "      <td>13</td>\n",
       "    </tr>\n",
       "    <tr>\n",
       "      <th>2018-03-10</th>\n",
       "      <td>-0.219761</td>\n",
       "      <td>-1.574852</td>\n",
       "      <td>0.839809</td>\n",
       "      <td>0.167952</td>\n",
       "      <td>6.0</td>\n",
       "      <td>13</td>\n",
       "    </tr>\n",
       "    <tr>\n",
       "      <th>2018-03-11</th>\n",
       "      <td>-0.333685</td>\n",
       "      <td>-0.948865</td>\n",
       "      <td>0.949915</td>\n",
       "      <td>0.701913</td>\n",
       "      <td>7.0</td>\n",
       "      <td>13</td>\n",
       "    </tr>\n",
       "    <tr>\n",
       "      <th>2018-03-12</th>\n",
       "      <td>0.656796</td>\n",
       "      <td>-0.385973</td>\n",
       "      <td>0.110937</td>\n",
       "      <td>0.077588</td>\n",
       "      <td>8.0</td>\n",
       "      <td>13</td>\n",
       "    </tr>\n",
       "    <tr>\n",
       "      <th>2018-03-13</th>\n",
       "      <td>0.179418</td>\n",
       "      <td>-0.625696</td>\n",
       "      <td>-0.790553</td>\n",
       "      <td>0.480335</td>\n",
       "      <td>9.0</td>\n",
       "      <td>13</td>\n",
       "    </tr>\n",
       "    <tr>\n",
       "      <th>2018-03-14</th>\n",
       "      <td>-0.015846</td>\n",
       "      <td>-0.063043</td>\n",
       "      <td>-0.678836</td>\n",
       "      <td>0.321268</td>\n",
       "      <td>10.0</td>\n",
       "      <td>13</td>\n",
       "    </tr>\n",
       "    <tr>\n",
       "      <th>2018-03-15</th>\n",
       "      <td>0.333792</td>\n",
       "      <td>-1.834366</td>\n",
       "      <td>1.103465</td>\n",
       "      <td>-0.564340</td>\n",
       "      <td>11.0</td>\n",
       "      <td>13</td>\n",
       "    </tr>\n",
       "    <tr>\n",
       "      <th>2018-03-16</th>\n",
       "      <td>-0.793051</td>\n",
       "      <td>-0.778356</td>\n",
       "      <td>1.552706</td>\n",
       "      <td>-0.030697</td>\n",
       "      <td>12.0</td>\n",
       "      <td>13</td>\n",
       "    </tr>\n",
       "    <tr>\n",
       "      <th>2018-03-17</th>\n",
       "      <td>-1.365017</td>\n",
       "      <td>0.365965</td>\n",
       "      <td>0.001600</td>\n",
       "      <td>2.759436</td>\n",
       "      <td>13.0</td>\n",
       "      <td>13</td>\n",
       "    </tr>\n",
       "    <tr>\n",
       "      <th>2018-03-18</th>\n",
       "      <td>0.647727</td>\n",
       "      <td>-0.003620</td>\n",
       "      <td>-1.172329</td>\n",
       "      <td>0.255908</td>\n",
       "      <td>14.0</td>\n",
       "      <td>13</td>\n",
       "    </tr>\n",
       "    <tr>\n",
       "      <th>2018-03-19</th>\n",
       "      <td>1.834355</td>\n",
       "      <td>-1.464695</td>\n",
       "      <td>1.343250</td>\n",
       "      <td>-1.320738</td>\n",
       "      <td>15.0</td>\n",
       "      <td>13</td>\n",
       "    </tr>\n",
       "    <tr>\n",
       "      <th>2018-03-20</th>\n",
       "      <td>-2.317784</td>\n",
       "      <td>1.111655</td>\n",
       "      <td>0.990790</td>\n",
       "      <td>-0.223556</td>\n",
       "      <td>16.0</td>\n",
       "      <td>13</td>\n",
       "    </tr>\n",
       "    <tr>\n",
       "      <th>2018-03-21</th>\n",
       "      <td>-0.803808</td>\n",
       "      <td>0.023968</td>\n",
       "      <td>-1.287916</td>\n",
       "      <td>1.010108</td>\n",
       "      <td>17.0</td>\n",
       "      <td>13</td>\n",
       "    </tr>\n",
       "    <tr>\n",
       "      <th>2018-03-22</th>\n",
       "      <td>-2.302691</td>\n",
       "      <td>-1.385183</td>\n",
       "      <td>0.557555</td>\n",
       "      <td>-0.114297</td>\n",
       "      <td>18.0</td>\n",
       "      <td>13</td>\n",
       "    </tr>\n",
       "    <tr>\n",
       "      <th>2018-03-23</th>\n",
       "      <td>-0.679732</td>\n",
       "      <td>-1.508508</td>\n",
       "      <td>-0.229623</td>\n",
       "      <td>-0.176565</td>\n",
       "      <td>19.0</td>\n",
       "      <td>13</td>\n",
       "    </tr>\n",
       "  </tbody>\n",
       "</table>\n",
       "</div>"
      ],
      "text/plain": [
       "                   A         B         C         D     F   E\n",
       "2018-03-04 -0.703106  0.653740 -1.257482  0.965541   NaN  13\n",
       "2018-03-05  0.547757 -0.519178 -0.392001 -1.193207   1.0  13\n",
       "2018-03-06 -0.130877 -0.170858  0.614137 -1.084493   2.0  13\n",
       "2018-03-07  1.090962  1.989445 -0.573960 -0.715516   3.0  13\n",
       "2018-03-08 -1.013661  0.404164 -0.365994 -2.269701   4.0  13\n",
       "2018-03-09  0.118995 -0.461176 -0.268378 -0.756540   5.0  13\n",
       "2018-03-10 -0.219761 -1.574852  0.839809  0.167952   6.0  13\n",
       "2018-03-11 -0.333685 -0.948865  0.949915  0.701913   7.0  13\n",
       "2018-03-12  0.656796 -0.385973  0.110937  0.077588   8.0  13\n",
       "2018-03-13  0.179418 -0.625696 -0.790553  0.480335   9.0  13\n",
       "2018-03-14 -0.015846 -0.063043 -0.678836  0.321268  10.0  13\n",
       "2018-03-15  0.333792 -1.834366  1.103465 -0.564340  11.0  13\n",
       "2018-03-16 -0.793051 -0.778356  1.552706 -0.030697  12.0  13\n",
       "2018-03-17 -1.365017  0.365965  0.001600  2.759436  13.0  13\n",
       "2018-03-18  0.647727 -0.003620 -1.172329  0.255908  14.0  13\n",
       "2018-03-19  1.834355 -1.464695  1.343250 -1.320738  15.0  13\n",
       "2018-03-20 -2.317784  1.111655  0.990790 -0.223556  16.0  13\n",
       "2018-03-21 -0.803808  0.023968 -1.287916  1.010108  17.0  13\n",
       "2018-03-22 -2.302691 -1.385183  0.557555 -0.114297  18.0  13\n",
       "2018-03-23 -0.679732 -1.508508 -0.229623 -0.176565  19.0  13"
      ]
     },
     "execution_count": 38,
     "metadata": {},
     "output_type": "execute_result"
    }
   ],
   "source": [
    "df.loc[:, 'E'] = [13] * len(df)\n",
    "df"
   ]
  },
  {
   "cell_type": "markdown",
   "metadata": {},
   "source": [
    "\n"
   ]
  },
  {
   "cell_type": "markdown",
   "metadata": {},
   "source": [
    "### 데이터 프레임의 모든 수를 음수로 전환하기"
   ]
  },
  {
   "cell_type": "code",
   "execution_count": 39,
   "metadata": {},
   "outputs": [],
   "source": [
    "df2 = df.copy()"
   ]
  },
  {
   "cell_type": "code",
   "execution_count": 40,
   "metadata": {
    "scrolled": true
   },
   "outputs": [],
   "source": [
    "df2[df2 > 0] = -df2 # 모든 수를 음수로 전환"
   ]
  },
  {
   "cell_type": "code",
   "execution_count": 41,
   "metadata": {},
   "outputs": [
    {
     "data": {
      "text/html": [
       "<div>\n",
       "<style scoped>\n",
       "    .dataframe tbody tr th:only-of-type {\n",
       "        vertical-align: middle;\n",
       "    }\n",
       "\n",
       "    .dataframe tbody tr th {\n",
       "        vertical-align: top;\n",
       "    }\n",
       "\n",
       "    .dataframe thead th {\n",
       "        text-align: right;\n",
       "    }\n",
       "</style>\n",
       "<table border=\"1\" class=\"dataframe\">\n",
       "  <thead>\n",
       "    <tr style=\"text-align: right;\">\n",
       "      <th></th>\n",
       "      <th>A</th>\n",
       "      <th>B</th>\n",
       "      <th>C</th>\n",
       "      <th>D</th>\n",
       "      <th>F</th>\n",
       "      <th>E</th>\n",
       "    </tr>\n",
       "  </thead>\n",
       "  <tbody>\n",
       "    <tr>\n",
       "      <th>2018-03-04</th>\n",
       "      <td>-0.703106</td>\n",
       "      <td>-0.653740</td>\n",
       "      <td>-1.257482</td>\n",
       "      <td>-0.965541</td>\n",
       "      <td>NaN</td>\n",
       "      <td>-13</td>\n",
       "    </tr>\n",
       "    <tr>\n",
       "      <th>2018-03-05</th>\n",
       "      <td>-0.547757</td>\n",
       "      <td>-0.519178</td>\n",
       "      <td>-0.392001</td>\n",
       "      <td>-1.193207</td>\n",
       "      <td>-1.0</td>\n",
       "      <td>-13</td>\n",
       "    </tr>\n",
       "    <tr>\n",
       "      <th>2018-03-06</th>\n",
       "      <td>-0.130877</td>\n",
       "      <td>-0.170858</td>\n",
       "      <td>-0.614137</td>\n",
       "      <td>-1.084493</td>\n",
       "      <td>-2.0</td>\n",
       "      <td>-13</td>\n",
       "    </tr>\n",
       "    <tr>\n",
       "      <th>2018-03-07</th>\n",
       "      <td>-1.090962</td>\n",
       "      <td>-1.989445</td>\n",
       "      <td>-0.573960</td>\n",
       "      <td>-0.715516</td>\n",
       "      <td>-3.0</td>\n",
       "      <td>-13</td>\n",
       "    </tr>\n",
       "    <tr>\n",
       "      <th>2018-03-08</th>\n",
       "      <td>-1.013661</td>\n",
       "      <td>-0.404164</td>\n",
       "      <td>-0.365994</td>\n",
       "      <td>-2.269701</td>\n",
       "      <td>-4.0</td>\n",
       "      <td>-13</td>\n",
       "    </tr>\n",
       "  </tbody>\n",
       "</table>\n",
       "</div>"
      ],
      "text/plain": [
       "                   A         B         C         D    F   E\n",
       "2018-03-04 -0.703106 -0.653740 -1.257482 -0.965541  NaN -13\n",
       "2018-03-05 -0.547757 -0.519178 -0.392001 -1.193207 -1.0 -13\n",
       "2018-03-06 -0.130877 -0.170858 -0.614137 -1.084493 -2.0 -13\n",
       "2018-03-07 -1.090962 -1.989445 -0.573960 -0.715516 -3.0 -13\n",
       "2018-03-08 -1.013661 -0.404164 -0.365994 -2.269701 -4.0 -13"
      ]
     },
     "execution_count": 41,
     "metadata": {},
     "output_type": "execute_result"
    }
   ],
   "source": [
    "df2.head()"
   ]
  },
  {
   "cell_type": "markdown",
   "metadata": {},
   "source": [
    "\n"
   ]
  },
  {
   "cell_type": "markdown",
   "metadata": {},
   "source": [
    "\n"
   ]
  },
  {
   "cell_type": "markdown",
   "metadata": {},
   "source": [
    "## Missing Data"
   ]
  },
  {
   "cell_type": "markdown",
   "metadata": {},
   "source": [
    "### reindex 를 사용하여 지정된 축의 index 를 변경/추가/삭제"
   ]
  },
  {
   "cell_type": "code",
   "execution_count": 42,
   "metadata": {},
   "outputs": [],
   "source": [
    "df1 = df.reindex(index=dates[0:4], columns=list(df.columns) + ['E'])"
   ]
  },
  {
   "cell_type": "code",
   "execution_count": 43,
   "metadata": {},
   "outputs": [
    {
     "data": {
      "text/html": [
       "<div>\n",
       "<style scoped>\n",
       "    .dataframe tbody tr th:only-of-type {\n",
       "        vertical-align: middle;\n",
       "    }\n",
       "\n",
       "    .dataframe tbody tr th {\n",
       "        vertical-align: top;\n",
       "    }\n",
       "\n",
       "    .dataframe thead th {\n",
       "        text-align: right;\n",
       "    }\n",
       "</style>\n",
       "<table border=\"1\" class=\"dataframe\">\n",
       "  <thead>\n",
       "    <tr style=\"text-align: right;\">\n",
       "      <th></th>\n",
       "      <th>A</th>\n",
       "      <th>B</th>\n",
       "      <th>C</th>\n",
       "      <th>D</th>\n",
       "      <th>F</th>\n",
       "      <th>E</th>\n",
       "      <th>E</th>\n",
       "    </tr>\n",
       "  </thead>\n",
       "  <tbody>\n",
       "    <tr>\n",
       "      <th>2018-03-04</th>\n",
       "      <td>-0.703106</td>\n",
       "      <td>0.653740</td>\n",
       "      <td>-1.257482</td>\n",
       "      <td>0.965541</td>\n",
       "      <td>NaN</td>\n",
       "      <td>13</td>\n",
       "      <td>13</td>\n",
       "    </tr>\n",
       "    <tr>\n",
       "      <th>2018-03-05</th>\n",
       "      <td>0.547757</td>\n",
       "      <td>-0.519178</td>\n",
       "      <td>-0.392001</td>\n",
       "      <td>-1.193207</td>\n",
       "      <td>1.0</td>\n",
       "      <td>13</td>\n",
       "      <td>13</td>\n",
       "    </tr>\n",
       "    <tr>\n",
       "      <th>2018-03-06</th>\n",
       "      <td>-0.130877</td>\n",
       "      <td>-0.170858</td>\n",
       "      <td>0.614137</td>\n",
       "      <td>-1.084493</td>\n",
       "      <td>2.0</td>\n",
       "      <td>13</td>\n",
       "      <td>13</td>\n",
       "    </tr>\n",
       "    <tr>\n",
       "      <th>2018-03-07</th>\n",
       "      <td>1.090962</td>\n",
       "      <td>1.989445</td>\n",
       "      <td>-0.573960</td>\n",
       "      <td>-0.715516</td>\n",
       "      <td>3.0</td>\n",
       "      <td>13</td>\n",
       "      <td>13</td>\n",
       "    </tr>\n",
       "  </tbody>\n",
       "</table>\n",
       "</div>"
      ],
      "text/plain": [
       "                   A         B         C         D    F   E   E\n",
       "2018-03-04 -0.703106  0.653740 -1.257482  0.965541  NaN  13  13\n",
       "2018-03-05  0.547757 -0.519178 -0.392001 -1.193207  1.0  13  13\n",
       "2018-03-06 -0.130877 -0.170858  0.614137 -1.084493  2.0  13  13\n",
       "2018-03-07  1.090962  1.989445 -0.573960 -0.715516  3.0  13  13"
      ]
     },
     "execution_count": 43,
     "metadata": {},
     "output_type": "execute_result"
    }
   ],
   "source": [
    "df1"
   ]
  },
  {
   "cell_type": "markdown",
   "metadata": {},
   "source": [
    "\n"
   ]
  },
  {
   "cell_type": "markdown",
   "metadata": {},
   "source": [
    "### index[0], [1] 에 해당하는 E Column 의 값을 1로 변경하기"
   ]
  },
  {
   "cell_type": "code",
   "execution_count": 44,
   "metadata": {},
   "outputs": [
    {
     "data": {
      "text/html": [
       "<div>\n",
       "<style scoped>\n",
       "    .dataframe tbody tr th:only-of-type {\n",
       "        vertical-align: middle;\n",
       "    }\n",
       "\n",
       "    .dataframe tbody tr th {\n",
       "        vertical-align: top;\n",
       "    }\n",
       "\n",
       "    .dataframe thead th {\n",
       "        text-align: right;\n",
       "    }\n",
       "</style>\n",
       "<table border=\"1\" class=\"dataframe\">\n",
       "  <thead>\n",
       "    <tr style=\"text-align: right;\">\n",
       "      <th></th>\n",
       "      <th>A</th>\n",
       "      <th>B</th>\n",
       "      <th>C</th>\n",
       "      <th>D</th>\n",
       "      <th>F</th>\n",
       "      <th>E</th>\n",
       "      <th>E</th>\n",
       "    </tr>\n",
       "  </thead>\n",
       "  <tbody>\n",
       "    <tr>\n",
       "      <th>2018-03-04</th>\n",
       "      <td>-0.703106</td>\n",
       "      <td>0.653740</td>\n",
       "      <td>-1.257482</td>\n",
       "      <td>0.965541</td>\n",
       "      <td>NaN</td>\n",
       "      <td>1</td>\n",
       "      <td>1</td>\n",
       "    </tr>\n",
       "    <tr>\n",
       "      <th>2018-03-05</th>\n",
       "      <td>0.547757</td>\n",
       "      <td>-0.519178</td>\n",
       "      <td>-0.392001</td>\n",
       "      <td>-1.193207</td>\n",
       "      <td>1.0</td>\n",
       "      <td>1</td>\n",
       "      <td>1</td>\n",
       "    </tr>\n",
       "    <tr>\n",
       "      <th>2018-03-06</th>\n",
       "      <td>-0.130877</td>\n",
       "      <td>-0.170858</td>\n",
       "      <td>0.614137</td>\n",
       "      <td>-1.084493</td>\n",
       "      <td>2.0</td>\n",
       "      <td>13</td>\n",
       "      <td>13</td>\n",
       "    </tr>\n",
       "    <tr>\n",
       "      <th>2018-03-07</th>\n",
       "      <td>1.090962</td>\n",
       "      <td>1.989445</td>\n",
       "      <td>-0.573960</td>\n",
       "      <td>-0.715516</td>\n",
       "      <td>3.0</td>\n",
       "      <td>13</td>\n",
       "      <td>13</td>\n",
       "    </tr>\n",
       "  </tbody>\n",
       "</table>\n",
       "</div>"
      ],
      "text/plain": [
       "                   A         B         C         D    F   E   E\n",
       "2018-03-04 -0.703106  0.653740 -1.257482  0.965541  NaN   1   1\n",
       "2018-03-05  0.547757 -0.519178 -0.392001 -1.193207  1.0   1   1\n",
       "2018-03-06 -0.130877 -0.170858  0.614137 -1.084493  2.0  13  13\n",
       "2018-03-07  1.090962  1.989445 -0.573960 -0.715516  3.0  13  13"
      ]
     },
     "execution_count": 44,
     "metadata": {},
     "output_type": "execute_result"
    }
   ],
   "source": [
    "df1.loc[dates[0]:dates[1], 'E'] = 1\n",
    "df1"
   ]
  },
  {
   "cell_type": "markdown",
   "metadata": {},
   "source": [
    "\n"
   ]
  },
  {
   "cell_type": "markdown",
   "metadata": {},
   "source": [
    "### NaN 에 해당하는 행을 모두 지우기"
   ]
  },
  {
   "cell_type": "code",
   "execution_count": 45,
   "metadata": {},
   "outputs": [
    {
     "data": {
      "text/html": [
       "<div>\n",
       "<style scoped>\n",
       "    .dataframe tbody tr th:only-of-type {\n",
       "        vertical-align: middle;\n",
       "    }\n",
       "\n",
       "    .dataframe tbody tr th {\n",
       "        vertical-align: top;\n",
       "    }\n",
       "\n",
       "    .dataframe thead th {\n",
       "        text-align: right;\n",
       "    }\n",
       "</style>\n",
       "<table border=\"1\" class=\"dataframe\">\n",
       "  <thead>\n",
       "    <tr style=\"text-align: right;\">\n",
       "      <th></th>\n",
       "      <th>A</th>\n",
       "      <th>B</th>\n",
       "      <th>C</th>\n",
       "      <th>D</th>\n",
       "      <th>F</th>\n",
       "      <th>E</th>\n",
       "      <th>E</th>\n",
       "    </tr>\n",
       "  </thead>\n",
       "  <tbody>\n",
       "    <tr>\n",
       "      <th>2018-03-05</th>\n",
       "      <td>0.547757</td>\n",
       "      <td>-0.519178</td>\n",
       "      <td>-0.392001</td>\n",
       "      <td>-1.193207</td>\n",
       "      <td>1.0</td>\n",
       "      <td>1</td>\n",
       "      <td>1</td>\n",
       "    </tr>\n",
       "    <tr>\n",
       "      <th>2018-03-06</th>\n",
       "      <td>-0.130877</td>\n",
       "      <td>-0.170858</td>\n",
       "      <td>0.614137</td>\n",
       "      <td>-1.084493</td>\n",
       "      <td>2.0</td>\n",
       "      <td>13</td>\n",
       "      <td>13</td>\n",
       "    </tr>\n",
       "    <tr>\n",
       "      <th>2018-03-07</th>\n",
       "      <td>1.090962</td>\n",
       "      <td>1.989445</td>\n",
       "      <td>-0.573960</td>\n",
       "      <td>-0.715516</td>\n",
       "      <td>3.0</td>\n",
       "      <td>13</td>\n",
       "      <td>13</td>\n",
       "    </tr>\n",
       "  </tbody>\n",
       "</table>\n",
       "</div>"
      ],
      "text/plain": [
       "                   A         B         C         D    F   E   E\n",
       "2018-03-05  0.547757 -0.519178 -0.392001 -1.193207  1.0   1   1\n",
       "2018-03-06 -0.130877 -0.170858  0.614137 -1.084493  2.0  13  13\n",
       "2018-03-07  1.090962  1.989445 -0.573960 -0.715516  3.0  13  13"
      ]
     },
     "execution_count": 45,
     "metadata": {},
     "output_type": "execute_result"
    }
   ],
   "source": [
    "df1.dropna()"
   ]
  },
  {
   "cell_type": "markdown",
   "metadata": {},
   "source": [
    "\n"
   ]
  },
  {
   "cell_type": "markdown",
   "metadata": {},
   "source": [
    "### NaN 에 해당하는 값을 5로 대체하기"
   ]
  },
  {
   "cell_type": "code",
   "execution_count": 46,
   "metadata": {},
   "outputs": [
    {
     "data": {
      "text/html": [
       "<div>\n",
       "<style scoped>\n",
       "    .dataframe tbody tr th:only-of-type {\n",
       "        vertical-align: middle;\n",
       "    }\n",
       "\n",
       "    .dataframe tbody tr th {\n",
       "        vertical-align: top;\n",
       "    }\n",
       "\n",
       "    .dataframe thead th {\n",
       "        text-align: right;\n",
       "    }\n",
       "</style>\n",
       "<table border=\"1\" class=\"dataframe\">\n",
       "  <thead>\n",
       "    <tr style=\"text-align: right;\">\n",
       "      <th></th>\n",
       "      <th>A</th>\n",
       "      <th>B</th>\n",
       "      <th>C</th>\n",
       "      <th>D</th>\n",
       "      <th>F</th>\n",
       "      <th>E</th>\n",
       "      <th>E</th>\n",
       "    </tr>\n",
       "  </thead>\n",
       "  <tbody>\n",
       "    <tr>\n",
       "      <th>2018-03-04</th>\n",
       "      <td>-0.703106</td>\n",
       "      <td>0.653740</td>\n",
       "      <td>-1.257482</td>\n",
       "      <td>0.965541</td>\n",
       "      <td>5.0</td>\n",
       "      <td>1</td>\n",
       "      <td>1</td>\n",
       "    </tr>\n",
       "    <tr>\n",
       "      <th>2018-03-05</th>\n",
       "      <td>0.547757</td>\n",
       "      <td>-0.519178</td>\n",
       "      <td>-0.392001</td>\n",
       "      <td>-1.193207</td>\n",
       "      <td>1.0</td>\n",
       "      <td>1</td>\n",
       "      <td>1</td>\n",
       "    </tr>\n",
       "    <tr>\n",
       "      <th>2018-03-06</th>\n",
       "      <td>-0.130877</td>\n",
       "      <td>-0.170858</td>\n",
       "      <td>0.614137</td>\n",
       "      <td>-1.084493</td>\n",
       "      <td>2.0</td>\n",
       "      <td>13</td>\n",
       "      <td>13</td>\n",
       "    </tr>\n",
       "    <tr>\n",
       "      <th>2018-03-07</th>\n",
       "      <td>1.090962</td>\n",
       "      <td>1.989445</td>\n",
       "      <td>-0.573960</td>\n",
       "      <td>-0.715516</td>\n",
       "      <td>3.0</td>\n",
       "      <td>13</td>\n",
       "      <td>13</td>\n",
       "    </tr>\n",
       "  </tbody>\n",
       "</table>\n",
       "</div>"
      ],
      "text/plain": [
       "                   A         B         C         D    F   E   E\n",
       "2018-03-04 -0.703106  0.653740 -1.257482  0.965541  5.0   1   1\n",
       "2018-03-05  0.547757 -0.519178 -0.392001 -1.193207  1.0   1   1\n",
       "2018-03-06 -0.130877 -0.170858  0.614137 -1.084493  2.0  13  13\n",
       "2018-03-07  1.090962  1.989445 -0.573960 -0.715516  3.0  13  13"
      ]
     },
     "execution_count": 46,
     "metadata": {},
     "output_type": "execute_result"
    }
   ],
   "source": [
    "df1.fillna(5)"
   ]
  },
  {
   "cell_type": "markdown",
   "metadata": {},
   "source": [
    "\n"
   ]
  },
  {
   "cell_type": "markdown",
   "metadata": {},
   "source": [
    "### NaN 에 해당하는 값을 Boolean 값으로 표시하기"
   ]
  },
  {
   "cell_type": "code",
   "execution_count": 47,
   "metadata": {},
   "outputs": [
    {
     "data": {
      "text/html": [
       "<div>\n",
       "<style scoped>\n",
       "    .dataframe tbody tr th:only-of-type {\n",
       "        vertical-align: middle;\n",
       "    }\n",
       "\n",
       "    .dataframe tbody tr th {\n",
       "        vertical-align: top;\n",
       "    }\n",
       "\n",
       "    .dataframe thead th {\n",
       "        text-align: right;\n",
       "    }\n",
       "</style>\n",
       "<table border=\"1\" class=\"dataframe\">\n",
       "  <thead>\n",
       "    <tr style=\"text-align: right;\">\n",
       "      <th></th>\n",
       "      <th>A</th>\n",
       "      <th>B</th>\n",
       "      <th>C</th>\n",
       "      <th>D</th>\n",
       "      <th>F</th>\n",
       "      <th>E</th>\n",
       "    </tr>\n",
       "  </thead>\n",
       "  <tbody>\n",
       "    <tr>\n",
       "      <th>2018-03-04</th>\n",
       "      <td>False</td>\n",
       "      <td>False</td>\n",
       "      <td>False</td>\n",
       "      <td>False</td>\n",
       "      <td>True</td>\n",
       "      <td>False</td>\n",
       "    </tr>\n",
       "    <tr>\n",
       "      <th>2018-03-05</th>\n",
       "      <td>False</td>\n",
       "      <td>False</td>\n",
       "      <td>False</td>\n",
       "      <td>False</td>\n",
       "      <td>False</td>\n",
       "      <td>False</td>\n",
       "    </tr>\n",
       "    <tr>\n",
       "      <th>2018-03-06</th>\n",
       "      <td>False</td>\n",
       "      <td>False</td>\n",
       "      <td>False</td>\n",
       "      <td>False</td>\n",
       "      <td>False</td>\n",
       "      <td>False</td>\n",
       "    </tr>\n",
       "    <tr>\n",
       "      <th>2018-03-07</th>\n",
       "      <td>False</td>\n",
       "      <td>False</td>\n",
       "      <td>False</td>\n",
       "      <td>False</td>\n",
       "      <td>False</td>\n",
       "      <td>False</td>\n",
       "    </tr>\n",
       "    <tr>\n",
       "      <th>2018-03-08</th>\n",
       "      <td>False</td>\n",
       "      <td>False</td>\n",
       "      <td>False</td>\n",
       "      <td>False</td>\n",
       "      <td>False</td>\n",
       "      <td>False</td>\n",
       "    </tr>\n",
       "    <tr>\n",
       "      <th>2018-03-09</th>\n",
       "      <td>False</td>\n",
       "      <td>False</td>\n",
       "      <td>False</td>\n",
       "      <td>False</td>\n",
       "      <td>False</td>\n",
       "      <td>False</td>\n",
       "    </tr>\n",
       "    <tr>\n",
       "      <th>2018-03-10</th>\n",
       "      <td>False</td>\n",
       "      <td>False</td>\n",
       "      <td>False</td>\n",
       "      <td>False</td>\n",
       "      <td>False</td>\n",
       "      <td>False</td>\n",
       "    </tr>\n",
       "    <tr>\n",
       "      <th>2018-03-11</th>\n",
       "      <td>False</td>\n",
       "      <td>False</td>\n",
       "      <td>False</td>\n",
       "      <td>False</td>\n",
       "      <td>False</td>\n",
       "      <td>False</td>\n",
       "    </tr>\n",
       "    <tr>\n",
       "      <th>2018-03-12</th>\n",
       "      <td>False</td>\n",
       "      <td>False</td>\n",
       "      <td>False</td>\n",
       "      <td>False</td>\n",
       "      <td>False</td>\n",
       "      <td>False</td>\n",
       "    </tr>\n",
       "    <tr>\n",
       "      <th>2018-03-13</th>\n",
       "      <td>False</td>\n",
       "      <td>False</td>\n",
       "      <td>False</td>\n",
       "      <td>False</td>\n",
       "      <td>False</td>\n",
       "      <td>False</td>\n",
       "    </tr>\n",
       "    <tr>\n",
       "      <th>2018-03-14</th>\n",
       "      <td>False</td>\n",
       "      <td>False</td>\n",
       "      <td>False</td>\n",
       "      <td>False</td>\n",
       "      <td>False</td>\n",
       "      <td>False</td>\n",
       "    </tr>\n",
       "    <tr>\n",
       "      <th>2018-03-15</th>\n",
       "      <td>False</td>\n",
       "      <td>False</td>\n",
       "      <td>False</td>\n",
       "      <td>False</td>\n",
       "      <td>False</td>\n",
       "      <td>False</td>\n",
       "    </tr>\n",
       "    <tr>\n",
       "      <th>2018-03-16</th>\n",
       "      <td>False</td>\n",
       "      <td>False</td>\n",
       "      <td>False</td>\n",
       "      <td>False</td>\n",
       "      <td>False</td>\n",
       "      <td>False</td>\n",
       "    </tr>\n",
       "    <tr>\n",
       "      <th>2018-03-17</th>\n",
       "      <td>False</td>\n",
       "      <td>False</td>\n",
       "      <td>False</td>\n",
       "      <td>False</td>\n",
       "      <td>False</td>\n",
       "      <td>False</td>\n",
       "    </tr>\n",
       "    <tr>\n",
       "      <th>2018-03-18</th>\n",
       "      <td>False</td>\n",
       "      <td>False</td>\n",
       "      <td>False</td>\n",
       "      <td>False</td>\n",
       "      <td>False</td>\n",
       "      <td>False</td>\n",
       "    </tr>\n",
       "    <tr>\n",
       "      <th>2018-03-19</th>\n",
       "      <td>False</td>\n",
       "      <td>False</td>\n",
       "      <td>False</td>\n",
       "      <td>False</td>\n",
       "      <td>False</td>\n",
       "      <td>False</td>\n",
       "    </tr>\n",
       "    <tr>\n",
       "      <th>2018-03-20</th>\n",
       "      <td>False</td>\n",
       "      <td>False</td>\n",
       "      <td>False</td>\n",
       "      <td>False</td>\n",
       "      <td>False</td>\n",
       "      <td>False</td>\n",
       "    </tr>\n",
       "    <tr>\n",
       "      <th>2018-03-21</th>\n",
       "      <td>False</td>\n",
       "      <td>False</td>\n",
       "      <td>False</td>\n",
       "      <td>False</td>\n",
       "      <td>False</td>\n",
       "      <td>False</td>\n",
       "    </tr>\n",
       "    <tr>\n",
       "      <th>2018-03-22</th>\n",
       "      <td>False</td>\n",
       "      <td>False</td>\n",
       "      <td>False</td>\n",
       "      <td>False</td>\n",
       "      <td>False</td>\n",
       "      <td>False</td>\n",
       "    </tr>\n",
       "    <tr>\n",
       "      <th>2018-03-23</th>\n",
       "      <td>False</td>\n",
       "      <td>False</td>\n",
       "      <td>False</td>\n",
       "      <td>False</td>\n",
       "      <td>False</td>\n",
       "      <td>False</td>\n",
       "    </tr>\n",
       "  </tbody>\n",
       "</table>\n",
       "</div>"
      ],
      "text/plain": [
       "                A      B      C      D      F      E\n",
       "2018-03-04  False  False  False  False   True  False\n",
       "2018-03-05  False  False  False  False  False  False\n",
       "2018-03-06  False  False  False  False  False  False\n",
       "2018-03-07  False  False  False  False  False  False\n",
       "2018-03-08  False  False  False  False  False  False\n",
       "2018-03-09  False  False  False  False  False  False\n",
       "2018-03-10  False  False  False  False  False  False\n",
       "2018-03-11  False  False  False  False  False  False\n",
       "2018-03-12  False  False  False  False  False  False\n",
       "2018-03-13  False  False  False  False  False  False\n",
       "2018-03-14  False  False  False  False  False  False\n",
       "2018-03-15  False  False  False  False  False  False\n",
       "2018-03-16  False  False  False  False  False  False\n",
       "2018-03-17  False  False  False  False  False  False\n",
       "2018-03-18  False  False  False  False  False  False\n",
       "2018-03-19  False  False  False  False  False  False\n",
       "2018-03-20  False  False  False  False  False  False\n",
       "2018-03-21  False  False  False  False  False  False\n",
       "2018-03-22  False  False  False  False  False  False\n",
       "2018-03-23  False  False  False  False  False  False"
      ]
     },
     "execution_count": 47,
     "metadata": {},
     "output_type": "execute_result"
    }
   ],
   "source": [
    "pd.isna(df)"
   ]
  }
 ],
 "metadata": {
  "kernelspec": {
   "display_name": "Python 3",
   "language": "python",
   "name": "python3"
  },
  "language_info": {
   "codemirror_mode": {
    "name": "ipython",
    "version": 3
   },
   "file_extension": ".py",
   "mimetype": "text/x-python",
   "name": "python",
   "nbconvert_exporter": "python",
   "pygments_lexer": "ipython3",
   "version": "3.6.5"
  }
 },
 "nbformat": 4,
 "nbformat_minor": 2
}
